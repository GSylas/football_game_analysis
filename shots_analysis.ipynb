{
 "cells": [
  {
   "cell_type": "markdown",
   "id": "ea0dea19-06d6-4ee3-8002-a001e50c2740",
   "metadata": {},
   "source": [
    "# Euro 2024 Game Shots Analysis Overview\n",
    "\n",
    "This analysis focuses on breaking down the shooting performance of teams in a selected match. It explores both the quality and location of shots taken during the game and provides visual insights into shooting effectiveness.\n",
    "\n",
    "## 1. Total Shots Breakdown\n",
    "For each team, we analyze the total number of shots taken during the match. This includes a breakdown into:\n",
    "- **On Target Shots**: Shots that were directed towards the goal and either resulted in a goal or were saved.\n",
    "- **Off Target Shots**: Shots that missed the goal.\n",
    "\n",
    "This information is visualized in the form of a **donut chart**, showing the proportion of shots that were on and off target for each team.\n",
    "\n",
    "## 2. Shots Outcome Visualization\n",
    "Using a pitch map, we visualize where the shots were taken from, with color-coding to indicate the outcome:\n",
    "- **Green**: Goal (successful shot).\n",
    "- **Yellow**: Blocked/Saved (on target but not a goal).\n",
    "- **Red**: Missed (off target).\n",
    "\n",
    "This graph helps identify shooting patterns and zones from where teams were most dangerous or ineffective.\n",
    "\n",
    "## 3. Insights and Patterns\n",
    "By analyzing the data, we can draw conclusions about:\n",
    "- Which team created more dangerous shooting opportunities.\n",
    "- The **conversion rate** of shots into goals.\n",
    "- **Shooting accuracy** for each team based on shot locations and outcomes.\n",
    "\n",
    "These insights provide a clear picture of the teams' offensive capabilities and how well they executed their goal-scoring chances.\n"
   ]
  },
  {
   "cell_type": "markdown",
   "id": "ec30ed66-66c1-4013-b62c-330ca15f2cb6",
   "metadata": {},
   "source": [
    "## Import Libraries"
   ]
  },
  {
   "cell_type": "code",
   "execution_count": 43,
   "id": "f8aeae1c-530b-473e-b3f6-0aae370cc319",
   "metadata": {},
   "outputs": [],
   "source": [
    "from statsbombpy import sb\n",
    "import pandas as pd\n",
    "import numpy as np\n",
    "#from mplsoccer import Pitch\n",
    "from mplsoccer import VerticalPitch,Pitch\n",
    "from mplsoccer.pitch import Pitch\n",
    "from highlight_text import ax_text, fig_text\n",
    "from matplotlib.colors import LinearSegmentedColormap\n",
    "import matplotlib.pyplot as plt\n",
    "import matplotlib.patheffects as path_effects\n",
    "import seaborn as sns\n",
    "import math\n",
    "import matplotlib.patches as mpatches\n",
    "import plotly.graph_objects as go\n",
    "pd.set_option(\"display.max_columns\", None)"
   ]
  },
  {
   "cell_type": "markdown",
   "id": "53b1328e-5ce4-46fb-b59d-62c0a3c60bf2",
   "metadata": {},
   "source": [
    "### Euro 2024 Competition"
   ]
  },
  {
   "cell_type": "code",
   "execution_count": 44,
   "id": "dcdae6d1-a224-4736-94a7-168e5dded8c8",
   "metadata": {},
   "outputs": [
    {
     "data": {
      "text/html": [
       "<div>\n",
       "<style scoped>\n",
       "    .dataframe tbody tr th:only-of-type {\n",
       "        vertical-align: middle;\n",
       "    }\n",
       "\n",
       "    .dataframe tbody tr th {\n",
       "        vertical-align: top;\n",
       "    }\n",
       "\n",
       "    .dataframe thead th {\n",
       "        text-align: right;\n",
       "    }\n",
       "</style>\n",
       "<table border=\"1\" class=\"dataframe\">\n",
       "  <thead>\n",
       "    <tr style=\"text-align: right;\">\n",
       "      <th></th>\n",
       "      <th>match_id</th>\n",
       "      <th>match_date</th>\n",
       "      <th>kick_off</th>\n",
       "      <th>competition</th>\n",
       "      <th>season</th>\n",
       "      <th>home_team</th>\n",
       "      <th>away_team</th>\n",
       "      <th>home_score</th>\n",
       "      <th>away_score</th>\n",
       "      <th>match_status</th>\n",
       "      <th>match_status_360</th>\n",
       "      <th>last_updated</th>\n",
       "      <th>last_updated_360</th>\n",
       "      <th>match_week</th>\n",
       "      <th>competition_stage</th>\n",
       "      <th>stadium</th>\n",
       "      <th>referee</th>\n",
       "      <th>home_managers</th>\n",
       "      <th>away_managers</th>\n",
       "      <th>data_version</th>\n",
       "      <th>shot_fidelity_version</th>\n",
       "      <th>xy_fidelity_version</th>\n",
       "    </tr>\n",
       "  </thead>\n",
       "  <tbody>\n",
       "    <tr>\n",
       "      <th>0</th>\n",
       "      <td>3942819</td>\n",
       "      <td>2024-07-10</td>\n",
       "      <td>22:00:00.000</td>\n",
       "      <td>Europe - UEFA Euro</td>\n",
       "      <td>2024</td>\n",
       "      <td>Netherlands</td>\n",
       "      <td>England</td>\n",
       "      <td>1</td>\n",
       "      <td>2</td>\n",
       "      <td>available</td>\n",
       "      <td>available</td>\n",
       "      <td>2024-07-15T07:54:23.583297</td>\n",
       "      <td>2024-07-15T07:57:36.684453</td>\n",
       "      <td>6</td>\n",
       "      <td>Semi-finals</td>\n",
       "      <td>Signal-Iduna-Park</td>\n",
       "      <td>Felix Zwayer</td>\n",
       "      <td>Ronald Koeman</td>\n",
       "      <td>Gareth Southgate</td>\n",
       "      <td>1.1.0</td>\n",
       "      <td>2</td>\n",
       "      <td>2</td>\n",
       "    </tr>\n",
       "    <tr>\n",
       "      <th>1</th>\n",
       "      <td>3943043</td>\n",
       "      <td>2024-07-14</td>\n",
       "      <td>22:00:00.000</td>\n",
       "      <td>Europe - UEFA Euro</td>\n",
       "      <td>2024</td>\n",
       "      <td>Spain</td>\n",
       "      <td>England</td>\n",
       "      <td>2</td>\n",
       "      <td>1</td>\n",
       "      <td>available</td>\n",
       "      <td>available</td>\n",
       "      <td>2024-07-15T15:48:50.315500</td>\n",
       "      <td>2024-07-15T15:52:24.778809</td>\n",
       "      <td>7</td>\n",
       "      <td>Final</td>\n",
       "      <td>Olympiastadion Berlin</td>\n",
       "      <td>François Letexier</td>\n",
       "      <td>Luis de la Fuente Castillo</td>\n",
       "      <td>Gareth Southgate</td>\n",
       "      <td>1.1.0</td>\n",
       "      <td>2</td>\n",
       "      <td>2</td>\n",
       "    </tr>\n",
       "    <tr>\n",
       "      <th>2</th>\n",
       "      <td>3942752</td>\n",
       "      <td>2024-07-09</td>\n",
       "      <td>22:00:00.000</td>\n",
       "      <td>Europe - UEFA Euro</td>\n",
       "      <td>2024</td>\n",
       "      <td>Spain</td>\n",
       "      <td>France</td>\n",
       "      <td>2</td>\n",
       "      <td>1</td>\n",
       "      <td>available</td>\n",
       "      <td>available</td>\n",
       "      <td>2024-07-10T08:51:07.032303</td>\n",
       "      <td>2024-07-10T13:01:26.597509</td>\n",
       "      <td>6</td>\n",
       "      <td>Semi-finals</td>\n",
       "      <td>Allianz Arena</td>\n",
       "      <td>Slavko Vinčić</td>\n",
       "      <td>Luis de la Fuente Castillo</td>\n",
       "      <td>Didier Deschamps</td>\n",
       "      <td>1.1.0</td>\n",
       "      <td>2</td>\n",
       "      <td>2</td>\n",
       "    </tr>\n",
       "    <tr>\n",
       "      <th>3</th>\n",
       "      <td>3942382</td>\n",
       "      <td>2024-07-06</td>\n",
       "      <td>22:00:00.000</td>\n",
       "      <td>Europe - UEFA Euro</td>\n",
       "      <td>2024</td>\n",
       "      <td>Netherlands</td>\n",
       "      <td>Turkey</td>\n",
       "      <td>2</td>\n",
       "      <td>1</td>\n",
       "      <td>available</td>\n",
       "      <td>available</td>\n",
       "      <td>2024-07-10T06:50:04.068615</td>\n",
       "      <td>2024-07-10T06:56:35.146850</td>\n",
       "      <td>5</td>\n",
       "      <td>Quarter-finals</td>\n",
       "      <td>Olympiastadion Berlin</td>\n",
       "      <td>Clément Turpin</td>\n",
       "      <td>Ronald Koeman</td>\n",
       "      <td>Vincenzo Montella</td>\n",
       "      <td>1.1.0</td>\n",
       "      <td>2</td>\n",
       "      <td>2</td>\n",
       "    </tr>\n",
       "    <tr>\n",
       "      <th>4</th>\n",
       "      <td>3942349</td>\n",
       "      <td>2024-07-05</td>\n",
       "      <td>22:00:00.000</td>\n",
       "      <td>Europe - UEFA Euro</td>\n",
       "      <td>2024</td>\n",
       "      <td>Portugal</td>\n",
       "      <td>France</td>\n",
       "      <td>0</td>\n",
       "      <td>0</td>\n",
       "      <td>available</td>\n",
       "      <td>available</td>\n",
       "      <td>2024-07-12T01:57:15.210934</td>\n",
       "      <td>2024-07-12T02:00:16.871522</td>\n",
       "      <td>5</td>\n",
       "      <td>Quarter-finals</td>\n",
       "      <td>Volksparkstadion</td>\n",
       "      <td>Michael Oliver</td>\n",
       "      <td>Roberto Martínez Montoliú</td>\n",
       "      <td>Didier Deschamps</td>\n",
       "      <td>1.1.0</td>\n",
       "      <td>2</td>\n",
       "      <td>2</td>\n",
       "    </tr>\n",
       "  </tbody>\n",
       "</table>\n",
       "</div>"
      ],
      "text/plain": [
       "   match_id  match_date      kick_off         competition season    home_team  \\\n",
       "0   3942819  2024-07-10  22:00:00.000  Europe - UEFA Euro   2024  Netherlands   \n",
       "1   3943043  2024-07-14  22:00:00.000  Europe - UEFA Euro   2024        Spain   \n",
       "2   3942752  2024-07-09  22:00:00.000  Europe - UEFA Euro   2024        Spain   \n",
       "3   3942382  2024-07-06  22:00:00.000  Europe - UEFA Euro   2024  Netherlands   \n",
       "4   3942349  2024-07-05  22:00:00.000  Europe - UEFA Euro   2024     Portugal   \n",
       "\n",
       "  away_team  home_score  away_score match_status match_status_360  \\\n",
       "0   England           1           2    available        available   \n",
       "1   England           2           1    available        available   \n",
       "2    France           2           1    available        available   \n",
       "3    Turkey           2           1    available        available   \n",
       "4    France           0           0    available        available   \n",
       "\n",
       "                 last_updated            last_updated_360  match_week  \\\n",
       "0  2024-07-15T07:54:23.583297  2024-07-15T07:57:36.684453           6   \n",
       "1  2024-07-15T15:48:50.315500  2024-07-15T15:52:24.778809           7   \n",
       "2  2024-07-10T08:51:07.032303  2024-07-10T13:01:26.597509           6   \n",
       "3  2024-07-10T06:50:04.068615  2024-07-10T06:56:35.146850           5   \n",
       "4  2024-07-12T01:57:15.210934  2024-07-12T02:00:16.871522           5   \n",
       "\n",
       "  competition_stage                stadium            referee  \\\n",
       "0       Semi-finals      Signal-Iduna-Park       Felix Zwayer   \n",
       "1             Final  Olympiastadion Berlin  François Letexier   \n",
       "2       Semi-finals          Allianz Arena      Slavko Vinčić   \n",
       "3    Quarter-finals  Olympiastadion Berlin     Clément Turpin   \n",
       "4    Quarter-finals       Volksparkstadion     Michael Oliver   \n",
       "\n",
       "                home_managers      away_managers data_version  \\\n",
       "0               Ronald Koeman   Gareth Southgate        1.1.0   \n",
       "1  Luis de la Fuente Castillo   Gareth Southgate        1.1.0   \n",
       "2  Luis de la Fuente Castillo   Didier Deschamps        1.1.0   \n",
       "3               Ronald Koeman  Vincenzo Montella        1.1.0   \n",
       "4   Roberto Martínez Montoliú   Didier Deschamps        1.1.0   \n",
       "\n",
       "  shot_fidelity_version xy_fidelity_version  \n",
       "0                     2                   2  \n",
       "1                     2                   2  \n",
       "2                     2                   2  \n",
       "3                     2                   2  \n",
       "4                     2                   2  "
      ]
     },
     "execution_count": 44,
     "metadata": {},
     "output_type": "execute_result"
    }
   ],
   "source": [
    "#call the statsbombpy API to get a list of matches for a given competition\n",
    "euro_2024_matches = sb.matches(competition_id=55, season_id=282)\n",
    "\n",
    "#print the first 5 matches listed\n",
    "euro_2024_matches.head(5)"
   ]
  },
  {
   "cell_type": "markdown",
   "id": "3ae01b0b-5de4-4b12-b549-394ec42caa49",
   "metadata": {},
   "source": [
    "## ETL"
   ]
  },
  {
   "cell_type": "code",
   "execution_count": 45,
   "id": "535db2f6-51cc-4bef-968a-e09af9150240",
   "metadata": {},
   "outputs": [],
   "source": [
    "#concat home and away teams to keep the unique teams that participated to the tournament\n",
    "home_team = euro_2024_matches['home_team']\n",
    "away_team = euro_2024_matches['away_team']\n",
    "teams = pd.concat([home_team,away_team])\n",
    "teams = pd.DataFrame(teams.drop_duplicates()).reset_index(drop=True)\n",
    "teams.columns = ['Team']"
   ]
  },
  {
   "cell_type": "code",
   "execution_count": 46,
   "id": "f619973c-56c0-4fa9-a1d6-3b601aa7e7ab",
   "metadata": {},
   "outputs": [],
   "source": [
    "# give teams colors for the visuals\n",
    "team_colors = pd.read_excel('Team Colors.xlsx')\n",
    "teams = teams.merge(team_colors, how='inner', on='Team')"
   ]
  },
  {
   "cell_type": "code",
   "execution_count": 47,
   "id": "aa88e170-34d8-4b45-8b07-473d877e94e9",
   "metadata": {},
   "outputs": [
    {
     "data": {
      "text/html": [
       "<div>\n",
       "<style scoped>\n",
       "    .dataframe tbody tr th:only-of-type {\n",
       "        vertical-align: middle;\n",
       "    }\n",
       "\n",
       "    .dataframe tbody tr th {\n",
       "        vertical-align: top;\n",
       "    }\n",
       "\n",
       "    .dataframe thead th {\n",
       "        text-align: right;\n",
       "    }\n",
       "</style>\n",
       "<table border=\"1\" class=\"dataframe\">\n",
       "  <thead>\n",
       "    <tr style=\"text-align: right;\">\n",
       "      <th></th>\n",
       "      <th>Team</th>\n",
       "      <th>First_Color</th>\n",
       "      <th>Second_Color</th>\n",
       "    </tr>\n",
       "  </thead>\n",
       "  <tbody>\n",
       "    <tr>\n",
       "      <th>0</th>\n",
       "      <td>Netherlands</td>\n",
       "      <td>#F36C21</td>\n",
       "      <td>#FFFFFF</td>\n",
       "    </tr>\n",
       "    <tr>\n",
       "      <th>1</th>\n",
       "      <td>Spain</td>\n",
       "      <td>#8B0D11</td>\n",
       "      <td>#FCB507</td>\n",
       "    </tr>\n",
       "    <tr>\n",
       "      <th>2</th>\n",
       "      <td>Portugal</td>\n",
       "      <td>#E42518</td>\n",
       "      <td>#0D6938</td>\n",
       "    </tr>\n",
       "    <tr>\n",
       "      <th>3</th>\n",
       "      <td>Denmark</td>\n",
       "      <td>#FCB507</td>\n",
       "      <td>#FFFFFF</td>\n",
       "    </tr>\n",
       "    <tr>\n",
       "      <th>4</th>\n",
       "      <td>England</td>\n",
       "      <td>#000040</td>\n",
       "      <td>#FFFFFF</td>\n",
       "    </tr>\n",
       "  </tbody>\n",
       "</table>\n",
       "</div>"
      ],
      "text/plain": [
       "          Team First_Color Second_Color\n",
       "0  Netherlands     #F36C21      #FFFFFF\n",
       "1        Spain     #8B0D11      #FCB507\n",
       "2     Portugal     #E42518      #0D6938\n",
       "3      Denmark     #FCB507      #FFFFFF\n",
       "4      England     #000040      #FFFFFF"
      ]
     },
     "execution_count": 47,
     "metadata": {},
     "output_type": "execute_result"
    }
   ],
   "source": [
    "teams.head()"
   ]
  },
  {
   "cell_type": "code",
   "execution_count": 48,
   "id": "4448a4a9-6ed3-463a-ad7c-bf7344b99b6f",
   "metadata": {},
   "outputs": [],
   "source": [
    "# take all matches in one dataframe\n",
    "matches = euro_2024_matches.filter(['match_id','match_date','home_team','away_team','competition_stage','home_score','away_score','period'])\n",
    "matches['match'] = matches['competition_stage'] + ' ' + matches['home_team'] + ' - ' + matches['away_team'] "
   ]
  },
  {
   "cell_type": "code",
   "execution_count": 49,
   "id": "0d5c4253-252e-4462-985b-c3fb8e4c631d",
   "metadata": {},
   "outputs": [
    {
     "data": {
      "text/html": [
       "<div>\n",
       "<style scoped>\n",
       "    .dataframe tbody tr th:only-of-type {\n",
       "        vertical-align: middle;\n",
       "    }\n",
       "\n",
       "    .dataframe tbody tr th {\n",
       "        vertical-align: top;\n",
       "    }\n",
       "\n",
       "    .dataframe thead th {\n",
       "        text-align: right;\n",
       "    }\n",
       "</style>\n",
       "<table border=\"1\" class=\"dataframe\">\n",
       "  <thead>\n",
       "    <tr style=\"text-align: right;\">\n",
       "      <th></th>\n",
       "      <th>match_id</th>\n",
       "      <th>match_date</th>\n",
       "      <th>home_team</th>\n",
       "      <th>away_team</th>\n",
       "      <th>competition_stage</th>\n",
       "      <th>home_score</th>\n",
       "      <th>away_score</th>\n",
       "      <th>match</th>\n",
       "    </tr>\n",
       "  </thead>\n",
       "  <tbody>\n",
       "    <tr>\n",
       "      <th>0</th>\n",
       "      <td>3942819</td>\n",
       "      <td>2024-07-10</td>\n",
       "      <td>Netherlands</td>\n",
       "      <td>England</td>\n",
       "      <td>Semi-finals</td>\n",
       "      <td>1</td>\n",
       "      <td>2</td>\n",
       "      <td>Semi-finals Netherlands - England</td>\n",
       "    </tr>\n",
       "    <tr>\n",
       "      <th>1</th>\n",
       "      <td>3943043</td>\n",
       "      <td>2024-07-14</td>\n",
       "      <td>Spain</td>\n",
       "      <td>England</td>\n",
       "      <td>Final</td>\n",
       "      <td>2</td>\n",
       "      <td>1</td>\n",
       "      <td>Final Spain - England</td>\n",
       "    </tr>\n",
       "    <tr>\n",
       "      <th>2</th>\n",
       "      <td>3942752</td>\n",
       "      <td>2024-07-09</td>\n",
       "      <td>Spain</td>\n",
       "      <td>France</td>\n",
       "      <td>Semi-finals</td>\n",
       "      <td>2</td>\n",
       "      <td>1</td>\n",
       "      <td>Semi-finals Spain - France</td>\n",
       "    </tr>\n",
       "    <tr>\n",
       "      <th>3</th>\n",
       "      <td>3942382</td>\n",
       "      <td>2024-07-06</td>\n",
       "      <td>Netherlands</td>\n",
       "      <td>Turkey</td>\n",
       "      <td>Quarter-finals</td>\n",
       "      <td>2</td>\n",
       "      <td>1</td>\n",
       "      <td>Quarter-finals Netherlands - Turkey</td>\n",
       "    </tr>\n",
       "    <tr>\n",
       "      <th>4</th>\n",
       "      <td>3942349</td>\n",
       "      <td>2024-07-05</td>\n",
       "      <td>Portugal</td>\n",
       "      <td>France</td>\n",
       "      <td>Quarter-finals</td>\n",
       "      <td>0</td>\n",
       "      <td>0</td>\n",
       "      <td>Quarter-finals Portugal - France</td>\n",
       "    </tr>\n",
       "    <tr>\n",
       "      <th>5</th>\n",
       "      <td>3930180</td>\n",
       "      <td>2024-06-25</td>\n",
       "      <td>Netherlands</td>\n",
       "      <td>Austria</td>\n",
       "      <td>Group Stage</td>\n",
       "      <td>2</td>\n",
       "      <td>3</td>\n",
       "      <td>Group Stage Netherlands - Austria</td>\n",
       "    </tr>\n",
       "    <tr>\n",
       "      <th>6</th>\n",
       "      <td>3930171</td>\n",
       "      <td>2024-06-20</td>\n",
       "      <td>Denmark</td>\n",
       "      <td>England</td>\n",
       "      <td>Group Stage</td>\n",
       "      <td>1</td>\n",
       "      <td>1</td>\n",
       "      <td>Group Stage Denmark - England</td>\n",
       "    </tr>\n",
       "    <tr>\n",
       "      <th>7</th>\n",
       "      <td>3942227</td>\n",
       "      <td>2024-07-06</td>\n",
       "      <td>England</td>\n",
       "      <td>Switzerland</td>\n",
       "      <td>Quarter-finals</td>\n",
       "      <td>1</td>\n",
       "      <td>1</td>\n",
       "      <td>Quarter-finals England - Switzerland</td>\n",
       "    </tr>\n",
       "    <tr>\n",
       "      <th>8</th>\n",
       "      <td>3942226</td>\n",
       "      <td>2024-07-05</td>\n",
       "      <td>Spain</td>\n",
       "      <td>Germany</td>\n",
       "      <td>Quarter-finals</td>\n",
       "      <td>2</td>\n",
       "      <td>1</td>\n",
       "      <td>Quarter-finals Spain - Germany</td>\n",
       "    </tr>\n",
       "    <tr>\n",
       "      <th>9</th>\n",
       "      <td>3938645</td>\n",
       "      <td>2024-06-26</td>\n",
       "      <td>Ukraine</td>\n",
       "      <td>Belgium</td>\n",
       "      <td>Group Stage</td>\n",
       "      <td>0</td>\n",
       "      <td>0</td>\n",
       "      <td>Group Stage Ukraine - Belgium</td>\n",
       "    </tr>\n",
       "    <tr>\n",
       "      <th>10</th>\n",
       "      <td>3930184</td>\n",
       "      <td>2024-06-26</td>\n",
       "      <td>Czech Republic</td>\n",
       "      <td>Turkey</td>\n",
       "      <td>Group Stage</td>\n",
       "      <td>1</td>\n",
       "      <td>2</td>\n",
       "      <td>Group Stage Czech Republic - Turkey</td>\n",
       "    </tr>\n",
       "    <tr>\n",
       "      <th>11</th>\n",
       "      <td>3941022</td>\n",
       "      <td>2024-07-02</td>\n",
       "      <td>Austria</td>\n",
       "      <td>Turkey</td>\n",
       "      <td>Round of 16</td>\n",
       "      <td>1</td>\n",
       "      <td>2</td>\n",
       "      <td>Round of 16 Austria - Turkey</td>\n",
       "    </tr>\n",
       "    <tr>\n",
       "      <th>12</th>\n",
       "      <td>3941021</td>\n",
       "      <td>2024-07-02</td>\n",
       "      <td>Romania</td>\n",
       "      <td>Netherlands</td>\n",
       "      <td>Round of 16</td>\n",
       "      <td>0</td>\n",
       "      <td>3</td>\n",
       "      <td>Round of 16 Romania - Netherlands</td>\n",
       "    </tr>\n",
       "    <tr>\n",
       "      <th>13</th>\n",
       "      <td>3941020</td>\n",
       "      <td>2024-07-01</td>\n",
       "      <td>Portugal</td>\n",
       "      <td>Slovenia</td>\n",
       "      <td>Round of 16</td>\n",
       "      <td>0</td>\n",
       "      <td>0</td>\n",
       "      <td>Round of 16 Portugal - Slovenia</td>\n",
       "    </tr>\n",
       "    <tr>\n",
       "      <th>14</th>\n",
       "      <td>3941019</td>\n",
       "      <td>2024-07-01</td>\n",
       "      <td>France</td>\n",
       "      <td>Belgium</td>\n",
       "      <td>Round of 16</td>\n",
       "      <td>1</td>\n",
       "      <td>0</td>\n",
       "      <td>Round of 16 France - Belgium</td>\n",
       "    </tr>\n",
       "    <tr>\n",
       "      <th>15</th>\n",
       "      <td>3941018</td>\n",
       "      <td>2024-06-30</td>\n",
       "      <td>Spain</td>\n",
       "      <td>Georgia</td>\n",
       "      <td>Round of 16</td>\n",
       "      <td>4</td>\n",
       "      <td>1</td>\n",
       "      <td>Round of 16 Spain - Georgia</td>\n",
       "    </tr>\n",
       "    <tr>\n",
       "      <th>16</th>\n",
       "      <td>3941017</td>\n",
       "      <td>2024-06-30</td>\n",
       "      <td>England</td>\n",
       "      <td>Slovakia</td>\n",
       "      <td>Round of 16</td>\n",
       "      <td>2</td>\n",
       "      <td>1</td>\n",
       "      <td>Round of 16 England - Slovakia</td>\n",
       "    </tr>\n",
       "    <tr>\n",
       "      <th>17</th>\n",
       "      <td>3930182</td>\n",
       "      <td>2024-06-25</td>\n",
       "      <td>Denmark</td>\n",
       "      <td>Serbia</td>\n",
       "      <td>Group Stage</td>\n",
       "      <td>0</td>\n",
       "      <td>0</td>\n",
       "      <td>Group Stage Denmark - Serbia</td>\n",
       "    </tr>\n",
       "    <tr>\n",
       "      <th>18</th>\n",
       "      <td>3930179</td>\n",
       "      <td>2024-06-24</td>\n",
       "      <td>Albania</td>\n",
       "      <td>Spain</td>\n",
       "      <td>Group Stage</td>\n",
       "      <td>0</td>\n",
       "      <td>1</td>\n",
       "      <td>Group Stage Albania - Spain</td>\n",
       "    </tr>\n",
       "    <tr>\n",
       "      <th>19</th>\n",
       "      <td>3940983</td>\n",
       "      <td>2024-06-29</td>\n",
       "      <td>Germany</td>\n",
       "      <td>Denmark</td>\n",
       "      <td>Round of 16</td>\n",
       "      <td>2</td>\n",
       "      <td>0</td>\n",
       "      <td>Round of 16 Germany - Denmark</td>\n",
       "    </tr>\n",
       "    <tr>\n",
       "      <th>20</th>\n",
       "      <td>3940878</td>\n",
       "      <td>2024-06-29</td>\n",
       "      <td>Switzerland</td>\n",
       "      <td>Italy</td>\n",
       "      <td>Round of 16</td>\n",
       "      <td>2</td>\n",
       "      <td>0</td>\n",
       "      <td>Round of 16 Switzerland - Italy</td>\n",
       "    </tr>\n",
       "    <tr>\n",
       "      <th>21</th>\n",
       "      <td>3930177</td>\n",
       "      <td>2024-06-23</td>\n",
       "      <td>Scotland</td>\n",
       "      <td>Hungary</td>\n",
       "      <td>Group Stage</td>\n",
       "      <td>0</td>\n",
       "      <td>1</td>\n",
       "      <td>Group Stage Scotland - Hungary</td>\n",
       "    </tr>\n",
       "    <tr>\n",
       "      <th>22</th>\n",
       "      <td>3930173</td>\n",
       "      <td>2024-06-21</td>\n",
       "      <td>Netherlands</td>\n",
       "      <td>France</td>\n",
       "      <td>Group Stage</td>\n",
       "      <td>0</td>\n",
       "      <td>0</td>\n",
       "      <td>Group Stage Netherlands - France</td>\n",
       "    </tr>\n",
       "    <tr>\n",
       "      <th>23</th>\n",
       "      <td>3930172</td>\n",
       "      <td>2024-06-20</td>\n",
       "      <td>Spain</td>\n",
       "      <td>Italy</td>\n",
       "      <td>Group Stage</td>\n",
       "      <td>1</td>\n",
       "      <td>0</td>\n",
       "      <td>Group Stage Spain - Italy</td>\n",
       "    </tr>\n",
       "    <tr>\n",
       "      <th>24</th>\n",
       "      <td>3930167</td>\n",
       "      <td>2024-06-19</td>\n",
       "      <td>Croatia</td>\n",
       "      <td>Albania</td>\n",
       "      <td>Group Stage</td>\n",
       "      <td>2</td>\n",
       "      <td>2</td>\n",
       "      <td>Group Stage Croatia - Albania</td>\n",
       "    </tr>\n",
       "    <tr>\n",
       "      <th>25</th>\n",
       "      <td>3930168</td>\n",
       "      <td>2024-06-19</td>\n",
       "      <td>Germany</td>\n",
       "      <td>Hungary</td>\n",
       "      <td>Group Stage</td>\n",
       "      <td>2</td>\n",
       "      <td>0</td>\n",
       "      <td>Group Stage Germany - Hungary</td>\n",
       "    </tr>\n",
       "    <tr>\n",
       "      <th>26</th>\n",
       "      <td>3930165</td>\n",
       "      <td>2024-06-17</td>\n",
       "      <td>Austria</td>\n",
       "      <td>France</td>\n",
       "      <td>Group Stage</td>\n",
       "      <td>0</td>\n",
       "      <td>1</td>\n",
       "      <td>Group Stage Austria - France</td>\n",
       "    </tr>\n",
       "    <tr>\n",
       "      <th>27</th>\n",
       "      <td>3930164</td>\n",
       "      <td>2024-06-17</td>\n",
       "      <td>Belgium</td>\n",
       "      <td>Slovakia</td>\n",
       "      <td>Group Stage</td>\n",
       "      <td>0</td>\n",
       "      <td>1</td>\n",
       "      <td>Group Stage Belgium - Slovakia</td>\n",
       "    </tr>\n",
       "    <tr>\n",
       "      <th>28</th>\n",
       "      <td>3930161</td>\n",
       "      <td>2024-06-15</td>\n",
       "      <td>Italy</td>\n",
       "      <td>Albania</td>\n",
       "      <td>Group Stage</td>\n",
       "      <td>2</td>\n",
       "      <td>1</td>\n",
       "      <td>Group Stage Italy - Albania</td>\n",
       "    </tr>\n",
       "    <tr>\n",
       "      <th>29</th>\n",
       "      <td>3938637</td>\n",
       "      <td>2024-06-16</td>\n",
       "      <td>Poland</td>\n",
       "      <td>Netherlands</td>\n",
       "      <td>Group Stage</td>\n",
       "      <td>1</td>\n",
       "      <td>2</td>\n",
       "      <td>Group Stage Poland - Netherlands</td>\n",
       "    </tr>\n",
       "    <tr>\n",
       "      <th>30</th>\n",
       "      <td>3938640</td>\n",
       "      <td>2024-06-21</td>\n",
       "      <td>Slovakia</td>\n",
       "      <td>Ukraine</td>\n",
       "      <td>Group Stage</td>\n",
       "      <td>1</td>\n",
       "      <td>2</td>\n",
       "      <td>Group Stage Slovakia - Ukraine</td>\n",
       "    </tr>\n",
       "    <tr>\n",
       "      <th>31</th>\n",
       "      <td>3938642</td>\n",
       "      <td>2024-06-22</td>\n",
       "      <td>Georgia</td>\n",
       "      <td>Czech Republic</td>\n",
       "      <td>Group Stage</td>\n",
       "      <td>1</td>\n",
       "      <td>1</td>\n",
       "      <td>Group Stage Georgia - Czech Republic</td>\n",
       "    </tr>\n",
       "    <tr>\n",
       "      <th>32</th>\n",
       "      <td>3938639</td>\n",
       "      <td>2024-06-18</td>\n",
       "      <td>Turkey</td>\n",
       "      <td>Georgia</td>\n",
       "      <td>Group Stage</td>\n",
       "      <td>3</td>\n",
       "      <td>1</td>\n",
       "      <td>Group Stage Turkey - Georgia</td>\n",
       "    </tr>\n",
       "    <tr>\n",
       "      <th>33</th>\n",
       "      <td>3938641</td>\n",
       "      <td>2024-06-21</td>\n",
       "      <td>Poland</td>\n",
       "      <td>Austria</td>\n",
       "      <td>Group Stage</td>\n",
       "      <td>1</td>\n",
       "      <td>3</td>\n",
       "      <td>Group Stage Poland - Austria</td>\n",
       "    </tr>\n",
       "    <tr>\n",
       "      <th>34</th>\n",
       "      <td>3938644</td>\n",
       "      <td>2024-06-26</td>\n",
       "      <td>Georgia</td>\n",
       "      <td>Portugal</td>\n",
       "      <td>Group Stage</td>\n",
       "      <td>2</td>\n",
       "      <td>0</td>\n",
       "      <td>Group Stage Georgia - Portugal</td>\n",
       "    </tr>\n",
       "    <tr>\n",
       "      <th>35</th>\n",
       "      <td>3938643</td>\n",
       "      <td>2024-06-25</td>\n",
       "      <td>France</td>\n",
       "      <td>Poland</td>\n",
       "      <td>Group Stage</td>\n",
       "      <td>1</td>\n",
       "      <td>1</td>\n",
       "      <td>Group Stage France - Poland</td>\n",
       "    </tr>\n",
       "    <tr>\n",
       "      <th>36</th>\n",
       "      <td>3938638</td>\n",
       "      <td>2024-06-17</td>\n",
       "      <td>Romania</td>\n",
       "      <td>Ukraine</td>\n",
       "      <td>Group Stage</td>\n",
       "      <td>3</td>\n",
       "      <td>0</td>\n",
       "      <td>Group Stage Romania - Ukraine</td>\n",
       "    </tr>\n",
       "    <tr>\n",
       "      <th>37</th>\n",
       "      <td>3930183</td>\n",
       "      <td>2024-06-26</td>\n",
       "      <td>Slovakia</td>\n",
       "      <td>Romania</td>\n",
       "      <td>Group Stage</td>\n",
       "      <td>1</td>\n",
       "      <td>1</td>\n",
       "      <td>Group Stage Slovakia - Romania</td>\n",
       "    </tr>\n",
       "    <tr>\n",
       "      <th>38</th>\n",
       "      <td>3930181</td>\n",
       "      <td>2024-06-25</td>\n",
       "      <td>England</td>\n",
       "      <td>Slovenia</td>\n",
       "      <td>Group Stage</td>\n",
       "      <td>0</td>\n",
       "      <td>0</td>\n",
       "      <td>Group Stage England - Slovenia</td>\n",
       "    </tr>\n",
       "    <tr>\n",
       "      <th>39</th>\n",
       "      <td>3930178</td>\n",
       "      <td>2024-06-24</td>\n",
       "      <td>Croatia</td>\n",
       "      <td>Italy</td>\n",
       "      <td>Group Stage</td>\n",
       "      <td>1</td>\n",
       "      <td>1</td>\n",
       "      <td>Group Stage Croatia - Italy</td>\n",
       "    </tr>\n",
       "    <tr>\n",
       "      <th>40</th>\n",
       "      <td>3930176</td>\n",
       "      <td>2024-06-23</td>\n",
       "      <td>Switzerland</td>\n",
       "      <td>Germany</td>\n",
       "      <td>Group Stage</td>\n",
       "      <td>1</td>\n",
       "      <td>1</td>\n",
       "      <td>Group Stage Switzerland - Germany</td>\n",
       "    </tr>\n",
       "    <tr>\n",
       "      <th>41</th>\n",
       "      <td>3930175</td>\n",
       "      <td>2024-06-22</td>\n",
       "      <td>Belgium</td>\n",
       "      <td>Romania</td>\n",
       "      <td>Group Stage</td>\n",
       "      <td>2</td>\n",
       "      <td>0</td>\n",
       "      <td>Group Stage Belgium - Romania</td>\n",
       "    </tr>\n",
       "    <tr>\n",
       "      <th>42</th>\n",
       "      <td>3930174</td>\n",
       "      <td>2024-06-22</td>\n",
       "      <td>Turkey</td>\n",
       "      <td>Portugal</td>\n",
       "      <td>Group Stage</td>\n",
       "      <td>0</td>\n",
       "      <td>3</td>\n",
       "      <td>Group Stage Turkey - Portugal</td>\n",
       "    </tr>\n",
       "    <tr>\n",
       "      <th>43</th>\n",
       "      <td>3930170</td>\n",
       "      <td>2024-06-20</td>\n",
       "      <td>Slovenia</td>\n",
       "      <td>Serbia</td>\n",
       "      <td>Group Stage</td>\n",
       "      <td>1</td>\n",
       "      <td>1</td>\n",
       "      <td>Group Stage Slovenia - Serbia</td>\n",
       "    </tr>\n",
       "    <tr>\n",
       "      <th>44</th>\n",
       "      <td>3930169</td>\n",
       "      <td>2024-06-19</td>\n",
       "      <td>Scotland</td>\n",
       "      <td>Switzerland</td>\n",
       "      <td>Group Stage</td>\n",
       "      <td>1</td>\n",
       "      <td>1</td>\n",
       "      <td>Group Stage Scotland - Switzerland</td>\n",
       "    </tr>\n",
       "    <tr>\n",
       "      <th>45</th>\n",
       "      <td>3930166</td>\n",
       "      <td>2024-06-18</td>\n",
       "      <td>Portugal</td>\n",
       "      <td>Czech Republic</td>\n",
       "      <td>Group Stage</td>\n",
       "      <td>2</td>\n",
       "      <td>1</td>\n",
       "      <td>Group Stage Portugal - Czech Republic</td>\n",
       "    </tr>\n",
       "    <tr>\n",
       "      <th>46</th>\n",
       "      <td>3930163</td>\n",
       "      <td>2024-06-16</td>\n",
       "      <td>Serbia</td>\n",
       "      <td>England</td>\n",
       "      <td>Group Stage</td>\n",
       "      <td>0</td>\n",
       "      <td>1</td>\n",
       "      <td>Group Stage Serbia - England</td>\n",
       "    </tr>\n",
       "    <tr>\n",
       "      <th>47</th>\n",
       "      <td>3930162</td>\n",
       "      <td>2024-06-16</td>\n",
       "      <td>Slovenia</td>\n",
       "      <td>Denmark</td>\n",
       "      <td>Group Stage</td>\n",
       "      <td>1</td>\n",
       "      <td>1</td>\n",
       "      <td>Group Stage Slovenia - Denmark</td>\n",
       "    </tr>\n",
       "    <tr>\n",
       "      <th>48</th>\n",
       "      <td>3930160</td>\n",
       "      <td>2024-06-15</td>\n",
       "      <td>Spain</td>\n",
       "      <td>Croatia</td>\n",
       "      <td>Group Stage</td>\n",
       "      <td>3</td>\n",
       "      <td>0</td>\n",
       "      <td>Group Stage Spain - Croatia</td>\n",
       "    </tr>\n",
       "    <tr>\n",
       "      <th>49</th>\n",
       "      <td>3930159</td>\n",
       "      <td>2024-06-15</td>\n",
       "      <td>Hungary</td>\n",
       "      <td>Switzerland</td>\n",
       "      <td>Group Stage</td>\n",
       "      <td>1</td>\n",
       "      <td>3</td>\n",
       "      <td>Group Stage Hungary - Switzerland</td>\n",
       "    </tr>\n",
       "    <tr>\n",
       "      <th>50</th>\n",
       "      <td>3930158</td>\n",
       "      <td>2024-06-14</td>\n",
       "      <td>Germany</td>\n",
       "      <td>Scotland</td>\n",
       "      <td>Group Stage</td>\n",
       "      <td>5</td>\n",
       "      <td>1</td>\n",
       "      <td>Group Stage Germany - Scotland</td>\n",
       "    </tr>\n",
       "  </tbody>\n",
       "</table>\n",
       "</div>"
      ],
      "text/plain": [
       "    match_id  match_date       home_team       away_team competition_stage  \\\n",
       "0    3942819  2024-07-10     Netherlands         England       Semi-finals   \n",
       "1    3943043  2024-07-14           Spain         England             Final   \n",
       "2    3942752  2024-07-09           Spain          France       Semi-finals   \n",
       "3    3942382  2024-07-06     Netherlands          Turkey    Quarter-finals   \n",
       "4    3942349  2024-07-05        Portugal          France    Quarter-finals   \n",
       "5    3930180  2024-06-25     Netherlands         Austria       Group Stage   \n",
       "6    3930171  2024-06-20         Denmark         England       Group Stage   \n",
       "7    3942227  2024-07-06         England     Switzerland    Quarter-finals   \n",
       "8    3942226  2024-07-05           Spain         Germany    Quarter-finals   \n",
       "9    3938645  2024-06-26         Ukraine         Belgium       Group Stage   \n",
       "10   3930184  2024-06-26  Czech Republic          Turkey       Group Stage   \n",
       "11   3941022  2024-07-02         Austria          Turkey       Round of 16   \n",
       "12   3941021  2024-07-02         Romania     Netherlands       Round of 16   \n",
       "13   3941020  2024-07-01        Portugal        Slovenia       Round of 16   \n",
       "14   3941019  2024-07-01          France         Belgium       Round of 16   \n",
       "15   3941018  2024-06-30           Spain         Georgia       Round of 16   \n",
       "16   3941017  2024-06-30         England        Slovakia       Round of 16   \n",
       "17   3930182  2024-06-25         Denmark          Serbia       Group Stage   \n",
       "18   3930179  2024-06-24         Albania           Spain       Group Stage   \n",
       "19   3940983  2024-06-29         Germany         Denmark       Round of 16   \n",
       "20   3940878  2024-06-29     Switzerland           Italy       Round of 16   \n",
       "21   3930177  2024-06-23        Scotland         Hungary       Group Stage   \n",
       "22   3930173  2024-06-21     Netherlands          France       Group Stage   \n",
       "23   3930172  2024-06-20           Spain           Italy       Group Stage   \n",
       "24   3930167  2024-06-19         Croatia         Albania       Group Stage   \n",
       "25   3930168  2024-06-19         Germany         Hungary       Group Stage   \n",
       "26   3930165  2024-06-17         Austria          France       Group Stage   \n",
       "27   3930164  2024-06-17         Belgium        Slovakia       Group Stage   \n",
       "28   3930161  2024-06-15           Italy         Albania       Group Stage   \n",
       "29   3938637  2024-06-16          Poland     Netherlands       Group Stage   \n",
       "30   3938640  2024-06-21        Slovakia         Ukraine       Group Stage   \n",
       "31   3938642  2024-06-22         Georgia  Czech Republic       Group Stage   \n",
       "32   3938639  2024-06-18          Turkey         Georgia       Group Stage   \n",
       "33   3938641  2024-06-21          Poland         Austria       Group Stage   \n",
       "34   3938644  2024-06-26         Georgia        Portugal       Group Stage   \n",
       "35   3938643  2024-06-25          France          Poland       Group Stage   \n",
       "36   3938638  2024-06-17         Romania         Ukraine       Group Stage   \n",
       "37   3930183  2024-06-26        Slovakia         Romania       Group Stage   \n",
       "38   3930181  2024-06-25         England        Slovenia       Group Stage   \n",
       "39   3930178  2024-06-24         Croatia           Italy       Group Stage   \n",
       "40   3930176  2024-06-23     Switzerland         Germany       Group Stage   \n",
       "41   3930175  2024-06-22         Belgium         Romania       Group Stage   \n",
       "42   3930174  2024-06-22          Turkey        Portugal       Group Stage   \n",
       "43   3930170  2024-06-20        Slovenia          Serbia       Group Stage   \n",
       "44   3930169  2024-06-19        Scotland     Switzerland       Group Stage   \n",
       "45   3930166  2024-06-18        Portugal  Czech Republic       Group Stage   \n",
       "46   3930163  2024-06-16          Serbia         England       Group Stage   \n",
       "47   3930162  2024-06-16        Slovenia         Denmark       Group Stage   \n",
       "48   3930160  2024-06-15           Spain         Croatia       Group Stage   \n",
       "49   3930159  2024-06-15         Hungary     Switzerland       Group Stage   \n",
       "50   3930158  2024-06-14         Germany        Scotland       Group Stage   \n",
       "\n",
       "    home_score  away_score                                  match  \n",
       "0            1           2      Semi-finals Netherlands - England  \n",
       "1            2           1                  Final Spain - England  \n",
       "2            2           1             Semi-finals Spain - France  \n",
       "3            2           1    Quarter-finals Netherlands - Turkey  \n",
       "4            0           0       Quarter-finals Portugal - France  \n",
       "5            2           3      Group Stage Netherlands - Austria  \n",
       "6            1           1          Group Stage Denmark - England  \n",
       "7            1           1   Quarter-finals England - Switzerland  \n",
       "8            2           1         Quarter-finals Spain - Germany  \n",
       "9            0           0          Group Stage Ukraine - Belgium  \n",
       "10           1           2    Group Stage Czech Republic - Turkey  \n",
       "11           1           2           Round of 16 Austria - Turkey  \n",
       "12           0           3      Round of 16 Romania - Netherlands  \n",
       "13           0           0        Round of 16 Portugal - Slovenia  \n",
       "14           1           0           Round of 16 France - Belgium  \n",
       "15           4           1            Round of 16 Spain - Georgia  \n",
       "16           2           1         Round of 16 England - Slovakia  \n",
       "17           0           0           Group Stage Denmark - Serbia  \n",
       "18           0           1            Group Stage Albania - Spain  \n",
       "19           2           0          Round of 16 Germany - Denmark  \n",
       "20           2           0        Round of 16 Switzerland - Italy  \n",
       "21           0           1         Group Stage Scotland - Hungary  \n",
       "22           0           0       Group Stage Netherlands - France  \n",
       "23           1           0              Group Stage Spain - Italy  \n",
       "24           2           2          Group Stage Croatia - Albania  \n",
       "25           2           0          Group Stage Germany - Hungary  \n",
       "26           0           1           Group Stage Austria - France  \n",
       "27           0           1         Group Stage Belgium - Slovakia  \n",
       "28           2           1            Group Stage Italy - Albania  \n",
       "29           1           2       Group Stage Poland - Netherlands  \n",
       "30           1           2         Group Stage Slovakia - Ukraine  \n",
       "31           1           1   Group Stage Georgia - Czech Republic  \n",
       "32           3           1           Group Stage Turkey - Georgia  \n",
       "33           1           3           Group Stage Poland - Austria  \n",
       "34           2           0         Group Stage Georgia - Portugal  \n",
       "35           1           1            Group Stage France - Poland  \n",
       "36           3           0          Group Stage Romania - Ukraine  \n",
       "37           1           1         Group Stage Slovakia - Romania  \n",
       "38           0           0         Group Stage England - Slovenia  \n",
       "39           1           1            Group Stage Croatia - Italy  \n",
       "40           1           1      Group Stage Switzerland - Germany  \n",
       "41           2           0          Group Stage Belgium - Romania  \n",
       "42           0           3          Group Stage Turkey - Portugal  \n",
       "43           1           1          Group Stage Slovenia - Serbia  \n",
       "44           1           1     Group Stage Scotland - Switzerland  \n",
       "45           2           1  Group Stage Portugal - Czech Republic  \n",
       "46           0           1           Group Stage Serbia - England  \n",
       "47           1           1         Group Stage Slovenia - Denmark  \n",
       "48           3           0            Group Stage Spain - Croatia  \n",
       "49           1           3      Group Stage Hungary - Switzerland  \n",
       "50           5           1         Group Stage Germany - Scotland  "
      ]
     },
     "execution_count": 49,
     "metadata": {},
     "output_type": "execute_result"
    }
   ],
   "source": [
    "matches"
   ]
  },
  {
   "cell_type": "code",
   "execution_count": 50,
   "id": "647de699-ce3b-49d8-852d-140e67d18289",
   "metadata": {},
   "outputs": [],
   "source": [
    "# functions fore retreiving match data\n",
    "\n",
    "# retrieve the prefered Match ID\n",
    "def take_matchid(df, value):\n",
    "    match = df[df['match'] == value]\n",
    "    if not match.empty:\n",
    "        return match['match_id'].iloc[0]\n",
    "    else:\n",
    "        return None  # or handle it as you need\n",
    "\n",
    "# select the match that you want \n",
    "def teams_selected(df,value):\n",
    "    df_details = df[df.match == value]\n",
    "    return df_details"
   ]
  },
  {
   "cell_type": "code",
   "execution_count": 51,
   "id": "ffb0e97e-83cc-469d-8ba9-2bcbc66c7fbd",
   "metadata": {},
   "outputs": [],
   "source": [
    "# choose a match from table (matches) and column (match)\n",
    "match_selector = 'Final Spain - England'"
   ]
  },
  {
   "cell_type": "code",
   "execution_count": 52,
   "id": "2a190ad4-95e1-4529-b55d-82b6cfac19bd",
   "metadata": {},
   "outputs": [],
   "source": [
    "# call the statsbombpy events API to bring in the event data for the match using the function and the string match_selector\n",
    "match = sb.events(match_id=take_matchid(matches,match_selector))"
   ]
  },
  {
   "cell_type": "code",
   "execution_count": 53,
   "id": "533f8b76-7ef7-473f-a756-b38e8807295b",
   "metadata": {},
   "outputs": [
    {
     "data": {
      "text/html": [
       "<div>\n",
       "<style scoped>\n",
       "    .dataframe tbody tr th:only-of-type {\n",
       "        vertical-align: middle;\n",
       "    }\n",
       "\n",
       "    .dataframe tbody tr th {\n",
       "        vertical-align: top;\n",
       "    }\n",
       "\n",
       "    .dataframe thead th {\n",
       "        text-align: right;\n",
       "    }\n",
       "</style>\n",
       "<table border=\"1\" class=\"dataframe\">\n",
       "  <thead>\n",
       "    <tr style=\"text-align: right;\">\n",
       "      <th></th>\n",
       "      <th>50_50</th>\n",
       "      <th>ball_receipt_outcome</th>\n",
       "      <th>ball_recovery_recovery_failure</th>\n",
       "      <th>block_deflection</th>\n",
       "      <th>block_offensive</th>\n",
       "      <th>block_save_block</th>\n",
       "      <th>carry_end_location</th>\n",
       "      <th>clearance_aerial_won</th>\n",
       "      <th>clearance_body_part</th>\n",
       "      <th>clearance_head</th>\n",
       "      <th>clearance_left_foot</th>\n",
       "      <th>clearance_right_foot</th>\n",
       "      <th>counterpress</th>\n",
       "      <th>dribble_nutmeg</th>\n",
       "      <th>dribble_outcome</th>\n",
       "      <th>dribble_overrun</th>\n",
       "      <th>duel_outcome</th>\n",
       "      <th>duel_type</th>\n",
       "      <th>duration</th>\n",
       "      <th>foul_committed_advantage</th>\n",
       "      <th>foul_committed_card</th>\n",
       "      <th>foul_committed_offensive</th>\n",
       "      <th>foul_won_advantage</th>\n",
       "      <th>foul_won_defensive</th>\n",
       "      <th>goalkeeper_body_part</th>\n",
       "      <th>goalkeeper_end_location</th>\n",
       "      <th>goalkeeper_outcome</th>\n",
       "      <th>goalkeeper_position</th>\n",
       "      <th>goalkeeper_technique</th>\n",
       "      <th>goalkeeper_type</th>\n",
       "      <th>id</th>\n",
       "      <th>index</th>\n",
       "      <th>injury_stoppage_in_chain</th>\n",
       "      <th>interception_outcome</th>\n",
       "      <th>location</th>\n",
       "      <th>match_id</th>\n",
       "      <th>minute</th>\n",
       "      <th>off_camera</th>\n",
       "      <th>out</th>\n",
       "      <th>pass_aerial_won</th>\n",
       "      <th>pass_angle</th>\n",
       "      <th>pass_assisted_shot_id</th>\n",
       "      <th>pass_body_part</th>\n",
       "      <th>pass_cross</th>\n",
       "      <th>pass_cut_back</th>\n",
       "      <th>pass_end_location</th>\n",
       "      <th>pass_goal_assist</th>\n",
       "      <th>pass_height</th>\n",
       "      <th>pass_inswinging</th>\n",
       "      <th>pass_length</th>\n",
       "      <th>pass_no_touch</th>\n",
       "      <th>pass_outcome</th>\n",
       "      <th>pass_outswinging</th>\n",
       "      <th>pass_recipient</th>\n",
       "      <th>pass_recipient_id</th>\n",
       "      <th>pass_shot_assist</th>\n",
       "      <th>pass_switch</th>\n",
       "      <th>pass_technique</th>\n",
       "      <th>pass_through_ball</th>\n",
       "      <th>pass_type</th>\n",
       "      <th>period</th>\n",
       "      <th>play_pattern</th>\n",
       "      <th>player</th>\n",
       "      <th>player_id</th>\n",
       "      <th>position</th>\n",
       "      <th>possession</th>\n",
       "      <th>possession_team</th>\n",
       "      <th>possession_team_id</th>\n",
       "      <th>related_events</th>\n",
       "      <th>second</th>\n",
       "      <th>shot_aerial_won</th>\n",
       "      <th>shot_body_part</th>\n",
       "      <th>shot_deflected</th>\n",
       "      <th>shot_end_location</th>\n",
       "      <th>shot_first_time</th>\n",
       "      <th>shot_freeze_frame</th>\n",
       "      <th>shot_key_pass_id</th>\n",
       "      <th>shot_one_on_one</th>\n",
       "      <th>shot_outcome</th>\n",
       "      <th>shot_statsbomb_xg</th>\n",
       "      <th>shot_technique</th>\n",
       "      <th>shot_type</th>\n",
       "      <th>substitution_outcome</th>\n",
       "      <th>substitution_outcome_id</th>\n",
       "      <th>substitution_replacement</th>\n",
       "      <th>substitution_replacement_id</th>\n",
       "      <th>tactics</th>\n",
       "      <th>team</th>\n",
       "      <th>team_id</th>\n",
       "      <th>timestamp</th>\n",
       "      <th>type</th>\n",
       "      <th>under_pressure</th>\n",
       "    </tr>\n",
       "  </thead>\n",
       "  <tbody>\n",
       "    <tr>\n",
       "      <th>0</th>\n",
       "      <td>NaN</td>\n",
       "      <td>NaN</td>\n",
       "      <td>NaN</td>\n",
       "      <td>NaN</td>\n",
       "      <td>NaN</td>\n",
       "      <td>NaN</td>\n",
       "      <td>NaN</td>\n",
       "      <td>NaN</td>\n",
       "      <td>NaN</td>\n",
       "      <td>NaN</td>\n",
       "      <td>NaN</td>\n",
       "      <td>NaN</td>\n",
       "      <td>NaN</td>\n",
       "      <td>NaN</td>\n",
       "      <td>NaN</td>\n",
       "      <td>NaN</td>\n",
       "      <td>NaN</td>\n",
       "      <td>NaN</td>\n",
       "      <td>0.0</td>\n",
       "      <td>NaN</td>\n",
       "      <td>NaN</td>\n",
       "      <td>NaN</td>\n",
       "      <td>NaN</td>\n",
       "      <td>NaN</td>\n",
       "      <td>NaN</td>\n",
       "      <td>NaN</td>\n",
       "      <td>NaN</td>\n",
       "      <td>NaN</td>\n",
       "      <td>NaN</td>\n",
       "      <td>NaN</td>\n",
       "      <td>50aa204f-5d65-4145-8597-5d5628fb7898</td>\n",
       "      <td>1</td>\n",
       "      <td>NaN</td>\n",
       "      <td>NaN</td>\n",
       "      <td>NaN</td>\n",
       "      <td>3943043</td>\n",
       "      <td>0</td>\n",
       "      <td>NaN</td>\n",
       "      <td>NaN</td>\n",
       "      <td>NaN</td>\n",
       "      <td>NaN</td>\n",
       "      <td>NaN</td>\n",
       "      <td>NaN</td>\n",
       "      <td>NaN</td>\n",
       "      <td>NaN</td>\n",
       "      <td>NaN</td>\n",
       "      <td>NaN</td>\n",
       "      <td>NaN</td>\n",
       "      <td>NaN</td>\n",
       "      <td>NaN</td>\n",
       "      <td>NaN</td>\n",
       "      <td>NaN</td>\n",
       "      <td>NaN</td>\n",
       "      <td>NaN</td>\n",
       "      <td>NaN</td>\n",
       "      <td>NaN</td>\n",
       "      <td>NaN</td>\n",
       "      <td>NaN</td>\n",
       "      <td>NaN</td>\n",
       "      <td>NaN</td>\n",
       "      <td>1</td>\n",
       "      <td>Regular Play</td>\n",
       "      <td>NaN</td>\n",
       "      <td>NaN</td>\n",
       "      <td>NaN</td>\n",
       "      <td>1</td>\n",
       "      <td>Spain</td>\n",
       "      <td>772</td>\n",
       "      <td>NaN</td>\n",
       "      <td>0</td>\n",
       "      <td>NaN</td>\n",
       "      <td>NaN</td>\n",
       "      <td>NaN</td>\n",
       "      <td>NaN</td>\n",
       "      <td>NaN</td>\n",
       "      <td>NaN</td>\n",
       "      <td>NaN</td>\n",
       "      <td>NaN</td>\n",
       "      <td>NaN</td>\n",
       "      <td>NaN</td>\n",
       "      <td>NaN</td>\n",
       "      <td>NaN</td>\n",
       "      <td>NaN</td>\n",
       "      <td>NaN</td>\n",
       "      <td>NaN</td>\n",
       "      <td>NaN</td>\n",
       "      <td>{'formation': 4231, 'lineup': [{'player': {'id...</td>\n",
       "      <td>Spain</td>\n",
       "      <td>772</td>\n",
       "      <td>00:00:00.000</td>\n",
       "      <td>Starting XI</td>\n",
       "      <td>NaN</td>\n",
       "    </tr>\n",
       "    <tr>\n",
       "      <th>1</th>\n",
       "      <td>NaN</td>\n",
       "      <td>NaN</td>\n",
       "      <td>NaN</td>\n",
       "      <td>NaN</td>\n",
       "      <td>NaN</td>\n",
       "      <td>NaN</td>\n",
       "      <td>NaN</td>\n",
       "      <td>NaN</td>\n",
       "      <td>NaN</td>\n",
       "      <td>NaN</td>\n",
       "      <td>NaN</td>\n",
       "      <td>NaN</td>\n",
       "      <td>NaN</td>\n",
       "      <td>NaN</td>\n",
       "      <td>NaN</td>\n",
       "      <td>NaN</td>\n",
       "      <td>NaN</td>\n",
       "      <td>NaN</td>\n",
       "      <td>0.0</td>\n",
       "      <td>NaN</td>\n",
       "      <td>NaN</td>\n",
       "      <td>NaN</td>\n",
       "      <td>NaN</td>\n",
       "      <td>NaN</td>\n",
       "      <td>NaN</td>\n",
       "      <td>NaN</td>\n",
       "      <td>NaN</td>\n",
       "      <td>NaN</td>\n",
       "      <td>NaN</td>\n",
       "      <td>NaN</td>\n",
       "      <td>a279cbee-9ab3-4cfb-9c51-27cacc1bf2a2</td>\n",
       "      <td>2</td>\n",
       "      <td>NaN</td>\n",
       "      <td>NaN</td>\n",
       "      <td>NaN</td>\n",
       "      <td>3943043</td>\n",
       "      <td>0</td>\n",
       "      <td>NaN</td>\n",
       "      <td>NaN</td>\n",
       "      <td>NaN</td>\n",
       "      <td>NaN</td>\n",
       "      <td>NaN</td>\n",
       "      <td>NaN</td>\n",
       "      <td>NaN</td>\n",
       "      <td>NaN</td>\n",
       "      <td>NaN</td>\n",
       "      <td>NaN</td>\n",
       "      <td>NaN</td>\n",
       "      <td>NaN</td>\n",
       "      <td>NaN</td>\n",
       "      <td>NaN</td>\n",
       "      <td>NaN</td>\n",
       "      <td>NaN</td>\n",
       "      <td>NaN</td>\n",
       "      <td>NaN</td>\n",
       "      <td>NaN</td>\n",
       "      <td>NaN</td>\n",
       "      <td>NaN</td>\n",
       "      <td>NaN</td>\n",
       "      <td>NaN</td>\n",
       "      <td>1</td>\n",
       "      <td>Regular Play</td>\n",
       "      <td>NaN</td>\n",
       "      <td>NaN</td>\n",
       "      <td>NaN</td>\n",
       "      <td>1</td>\n",
       "      <td>Spain</td>\n",
       "      <td>772</td>\n",
       "      <td>NaN</td>\n",
       "      <td>0</td>\n",
       "      <td>NaN</td>\n",
       "      <td>NaN</td>\n",
       "      <td>NaN</td>\n",
       "      <td>NaN</td>\n",
       "      <td>NaN</td>\n",
       "      <td>NaN</td>\n",
       "      <td>NaN</td>\n",
       "      <td>NaN</td>\n",
       "      <td>NaN</td>\n",
       "      <td>NaN</td>\n",
       "      <td>NaN</td>\n",
       "      <td>NaN</td>\n",
       "      <td>NaN</td>\n",
       "      <td>NaN</td>\n",
       "      <td>NaN</td>\n",
       "      <td>NaN</td>\n",
       "      <td>{'formation': 4231, 'lineup': [{'player': {'id...</td>\n",
       "      <td>England</td>\n",
       "      <td>768</td>\n",
       "      <td>00:00:00.000</td>\n",
       "      <td>Starting XI</td>\n",
       "      <td>NaN</td>\n",
       "    </tr>\n",
       "    <tr>\n",
       "      <th>2</th>\n",
       "      <td>NaN</td>\n",
       "      <td>NaN</td>\n",
       "      <td>NaN</td>\n",
       "      <td>NaN</td>\n",
       "      <td>NaN</td>\n",
       "      <td>NaN</td>\n",
       "      <td>NaN</td>\n",
       "      <td>NaN</td>\n",
       "      <td>NaN</td>\n",
       "      <td>NaN</td>\n",
       "      <td>NaN</td>\n",
       "      <td>NaN</td>\n",
       "      <td>NaN</td>\n",
       "      <td>NaN</td>\n",
       "      <td>NaN</td>\n",
       "      <td>NaN</td>\n",
       "      <td>NaN</td>\n",
       "      <td>NaN</td>\n",
       "      <td>0.0</td>\n",
       "      <td>NaN</td>\n",
       "      <td>NaN</td>\n",
       "      <td>NaN</td>\n",
       "      <td>NaN</td>\n",
       "      <td>NaN</td>\n",
       "      <td>NaN</td>\n",
       "      <td>NaN</td>\n",
       "      <td>NaN</td>\n",
       "      <td>NaN</td>\n",
       "      <td>NaN</td>\n",
       "      <td>NaN</td>\n",
       "      <td>d2126e70-9f04-4bb7-ba2b-9377836d1757</td>\n",
       "      <td>3</td>\n",
       "      <td>NaN</td>\n",
       "      <td>NaN</td>\n",
       "      <td>NaN</td>\n",
       "      <td>3943043</td>\n",
       "      <td>0</td>\n",
       "      <td>NaN</td>\n",
       "      <td>NaN</td>\n",
       "      <td>NaN</td>\n",
       "      <td>NaN</td>\n",
       "      <td>NaN</td>\n",
       "      <td>NaN</td>\n",
       "      <td>NaN</td>\n",
       "      <td>NaN</td>\n",
       "      <td>NaN</td>\n",
       "      <td>NaN</td>\n",
       "      <td>NaN</td>\n",
       "      <td>NaN</td>\n",
       "      <td>NaN</td>\n",
       "      <td>NaN</td>\n",
       "      <td>NaN</td>\n",
       "      <td>NaN</td>\n",
       "      <td>NaN</td>\n",
       "      <td>NaN</td>\n",
       "      <td>NaN</td>\n",
       "      <td>NaN</td>\n",
       "      <td>NaN</td>\n",
       "      <td>NaN</td>\n",
       "      <td>NaN</td>\n",
       "      <td>1</td>\n",
       "      <td>Regular Play</td>\n",
       "      <td>NaN</td>\n",
       "      <td>NaN</td>\n",
       "      <td>NaN</td>\n",
       "      <td>1</td>\n",
       "      <td>Spain</td>\n",
       "      <td>772</td>\n",
       "      <td>[54d78bfa-4146-42bd-acdc-97bcd393dd81]</td>\n",
       "      <td>0</td>\n",
       "      <td>NaN</td>\n",
       "      <td>NaN</td>\n",
       "      <td>NaN</td>\n",
       "      <td>NaN</td>\n",
       "      <td>NaN</td>\n",
       "      <td>NaN</td>\n",
       "      <td>NaN</td>\n",
       "      <td>NaN</td>\n",
       "      <td>NaN</td>\n",
       "      <td>NaN</td>\n",
       "      <td>NaN</td>\n",
       "      <td>NaN</td>\n",
       "      <td>NaN</td>\n",
       "      <td>NaN</td>\n",
       "      <td>NaN</td>\n",
       "      <td>NaN</td>\n",
       "      <td>NaN</td>\n",
       "      <td>England</td>\n",
       "      <td>768</td>\n",
       "      <td>00:00:00.000</td>\n",
       "      <td>Half Start</td>\n",
       "      <td>NaN</td>\n",
       "    </tr>\n",
       "    <tr>\n",
       "      <th>3</th>\n",
       "      <td>NaN</td>\n",
       "      <td>NaN</td>\n",
       "      <td>NaN</td>\n",
       "      <td>NaN</td>\n",
       "      <td>NaN</td>\n",
       "      <td>NaN</td>\n",
       "      <td>NaN</td>\n",
       "      <td>NaN</td>\n",
       "      <td>NaN</td>\n",
       "      <td>NaN</td>\n",
       "      <td>NaN</td>\n",
       "      <td>NaN</td>\n",
       "      <td>NaN</td>\n",
       "      <td>NaN</td>\n",
       "      <td>NaN</td>\n",
       "      <td>NaN</td>\n",
       "      <td>NaN</td>\n",
       "      <td>NaN</td>\n",
       "      <td>0.0</td>\n",
       "      <td>NaN</td>\n",
       "      <td>NaN</td>\n",
       "      <td>NaN</td>\n",
       "      <td>NaN</td>\n",
       "      <td>NaN</td>\n",
       "      <td>NaN</td>\n",
       "      <td>NaN</td>\n",
       "      <td>NaN</td>\n",
       "      <td>NaN</td>\n",
       "      <td>NaN</td>\n",
       "      <td>NaN</td>\n",
       "      <td>54d78bfa-4146-42bd-acdc-97bcd393dd81</td>\n",
       "      <td>4</td>\n",
       "      <td>NaN</td>\n",
       "      <td>NaN</td>\n",
       "      <td>NaN</td>\n",
       "      <td>3943043</td>\n",
       "      <td>0</td>\n",
       "      <td>NaN</td>\n",
       "      <td>NaN</td>\n",
       "      <td>NaN</td>\n",
       "      <td>NaN</td>\n",
       "      <td>NaN</td>\n",
       "      <td>NaN</td>\n",
       "      <td>NaN</td>\n",
       "      <td>NaN</td>\n",
       "      <td>NaN</td>\n",
       "      <td>NaN</td>\n",
       "      <td>NaN</td>\n",
       "      <td>NaN</td>\n",
       "      <td>NaN</td>\n",
       "      <td>NaN</td>\n",
       "      <td>NaN</td>\n",
       "      <td>NaN</td>\n",
       "      <td>NaN</td>\n",
       "      <td>NaN</td>\n",
       "      <td>NaN</td>\n",
       "      <td>NaN</td>\n",
       "      <td>NaN</td>\n",
       "      <td>NaN</td>\n",
       "      <td>NaN</td>\n",
       "      <td>1</td>\n",
       "      <td>Regular Play</td>\n",
       "      <td>NaN</td>\n",
       "      <td>NaN</td>\n",
       "      <td>NaN</td>\n",
       "      <td>1</td>\n",
       "      <td>Spain</td>\n",
       "      <td>772</td>\n",
       "      <td>[d2126e70-9f04-4bb7-ba2b-9377836d1757]</td>\n",
       "      <td>0</td>\n",
       "      <td>NaN</td>\n",
       "      <td>NaN</td>\n",
       "      <td>NaN</td>\n",
       "      <td>NaN</td>\n",
       "      <td>NaN</td>\n",
       "      <td>NaN</td>\n",
       "      <td>NaN</td>\n",
       "      <td>NaN</td>\n",
       "      <td>NaN</td>\n",
       "      <td>NaN</td>\n",
       "      <td>NaN</td>\n",
       "      <td>NaN</td>\n",
       "      <td>NaN</td>\n",
       "      <td>NaN</td>\n",
       "      <td>NaN</td>\n",
       "      <td>NaN</td>\n",
       "      <td>NaN</td>\n",
       "      <td>Spain</td>\n",
       "      <td>772</td>\n",
       "      <td>00:00:00.000</td>\n",
       "      <td>Half Start</td>\n",
       "      <td>NaN</td>\n",
       "    </tr>\n",
       "    <tr>\n",
       "      <th>4</th>\n",
       "      <td>NaN</td>\n",
       "      <td>NaN</td>\n",
       "      <td>NaN</td>\n",
       "      <td>NaN</td>\n",
       "      <td>NaN</td>\n",
       "      <td>NaN</td>\n",
       "      <td>NaN</td>\n",
       "      <td>NaN</td>\n",
       "      <td>NaN</td>\n",
       "      <td>NaN</td>\n",
       "      <td>NaN</td>\n",
       "      <td>NaN</td>\n",
       "      <td>NaN</td>\n",
       "      <td>NaN</td>\n",
       "      <td>NaN</td>\n",
       "      <td>NaN</td>\n",
       "      <td>NaN</td>\n",
       "      <td>NaN</td>\n",
       "      <td>0.0</td>\n",
       "      <td>NaN</td>\n",
       "      <td>NaN</td>\n",
       "      <td>NaN</td>\n",
       "      <td>NaN</td>\n",
       "      <td>NaN</td>\n",
       "      <td>NaN</td>\n",
       "      <td>NaN</td>\n",
       "      <td>NaN</td>\n",
       "      <td>NaN</td>\n",
       "      <td>NaN</td>\n",
       "      <td>NaN</td>\n",
       "      <td>7230470a-8ceb-4eb8-a66f-d72a2afb12d6</td>\n",
       "      <td>1706</td>\n",
       "      <td>NaN</td>\n",
       "      <td>NaN</td>\n",
       "      <td>NaN</td>\n",
       "      <td>3943043</td>\n",
       "      <td>45</td>\n",
       "      <td>NaN</td>\n",
       "      <td>NaN</td>\n",
       "      <td>NaN</td>\n",
       "      <td>NaN</td>\n",
       "      <td>NaN</td>\n",
       "      <td>NaN</td>\n",
       "      <td>NaN</td>\n",
       "      <td>NaN</td>\n",
       "      <td>NaN</td>\n",
       "      <td>NaN</td>\n",
       "      <td>NaN</td>\n",
       "      <td>NaN</td>\n",
       "      <td>NaN</td>\n",
       "      <td>NaN</td>\n",
       "      <td>NaN</td>\n",
       "      <td>NaN</td>\n",
       "      <td>NaN</td>\n",
       "      <td>NaN</td>\n",
       "      <td>NaN</td>\n",
       "      <td>NaN</td>\n",
       "      <td>NaN</td>\n",
       "      <td>NaN</td>\n",
       "      <td>NaN</td>\n",
       "      <td>2</td>\n",
       "      <td>Regular Play</td>\n",
       "      <td>NaN</td>\n",
       "      <td>NaN</td>\n",
       "      <td>NaN</td>\n",
       "      <td>79</td>\n",
       "      <td>Spain</td>\n",
       "      <td>772</td>\n",
       "      <td>[cb9ba06c-a673-448d-ab21-755d330fcadc]</td>\n",
       "      <td>0</td>\n",
       "      <td>NaN</td>\n",
       "      <td>NaN</td>\n",
       "      <td>NaN</td>\n",
       "      <td>NaN</td>\n",
       "      <td>NaN</td>\n",
       "      <td>NaN</td>\n",
       "      <td>NaN</td>\n",
       "      <td>NaN</td>\n",
       "      <td>NaN</td>\n",
       "      <td>NaN</td>\n",
       "      <td>NaN</td>\n",
       "      <td>NaN</td>\n",
       "      <td>NaN</td>\n",
       "      <td>NaN</td>\n",
       "      <td>NaN</td>\n",
       "      <td>NaN</td>\n",
       "      <td>NaN</td>\n",
       "      <td>England</td>\n",
       "      <td>768</td>\n",
       "      <td>00:00:00.000</td>\n",
       "      <td>Half Start</td>\n",
       "      <td>NaN</td>\n",
       "    </tr>\n",
       "  </tbody>\n",
       "</table>\n",
       "</div>"
      ],
      "text/plain": [
       "  50_50 ball_receipt_outcome ball_recovery_recovery_failure block_deflection  \\\n",
       "0   NaN                  NaN                            NaN              NaN   \n",
       "1   NaN                  NaN                            NaN              NaN   \n",
       "2   NaN                  NaN                            NaN              NaN   \n",
       "3   NaN                  NaN                            NaN              NaN   \n",
       "4   NaN                  NaN                            NaN              NaN   \n",
       "\n",
       "  block_offensive block_save_block carry_end_location clearance_aerial_won  \\\n",
       "0             NaN              NaN                NaN                  NaN   \n",
       "1             NaN              NaN                NaN                  NaN   \n",
       "2             NaN              NaN                NaN                  NaN   \n",
       "3             NaN              NaN                NaN                  NaN   \n",
       "4             NaN              NaN                NaN                  NaN   \n",
       "\n",
       "  clearance_body_part clearance_head clearance_left_foot clearance_right_foot  \\\n",
       "0                 NaN            NaN                 NaN                  NaN   \n",
       "1                 NaN            NaN                 NaN                  NaN   \n",
       "2                 NaN            NaN                 NaN                  NaN   \n",
       "3                 NaN            NaN                 NaN                  NaN   \n",
       "4                 NaN            NaN                 NaN                  NaN   \n",
       "\n",
       "  counterpress dribble_nutmeg dribble_outcome dribble_overrun duel_outcome  \\\n",
       "0          NaN            NaN             NaN             NaN          NaN   \n",
       "1          NaN            NaN             NaN             NaN          NaN   \n",
       "2          NaN            NaN             NaN             NaN          NaN   \n",
       "3          NaN            NaN             NaN             NaN          NaN   \n",
       "4          NaN            NaN             NaN             NaN          NaN   \n",
       "\n",
       "  duel_type  duration foul_committed_advantage foul_committed_card  \\\n",
       "0       NaN       0.0                      NaN                 NaN   \n",
       "1       NaN       0.0                      NaN                 NaN   \n",
       "2       NaN       0.0                      NaN                 NaN   \n",
       "3       NaN       0.0                      NaN                 NaN   \n",
       "4       NaN       0.0                      NaN                 NaN   \n",
       "\n",
       "  foul_committed_offensive foul_won_advantage foul_won_defensive  \\\n",
       "0                      NaN                NaN                NaN   \n",
       "1                      NaN                NaN                NaN   \n",
       "2                      NaN                NaN                NaN   \n",
       "3                      NaN                NaN                NaN   \n",
       "4                      NaN                NaN                NaN   \n",
       "\n",
       "  goalkeeper_body_part goalkeeper_end_location goalkeeper_outcome  \\\n",
       "0                  NaN                     NaN                NaN   \n",
       "1                  NaN                     NaN                NaN   \n",
       "2                  NaN                     NaN                NaN   \n",
       "3                  NaN                     NaN                NaN   \n",
       "4                  NaN                     NaN                NaN   \n",
       "\n",
       "  goalkeeper_position goalkeeper_technique goalkeeper_type  \\\n",
       "0                 NaN                  NaN             NaN   \n",
       "1                 NaN                  NaN             NaN   \n",
       "2                 NaN                  NaN             NaN   \n",
       "3                 NaN                  NaN             NaN   \n",
       "4                 NaN                  NaN             NaN   \n",
       "\n",
       "                                     id  index injury_stoppage_in_chain  \\\n",
       "0  50aa204f-5d65-4145-8597-5d5628fb7898      1                      NaN   \n",
       "1  a279cbee-9ab3-4cfb-9c51-27cacc1bf2a2      2                      NaN   \n",
       "2  d2126e70-9f04-4bb7-ba2b-9377836d1757      3                      NaN   \n",
       "3  54d78bfa-4146-42bd-acdc-97bcd393dd81      4                      NaN   \n",
       "4  7230470a-8ceb-4eb8-a66f-d72a2afb12d6   1706                      NaN   \n",
       "\n",
       "  interception_outcome location  match_id  minute off_camera  out  \\\n",
       "0                  NaN      NaN   3943043       0        NaN  NaN   \n",
       "1                  NaN      NaN   3943043       0        NaN  NaN   \n",
       "2                  NaN      NaN   3943043       0        NaN  NaN   \n",
       "3                  NaN      NaN   3943043       0        NaN  NaN   \n",
       "4                  NaN      NaN   3943043      45        NaN  NaN   \n",
       "\n",
       "  pass_aerial_won  pass_angle pass_assisted_shot_id pass_body_part pass_cross  \\\n",
       "0             NaN         NaN                   NaN            NaN        NaN   \n",
       "1             NaN         NaN                   NaN            NaN        NaN   \n",
       "2             NaN         NaN                   NaN            NaN        NaN   \n",
       "3             NaN         NaN                   NaN            NaN        NaN   \n",
       "4             NaN         NaN                   NaN            NaN        NaN   \n",
       "\n",
       "  pass_cut_back pass_end_location pass_goal_assist pass_height  \\\n",
       "0           NaN               NaN              NaN         NaN   \n",
       "1           NaN               NaN              NaN         NaN   \n",
       "2           NaN               NaN              NaN         NaN   \n",
       "3           NaN               NaN              NaN         NaN   \n",
       "4           NaN               NaN              NaN         NaN   \n",
       "\n",
       "  pass_inswinging  pass_length pass_no_touch pass_outcome pass_outswinging  \\\n",
       "0             NaN          NaN           NaN          NaN              NaN   \n",
       "1             NaN          NaN           NaN          NaN              NaN   \n",
       "2             NaN          NaN           NaN          NaN              NaN   \n",
       "3             NaN          NaN           NaN          NaN              NaN   \n",
       "4             NaN          NaN           NaN          NaN              NaN   \n",
       "\n",
       "  pass_recipient  pass_recipient_id pass_shot_assist pass_switch  \\\n",
       "0            NaN                NaN              NaN         NaN   \n",
       "1            NaN                NaN              NaN         NaN   \n",
       "2            NaN                NaN              NaN         NaN   \n",
       "3            NaN                NaN              NaN         NaN   \n",
       "4            NaN                NaN              NaN         NaN   \n",
       "\n",
       "  pass_technique pass_through_ball pass_type  period  play_pattern player  \\\n",
       "0            NaN               NaN       NaN       1  Regular Play    NaN   \n",
       "1            NaN               NaN       NaN       1  Regular Play    NaN   \n",
       "2            NaN               NaN       NaN       1  Regular Play    NaN   \n",
       "3            NaN               NaN       NaN       1  Regular Play    NaN   \n",
       "4            NaN               NaN       NaN       2  Regular Play    NaN   \n",
       "\n",
       "   player_id position  possession possession_team  possession_team_id  \\\n",
       "0        NaN      NaN           1           Spain                 772   \n",
       "1        NaN      NaN           1           Spain                 772   \n",
       "2        NaN      NaN           1           Spain                 772   \n",
       "3        NaN      NaN           1           Spain                 772   \n",
       "4        NaN      NaN          79           Spain                 772   \n",
       "\n",
       "                           related_events  second shot_aerial_won  \\\n",
       "0                                     NaN       0             NaN   \n",
       "1                                     NaN       0             NaN   \n",
       "2  [54d78bfa-4146-42bd-acdc-97bcd393dd81]       0             NaN   \n",
       "3  [d2126e70-9f04-4bb7-ba2b-9377836d1757]       0             NaN   \n",
       "4  [cb9ba06c-a673-448d-ab21-755d330fcadc]       0             NaN   \n",
       "\n",
       "  shot_body_part shot_deflected shot_end_location shot_first_time  \\\n",
       "0            NaN            NaN               NaN             NaN   \n",
       "1            NaN            NaN               NaN             NaN   \n",
       "2            NaN            NaN               NaN             NaN   \n",
       "3            NaN            NaN               NaN             NaN   \n",
       "4            NaN            NaN               NaN             NaN   \n",
       "\n",
       "  shot_freeze_frame shot_key_pass_id shot_one_on_one shot_outcome  \\\n",
       "0               NaN              NaN             NaN          NaN   \n",
       "1               NaN              NaN             NaN          NaN   \n",
       "2               NaN              NaN             NaN          NaN   \n",
       "3               NaN              NaN             NaN          NaN   \n",
       "4               NaN              NaN             NaN          NaN   \n",
       "\n",
       "   shot_statsbomb_xg shot_technique shot_type substitution_outcome  \\\n",
       "0                NaN            NaN       NaN                  NaN   \n",
       "1                NaN            NaN       NaN                  NaN   \n",
       "2                NaN            NaN       NaN                  NaN   \n",
       "3                NaN            NaN       NaN                  NaN   \n",
       "4                NaN            NaN       NaN                  NaN   \n",
       "\n",
       "   substitution_outcome_id substitution_replacement  \\\n",
       "0                      NaN                      NaN   \n",
       "1                      NaN                      NaN   \n",
       "2                      NaN                      NaN   \n",
       "3                      NaN                      NaN   \n",
       "4                      NaN                      NaN   \n",
       "\n",
       "   substitution_replacement_id  \\\n",
       "0                          NaN   \n",
       "1                          NaN   \n",
       "2                          NaN   \n",
       "3                          NaN   \n",
       "4                          NaN   \n",
       "\n",
       "                                             tactics     team  team_id  \\\n",
       "0  {'formation': 4231, 'lineup': [{'player': {'id...    Spain      772   \n",
       "1  {'formation': 4231, 'lineup': [{'player': {'id...  England      768   \n",
       "2                                                NaN  England      768   \n",
       "3                                                NaN    Spain      772   \n",
       "4                                                NaN  England      768   \n",
       "\n",
       "      timestamp         type under_pressure  \n",
       "0  00:00:00.000  Starting XI            NaN  \n",
       "1  00:00:00.000  Starting XI            NaN  \n",
       "2  00:00:00.000   Half Start            NaN  \n",
       "3  00:00:00.000   Half Start            NaN  \n",
       "4  00:00:00.000   Half Start            NaN  "
      ]
     },
     "execution_count": 53,
     "metadata": {},
     "output_type": "execute_result"
    }
   ],
   "source": [
    "match.head()"
   ]
  },
  {
   "cell_type": "code",
   "execution_count": 54,
   "id": "82246ca0-8bec-4472-b234-84d3f7ca0322",
   "metadata": {},
   "outputs": [],
   "source": [
    "# retieve the general info of the match using again the other function and the match selector\n",
    "match_details = teams_selected(matches,match_selector)"
   ]
  },
  {
   "cell_type": "code",
   "execution_count": 55,
   "id": "9e446a54-0910-409f-9ff6-687072d82470",
   "metadata": {},
   "outputs": [
    {
     "data": {
      "text/html": [
       "<div>\n",
       "<style scoped>\n",
       "    .dataframe tbody tr th:only-of-type {\n",
       "        vertical-align: middle;\n",
       "    }\n",
       "\n",
       "    .dataframe tbody tr th {\n",
       "        vertical-align: top;\n",
       "    }\n",
       "\n",
       "    .dataframe thead th {\n",
       "        text-align: right;\n",
       "    }\n",
       "</style>\n",
       "<table border=\"1\" class=\"dataframe\">\n",
       "  <thead>\n",
       "    <tr style=\"text-align: right;\">\n",
       "      <th></th>\n",
       "      <th>match_id</th>\n",
       "      <th>match_date</th>\n",
       "      <th>home_team</th>\n",
       "      <th>away_team</th>\n",
       "      <th>competition_stage</th>\n",
       "      <th>home_score</th>\n",
       "      <th>away_score</th>\n",
       "      <th>match</th>\n",
       "    </tr>\n",
       "  </thead>\n",
       "  <tbody>\n",
       "    <tr>\n",
       "      <th>1</th>\n",
       "      <td>3943043</td>\n",
       "      <td>2024-07-14</td>\n",
       "      <td>Spain</td>\n",
       "      <td>England</td>\n",
       "      <td>Final</td>\n",
       "      <td>2</td>\n",
       "      <td>1</td>\n",
       "      <td>Final Spain - England</td>\n",
       "    </tr>\n",
       "  </tbody>\n",
       "</table>\n",
       "</div>"
      ],
      "text/plain": [
       "   match_id  match_date home_team away_team competition_stage  home_score  \\\n",
       "1   3943043  2024-07-14     Spain   England             Final           2   \n",
       "\n",
       "   away_score                  match  \n",
       "1           1  Final Spain - England  "
      ]
     },
     "execution_count": 55,
     "metadata": {},
     "output_type": "execute_result"
    }
   ],
   "source": [
    "match_details"
   ]
  },
  {
   "cell_type": "code",
   "execution_count": 69,
   "id": "5b49a245-61cf-417c-90f0-9bed25b81715",
   "metadata": {},
   "outputs": [
    {
     "data": {
      "text/html": [
       "<div>\n",
       "<style scoped>\n",
       "    .dataframe tbody tr th:only-of-type {\n",
       "        vertical-align: middle;\n",
       "    }\n",
       "\n",
       "    .dataframe tbody tr th {\n",
       "        vertical-align: top;\n",
       "    }\n",
       "\n",
       "    .dataframe thead th {\n",
       "        text-align: right;\n",
       "    }\n",
       "</style>\n",
       "<table border=\"1\" class=\"dataframe\">\n",
       "  <thead>\n",
       "    <tr style=\"text-align: right;\">\n",
       "      <th></th>\n",
       "      <th>team</th>\n",
       "      <th>type</th>\n",
       "      <th>minute</th>\n",
       "      <th>location</th>\n",
       "      <th>shot_end_location</th>\n",
       "      <th>shot_outcome</th>\n",
       "      <th>player</th>\n",
       "    </tr>\n",
       "  </thead>\n",
       "  <tbody>\n",
       "    <tr>\n",
       "      <th>0</th>\n",
       "      <td>Spain</td>\n",
       "      <td>Starting XI</td>\n",
       "      <td>0</td>\n",
       "      <td>NaN</td>\n",
       "      <td>NaN</td>\n",
       "      <td>NaN</td>\n",
       "      <td>NaN</td>\n",
       "    </tr>\n",
       "    <tr>\n",
       "      <th>1</th>\n",
       "      <td>England</td>\n",
       "      <td>Starting XI</td>\n",
       "      <td>0</td>\n",
       "      <td>NaN</td>\n",
       "      <td>NaN</td>\n",
       "      <td>NaN</td>\n",
       "      <td>NaN</td>\n",
       "    </tr>\n",
       "    <tr>\n",
       "      <th>2</th>\n",
       "      <td>England</td>\n",
       "      <td>Half Start</td>\n",
       "      <td>0</td>\n",
       "      <td>NaN</td>\n",
       "      <td>NaN</td>\n",
       "      <td>NaN</td>\n",
       "      <td>NaN</td>\n",
       "    </tr>\n",
       "    <tr>\n",
       "      <th>3</th>\n",
       "      <td>Spain</td>\n",
       "      <td>Half Start</td>\n",
       "      <td>0</td>\n",
       "      <td>NaN</td>\n",
       "      <td>NaN</td>\n",
       "      <td>NaN</td>\n",
       "      <td>NaN</td>\n",
       "    </tr>\n",
       "    <tr>\n",
       "      <th>4</th>\n",
       "      <td>England</td>\n",
       "      <td>Half Start</td>\n",
       "      <td>45</td>\n",
       "      <td>NaN</td>\n",
       "      <td>NaN</td>\n",
       "      <td>NaN</td>\n",
       "      <td>NaN</td>\n",
       "    </tr>\n",
       "    <tr>\n",
       "      <th>...</th>\n",
       "      <td>...</td>\n",
       "      <td>...</td>\n",
       "      <td>...</td>\n",
       "      <td>...</td>\n",
       "      <td>...</td>\n",
       "      <td>...</td>\n",
       "      <td>...</td>\n",
       "    </tr>\n",
       "    <tr>\n",
       "      <th>3307</th>\n",
       "      <td>England</td>\n",
       "      <td>Shield</td>\n",
       "      <td>67</td>\n",
       "      <td>[2.5, 9.9]</td>\n",
       "      <td>NaN</td>\n",
       "      <td>NaN</td>\n",
       "      <td>Jude Bellingham</td>\n",
       "    </tr>\n",
       "    <tr>\n",
       "      <th>3308</th>\n",
       "      <td>England</td>\n",
       "      <td>Tactical Shift</td>\n",
       "      <td>69</td>\n",
       "      <td>NaN</td>\n",
       "      <td>NaN</td>\n",
       "      <td>NaN</td>\n",
       "      <td>NaN</td>\n",
       "    </tr>\n",
       "    <tr>\n",
       "      <th>3309</th>\n",
       "      <td>England</td>\n",
       "      <td>Tactical Shift</td>\n",
       "      <td>89</td>\n",
       "      <td>NaN</td>\n",
       "      <td>NaN</td>\n",
       "      <td>NaN</td>\n",
       "      <td>NaN</td>\n",
       "    </tr>\n",
       "    <tr>\n",
       "      <th>3310</th>\n",
       "      <td>Spain</td>\n",
       "      <td>Tactical Shift</td>\n",
       "      <td>89</td>\n",
       "      <td>NaN</td>\n",
       "      <td>NaN</td>\n",
       "      <td>NaN</td>\n",
       "      <td>NaN</td>\n",
       "    </tr>\n",
       "    <tr>\n",
       "      <th>3311</th>\n",
       "      <td>Spain</td>\n",
       "      <td>Error</td>\n",
       "      <td>69</td>\n",
       "      <td>[34.7, 48.7]</td>\n",
       "      <td>NaN</td>\n",
       "      <td>NaN</td>\n",
       "      <td>Daniel Carvajal Ramos</td>\n",
       "    </tr>\n",
       "  </tbody>\n",
       "</table>\n",
       "<p>3312 rows × 7 columns</p>\n",
       "</div>"
      ],
      "text/plain": [
       "         team            type  minute      location shot_end_location  \\\n",
       "0       Spain     Starting XI       0           NaN               NaN   \n",
       "1     England     Starting XI       0           NaN               NaN   \n",
       "2     England      Half Start       0           NaN               NaN   \n",
       "3       Spain      Half Start       0           NaN               NaN   \n",
       "4     England      Half Start      45           NaN               NaN   \n",
       "...       ...             ...     ...           ...               ...   \n",
       "3307  England          Shield      67    [2.5, 9.9]               NaN   \n",
       "3308  England  Tactical Shift      69           NaN               NaN   \n",
       "3309  England  Tactical Shift      89           NaN               NaN   \n",
       "3310    Spain  Tactical Shift      89           NaN               NaN   \n",
       "3311    Spain           Error      69  [34.7, 48.7]               NaN   \n",
       "\n",
       "     shot_outcome                 player  \n",
       "0             NaN                    NaN  \n",
       "1             NaN                    NaN  \n",
       "2             NaN                    NaN  \n",
       "3             NaN                    NaN  \n",
       "4             NaN                    NaN  \n",
       "...           ...                    ...  \n",
       "3307          NaN        Jude Bellingham  \n",
       "3308          NaN                    NaN  \n",
       "3309          NaN                    NaN  \n",
       "3310          NaN                    NaN  \n",
       "3311          NaN  Daniel Carvajal Ramos  \n",
       "\n",
       "[3312 rows x 7 columns]"
      ]
     },
     "execution_count": 69,
     "metadata": {},
     "output_type": "execute_result"
    }
   ],
   "source": [
    "# keep only the necessary columns\n",
    "shots = match[['team', 'type', 'minute', 'location', 'shot_end_location', 'shot_outcome', 'player']]\n",
    "shots"
   ]
  },
  {
   "cell_type": "code",
   "execution_count": 57,
   "id": "44ae3e5f-facc-480f-a306-48a7b42d0ab1",
   "metadata": {},
   "outputs": [
    {
     "data": {
      "text/plain": [
       "array([nan, 'Kobbie Mainoo', 'Jordan Pickford', 'Unai Simón Mendibil',\n",
       "       'Robin Aime Robert Le Normand', 'Daniel Carvajal Ramos',\n",
       "       'Álvaro Borja Morata Martín', 'Daniel Olmo Carvajal',\n",
       "       'Jude Bellingham', 'Rodrigo Hernández Cascante', 'Aymeric Laporte',\n",
       "       'Luke Shaw', 'Declan Rice', 'Marc Guehi', 'Phil Foden',\n",
       "       'Kyle Walker', 'Lamine Yamal Nasraoui Ebana',\n",
       "       'Marc Cucurella Saseta', 'Nicholas Williams Arthuer', 'Harry Kane',\n",
       "       'Bukayo Saka', 'Fabián Ruiz Peña', 'John Stones',\n",
       "       'Martín Zubimendi Ibáñez', 'Cole Palmer', 'Mikel Oyarzabal Ugarte',\n",
       "       'José Ignacio Fernández Iglesias', 'Ollie Watkins', 'Ivan Toney',\n",
       "       'Mikel Merino Zazón'], dtype=object)"
      ]
     },
     "execution_count": 57,
     "metadata": {},
     "output_type": "execute_result"
    }
   ],
   "source": [
    "shots.player.unique()"
   ]
  },
  {
   "cell_type": "code",
   "execution_count": 70,
   "id": "186c18e5-3b2a-4ff4-891a-54fc4371dc99",
   "metadata": {},
   "outputs": [
    {
     "data": {
      "text/html": [
       "<div>\n",
       "<style scoped>\n",
       "    .dataframe tbody tr th:only-of-type {\n",
       "        vertical-align: middle;\n",
       "    }\n",
       "\n",
       "    .dataframe tbody tr th {\n",
       "        vertical-align: top;\n",
       "    }\n",
       "\n",
       "    .dataframe thead th {\n",
       "        text-align: right;\n",
       "    }\n",
       "</style>\n",
       "<table border=\"1\" class=\"dataframe\">\n",
       "  <thead>\n",
       "    <tr style=\"text-align: right;\">\n",
       "      <th></th>\n",
       "      <th>team</th>\n",
       "      <th>type</th>\n",
       "      <th>minute</th>\n",
       "      <th>location</th>\n",
       "      <th>shot_end_location</th>\n",
       "      <th>shot_outcome</th>\n",
       "      <th>player</th>\n",
       "    </tr>\n",
       "  </thead>\n",
       "  <tbody>\n",
       "    <tr>\n",
       "      <th>3228</th>\n",
       "      <td>Spain</td>\n",
       "      <td>Shot</td>\n",
       "      <td>11</td>\n",
       "      <td>[115.6, 28.4]</td>\n",
       "      <td>[116.0, 29.3]</td>\n",
       "      <td>Blocked</td>\n",
       "      <td>Nicholas Williams Arthuer</td>\n",
       "    </tr>\n",
       "    <tr>\n",
       "      <th>3229</th>\n",
       "      <td>Spain</td>\n",
       "      <td>Shot</td>\n",
       "      <td>12</td>\n",
       "      <td>[112.9, 36.2]</td>\n",
       "      <td>[120.0, 29.8, 0.5]</td>\n",
       "      <td>Off T</td>\n",
       "      <td>Robin Aime Robert Le Normand</td>\n",
       "    </tr>\n",
       "    <tr>\n",
       "      <th>3230</th>\n",
       "      <td>England</td>\n",
       "      <td>Shot</td>\n",
       "      <td>16</td>\n",
       "      <td>[96.2, 40.8]</td>\n",
       "      <td>[98.5, 40.8]</td>\n",
       "      <td>Blocked</td>\n",
       "      <td>Declan Rice</td>\n",
       "    </tr>\n",
       "    <tr>\n",
       "      <th>3231</th>\n",
       "      <td>Spain</td>\n",
       "      <td>Shot</td>\n",
       "      <td>27</td>\n",
       "      <td>[101.2, 49.8]</td>\n",
       "      <td>[117.9, 42.7, 1.5]</td>\n",
       "      <td>Saved</td>\n",
       "      <td>Fabián Ruiz Peña</td>\n",
       "    </tr>\n",
       "    <tr>\n",
       "      <th>3232</th>\n",
       "      <td>Spain</td>\n",
       "      <td>Shot</td>\n",
       "      <td>34</td>\n",
       "      <td>[95.0, 31.2]</td>\n",
       "      <td>[110.3, 34.7]</td>\n",
       "      <td>Blocked</td>\n",
       "      <td>Daniel Olmo Carvajal</td>\n",
       "    </tr>\n",
       "    <tr>\n",
       "      <th>3233</th>\n",
       "      <td>Spain</td>\n",
       "      <td>Shot</td>\n",
       "      <td>42</td>\n",
       "      <td>[113.9, 30.2]</td>\n",
       "      <td>[114.3, 30.9]</td>\n",
       "      <td>Blocked</td>\n",
       "      <td>Álvaro Borja Morata Martín</td>\n",
       "    </tr>\n",
       "    <tr>\n",
       "      <th>3234</th>\n",
       "      <td>England</td>\n",
       "      <td>Shot</td>\n",
       "      <td>44</td>\n",
       "      <td>[102.6, 36.7]</td>\n",
       "      <td>[104.4, 36.9]</td>\n",
       "      <td>Blocked</td>\n",
       "      <td>Harry Kane</td>\n",
       "    </tr>\n",
       "    <tr>\n",
       "      <th>3235</th>\n",
       "      <td>England</td>\n",
       "      <td>Shot</td>\n",
       "      <td>45</td>\n",
       "      <td>[114.4, 29.9]</td>\n",
       "      <td>[118.9, 36.8, 0.5]</td>\n",
       "      <td>Saved</td>\n",
       "      <td>Phil Foden</td>\n",
       "    </tr>\n",
       "    <tr>\n",
       "      <th>3236</th>\n",
       "      <td>Spain</td>\n",
       "      <td>Shot</td>\n",
       "      <td>46</td>\n",
       "      <td>[109.9, 28.0]</td>\n",
       "      <td>[120.0, 42.4, 0.2]</td>\n",
       "      <td>Goal</td>\n",
       "      <td>Nicholas Williams Arthuer</td>\n",
       "    </tr>\n",
       "    <tr>\n",
       "      <th>3237</th>\n",
       "      <td>Spain</td>\n",
       "      <td>Shot</td>\n",
       "      <td>48</td>\n",
       "      <td>[108.8, 32.1]</td>\n",
       "      <td>[120.0, 49.3, 0.1]</td>\n",
       "      <td>Off T</td>\n",
       "      <td>Daniel Olmo Carvajal</td>\n",
       "    </tr>\n",
       "    <tr>\n",
       "      <th>3238</th>\n",
       "      <td>Spain</td>\n",
       "      <td>Shot</td>\n",
       "      <td>54</td>\n",
       "      <td>[95.8, 46.1]</td>\n",
       "      <td>[97.1, 45.8]</td>\n",
       "      <td>Blocked</td>\n",
       "      <td>Álvaro Borja Morata Martín</td>\n",
       "    </tr>\n",
       "    <tr>\n",
       "      <th>3239</th>\n",
       "      <td>Spain</td>\n",
       "      <td>Shot</td>\n",
       "      <td>54</td>\n",
       "      <td>[110.9, 51.0]</td>\n",
       "      <td>[115.5, 40.2]</td>\n",
       "      <td>Wayward</td>\n",
       "      <td>Álvaro Borja Morata Martín</td>\n",
       "    </tr>\n",
       "    <tr>\n",
       "      <th>3240</th>\n",
       "      <td>Spain</td>\n",
       "      <td>Shot</td>\n",
       "      <td>55</td>\n",
       "      <td>[97.2, 43.4]</td>\n",
       "      <td>[120.0, 34.2, 0.2]</td>\n",
       "      <td>Off T</td>\n",
       "      <td>Nicholas Williams Arthuer</td>\n",
       "    </tr>\n",
       "    <tr>\n",
       "      <th>3241</th>\n",
       "      <td>England</td>\n",
       "      <td>Shot</td>\n",
       "      <td>63</td>\n",
       "      <td>[99.0, 37.2]</td>\n",
       "      <td>[120.0, 35.0, 0.2]</td>\n",
       "      <td>Off T</td>\n",
       "      <td>Jude Bellingham</td>\n",
       "    </tr>\n",
       "    <tr>\n",
       "      <th>3242</th>\n",
       "      <td>Spain</td>\n",
       "      <td>Shot</td>\n",
       "      <td>65</td>\n",
       "      <td>[103.5, 49.7]</td>\n",
       "      <td>[113.3, 43.1, 0.1]</td>\n",
       "      <td>Saved</td>\n",
       "      <td>Lamine Yamal Nasraoui Ebana</td>\n",
       "    </tr>\n",
       "    <tr>\n",
       "      <th>3243</th>\n",
       "      <td>Spain</td>\n",
       "      <td>Shot</td>\n",
       "      <td>66</td>\n",
       "      <td>[111.9, 43.8]</td>\n",
       "      <td>[112.4, 43.4]</td>\n",
       "      <td>Blocked</td>\n",
       "      <td>Aymeric Laporte</td>\n",
       "    </tr>\n",
       "    <tr>\n",
       "      <th>3244</th>\n",
       "      <td>Spain</td>\n",
       "      <td>Shot</td>\n",
       "      <td>69</td>\n",
       "      <td>[93.3, 35.9]</td>\n",
       "      <td>[120.0, 42.8, 5.0]</td>\n",
       "      <td>Off T</td>\n",
       "      <td>Fabián Ruiz Peña</td>\n",
       "    </tr>\n",
       "    <tr>\n",
       "      <th>3245</th>\n",
       "      <td>England</td>\n",
       "      <td>Shot</td>\n",
       "      <td>69</td>\n",
       "      <td>[91.0, 40.1]</td>\n",
       "      <td>[92.2, 40.0]</td>\n",
       "      <td>Blocked</td>\n",
       "      <td>Ollie Watkins</td>\n",
       "    </tr>\n",
       "    <tr>\n",
       "      <th>3246</th>\n",
       "      <td>Spain</td>\n",
       "      <td>Shot</td>\n",
       "      <td>71</td>\n",
       "      <td>[112.0, 24.9]</td>\n",
       "      <td>[118.3, 36.7, 0.2]</td>\n",
       "      <td>Saved</td>\n",
       "      <td>Mikel Oyarzabal Ugarte</td>\n",
       "    </tr>\n",
       "    <tr>\n",
       "      <th>3247</th>\n",
       "      <td>England</td>\n",
       "      <td>Shot</td>\n",
       "      <td>72</td>\n",
       "      <td>[98.4, 49.0]</td>\n",
       "      <td>[120.0, 37.1, 0.2]</td>\n",
       "      <td>Goal</td>\n",
       "      <td>Cole Palmer</td>\n",
       "    </tr>\n",
       "    <tr>\n",
       "      <th>3248</th>\n",
       "      <td>Spain</td>\n",
       "      <td>Shot</td>\n",
       "      <td>81</td>\n",
       "      <td>[107.2, 50.2]</td>\n",
       "      <td>[116.9, 42.3, 0.8]</td>\n",
       "      <td>Saved</td>\n",
       "      <td>Lamine Yamal Nasraoui Ebana</td>\n",
       "    </tr>\n",
       "    <tr>\n",
       "      <th>3249</th>\n",
       "      <td>Spain</td>\n",
       "      <td>Shot</td>\n",
       "      <td>85</td>\n",
       "      <td>[111.2, 36.3]</td>\n",
       "      <td>[120.0, 38.4, 0.2]</td>\n",
       "      <td>Goal</td>\n",
       "      <td>Mikel Oyarzabal Ugarte</td>\n",
       "    </tr>\n",
       "    <tr>\n",
       "      <th>3250</th>\n",
       "      <td>England</td>\n",
       "      <td>Shot</td>\n",
       "      <td>89</td>\n",
       "      <td>[109.5, 44.1]</td>\n",
       "      <td>[118.6, 40.4, 1.8]</td>\n",
       "      <td>Saved</td>\n",
       "      <td>Declan Rice</td>\n",
       "    </tr>\n",
       "    <tr>\n",
       "      <th>3251</th>\n",
       "      <td>England</td>\n",
       "      <td>Shot</td>\n",
       "      <td>89</td>\n",
       "      <td>[114.8, 35.5]</td>\n",
       "      <td>[119.5, 38.0]</td>\n",
       "      <td>Blocked</td>\n",
       "      <td>Marc Guehi</td>\n",
       "    </tr>\n",
       "    <tr>\n",
       "      <th>3252</th>\n",
       "      <td>England</td>\n",
       "      <td>Shot</td>\n",
       "      <td>89</td>\n",
       "      <td>[113.1, 41.4]</td>\n",
       "      <td>[120.0, 36.4, 3.8]</td>\n",
       "      <td>Off T</td>\n",
       "      <td>Declan Rice</td>\n",
       "    </tr>\n",
       "  </tbody>\n",
       "</table>\n",
       "</div>"
      ],
      "text/plain": [
       "         team  type  minute       location   shot_end_location shot_outcome  \\\n",
       "3228    Spain  Shot      11  [115.6, 28.4]       [116.0, 29.3]      Blocked   \n",
       "3229    Spain  Shot      12  [112.9, 36.2]  [120.0, 29.8, 0.5]        Off T   \n",
       "3230  England  Shot      16   [96.2, 40.8]        [98.5, 40.8]      Blocked   \n",
       "3231    Spain  Shot      27  [101.2, 49.8]  [117.9, 42.7, 1.5]        Saved   \n",
       "3232    Spain  Shot      34   [95.0, 31.2]       [110.3, 34.7]      Blocked   \n",
       "3233    Spain  Shot      42  [113.9, 30.2]       [114.3, 30.9]      Blocked   \n",
       "3234  England  Shot      44  [102.6, 36.7]       [104.4, 36.9]      Blocked   \n",
       "3235  England  Shot      45  [114.4, 29.9]  [118.9, 36.8, 0.5]        Saved   \n",
       "3236    Spain  Shot      46  [109.9, 28.0]  [120.0, 42.4, 0.2]         Goal   \n",
       "3237    Spain  Shot      48  [108.8, 32.1]  [120.0, 49.3, 0.1]        Off T   \n",
       "3238    Spain  Shot      54   [95.8, 46.1]        [97.1, 45.8]      Blocked   \n",
       "3239    Spain  Shot      54  [110.9, 51.0]       [115.5, 40.2]      Wayward   \n",
       "3240    Spain  Shot      55   [97.2, 43.4]  [120.0, 34.2, 0.2]        Off T   \n",
       "3241  England  Shot      63   [99.0, 37.2]  [120.0, 35.0, 0.2]        Off T   \n",
       "3242    Spain  Shot      65  [103.5, 49.7]  [113.3, 43.1, 0.1]        Saved   \n",
       "3243    Spain  Shot      66  [111.9, 43.8]       [112.4, 43.4]      Blocked   \n",
       "3244    Spain  Shot      69   [93.3, 35.9]  [120.0, 42.8, 5.0]        Off T   \n",
       "3245  England  Shot      69   [91.0, 40.1]        [92.2, 40.0]      Blocked   \n",
       "3246    Spain  Shot      71  [112.0, 24.9]  [118.3, 36.7, 0.2]        Saved   \n",
       "3247  England  Shot      72   [98.4, 49.0]  [120.0, 37.1, 0.2]         Goal   \n",
       "3248    Spain  Shot      81  [107.2, 50.2]  [116.9, 42.3, 0.8]        Saved   \n",
       "3249    Spain  Shot      85  [111.2, 36.3]  [120.0, 38.4, 0.2]         Goal   \n",
       "3250  England  Shot      89  [109.5, 44.1]  [118.6, 40.4, 1.8]        Saved   \n",
       "3251  England  Shot      89  [114.8, 35.5]       [119.5, 38.0]      Blocked   \n",
       "3252  England  Shot      89  [113.1, 41.4]  [120.0, 36.4, 3.8]        Off T   \n",
       "\n",
       "                            player  \n",
       "3228     Nicholas Williams Arthuer  \n",
       "3229  Robin Aime Robert Le Normand  \n",
       "3230                   Declan Rice  \n",
       "3231              Fabián Ruiz Peña  \n",
       "3232          Daniel Olmo Carvajal  \n",
       "3233    Álvaro Borja Morata Martín  \n",
       "3234                    Harry Kane  \n",
       "3235                    Phil Foden  \n",
       "3236     Nicholas Williams Arthuer  \n",
       "3237          Daniel Olmo Carvajal  \n",
       "3238    Álvaro Borja Morata Martín  \n",
       "3239    Álvaro Borja Morata Martín  \n",
       "3240     Nicholas Williams Arthuer  \n",
       "3241               Jude Bellingham  \n",
       "3242   Lamine Yamal Nasraoui Ebana  \n",
       "3243               Aymeric Laporte  \n",
       "3244              Fabián Ruiz Peña  \n",
       "3245                 Ollie Watkins  \n",
       "3246        Mikel Oyarzabal Ugarte  \n",
       "3247                   Cole Palmer  \n",
       "3248   Lamine Yamal Nasraoui Ebana  \n",
       "3249        Mikel Oyarzabal Ugarte  \n",
       "3250                   Declan Rice  \n",
       "3251                    Marc Guehi  \n",
       "3252                   Declan Rice  "
      ]
     },
     "execution_count": 70,
     "metadata": {},
     "output_type": "execute_result"
    }
   ],
   "source": [
    "# filter and keep only the shots\n",
    "shots = shots[shots['type'].isin(['Shot'])]\n",
    "shots"
   ]
  },
  {
   "cell_type": "code",
   "execution_count": 71,
   "id": "79752884-2671-414e-bf4c-ef1c4088eaef",
   "metadata": {},
   "outputs": [],
   "source": [
    "# dataframes per team\n",
    "shots_home = shots[shots['team'] == str(match_details['home_team'].iloc[0])].reset_index()\n",
    "shots_away = shots[shots['team'] == str(match_details['away_team'].iloc[0])].reset_index()"
   ]
  },
  {
   "cell_type": "code",
   "execution_count": 60,
   "id": "a57a3ff6-8914-4915-9c9b-b2319eb3782e",
   "metadata": {},
   "outputs": [
    {
     "data": {
      "text/plain": [
       "array(['Blocked', 'Off T', 'Saved', 'Goal', 'Wayward'], dtype=object)"
      ]
     },
     "execution_count": 60,
     "metadata": {},
     "output_type": "execute_result"
    }
   ],
   "source": [
    "shots_home.shot_outcome.unique()"
   ]
  },
  {
   "cell_type": "code",
   "execution_count": 72,
   "id": "f66cb09c-7699-4fb2-9e22-6342cae25bd7",
   "metadata": {},
   "outputs": [
    {
     "data": {
      "text/html": [
       "<div>\n",
       "<style scoped>\n",
       "    .dataframe tbody tr th:only-of-type {\n",
       "        vertical-align: middle;\n",
       "    }\n",
       "\n",
       "    .dataframe tbody tr th {\n",
       "        vertical-align: top;\n",
       "    }\n",
       "\n",
       "    .dataframe thead th {\n",
       "        text-align: right;\n",
       "    }\n",
       "</style>\n",
       "<table border=\"1\" class=\"dataframe\">\n",
       "  <thead>\n",
       "    <tr style=\"text-align: right;\">\n",
       "      <th></th>\n",
       "      <th>x</th>\n",
       "      <th>y</th>\n",
       "    </tr>\n",
       "  </thead>\n",
       "  <tbody>\n",
       "    <tr>\n",
       "      <th>0</th>\n",
       "      <td>115.6</td>\n",
       "      <td>28.4</td>\n",
       "    </tr>\n",
       "    <tr>\n",
       "      <th>1</th>\n",
       "      <td>112.9</td>\n",
       "      <td>36.2</td>\n",
       "    </tr>\n",
       "    <tr>\n",
       "      <th>2</th>\n",
       "      <td>101.2</td>\n",
       "      <td>49.8</td>\n",
       "    </tr>\n",
       "    <tr>\n",
       "      <th>3</th>\n",
       "      <td>95.0</td>\n",
       "      <td>31.2</td>\n",
       "    </tr>\n",
       "    <tr>\n",
       "      <th>4</th>\n",
       "      <td>113.9</td>\n",
       "      <td>30.2</td>\n",
       "    </tr>\n",
       "    <tr>\n",
       "      <th>5</th>\n",
       "      <td>109.9</td>\n",
       "      <td>28.0</td>\n",
       "    </tr>\n",
       "    <tr>\n",
       "      <th>6</th>\n",
       "      <td>108.8</td>\n",
       "      <td>32.1</td>\n",
       "    </tr>\n",
       "    <tr>\n",
       "      <th>7</th>\n",
       "      <td>95.8</td>\n",
       "      <td>46.1</td>\n",
       "    </tr>\n",
       "    <tr>\n",
       "      <th>8</th>\n",
       "      <td>110.9</td>\n",
       "      <td>51.0</td>\n",
       "    </tr>\n",
       "    <tr>\n",
       "      <th>9</th>\n",
       "      <td>97.2</td>\n",
       "      <td>43.4</td>\n",
       "    </tr>\n",
       "    <tr>\n",
       "      <th>10</th>\n",
       "      <td>103.5</td>\n",
       "      <td>49.7</td>\n",
       "    </tr>\n",
       "    <tr>\n",
       "      <th>11</th>\n",
       "      <td>111.9</td>\n",
       "      <td>43.8</td>\n",
       "    </tr>\n",
       "    <tr>\n",
       "      <th>12</th>\n",
       "      <td>93.3</td>\n",
       "      <td>35.9</td>\n",
       "    </tr>\n",
       "    <tr>\n",
       "      <th>13</th>\n",
       "      <td>112.0</td>\n",
       "      <td>24.9</td>\n",
       "    </tr>\n",
       "    <tr>\n",
       "      <th>14</th>\n",
       "      <td>107.2</td>\n",
       "      <td>50.2</td>\n",
       "    </tr>\n",
       "    <tr>\n",
       "      <th>15</th>\n",
       "      <td>111.2</td>\n",
       "      <td>36.3</td>\n",
       "    </tr>\n",
       "  </tbody>\n",
       "</table>\n",
       "</div>"
      ],
      "text/plain": [
       "        x     y\n",
       "0   115.6  28.4\n",
       "1   112.9  36.2\n",
       "2   101.2  49.8\n",
       "3    95.0  31.2\n",
       "4   113.9  30.2\n",
       "5   109.9  28.0\n",
       "6   108.8  32.1\n",
       "7    95.8  46.1\n",
       "8   110.9  51.0\n",
       "9    97.2  43.4\n",
       "10  103.5  49.7\n",
       "11  111.9  43.8\n",
       "12   93.3  35.9\n",
       "13  112.0  24.9\n",
       "14  107.2  50.2\n",
       "15  111.2  36.3"
      ]
     },
     "execution_count": 72,
     "metadata": {},
     "output_type": "execute_result"
    }
   ],
   "source": [
    "# find home team's shot location\n",
    "shots_Loc_home = shots_home['location']\n",
    "shots_Loc_home = pd.DataFrame(shots_Loc_home.to_list(), columns=['x', 'y'])\n",
    "shots_Loc_home"
   ]
  },
  {
   "cell_type": "code",
   "execution_count": 73,
   "id": "fa1ebfb4-7f2b-4c19-892a-1723f4dc6ff1",
   "metadata": {},
   "outputs": [
    {
     "data": {
      "text/html": [
       "<div>\n",
       "<style scoped>\n",
       "    .dataframe tbody tr th:only-of-type {\n",
       "        vertical-align: middle;\n",
       "    }\n",
       "\n",
       "    .dataframe tbody tr th {\n",
       "        vertical-align: top;\n",
       "    }\n",
       "\n",
       "    .dataframe thead th {\n",
       "        text-align: right;\n",
       "    }\n",
       "</style>\n",
       "<table border=\"1\" class=\"dataframe\">\n",
       "  <thead>\n",
       "    <tr style=\"text-align: right;\">\n",
       "      <th></th>\n",
       "      <th>x</th>\n",
       "      <th>y</th>\n",
       "    </tr>\n",
       "  </thead>\n",
       "  <tbody>\n",
       "    <tr>\n",
       "      <th>0</th>\n",
       "      <td>96.2</td>\n",
       "      <td>40.8</td>\n",
       "    </tr>\n",
       "    <tr>\n",
       "      <th>1</th>\n",
       "      <td>102.6</td>\n",
       "      <td>36.7</td>\n",
       "    </tr>\n",
       "    <tr>\n",
       "      <th>2</th>\n",
       "      <td>114.4</td>\n",
       "      <td>29.9</td>\n",
       "    </tr>\n",
       "    <tr>\n",
       "      <th>3</th>\n",
       "      <td>99.0</td>\n",
       "      <td>37.2</td>\n",
       "    </tr>\n",
       "    <tr>\n",
       "      <th>4</th>\n",
       "      <td>91.0</td>\n",
       "      <td>40.1</td>\n",
       "    </tr>\n",
       "    <tr>\n",
       "      <th>5</th>\n",
       "      <td>98.4</td>\n",
       "      <td>49.0</td>\n",
       "    </tr>\n",
       "    <tr>\n",
       "      <th>6</th>\n",
       "      <td>109.5</td>\n",
       "      <td>44.1</td>\n",
       "    </tr>\n",
       "    <tr>\n",
       "      <th>7</th>\n",
       "      <td>114.8</td>\n",
       "      <td>35.5</td>\n",
       "    </tr>\n",
       "    <tr>\n",
       "      <th>8</th>\n",
       "      <td>113.1</td>\n",
       "      <td>41.4</td>\n",
       "    </tr>\n",
       "  </tbody>\n",
       "</table>\n",
       "</div>"
      ],
      "text/plain": [
       "       x     y\n",
       "0   96.2  40.8\n",
       "1  102.6  36.7\n",
       "2  114.4  29.9\n",
       "3   99.0  37.2\n",
       "4   91.0  40.1\n",
       "5   98.4  49.0\n",
       "6  109.5  44.1\n",
       "7  114.8  35.5\n",
       "8  113.1  41.4"
      ]
     },
     "execution_count": 73,
     "metadata": {},
     "output_type": "execute_result"
    }
   ],
   "source": [
    "# find away team's shot location\n",
    "shots_Loc_away = shots_away['location']\n",
    "shots_Loc_away = pd.DataFrame(shots_Loc_away.to_list(), columns=['x', 'y'])\n",
    "shots_Loc_away"
   ]
  },
  {
   "cell_type": "code",
   "execution_count": 74,
   "id": "78f8c45d-f31b-4adf-8764-26b3e58a78d6",
   "metadata": {},
   "outputs": [
    {
     "data": {
      "text/plain": [
       "array(['Blocked', 'Off T', 'Saved', 'Goal', 'Wayward'], dtype=object)"
      ]
     },
     "execution_count": 74,
     "metadata": {},
     "output_type": "execute_result"
    }
   ],
   "source": [
    "# unique outcome\n",
    "shots_home.shot_outcome.unique()"
   ]
  },
  {
   "cell_type": "markdown",
   "id": "6d9826fe-87a9-48dd-9d2f-f56cfdf5609c",
   "metadata": {},
   "source": [
    "## Shots Outcome Visualization"
   ]
  },
  {
   "cell_type": "code",
   "execution_count": 75,
   "id": "5fa1eef8-1045-4dfb-a46f-f09641281c0a",
   "metadata": {},
   "outputs": [
    {
     "data": {
      "image/png": "[encoded data removed]",
      "text/plain": [
       "<Figure size 1350x800 with 1 Axes>"
      ]
     },
     "metadata": {},
     "output_type": "display_data"
    }
   ],
   "source": [
    "# Create the figure and axes with the desired figsize\n",
    "fig, ax = plt.subplots(figsize=(13.5, 8), constrained_layout=True)\n",
    "\n",
    "# Set up the pitch (without orientation) with a background color that matches the pitch\n",
    "pitch_color = '#2a2a2a'  # Same color as the pitch\n",
    "line_color = '#c7d5cc'   # Pitch lines color\n",
    "pitch = VerticalPitch(\n",
    "    pitch_type='statsbomb', \n",
    "    half=True, \n",
    "    pitch_color='#2a2a2a', \n",
    "    pad_bottom=.5, \n",
    "    line_color='white',\n",
    "    linewidth=.75,\n",
    "    axis=True, label=True\n",
    ")\n",
    "\n",
    "# Draw the pitch on the axes\n",
    "pitch.draw(ax=ax)\n",
    "\n",
    "\n",
    "\n",
    "# Plot shots with different outcomes (Goal, Blocked, Saved, Other)\n",
    "for i in range(len(shots_home)):\n",
    "    if shots_home.shot_outcome[i] == 'Goal':\n",
    "        pitch.arrows(shots_home.location[i][0], shots_home.location[i][1], shots_home.shot_end_location[i][0], shots_home.shot_end_location[i][1], ax=ax, color='green', width=3)\n",
    "        pitch.scatter(shots_home.location[i][0], shots_home.location[i][1], ax=ax, color='green', alpha=1)\n",
    "    elif shots_home.shot_outcome[i] in ['Blocked', 'Saved']:\n",
    "        pitch.arrows(shots_home.location[i][0], shots_home.location[i][1], shots_home.shot_end_location[i][0], shots_home.shot_end_location[i][1], ax=ax, color='red', width=3)\n",
    "        pitch.scatter(shots_home.location[i][0], shots_home.location[i][1], ax=ax, color='red', alpha=1)\n",
    "    else:\n",
    "        pitch.arrows(shots_home.location[i][0], shots_home.location[i][1], shots_home.shot_end_location[i][0], shots_home.shot_end_location[i][1], ax=ax, color='orange', width=3)\n",
    "        pitch.scatter(shots_home.location[i][0], shots_home.location[i][1], ax=ax, color='orange', alpha=1)\n",
    "\n",
    "\n",
    "#title\n",
    "ax.set_title(f\"{str(match_details['home_team'].iloc[0])} Shots : {str(len(shots_home))}\", \n",
    "             size=20, color='white')\n",
    "# Remove tick numbers around the pitch\n",
    "ax.set_xticks([])\n",
    "ax.set_yticks([])\n",
    "\n",
    "fig.patch.set_facecolor(pitch_color)\n",
    "\n",
    "\n",
    "# Add legend as before\n",
    "goal_patch = mpatches.Patch(color='green', label='Goal')\n",
    "blocked_patch = mpatches.Patch(color='red', label='Blocked/Saved')\n",
    "other_patch = mpatches.Patch(color='orange', label='Out')\n",
    "ax.legend(handles=[goal_patch, blocked_patch, other_patch], loc='upper right', fontsize=12, facecolor='white', edgecolor='black')\n",
    "\n",
    "# Show the plot\n",
    "plt.show()\n"
   ]
  },
  {
   "cell_type": "code",
   "execution_count": 76,
   "id": "e367d474-9e81-4010-b41c-4e406dd7f0ad",
   "metadata": {},
   "outputs": [
    {
     "data": {
      "image/png": "[encoded data removed]",
      "text/plain": [
       "<Figure size 1350x800 with 1 Axes>"
      ]
     },
     "metadata": {},
     "output_type": "display_data"
    }
   ],
   "source": [
    "# Create the figure and axes with the desired figsize\n",
    "fig, ax = plt.subplots(figsize=(13.5, 8), constrained_layout=True)\n",
    "\n",
    "# Set up the pitch (without orientation) with a background color that matches the pitch\n",
    "pitch_color = '#2a2a2a'  # Same color as the pitch\n",
    "line_color = '#c7d5cc'   # Pitch lines color\n",
    "pitch = VerticalPitch(\n",
    "    pitch_type='statsbomb', \n",
    "    half=True, \n",
    "    pitch_color='#2a2a2a', \n",
    "    pad_bottom=.5, \n",
    "    line_color='white',\n",
    "    linewidth=.75,\n",
    "    axis=True, label=True\n",
    ")\n",
    "\n",
    "# Draw the pitch on the axes\n",
    "pitch.draw(ax=ax)\n",
    "\n",
    "\n",
    "\n",
    "# Plot shots with different outcomes (Goal, Blocked, Saved, Other)\n",
    "for i in range(len(shots_away)):\n",
    "    if shots_away.shot_outcome[i] == 'Goal':\n",
    "        pitch.arrows(shots_away.location[i][0], shots_away.location[i][1], shots_away.shot_end_location[i][0], shots_away.shot_end_location[i][1], ax=ax, color='green', width=3)\n",
    "        pitch.scatter(shots_away.location[i][0], shots_away.location[i][1], ax=ax, color='green', alpha=1)\n",
    "    elif shots_away.shot_outcome[i] in ['Blocked', 'Saved']:\n",
    "        pitch.arrows(shots_away.location[i][0], shots_away.location[i][1], shots_away.shot_end_location[i][0], shots_away.shot_end_location[i][1], ax=ax, color='red', width=3)\n",
    "        pitch.scatter(shots_away.location[i][0], shots_away.location[i][1], ax=ax, color='red', alpha=1)\n",
    "    else:\n",
    "        pitch.arrows(shots_away.location[i][0], shots_away.location[i][1], shots_away.shot_end_location[i][0], shots_away.shot_end_location[i][1], ax=ax, color='orange', width=3)\n",
    "        pitch.scatter(shots_away.location[i][0], shots_away.location[i][1], ax=ax, color='orange', alpha=1)\n",
    "\n",
    "\n",
    "#title\n",
    "ax.set_title(f\"{str(match_details['away_team'].iloc[0])} Shots : {str(len(shots_away))}\", \n",
    "             size=20, color='white')\n",
    "# Remove tick numbers around the pitch\n",
    "ax.set_xticks([])\n",
    "ax.set_yticks([])\n",
    "\n",
    "fig.patch.set_facecolor(pitch_color)\n",
    "\n",
    "\n",
    "# Add legend as before\n",
    "goal_patch = mpatches.Patch(color='green', label='Goal')\n",
    "blocked_patch = mpatches.Patch(color='red', label='Blocked/Saved')\n",
    "other_patch = mpatches.Patch(color='orange', label='Out')\n",
    "ax.legend(handles=[goal_patch, blocked_patch, other_patch], loc='upper right', fontsize=12, facecolor='white', edgecolor='black')\n",
    "\n",
    "# Show the plot\n",
    "plt.show()\n"
   ]
  },
  {
   "cell_type": "code",
   "execution_count": 77,
   "id": "4f1eedd9-3416-4e0e-b058-84bab902baff",
   "metadata": {},
   "outputs": [
    {
     "data": {
      "text/html": [
       "<div>\n",
       "<style scoped>\n",
       "    .dataframe tbody tr th:only-of-type {\n",
       "        vertical-align: middle;\n",
       "    }\n",
       "\n",
       "    .dataframe tbody tr th {\n",
       "        vertical-align: top;\n",
       "    }\n",
       "\n",
       "    .dataframe thead th {\n",
       "        text-align: right;\n",
       "    }\n",
       "</style>\n",
       "<table border=\"1\" class=\"dataframe\">\n",
       "  <thead>\n",
       "    <tr style=\"text-align: right;\">\n",
       "      <th></th>\n",
       "      <th>index</th>\n",
       "      <th>team</th>\n",
       "      <th>type</th>\n",
       "      <th>minute</th>\n",
       "      <th>location</th>\n",
       "      <th>shot_end_location</th>\n",
       "      <th>shot_outcome</th>\n",
       "      <th>player</th>\n",
       "    </tr>\n",
       "  </thead>\n",
       "  <tbody>\n",
       "    <tr>\n",
       "      <th>0</th>\n",
       "      <td>3228</td>\n",
       "      <td>Spain</td>\n",
       "      <td>Shot</td>\n",
       "      <td>11</td>\n",
       "      <td>[115.6, 28.4]</td>\n",
       "      <td>[116.0, 29.3]</td>\n",
       "      <td>Blocked</td>\n",
       "      <td>Nicholas Williams Arthuer</td>\n",
       "    </tr>\n",
       "    <tr>\n",
       "      <th>1</th>\n",
       "      <td>3229</td>\n",
       "      <td>Spain</td>\n",
       "      <td>Shot</td>\n",
       "      <td>12</td>\n",
       "      <td>[112.9, 36.2]</td>\n",
       "      <td>[120.0, 29.8, 0.5]</td>\n",
       "      <td>Off T</td>\n",
       "      <td>Robin Aime Robert Le Normand</td>\n",
       "    </tr>\n",
       "    <tr>\n",
       "      <th>2</th>\n",
       "      <td>3231</td>\n",
       "      <td>Spain</td>\n",
       "      <td>Shot</td>\n",
       "      <td>27</td>\n",
       "      <td>[101.2, 49.8]</td>\n",
       "      <td>[117.9, 42.7, 1.5]</td>\n",
       "      <td>Saved</td>\n",
       "      <td>Fabián Ruiz Peña</td>\n",
       "    </tr>\n",
       "    <tr>\n",
       "      <th>3</th>\n",
       "      <td>3232</td>\n",
       "      <td>Spain</td>\n",
       "      <td>Shot</td>\n",
       "      <td>34</td>\n",
       "      <td>[95.0, 31.2]</td>\n",
       "      <td>[110.3, 34.7]</td>\n",
       "      <td>Blocked</td>\n",
       "      <td>Daniel Olmo Carvajal</td>\n",
       "    </tr>\n",
       "    <tr>\n",
       "      <th>4</th>\n",
       "      <td>3233</td>\n",
       "      <td>Spain</td>\n",
       "      <td>Shot</td>\n",
       "      <td>42</td>\n",
       "      <td>[113.9, 30.2]</td>\n",
       "      <td>[114.3, 30.9]</td>\n",
       "      <td>Blocked</td>\n",
       "      <td>Álvaro Borja Morata Martín</td>\n",
       "    </tr>\n",
       "    <tr>\n",
       "      <th>5</th>\n",
       "      <td>3236</td>\n",
       "      <td>Spain</td>\n",
       "      <td>Shot</td>\n",
       "      <td>46</td>\n",
       "      <td>[109.9, 28.0]</td>\n",
       "      <td>[120.0, 42.4, 0.2]</td>\n",
       "      <td>Goal</td>\n",
       "      <td>Nicholas Williams Arthuer</td>\n",
       "    </tr>\n",
       "    <tr>\n",
       "      <th>6</th>\n",
       "      <td>3237</td>\n",
       "      <td>Spain</td>\n",
       "      <td>Shot</td>\n",
       "      <td>48</td>\n",
       "      <td>[108.8, 32.1]</td>\n",
       "      <td>[120.0, 49.3, 0.1]</td>\n",
       "      <td>Off T</td>\n",
       "      <td>Daniel Olmo Carvajal</td>\n",
       "    </tr>\n",
       "    <tr>\n",
       "      <th>7</th>\n",
       "      <td>3238</td>\n",
       "      <td>Spain</td>\n",
       "      <td>Shot</td>\n",
       "      <td>54</td>\n",
       "      <td>[95.8, 46.1]</td>\n",
       "      <td>[97.1, 45.8]</td>\n",
       "      <td>Blocked</td>\n",
       "      <td>Álvaro Borja Morata Martín</td>\n",
       "    </tr>\n",
       "    <tr>\n",
       "      <th>8</th>\n",
       "      <td>3239</td>\n",
       "      <td>Spain</td>\n",
       "      <td>Shot</td>\n",
       "      <td>54</td>\n",
       "      <td>[110.9, 51.0]</td>\n",
       "      <td>[115.5, 40.2]</td>\n",
       "      <td>Wayward</td>\n",
       "      <td>Álvaro Borja Morata Martín</td>\n",
       "    </tr>\n",
       "    <tr>\n",
       "      <th>9</th>\n",
       "      <td>3240</td>\n",
       "      <td>Spain</td>\n",
       "      <td>Shot</td>\n",
       "      <td>55</td>\n",
       "      <td>[97.2, 43.4]</td>\n",
       "      <td>[120.0, 34.2, 0.2]</td>\n",
       "      <td>Off T</td>\n",
       "      <td>Nicholas Williams Arthuer</td>\n",
       "    </tr>\n",
       "    <tr>\n",
       "      <th>10</th>\n",
       "      <td>3242</td>\n",
       "      <td>Spain</td>\n",
       "      <td>Shot</td>\n",
       "      <td>65</td>\n",
       "      <td>[103.5, 49.7]</td>\n",
       "      <td>[113.3, 43.1, 0.1]</td>\n",
       "      <td>Saved</td>\n",
       "      <td>Lamine Yamal Nasraoui Ebana</td>\n",
       "    </tr>\n",
       "    <tr>\n",
       "      <th>11</th>\n",
       "      <td>3243</td>\n",
       "      <td>Spain</td>\n",
       "      <td>Shot</td>\n",
       "      <td>66</td>\n",
       "      <td>[111.9, 43.8]</td>\n",
       "      <td>[112.4, 43.4]</td>\n",
       "      <td>Blocked</td>\n",
       "      <td>Aymeric Laporte</td>\n",
       "    </tr>\n",
       "    <tr>\n",
       "      <th>12</th>\n",
       "      <td>3244</td>\n",
       "      <td>Spain</td>\n",
       "      <td>Shot</td>\n",
       "      <td>69</td>\n",
       "      <td>[93.3, 35.9]</td>\n",
       "      <td>[120.0, 42.8, 5.0]</td>\n",
       "      <td>Off T</td>\n",
       "      <td>Fabián Ruiz Peña</td>\n",
       "    </tr>\n",
       "    <tr>\n",
       "      <th>13</th>\n",
       "      <td>3246</td>\n",
       "      <td>Spain</td>\n",
       "      <td>Shot</td>\n",
       "      <td>71</td>\n",
       "      <td>[112.0, 24.9]</td>\n",
       "      <td>[118.3, 36.7, 0.2]</td>\n",
       "      <td>Saved</td>\n",
       "      <td>Mikel Oyarzabal Ugarte</td>\n",
       "    </tr>\n",
       "    <tr>\n",
       "      <th>14</th>\n",
       "      <td>3248</td>\n",
       "      <td>Spain</td>\n",
       "      <td>Shot</td>\n",
       "      <td>81</td>\n",
       "      <td>[107.2, 50.2]</td>\n",
       "      <td>[116.9, 42.3, 0.8]</td>\n",
       "      <td>Saved</td>\n",
       "      <td>Lamine Yamal Nasraoui Ebana</td>\n",
       "    </tr>\n",
       "    <tr>\n",
       "      <th>15</th>\n",
       "      <td>3249</td>\n",
       "      <td>Spain</td>\n",
       "      <td>Shot</td>\n",
       "      <td>85</td>\n",
       "      <td>[111.2, 36.3]</td>\n",
       "      <td>[120.0, 38.4, 0.2]</td>\n",
       "      <td>Goal</td>\n",
       "      <td>Mikel Oyarzabal Ugarte</td>\n",
       "    </tr>\n",
       "  </tbody>\n",
       "</table>\n",
       "</div>"
      ],
      "text/plain": [
       "    index   team  type  minute       location   shot_end_location  \\\n",
       "0    3228  Spain  Shot      11  [115.6, 28.4]       [116.0, 29.3]   \n",
       "1    3229  Spain  Shot      12  [112.9, 36.2]  [120.0, 29.8, 0.5]   \n",
       "2    3231  Spain  Shot      27  [101.2, 49.8]  [117.9, 42.7, 1.5]   \n",
       "3    3232  Spain  Shot      34   [95.0, 31.2]       [110.3, 34.7]   \n",
       "4    3233  Spain  Shot      42  [113.9, 30.2]       [114.3, 30.9]   \n",
       "5    3236  Spain  Shot      46  [109.9, 28.0]  [120.0, 42.4, 0.2]   \n",
       "6    3237  Spain  Shot      48  [108.8, 32.1]  [120.0, 49.3, 0.1]   \n",
       "7    3238  Spain  Shot      54   [95.8, 46.1]        [97.1, 45.8]   \n",
       "8    3239  Spain  Shot      54  [110.9, 51.0]       [115.5, 40.2]   \n",
       "9    3240  Spain  Shot      55   [97.2, 43.4]  [120.0, 34.2, 0.2]   \n",
       "10   3242  Spain  Shot      65  [103.5, 49.7]  [113.3, 43.1, 0.1]   \n",
       "11   3243  Spain  Shot      66  [111.9, 43.8]       [112.4, 43.4]   \n",
       "12   3244  Spain  Shot      69   [93.3, 35.9]  [120.0, 42.8, 5.0]   \n",
       "13   3246  Spain  Shot      71  [112.0, 24.9]  [118.3, 36.7, 0.2]   \n",
       "14   3248  Spain  Shot      81  [107.2, 50.2]  [116.9, 42.3, 0.8]   \n",
       "15   3249  Spain  Shot      85  [111.2, 36.3]  [120.0, 38.4, 0.2]   \n",
       "\n",
       "   shot_outcome                        player  \n",
       "0       Blocked     Nicholas Williams Arthuer  \n",
       "1         Off T  Robin Aime Robert Le Normand  \n",
       "2         Saved              Fabián Ruiz Peña  \n",
       "3       Blocked          Daniel Olmo Carvajal  \n",
       "4       Blocked    Álvaro Borja Morata Martín  \n",
       "5          Goal     Nicholas Williams Arthuer  \n",
       "6         Off T          Daniel Olmo Carvajal  \n",
       "7       Blocked    Álvaro Borja Morata Martín  \n",
       "8       Wayward    Álvaro Borja Morata Martín  \n",
       "9         Off T     Nicholas Williams Arthuer  \n",
       "10        Saved   Lamine Yamal Nasraoui Ebana  \n",
       "11      Blocked               Aymeric Laporte  \n",
       "12        Off T              Fabián Ruiz Peña  \n",
       "13        Saved        Mikel Oyarzabal Ugarte  \n",
       "14        Saved   Lamine Yamal Nasraoui Ebana  \n",
       "15         Goal        Mikel Oyarzabal Ugarte  "
      ]
     },
     "execution_count": 77,
     "metadata": {},
     "output_type": "execute_result"
    }
   ],
   "source": [
    "shots_home"
   ]
  },
  {
   "cell_type": "markdown",
   "id": "73da88e6-c2b9-4054-a7f8-579d1b05ad69",
   "metadata": {},
   "source": [
    "## Shots Breakdown Donut Chart"
   ]
  },
  {
   "cell_type": "code",
   "execution_count": 78,
   "id": "139956f8-a2b0-4732-b3bc-2c6339f6e691",
   "metadata": {},
   "outputs": [
    {
     "data": {
      "application/vnd.plotly.v1+json": {
       "config": {
        "plotlyServerURL": "https://plot.ly"
       },
       "data": [
        {
         "hole": 0.6,
         "labels": [
          "On Target",
          "Off Target"
         ],
         "marker": {
          "colors": [
           "green",
           "red"
          ]
         },
         "type": "pie",
         "values": [
          6,
          10
         ]
        }
       ],
       "layout": {
        "annotations": [
         {
          "font": {
           "size": 20
          },
          "showarrow": false,
          "text": "Spain",
          "x": 0.5,
          "y": 0.5
         }
        ],
        "autosize": true,
        "showlegend": true,
        "template": {
         "data": {
          "bar": [
           {
            "error_x": {
             "color": "#2a3f5f"
            },
            "error_y": {
             "color": "#2a3f5f"
            },
            "marker": {
             "line": {
              "color": "#E5ECF6",
              "width": 0.5
             },
             "pattern": {
              "fillmode": "overlay",
              "size": 10,
              "solidity": 0.2
             }
            },
            "type": "bar"
           }
          ],
          "barpolar": [
           {
            "marker": {
             "line": {
              "color": "#E5ECF6",
              "width": 0.5
             },
             "pattern": {
              "fillmode": "overlay",
              "size": 10,
              "solidity": 0.2
             }
            },
            "type": "barpolar"
           }
          ],
          "carpet": [
           {
            "aaxis": {
             "endlinecolor": "#2a3f5f",
             "gridcolor": "white",
             "linecolor": "white",
             "minorgridcolor": "white",
             "startlinecolor": "#2a3f5f"
            },
            "baxis": {
             "endlinecolor": "#2a3f5f",
             "gridcolor": "white",
             "linecolor": "white",
             "minorgridcolor": "white",
             "startlinecolor": "#2a3f5f"
            },
            "type": "carpet"
           }
          ],
          "choropleth": [
           {
            "colorbar": {
             "outlinewidth": 0,
             "ticks": ""
            },
            "type": "choropleth"
           }
          ],
          "contour": [
           {
            "colorbar": {
             "outlinewidth": 0,
             "ticks": ""
            },
            "colorscale": [
             [
              0,
              "#0d0887"
             ],
             [
              0.1111111111111111,
              "#46039f"
             ],
             [
              0.2222222222222222,
              "#7201a8"
             ],
             [
              0.3333333333333333,
              "#9c179e"
             ],
             [
              0.4444444444444444,
              "#bd3786"
             ],
             [
              0.5555555555555556,
              "#d8576b"
             ],
             [
              0.6666666666666666,
              "#ed7953"
             ],
             [
              0.7777777777777778,
              "#fb9f3a"
             ],
             [
              0.8888888888888888,
              "#fdca26"
             ],
             [
              1,
              "#f0f921"
             ]
            ],
            "type": "contour"
           }
          ],
          "contourcarpet": [
           {
            "colorbar": {
             "outlinewidth": 0,
             "ticks": ""
            },
            "type": "contourcarpet"
           }
          ],
          "heatmap": [
           {
            "colorbar": {
             "outlinewidth": 0,
             "ticks": ""
            },
            "colorscale": [
             [
              0,
              "#0d0887"
             ],
             [
              0.1111111111111111,
              "#46039f"
             ],
             [
              0.2222222222222222,
              "#7201a8"
             ],
             [
              0.3333333333333333,
              "#9c179e"
             ],
             [
              0.4444444444444444,
              "#bd3786"
             ],
             [
              0.5555555555555556,
              "#d8576b"
             ],
             [
              0.6666666666666666,
              "#ed7953"
             ],
             [
              0.7777777777777778,
              "#fb9f3a"
             ],
             [
              0.8888888888888888,
              "#fdca26"
             ],
             [
              1,
              "#f0f921"
             ]
            ],
            "type": "heatmap"
           }
          ],
          "heatmapgl": [
           {
            "colorbar": {
             "outlinewidth": 0,
             "ticks": ""
            },
            "colorscale": [
             [
              0,
              "#0d0887"
             ],
             [
              0.1111111111111111,
              "#46039f"
             ],
             [
              0.2222222222222222,
              "#7201a8"
             ],
             [
              0.3333333333333333,
              "#9c179e"
             ],
             [
              0.4444444444444444,
              "#bd3786"
             ],
             [
              0.5555555555555556,
              "#d8576b"
             ],
             [
              0.6666666666666666,
              "#ed7953"
             ],
             [
              0.7777777777777778,
              "#fb9f3a"
             ],
             [
              0.8888888888888888,
              "#fdca26"
             ],
             [
              1,
              "#f0f921"
             ]
            ],
            "type": "heatmapgl"
           }
          ],
          "histogram": [
           {
            "marker": {
             "pattern": {
              "fillmode": "overlay",
              "size": 10,
              "solidity": 0.2
             }
            },
            "type": "histogram"
           }
          ],
          "histogram2d": [
           {
            "colorbar": {
             "outlinewidth": 0,
             "ticks": ""
            },
            "colorscale": [
             [
              0,
              "#0d0887"
             ],
             [
              0.1111111111111111,
              "#46039f"
             ],
             [
              0.2222222222222222,
              "#7201a8"
             ],
             [
              0.3333333333333333,
              "#9c179e"
             ],
             [
              0.4444444444444444,
              "#bd3786"
             ],
             [
              0.5555555555555556,
              "#d8576b"
             ],
             [
              0.6666666666666666,
              "#ed7953"
             ],
             [
              0.7777777777777778,
              "#fb9f3a"
             ],
             [
              0.8888888888888888,
              "#fdca26"
             ],
             [
              1,
              "#f0f921"
             ]
            ],
            "type": "histogram2d"
           }
          ],
          "histogram2dcontour": [
           {
            "colorbar": {
             "outlinewidth": 0,
             "ticks": ""
            },
            "colorscale": [
             [
              0,
              "#0d0887"
             ],
             [
              0.1111111111111111,
              "#46039f"
             ],
             [
              0.2222222222222222,
              "#7201a8"
             ],
             [
              0.3333333333333333,
              "#9c179e"
             ],
             [
              0.4444444444444444,
              "#bd3786"
             ],
             [
              0.5555555555555556,
              "#d8576b"
             ],
             [
              0.6666666666666666,
              "#ed7953"
             ],
             [
              0.7777777777777778,
              "#fb9f3a"
             ],
             [
              0.8888888888888888,
              "#fdca26"
             ],
             [
              1,
              "#f0f921"
             ]
            ],
            "type": "histogram2dcontour"
           }
          ],
          "mesh3d": [
           {
            "colorbar": {
             "outlinewidth": 0,
             "ticks": ""
            },
            "type": "mesh3d"
           }
          ],
          "parcoords": [
           {
            "line": {
             "colorbar": {
              "outlinewidth": 0,
              "ticks": ""
             }
            },
            "type": "parcoords"
           }
          ],
          "pie": [
           {
            "automargin": true,
            "type": "pie"
           }
          ],
          "scatter": [
           {
            "fillpattern": {
             "fillmode": "overlay",
             "size": 10,
             "solidity": 0.2
            },
            "type": "scatter"
           }
          ],
          "scatter3d": [
           {
            "line": {
             "colorbar": {
              "outlinewidth": 0,
              "ticks": ""
             }
            },
            "marker": {
             "colorbar": {
              "outlinewidth": 0,
              "ticks": ""
             }
            },
            "type": "scatter3d"
           }
          ],
          "scattercarpet": [
           {
            "marker": {
             "colorbar": {
              "outlinewidth": 0,
              "ticks": ""
             }
            },
            "type": "scattercarpet"
           }
          ],
          "scattergeo": [
           {
            "marker": {
             "colorbar": {
              "outlinewidth": 0,
              "ticks": ""
             }
            },
            "type": "scattergeo"
           }
          ],
          "scattergl": [
           {
            "marker": {
             "colorbar": {
              "outlinewidth": 0,
              "ticks": ""
             }
            },
            "type": "scattergl"
           }
          ],
          "scattermapbox": [
           {
            "marker": {
             "colorbar": {
              "outlinewidth": 0,
              "ticks": ""
             }
            },
            "type": "scattermapbox"
           }
          ],
          "scatterpolar": [
           {
            "marker": {
             "colorbar": {
              "outlinewidth": 0,
              "ticks": ""
             }
            },
            "type": "scatterpolar"
           }
          ],
          "scatterpolargl": [
           {
            "marker": {
             "colorbar": {
              "outlinewidth": 0,
              "ticks": ""
             }
            },
            "type": "scatterpolargl"
           }
          ],
          "scatterternary": [
           {
            "marker": {
             "colorbar": {
              "outlinewidth": 0,
              "ticks": ""
             }
            },
            "type": "scatterternary"
           }
          ],
          "surface": [
           {
            "colorbar": {
             "outlinewidth": 0,
             "ticks": ""
            },
            "colorscale": [
             [
              0,
              "#0d0887"
             ],
             [
              0.1111111111111111,
              "#46039f"
             ],
             [
              0.2222222222222222,
              "#7201a8"
             ],
             [
              0.3333333333333333,
              "#9c179e"
             ],
             [
              0.4444444444444444,
              "#bd3786"
             ],
             [
              0.5555555555555556,
              "#d8576b"
             ],
             [
              0.6666666666666666,
              "#ed7953"
             ],
             [
              0.7777777777777778,
              "#fb9f3a"
             ],
             [
              0.8888888888888888,
              "#fdca26"
             ],
             [
              1,
              "#f0f921"
             ]
            ],
            "type": "surface"
           }
          ],
          "table": [
           {
            "cells": {
             "fill": {
              "color": "#EBF0F8"
             },
             "line": {
              "color": "white"
             }
            },
            "header": {
             "fill": {
              "color": "#C8D4E3"
             },
             "line": {
              "color": "white"
             }
            },
            "type": "table"
           }
          ]
         },
         "layout": {
          "annotationdefaults": {
           "arrowcolor": "#2a3f5f",
           "arrowhead": 0,
           "arrowwidth": 1
          },
          "autotypenumbers": "strict",
          "coloraxis": {
           "colorbar": {
            "outlinewidth": 0,
            "ticks": ""
           }
          },
          "colorscale": {
           "diverging": [
            [
             0,
             "#8e0152"
            ],
            [
             0.1,
             "#c51b7d"
            ],
            [
             0.2,
             "#de77ae"
            ],
            [
             0.3,
             "#f1b6da"
            ],
            [
             0.4,
             "#fde0ef"
            ],
            [
             0.5,
             "#f7f7f7"
            ],
            [
             0.6,
             "#e6f5d0"
            ],
            [
             0.7,
             "#b8e186"
            ],
            [
             0.8,
             "#7fbc41"
            ],
            [
             0.9,
             "#4d9221"
            ],
            [
             1,
             "#276419"
            ]
           ],
           "sequential": [
            [
             0,
             "#0d0887"
            ],
            [
             0.1111111111111111,
             "#46039f"
            ],
            [
             0.2222222222222222,
             "#7201a8"
            ],
            [
             0.3333333333333333,
             "#9c179e"
            ],
            [
             0.4444444444444444,
             "#bd3786"
            ],
            [
             0.5555555555555556,
             "#d8576b"
            ],
            [
             0.6666666666666666,
             "#ed7953"
            ],
            [
             0.7777777777777778,
             "#fb9f3a"
            ],
            [
             0.8888888888888888,
             "#fdca26"
            ],
            [
             1,
             "#f0f921"
            ]
           ],
           "sequentialminus": [
            [
             0,
             "#0d0887"
            ],
            [
             0.1111111111111111,
             "#46039f"
            ],
            [
             0.2222222222222222,
             "#7201a8"
            ],
            [
             0.3333333333333333,
             "#9c179e"
            ],
            [
             0.4444444444444444,
             "#bd3786"
            ],
            [
             0.5555555555555556,
             "#d8576b"
            ],
            [
             0.6666666666666666,
             "#ed7953"
            ],
            [
             0.7777777777777778,
             "#fb9f3a"
            ],
            [
             0.8888888888888888,
             "#fdca26"
            ],
            [
             1,
             "#f0f921"
            ]
           ]
          },
          "colorway": [
           "#636efa",
           "#EF553B",
           "#00cc96",
           "#ab63fa",
           "#FFA15A",
           "#19d3f3",
           "#FF6692",
           "#B6E880",
           "#FF97FF",
           "#FECB52"
          ],
          "font": {
           "color": "#2a3f5f"
          },
          "geo": {
           "bgcolor": "white",
           "lakecolor": "white",
           "landcolor": "#E5ECF6",
           "showlakes": true,
           "showland": true,
           "subunitcolor": "white"
          },
          "hoverlabel": {
           "align": "left"
          },
          "hovermode": "closest",
          "mapbox": {
           "style": "light"
          },
          "paper_bgcolor": "white",
          "plot_bgcolor": "#E5ECF6",
          "polar": {
           "angularaxis": {
            "gridcolor": "white",
            "linecolor": "white",
            "ticks": ""
           },
           "bgcolor": "#E5ECF6",
           "radialaxis": {
            "gridcolor": "white",
            "linecolor": "white",
            "ticks": ""
           }
          },
          "scene": {
           "xaxis": {
            "backgroundcolor": "#E5ECF6",
            "gridcolor": "white",
            "gridwidth": 2,
            "linecolor": "white",
            "showbackground": true,
            "ticks": "",
            "zerolinecolor": "white"
           },
           "yaxis": {
            "backgroundcolor": "#E5ECF6",
            "gridcolor": "white",
            "gridwidth": 2,
            "linecolor": "white",
            "showbackground": true,
            "ticks": "",
            "zerolinecolor": "white"
           },
           "zaxis": {
            "backgroundcolor": "#E5ECF6",
            "gridcolor": "white",
            "gridwidth": 2,
            "linecolor": "white",
            "showbackground": true,
            "ticks": "",
            "zerolinecolor": "white"
           }
          },
          "shapedefaults": {
           "line": {
            "color": "#2a3f5f"
           }
          },
          "ternary": {
           "aaxis": {
            "gridcolor": "white",
            "linecolor": "white",
            "ticks": ""
           },
           "baxis": {
            "gridcolor": "white",
            "linecolor": "white",
            "ticks": ""
           },
           "bgcolor": "#E5ECF6",
           "caxis": {
            "gridcolor": "white",
            "linecolor": "white",
            "ticks": ""
           }
          },
          "title": {
           "x": 0.05
          },
          "xaxis": {
           "automargin": true,
           "gridcolor": "white",
           "linecolor": "white",
           "ticks": "",
           "title": {
            "standoff": 15
           },
           "zerolinecolor": "white",
           "zerolinewidth": 2
          },
          "yaxis": {
           "automargin": true,
           "gridcolor": "white",
           "linecolor": "white",
           "ticks": "",
           "title": {
            "standoff": 15
           },
           "zerolinecolor": "white",
           "zerolinewidth": 2
          }
         }
        },
        "title": {
         "text": "Shots On Target vs Off Target"
        }
       }
      },
      "image/png": "[encoded data removed]",
      "text/html": [
       "<div>                            <div id=\"180c14ec-31d9-4f4e-bf41-054a9f410ae6\" class=\"plotly-graph-div\" style=\"height:525px; width:100%;\"></div>            <script type=\"text/javascript\">                require([\"plotly\"], function(Plotly) {                    window.PLOTLYENV=window.PLOTLYENV || {};                                    if (document.getElementById(\"180c14ec-31d9-4f4e-bf41-054a9f410ae6\")) {                    Plotly.newPlot(                        \"180c14ec-31d9-4f4e-bf41-054a9f410ae6\",                        [{\"hole\":0.6,\"labels\":[\"On Target\",\"Off Target\"],\"marker\":{\"colors\":[\"green\",\"red\"]},\"values\":[6,10],\"type\":\"pie\"}],                        {\"template\":{\"data\":{\"histogram2dcontour\":[{\"type\":\"histogram2dcontour\",\"colorbar\":{\"outlinewidth\":0,\"ticks\":\"\"},\"colorscale\":[[0.0,\"#0d0887\"],[0.1111111111111111,\"#46039f\"],[0.2222222222222222,\"#7201a8\"],[0.3333333333333333,\"#9c179e\"],[0.4444444444444444,\"#bd3786\"],[0.5555555555555556,\"#d8576b\"],[0.6666666666666666,\"#ed7953\"],[0.7777777777777778,\"#fb9f3a\"],[0.8888888888888888,\"#fdca26\"],[1.0,\"#f0f921\"]]}],\"choropleth\":[{\"type\":\"choropleth\",\"colorbar\":{\"outlinewidth\":0,\"ticks\":\"\"}}],\"histogram2d\":[{\"type\":\"histogram2d\",\"colorbar\":{\"outlinewidth\":0,\"ticks\":\"\"},\"colorscale\":[[0.0,\"#0d0887\"],[0.1111111111111111,\"#46039f\"],[0.2222222222222222,\"#7201a8\"],[0.3333333333333333,\"#9c179e\"],[0.4444444444444444,\"#bd3786\"],[0.5555555555555556,\"#d8576b\"],[0.6666666666666666,\"#ed7953\"],[0.7777777777777778,\"#fb9f3a\"],[0.8888888888888888,\"#fdca26\"],[1.0,\"#f0f921\"]]}],\"heatmap\":[{\"type\":\"heatmap\",\"colorbar\":{\"outlinewidth\":0,\"ticks\":\"\"},\"colorscale\":[[0.0,\"#0d0887\"],[0.1111111111111111,\"#46039f\"],[0.2222222222222222,\"#7201a8\"],[0.3333333333333333,\"#9c179e\"],[0.4444444444444444,\"#bd3786\"],[0.5555555555555556,\"#d8576b\"],[0.6666666666666666,\"#ed7953\"],[0.7777777777777778,\"#fb9f3a\"],[0.8888888888888888,\"#fdca26\"],[1.0,\"#f0f921\"]]}],\"heatmapgl\":[{\"type\":\"heatmapgl\",\"colorbar\":{\"outlinewidth\":0,\"ticks\":\"\"},\"colorscale\":[[0.0,\"#0d0887\"],[0.1111111111111111,\"#46039f\"],[0.2222222222222222,\"#7201a8\"],[0.3333333333333333,\"#9c179e\"],[0.4444444444444444,\"#bd3786\"],[0.5555555555555556,\"#d8576b\"],[0.6666666666666666,\"#ed7953\"],[0.7777777777777778,\"#fb9f3a\"],[0.8888888888888888,\"#fdca26\"],[1.0,\"#f0f921\"]]}],\"contourcarpet\":[{\"type\":\"contourcarpet\",\"colorbar\":{\"outlinewidth\":0,\"ticks\":\"\"}}],\"contour\":[{\"type\":\"contour\",\"colorbar\":{\"outlinewidth\":0,\"ticks\":\"\"},\"colorscale\":[[0.0,\"#0d0887\"],[0.1111111111111111,\"#46039f\"],[0.2222222222222222,\"#7201a8\"],[0.3333333333333333,\"#9c179e\"],[0.4444444444444444,\"#bd3786\"],[0.5555555555555556,\"#d8576b\"],[0.6666666666666666,\"#ed7953\"],[0.7777777777777778,\"#fb9f3a\"],[0.8888888888888888,\"#fdca26\"],[1.0,\"#f0f921\"]]}],\"surface\":[{\"type\":\"surface\",\"colorbar\":{\"outlinewidth\":0,\"ticks\":\"\"},\"colorscale\":[[0.0,\"#0d0887\"],[0.1111111111111111,\"#46039f\"],[0.2222222222222222,\"#7201a8\"],[0.3333333333333333,\"#9c179e\"],[0.4444444444444444,\"#bd3786\"],[0.5555555555555556,\"#d8576b\"],[0.6666666666666666,\"#ed7953\"],[0.7777777777777778,\"#fb9f3a\"],[0.8888888888888888,\"#fdca26\"],[1.0,\"#f0f921\"]]}],\"mesh3d\":[{\"type\":\"mesh3d\",\"colorbar\":{\"outlinewidth\":0,\"ticks\":\"\"}}],\"scatter\":[{\"fillpattern\":{\"fillmode\":\"overlay\",\"size\":10,\"solidity\":0.2},\"type\":\"scatter\"}],\"parcoords\":[{\"type\":\"parcoords\",\"line\":{\"colorbar\":{\"outlinewidth\":0,\"ticks\":\"\"}}}],\"scatterpolargl\":[{\"type\":\"scatterpolargl\",\"marker\":{\"colorbar\":{\"outlinewidth\":0,\"ticks\":\"\"}}}],\"bar\":[{\"error_x\":{\"color\":\"#2a3f5f\"},\"error_y\":{\"color\":\"#2a3f5f\"},\"marker\":{\"line\":{\"color\":\"#E5ECF6\",\"width\":0.5},\"pattern\":{\"fillmode\":\"overlay\",\"size\":10,\"solidity\":0.2}},\"type\":\"bar\"}],\"scattergeo\":[{\"type\":\"scattergeo\",\"marker\":{\"colorbar\":{\"outlinewidth\":0,\"ticks\":\"\"}}}],\"scatterpolar\":[{\"type\":\"scatterpolar\",\"marker\":{\"colorbar\":{\"outlinewidth\":0,\"ticks\":\"\"}}}],\"histogram\":[{\"marker\":{\"pattern\":{\"fillmode\":\"overlay\",\"size\":10,\"solidity\":0.2}},\"type\":\"histogram\"}],\"scattergl\":[{\"type\":\"scattergl\",\"marker\":{\"colorbar\":{\"outlinewidth\":0,\"ticks\":\"\"}}}],\"scatter3d\":[{\"type\":\"scatter3d\",\"line\":{\"colorbar\":{\"outlinewidth\":0,\"ticks\":\"\"}},\"marker\":{\"colorbar\":{\"outlinewidth\":0,\"ticks\":\"\"}}}],\"scattermapbox\":[{\"type\":\"scattermapbox\",\"marker\":{\"colorbar\":{\"outlinewidth\":0,\"ticks\":\"\"}}}],\"scatterternary\":[{\"type\":\"scatterternary\",\"marker\":{\"colorbar\":{\"outlinewidth\":0,\"ticks\":\"\"}}}],\"scattercarpet\":[{\"type\":\"scattercarpet\",\"marker\":{\"colorbar\":{\"outlinewidth\":0,\"ticks\":\"\"}}}],\"carpet\":[{\"aaxis\":{\"endlinecolor\":\"#2a3f5f\",\"gridcolor\":\"white\",\"linecolor\":\"white\",\"minorgridcolor\":\"white\",\"startlinecolor\":\"#2a3f5f\"},\"baxis\":{\"endlinecolor\":\"#2a3f5f\",\"gridcolor\":\"white\",\"linecolor\":\"white\",\"minorgridcolor\":\"white\",\"startlinecolor\":\"#2a3f5f\"},\"type\":\"carpet\"}],\"table\":[{\"cells\":{\"fill\":{\"color\":\"#EBF0F8\"},\"line\":{\"color\":\"white\"}},\"header\":{\"fill\":{\"color\":\"#C8D4E3\"},\"line\":{\"color\":\"white\"}},\"type\":\"table\"}],\"barpolar\":[{\"marker\":{\"line\":{\"color\":\"#E5ECF6\",\"width\":0.5},\"pattern\":{\"fillmode\":\"overlay\",\"size\":10,\"solidity\":0.2}},\"type\":\"barpolar\"}],\"pie\":[{\"automargin\":true,\"type\":\"pie\"}]},\"layout\":{\"autotypenumbers\":\"strict\",\"colorway\":[\"#636efa\",\"#EF553B\",\"#00cc96\",\"#ab63fa\",\"#FFA15A\",\"#19d3f3\",\"#FF6692\",\"#B6E880\",\"#FF97FF\",\"#FECB52\"],\"font\":{\"color\":\"#2a3f5f\"},\"hovermode\":\"closest\",\"hoverlabel\":{\"align\":\"left\"},\"paper_bgcolor\":\"white\",\"plot_bgcolor\":\"#E5ECF6\",\"polar\":{\"bgcolor\":\"#E5ECF6\",\"angularaxis\":{\"gridcolor\":\"white\",\"linecolor\":\"white\",\"ticks\":\"\"},\"radialaxis\":{\"gridcolor\":\"white\",\"linecolor\":\"white\",\"ticks\":\"\"}},\"ternary\":{\"bgcolor\":\"#E5ECF6\",\"aaxis\":{\"gridcolor\":\"white\",\"linecolor\":\"white\",\"ticks\":\"\"},\"baxis\":{\"gridcolor\":\"white\",\"linecolor\":\"white\",\"ticks\":\"\"},\"caxis\":{\"gridcolor\":\"white\",\"linecolor\":\"white\",\"ticks\":\"\"}},\"coloraxis\":{\"colorbar\":{\"outlinewidth\":0,\"ticks\":\"\"}},\"colorscale\":{\"sequential\":[[0.0,\"#0d0887\"],[0.1111111111111111,\"#46039f\"],[0.2222222222222222,\"#7201a8\"],[0.3333333333333333,\"#9c179e\"],[0.4444444444444444,\"#bd3786\"],[0.5555555555555556,\"#d8576b\"],[0.6666666666666666,\"#ed7953\"],[0.7777777777777778,\"#fb9f3a\"],[0.8888888888888888,\"#fdca26\"],[1.0,\"#f0f921\"]],\"sequentialminus\":[[0.0,\"#0d0887\"],[0.1111111111111111,\"#46039f\"],[0.2222222222222222,\"#7201a8\"],[0.3333333333333333,\"#9c179e\"],[0.4444444444444444,\"#bd3786\"],[0.5555555555555556,\"#d8576b\"],[0.6666666666666666,\"#ed7953\"],[0.7777777777777778,\"#fb9f3a\"],[0.8888888888888888,\"#fdca26\"],[1.0,\"#f0f921\"]],\"diverging\":[[0,\"#8e0152\"],[0.1,\"#c51b7d\"],[0.2,\"#de77ae\"],[0.3,\"#f1b6da\"],[0.4,\"#fde0ef\"],[0.5,\"#f7f7f7\"],[0.6,\"#e6f5d0\"],[0.7,\"#b8e186\"],[0.8,\"#7fbc41\"],[0.9,\"#4d9221\"],[1,\"#276419\"]]},\"xaxis\":{\"gridcolor\":\"white\",\"linecolor\":\"white\",\"ticks\":\"\",\"title\":{\"standoff\":15},\"zerolinecolor\":\"white\",\"automargin\":true,\"zerolinewidth\":2},\"yaxis\":{\"gridcolor\":\"white\",\"linecolor\":\"white\",\"ticks\":\"\",\"title\":{\"standoff\":15},\"zerolinecolor\":\"white\",\"automargin\":true,\"zerolinewidth\":2},\"scene\":{\"xaxis\":{\"backgroundcolor\":\"#E5ECF6\",\"gridcolor\":\"white\",\"linecolor\":\"white\",\"showbackground\":true,\"ticks\":\"\",\"zerolinecolor\":\"white\",\"gridwidth\":2},\"yaxis\":{\"backgroundcolor\":\"#E5ECF6\",\"gridcolor\":\"white\",\"linecolor\":\"white\",\"showbackground\":true,\"ticks\":\"\",\"zerolinecolor\":\"white\",\"gridwidth\":2},\"zaxis\":{\"backgroundcolor\":\"#E5ECF6\",\"gridcolor\":\"white\",\"linecolor\":\"white\",\"showbackground\":true,\"ticks\":\"\",\"zerolinecolor\":\"white\",\"gridwidth\":2}},\"shapedefaults\":{\"line\":{\"color\":\"#2a3f5f\"}},\"annotationdefaults\":{\"arrowcolor\":\"#2a3f5f\",\"arrowhead\":0,\"arrowwidth\":1},\"geo\":{\"bgcolor\":\"white\",\"landcolor\":\"#E5ECF6\",\"subunitcolor\":\"white\",\"showland\":true,\"showlakes\":true,\"lakecolor\":\"white\"},\"title\":{\"x\":0.05},\"mapbox\":{\"style\":\"light\"}}},\"title\":{\"text\":\"Shots On Target vs Off Target\"},\"annotations\":[{\"showarrow\":false,\"text\":\"Spain\",\"x\":0.5,\"y\":0.5,\"font\":{\"size\":20}}],\"showlegend\":true},                        {\"responsive\": true}                    ).then(function(){\n",
       "                            \n",
       "var gd = document.getElementById('180c14ec-31d9-4f4e-bf41-054a9f410ae6');\n",
       "var x = new MutationObserver(function (mutations, observer) {{\n",
       "        var display = window.getComputedStyle(gd).display;\n",
       "        if (!display || display === 'none') {{\n",
       "            console.log([gd, 'removed!']);\n",
       "            Plotly.purge(gd);\n",
       "            observer.disconnect();\n",
       "        }}\n",
       "}});\n",
       "\n",
       "// Listen for the removal of the full notebook cells\n",
       "var notebookContainer = gd.closest('#notebook-container');\n",
       "if (notebookContainer) {{\n",
       "    x.observe(notebookContainer, {childList: true});\n",
       "}}\n",
       "\n",
       "// Listen for the clearing of the current output cell\n",
       "var outputEl = gd.closest('.output');\n",
       "if (outputEl) {{\n",
       "    x.observe(outputEl, {childList: true});\n",
       "}}\n",
       "\n",
       "                        })                };                });            </script>        </div>"
      ]
     },
     "metadata": {},
     "output_type": "display_data"
    }
   ],
   "source": [
    "# donut chart for shots on and off target\n",
    "\n",
    "# Team name\n",
    "team_name = shots_home['team'].iloc[0]\n",
    "num_shots = len(shots_home)\n",
    "\n",
    "# Display the team name and the number of shots\n",
    "#st.write(f\"**{team_name} Shots: {num_shots}**\")\n",
    "\n",
    "# Calculate the number of shots on target and off target\n",
    "on_target = shots_home[shots_home['shot_outcome'].isin(['Goal', 'Saved'])].shape[0]\n",
    "off_target = shots_home[~shots_home['shot_outcome'].isin(['Goal', 'Saved'])].shape[0]\n",
    "\n",
    "# Pie chart for shots distribution (On Target vs Off Target)\n",
    "labels = ['On Target', 'Off Target']\n",
    "values = [on_target, off_target]\n",
    "colors = ['green', 'red']\n",
    "\n",
    "# Create a donut chart using Plotly\n",
    "fig = go.Figure(data=[go.Pie(labels=labels, values=values, hole=.6, marker=dict(colors=colors))])\n",
    "\n",
    "# Update layout for donut chart\n",
    "fig.update_layout(\n",
    "    title_text=\"Shots On Target vs Off Target\",\n",
    "    annotations=[dict(text=f'{team_name}', x=0.5, y=0.5, font_size=20, showarrow=False)],\n",
    "    showlegend=True\n",
    ")\n",
    "\n",
    "fig.show()"
   ]
  },
  {
   "cell_type": "code",
   "execution_count": 79,
   "id": "9b0f9828-d316-48f3-91eb-494c12dad0fe",
   "metadata": {},
   "outputs": [
    {
     "data": {
      "application/vnd.plotly.v1+json": {
       "config": {
        "plotlyServerURL": "https://plot.ly"
       },
       "data": [
        {
         "hole": 0.6,
         "labels": [
          "On Target",
          "Off Target"
         ],
         "marker": {
          "colors": [
           "green",
           "red"
          ]
         },
         "type": "pie",
         "values": [
          3,
          6
         ]
        }
       ],
       "layout": {
        "annotations": [
         {
          "font": {
           "size": 20
          },
          "showarrow": false,
          "text": "England",
          "x": 0.5,
          "y": 0.5
         }
        ],
        "autosize": true,
        "showlegend": true,
        "template": {
         "data": {
          "bar": [
           {
            "error_x": {
             "color": "#2a3f5f"
            },
            "error_y": {
             "color": "#2a3f5f"
            },
            "marker": {
             "line": {
              "color": "#E5ECF6",
              "width": 0.5
             },
             "pattern": {
              "fillmode": "overlay",
              "size": 10,
              "solidity": 0.2
             }
            },
            "type": "bar"
           }
          ],
          "barpolar": [
           {
            "marker": {
             "line": {
              "color": "#E5ECF6",
              "width": 0.5
             },
             "pattern": {
              "fillmode": "overlay",
              "size": 10,
              "solidity": 0.2
             }
            },
            "type": "barpolar"
           }
          ],
          "carpet": [
           {
            "aaxis": {
             "endlinecolor": "#2a3f5f",
             "gridcolor": "white",
             "linecolor": "white",
             "minorgridcolor": "white",
             "startlinecolor": "#2a3f5f"
            },
            "baxis": {
             "endlinecolor": "#2a3f5f",
             "gridcolor": "white",
             "linecolor": "white",
             "minorgridcolor": "white",
             "startlinecolor": "#2a3f5f"
            },
            "type": "carpet"
           }
          ],
          "choropleth": [
           {
            "colorbar": {
             "outlinewidth": 0,
             "ticks": ""
            },
            "type": "choropleth"
           }
          ],
          "contour": [
           {
            "colorbar": {
             "outlinewidth": 0,
             "ticks": ""
            },
            "colorscale": [
             [
              0,
              "#0d0887"
             ],
             [
              0.1111111111111111,
              "#46039f"
             ],
             [
              0.2222222222222222,
              "#7201a8"
             ],
             [
              0.3333333333333333,
              "#9c179e"
             ],
             [
              0.4444444444444444,
              "#bd3786"
             ],
             [
              0.5555555555555556,
              "#d8576b"
             ],
             [
              0.6666666666666666,
              "#ed7953"
             ],
             [
              0.7777777777777778,
              "#fb9f3a"
             ],
             [
              0.8888888888888888,
              "#fdca26"
             ],
             [
              1,
              "#f0f921"
             ]
            ],
            "type": "contour"
           }
          ],
          "contourcarpet": [
           {
            "colorbar": {
             "outlinewidth": 0,
             "ticks": ""
            },
            "type": "contourcarpet"
           }
          ],
          "heatmap": [
           {
            "colorbar": {
             "outlinewidth": 0,
             "ticks": ""
            },
            "colorscale": [
             [
              0,
              "#0d0887"
             ],
             [
              0.1111111111111111,
              "#46039f"
             ],
             [
              0.2222222222222222,
              "#7201a8"
             ],
             [
              0.3333333333333333,
              "#9c179e"
             ],
             [
              0.4444444444444444,
              "#bd3786"
             ],
             [
              0.5555555555555556,
              "#d8576b"
             ],
             [
              0.6666666666666666,
              "#ed7953"
             ],
             [
              0.7777777777777778,
              "#fb9f3a"
             ],
             [
              0.8888888888888888,
              "#fdca26"
             ],
             [
              1,
              "#f0f921"
             ]
            ],
            "type": "heatmap"
           }
          ],
          "heatmapgl": [
           {
            "colorbar": {
             "outlinewidth": 0,
             "ticks": ""
            },
            "colorscale": [
             [
              0,
              "#0d0887"
             ],
             [
              0.1111111111111111,
              "#46039f"
             ],
             [
              0.2222222222222222,
              "#7201a8"
             ],
             [
              0.3333333333333333,
              "#9c179e"
             ],
             [
              0.4444444444444444,
              "#bd3786"
             ],
             [
              0.5555555555555556,
              "#d8576b"
             ],
             [
              0.6666666666666666,
              "#ed7953"
             ],
             [
              0.7777777777777778,
              "#fb9f3a"
             ],
             [
              0.8888888888888888,
              "#fdca26"
             ],
             [
              1,
              "#f0f921"
             ]
            ],
            "type": "heatmapgl"
           }
          ],
          "histogram": [
           {
            "marker": {
             "pattern": {
              "fillmode": "overlay",
              "size": 10,
              "solidity": 0.2
             }
            },
            "type": "histogram"
           }
          ],
          "histogram2d": [
           {
            "colorbar": {
             "outlinewidth": 0,
             "ticks": ""
            },
            "colorscale": [
             [
              0,
              "#0d0887"
             ],
             [
              0.1111111111111111,
              "#46039f"
             ],
             [
              0.2222222222222222,
              "#7201a8"
             ],
             [
              0.3333333333333333,
              "#9c179e"
             ],
             [
              0.4444444444444444,
              "#bd3786"
             ],
             [
              0.5555555555555556,
              "#d8576b"
             ],
             [
              0.6666666666666666,
              "#ed7953"
             ],
             [
              0.7777777777777778,
              "#fb9f3a"
             ],
             [
              0.8888888888888888,
              "#fdca26"
             ],
             [
              1,
              "#f0f921"
             ]
            ],
            "type": "histogram2d"
           }
          ],
          "histogram2dcontour": [
           {
            "colorbar": {
             "outlinewidth": 0,
             "ticks": ""
            },
            "colorscale": [
             [
              0,
              "#0d0887"
             ],
             [
              0.1111111111111111,
              "#46039f"
             ],
             [
              0.2222222222222222,
              "#7201a8"
             ],
             [
              0.3333333333333333,
              "#9c179e"
             ],
             [
              0.4444444444444444,
              "#bd3786"
             ],
             [
              0.5555555555555556,
              "#d8576b"
             ],
             [
              0.6666666666666666,
              "#ed7953"
             ],
             [
              0.7777777777777778,
              "#fb9f3a"
             ],
             [
              0.8888888888888888,
              "#fdca26"
             ],
             [
              1,
              "#f0f921"
             ]
            ],
            "type": "histogram2dcontour"
           }
          ],
          "mesh3d": [
           {
            "colorbar": {
             "outlinewidth": 0,
             "ticks": ""
            },
            "type": "mesh3d"
           }
          ],
          "parcoords": [
           {
            "line": {
             "colorbar": {
              "outlinewidth": 0,
              "ticks": ""
             }
            },
            "type": "parcoords"
           }
          ],
          "pie": [
           {
            "automargin": true,
            "type": "pie"
           }
          ],
          "scatter": [
           {
            "fillpattern": {
             "fillmode": "overlay",
             "size": 10,
             "solidity": 0.2
            },
            "type": "scatter"
           }
          ],
          "scatter3d": [
           {
            "line": {
             "colorbar": {
              "outlinewidth": 0,
              "ticks": ""
             }
            },
            "marker": {
             "colorbar": {
              "outlinewidth": 0,
              "ticks": ""
             }
            },
            "type": "scatter3d"
           }
          ],
          "scattercarpet": [
           {
            "marker": {
             "colorbar": {
              "outlinewidth": 0,
              "ticks": ""
             }
            },
            "type": "scattercarpet"
           }
          ],
          "scattergeo": [
           {
            "marker": {
             "colorbar": {
              "outlinewidth": 0,
              "ticks": ""
             }
            },
            "type": "scattergeo"
           }
          ],
          "scattergl": [
           {
            "marker": {
             "colorbar": {
              "outlinewidth": 0,
              "ticks": ""
             }
            },
            "type": "scattergl"
           }
          ],
          "scattermapbox": [
           {
            "marker": {
             "colorbar": {
              "outlinewidth": 0,
              "ticks": ""
             }
            },
            "type": "scattermapbox"
           }
          ],
          "scatterpolar": [
           {
            "marker": {
             "colorbar": {
              "outlinewidth": 0,
              "ticks": ""
             }
            },
            "type": "scatterpolar"
           }
          ],
          "scatterpolargl": [
           {
            "marker": {
             "colorbar": {
              "outlinewidth": 0,
              "ticks": ""
             }
            },
            "type": "scatterpolargl"
           }
          ],
          "scatterternary": [
           {
            "marker": {
             "colorbar": {
              "outlinewidth": 0,
              "ticks": ""
             }
            },
            "type": "scatterternary"
           }
          ],
          "surface": [
           {
            "colorbar": {
             "outlinewidth": 0,
             "ticks": ""
            },
            "colorscale": [
             [
              0,
              "#0d0887"
             ],
             [
              0.1111111111111111,
              "#46039f"
             ],
             [
              0.2222222222222222,
              "#7201a8"
             ],
             [
              0.3333333333333333,
              "#9c179e"
             ],
             [
              0.4444444444444444,
              "#bd3786"
             ],
             [
              0.5555555555555556,
              "#d8576b"
             ],
             [
              0.6666666666666666,
              "#ed7953"
             ],
             [
              0.7777777777777778,
              "#fb9f3a"
             ],
             [
              0.8888888888888888,
              "#fdca26"
             ],
             [
              1,
              "#f0f921"
             ]
            ],
            "type": "surface"
           }
          ],
          "table": [
           {
            "cells": {
             "fill": {
              "color": "#EBF0F8"
             },
             "line": {
              "color": "white"
             }
            },
            "header": {
             "fill": {
              "color": "#C8D4E3"
             },
             "line": {
              "color": "white"
             }
            },
            "type": "table"
           }
          ]
         },
         "layout": {
          "annotationdefaults": {
           "arrowcolor": "#2a3f5f",
           "arrowhead": 0,
           "arrowwidth": 1
          },
          "autotypenumbers": "strict",
          "coloraxis": {
           "colorbar": {
            "outlinewidth": 0,
            "ticks": ""
           }
          },
          "colorscale": {
           "diverging": [
            [
             0,
             "#8e0152"
            ],
            [
             0.1,
             "#c51b7d"
            ],
            [
             0.2,
             "#de77ae"
            ],
            [
             0.3,
             "#f1b6da"
            ],
            [
             0.4,
             "#fde0ef"
            ],
            [
             0.5,
             "#f7f7f7"
            ],
            [
             0.6,
             "#e6f5d0"
            ],
            [
             0.7,
             "#b8e186"
            ],
            [
             0.8,
             "#7fbc41"
            ],
            [
             0.9,
             "#4d9221"
            ],
            [
             1,
             "#276419"
            ]
           ],
           "sequential": [
            [
             0,
             "#0d0887"
            ],
            [
             0.1111111111111111,
             "#46039f"
            ],
            [
             0.2222222222222222,
             "#7201a8"
            ],
            [
             0.3333333333333333,
             "#9c179e"
            ],
            [
             0.4444444444444444,
             "#bd3786"
            ],
            [
             0.5555555555555556,
             "#d8576b"
            ],
            [
             0.6666666666666666,
             "#ed7953"
            ],
            [
             0.7777777777777778,
             "#fb9f3a"
            ],
            [
             0.8888888888888888,
             "#fdca26"
            ],
            [
             1,
             "#f0f921"
            ]
           ],
           "sequentialminus": [
            [
             0,
             "#0d0887"
            ],
            [
             0.1111111111111111,
             "#46039f"
            ],
            [
             0.2222222222222222,
             "#7201a8"
            ],
            [
             0.3333333333333333,
             "#9c179e"
            ],
            [
             0.4444444444444444,
             "#bd3786"
            ],
            [
             0.5555555555555556,
             "#d8576b"
            ],
            [
             0.6666666666666666,
             "#ed7953"
            ],
            [
             0.7777777777777778,
             "#fb9f3a"
            ],
            [
             0.8888888888888888,
             "#fdca26"
            ],
            [
             1,
             "#f0f921"
            ]
           ]
          },
          "colorway": [
           "#636efa",
           "#EF553B",
           "#00cc96",
           "#ab63fa",
           "#FFA15A",
           "#19d3f3",
           "#FF6692",
           "#B6E880",
           "#FF97FF",
           "#FECB52"
          ],
          "font": {
           "color": "#2a3f5f"
          },
          "geo": {
           "bgcolor": "white",
           "lakecolor": "white",
           "landcolor": "#E5ECF6",
           "showlakes": true,
           "showland": true,
           "subunitcolor": "white"
          },
          "hoverlabel": {
           "align": "left"
          },
          "hovermode": "closest",
          "mapbox": {
           "style": "light"
          },
          "paper_bgcolor": "white",
          "plot_bgcolor": "#E5ECF6",
          "polar": {
           "angularaxis": {
            "gridcolor": "white",
            "linecolor": "white",
            "ticks": ""
           },
           "bgcolor": "#E5ECF6",
           "radialaxis": {
            "gridcolor": "white",
            "linecolor": "white",
            "ticks": ""
           }
          },
          "scene": {
           "xaxis": {
            "backgroundcolor": "#E5ECF6",
            "gridcolor": "white",
            "gridwidth": 2,
            "linecolor": "white",
            "showbackground": true,
            "ticks": "",
            "zerolinecolor": "white"
           },
           "yaxis": {
            "backgroundcolor": "#E5ECF6",
            "gridcolor": "white",
            "gridwidth": 2,
            "linecolor": "white",
            "showbackground": true,
            "ticks": "",
            "zerolinecolor": "white"
           },
           "zaxis": {
            "backgroundcolor": "#E5ECF6",
            "gridcolor": "white",
            "gridwidth": 2,
            "linecolor": "white",
            "showbackground": true,
            "ticks": "",
            "zerolinecolor": "white"
           }
          },
          "shapedefaults": {
           "line": {
            "color": "#2a3f5f"
           }
          },
          "ternary": {
           "aaxis": {
            "gridcolor": "white",
            "linecolor": "white",
            "ticks": ""
           },
           "baxis": {
            "gridcolor": "white",
            "linecolor": "white",
            "ticks": ""
           },
           "bgcolor": "#E5ECF6",
           "caxis": {
            "gridcolor": "white",
            "linecolor": "white",
            "ticks": ""
           }
          },
          "title": {
           "x": 0.05
          },
          "xaxis": {
           "automargin": true,
           "gridcolor": "white",
           "linecolor": "white",
           "ticks": "",
           "title": {
            "standoff": 15
           },
           "zerolinecolor": "white",
           "zerolinewidth": 2
          },
          "yaxis": {
           "automargin": true,
           "gridcolor": "white",
           "linecolor": "white",
           "ticks": "",
           "title": {
            "standoff": 15
           },
           "zerolinecolor": "white",
           "zerolinewidth": 2
          }
         }
        },
        "title": {
         "text": "Shots On Target vs Off Target"
        }
       }
      },
      "image/png": "[encoded data removed]",
      "text/html": [
       "<div>                            <div id=\"178b7e7f-460f-42ac-8559-665680f6523b\" class=\"plotly-graph-div\" style=\"height:525px; width:100%;\"></div>            <script type=\"text/javascript\">                require([\"plotly\"], function(Plotly) {                    window.PLOTLYENV=window.PLOTLYENV || {};                                    if (document.getElementById(\"178b7e7f-460f-42ac-8559-665680f6523b\")) {                    Plotly.newPlot(                        \"178b7e7f-460f-42ac-8559-665680f6523b\",                        [{\"hole\":0.6,\"labels\":[\"On Target\",\"Off Target\"],\"marker\":{\"colors\":[\"green\",\"red\"]},\"values\":[3,6],\"type\":\"pie\"}],                        {\"template\":{\"data\":{\"histogram2dcontour\":[{\"type\":\"histogram2dcontour\",\"colorbar\":{\"outlinewidth\":0,\"ticks\":\"\"},\"colorscale\":[[0.0,\"#0d0887\"],[0.1111111111111111,\"#46039f\"],[0.2222222222222222,\"#7201a8\"],[0.3333333333333333,\"#9c179e\"],[0.4444444444444444,\"#bd3786\"],[0.5555555555555556,\"#d8576b\"],[0.6666666666666666,\"#ed7953\"],[0.7777777777777778,\"#fb9f3a\"],[0.8888888888888888,\"#fdca26\"],[1.0,\"#f0f921\"]]}],\"choropleth\":[{\"type\":\"choropleth\",\"colorbar\":{\"outlinewidth\":0,\"ticks\":\"\"}}],\"histogram2d\":[{\"type\":\"histogram2d\",\"colorbar\":{\"outlinewidth\":0,\"ticks\":\"\"},\"colorscale\":[[0.0,\"#0d0887\"],[0.1111111111111111,\"#46039f\"],[0.2222222222222222,\"#7201a8\"],[0.3333333333333333,\"#9c179e\"],[0.4444444444444444,\"#bd3786\"],[0.5555555555555556,\"#d8576b\"],[0.6666666666666666,\"#ed7953\"],[0.7777777777777778,\"#fb9f3a\"],[0.8888888888888888,\"#fdca26\"],[1.0,\"#f0f921\"]]}],\"heatmap\":[{\"type\":\"heatmap\",\"colorbar\":{\"outlinewidth\":0,\"ticks\":\"\"},\"colorscale\":[[0.0,\"#0d0887\"],[0.1111111111111111,\"#46039f\"],[0.2222222222222222,\"#7201a8\"],[0.3333333333333333,\"#9c179e\"],[0.4444444444444444,\"#bd3786\"],[0.5555555555555556,\"#d8576b\"],[0.6666666666666666,\"#ed7953\"],[0.7777777777777778,\"#fb9f3a\"],[0.8888888888888888,\"#fdca26\"],[1.0,\"#f0f921\"]]}],\"heatmapgl\":[{\"type\":\"heatmapgl\",\"colorbar\":{\"outlinewidth\":0,\"ticks\":\"\"},\"colorscale\":[[0.0,\"#0d0887\"],[0.1111111111111111,\"#46039f\"],[0.2222222222222222,\"#7201a8\"],[0.3333333333333333,\"#9c179e\"],[0.4444444444444444,\"#bd3786\"],[0.5555555555555556,\"#d8576b\"],[0.6666666666666666,\"#ed7953\"],[0.7777777777777778,\"#fb9f3a\"],[0.8888888888888888,\"#fdca26\"],[1.0,\"#f0f921\"]]}],\"contourcarpet\":[{\"type\":\"contourcarpet\",\"colorbar\":{\"outlinewidth\":0,\"ticks\":\"\"}}],\"contour\":[{\"type\":\"contour\",\"colorbar\":{\"outlinewidth\":0,\"ticks\":\"\"},\"colorscale\":[[0.0,\"#0d0887\"],[0.1111111111111111,\"#46039f\"],[0.2222222222222222,\"#7201a8\"],[0.3333333333333333,\"#9c179e\"],[0.4444444444444444,\"#bd3786\"],[0.5555555555555556,\"#d8576b\"],[0.6666666666666666,\"#ed7953\"],[0.7777777777777778,\"#fb9f3a\"],[0.8888888888888888,\"#fdca26\"],[1.0,\"#f0f921\"]]}],\"surface\":[{\"type\":\"surface\",\"colorbar\":{\"outlinewidth\":0,\"ticks\":\"\"},\"colorscale\":[[0.0,\"#0d0887\"],[0.1111111111111111,\"#46039f\"],[0.2222222222222222,\"#7201a8\"],[0.3333333333333333,\"#9c179e\"],[0.4444444444444444,\"#bd3786\"],[0.5555555555555556,\"#d8576b\"],[0.6666666666666666,\"#ed7953\"],[0.7777777777777778,\"#fb9f3a\"],[0.8888888888888888,\"#fdca26\"],[1.0,\"#f0f921\"]]}],\"mesh3d\":[{\"type\":\"mesh3d\",\"colorbar\":{\"outlinewidth\":0,\"ticks\":\"\"}}],\"scatter\":[{\"fillpattern\":{\"fillmode\":\"overlay\",\"size\":10,\"solidity\":0.2},\"type\":\"scatter\"}],\"parcoords\":[{\"type\":\"parcoords\",\"line\":{\"colorbar\":{\"outlinewidth\":0,\"ticks\":\"\"}}}],\"scatterpolargl\":[{\"type\":\"scatterpolargl\",\"marker\":{\"colorbar\":{\"outlinewidth\":0,\"ticks\":\"\"}}}],\"bar\":[{\"error_x\":{\"color\":\"#2a3f5f\"},\"error_y\":{\"color\":\"#2a3f5f\"},\"marker\":{\"line\":{\"color\":\"#E5ECF6\",\"width\":0.5},\"pattern\":{\"fillmode\":\"overlay\",\"size\":10,\"solidity\":0.2}},\"type\":\"bar\"}],\"scattergeo\":[{\"type\":\"scattergeo\",\"marker\":{\"colorbar\":{\"outlinewidth\":0,\"ticks\":\"\"}}}],\"scatterpolar\":[{\"type\":\"scatterpolar\",\"marker\":{\"colorbar\":{\"outlinewidth\":0,\"ticks\":\"\"}}}],\"histogram\":[{\"marker\":{\"pattern\":{\"fillmode\":\"overlay\",\"size\":10,\"solidity\":0.2}},\"type\":\"histogram\"}],\"scattergl\":[{\"type\":\"scattergl\",\"marker\":{\"colorbar\":{\"outlinewidth\":0,\"ticks\":\"\"}}}],\"scatter3d\":[{\"type\":\"scatter3d\",\"line\":{\"colorbar\":{\"outlinewidth\":0,\"ticks\":\"\"}},\"marker\":{\"colorbar\":{\"outlinewidth\":0,\"ticks\":\"\"}}}],\"scattermapbox\":[{\"type\":\"scattermapbox\",\"marker\":{\"colorbar\":{\"outlinewidth\":0,\"ticks\":\"\"}}}],\"scatterternary\":[{\"type\":\"scatterternary\",\"marker\":{\"colorbar\":{\"outlinewidth\":0,\"ticks\":\"\"}}}],\"scattercarpet\":[{\"type\":\"scattercarpet\",\"marker\":{\"colorbar\":{\"outlinewidth\":0,\"ticks\":\"\"}}}],\"carpet\":[{\"aaxis\":{\"endlinecolor\":\"#2a3f5f\",\"gridcolor\":\"white\",\"linecolor\":\"white\",\"minorgridcolor\":\"white\",\"startlinecolor\":\"#2a3f5f\"},\"baxis\":{\"endlinecolor\":\"#2a3f5f\",\"gridcolor\":\"white\",\"linecolor\":\"white\",\"minorgridcolor\":\"white\",\"startlinecolor\":\"#2a3f5f\"},\"type\":\"carpet\"}],\"table\":[{\"cells\":{\"fill\":{\"color\":\"#EBF0F8\"},\"line\":{\"color\":\"white\"}},\"header\":{\"fill\":{\"color\":\"#C8D4E3\"},\"line\":{\"color\":\"white\"}},\"type\":\"table\"}],\"barpolar\":[{\"marker\":{\"line\":{\"color\":\"#E5ECF6\",\"width\":0.5},\"pattern\":{\"fillmode\":\"overlay\",\"size\":10,\"solidity\":0.2}},\"type\":\"barpolar\"}],\"pie\":[{\"automargin\":true,\"type\":\"pie\"}]},\"layout\":{\"autotypenumbers\":\"strict\",\"colorway\":[\"#636efa\",\"#EF553B\",\"#00cc96\",\"#ab63fa\",\"#FFA15A\",\"#19d3f3\",\"#FF6692\",\"#B6E880\",\"#FF97FF\",\"#FECB52\"],\"font\":{\"color\":\"#2a3f5f\"},\"hovermode\":\"closest\",\"hoverlabel\":{\"align\":\"left\"},\"paper_bgcolor\":\"white\",\"plot_bgcolor\":\"#E5ECF6\",\"polar\":{\"bgcolor\":\"#E5ECF6\",\"angularaxis\":{\"gridcolor\":\"white\",\"linecolor\":\"white\",\"ticks\":\"\"},\"radialaxis\":{\"gridcolor\":\"white\",\"linecolor\":\"white\",\"ticks\":\"\"}},\"ternary\":{\"bgcolor\":\"#E5ECF6\",\"aaxis\":{\"gridcolor\":\"white\",\"linecolor\":\"white\",\"ticks\":\"\"},\"baxis\":{\"gridcolor\":\"white\",\"linecolor\":\"white\",\"ticks\":\"\"},\"caxis\":{\"gridcolor\":\"white\",\"linecolor\":\"white\",\"ticks\":\"\"}},\"coloraxis\":{\"colorbar\":{\"outlinewidth\":0,\"ticks\":\"\"}},\"colorscale\":{\"sequential\":[[0.0,\"#0d0887\"],[0.1111111111111111,\"#46039f\"],[0.2222222222222222,\"#7201a8\"],[0.3333333333333333,\"#9c179e\"],[0.4444444444444444,\"#bd3786\"],[0.5555555555555556,\"#d8576b\"],[0.6666666666666666,\"#ed7953\"],[0.7777777777777778,\"#fb9f3a\"],[0.8888888888888888,\"#fdca26\"],[1.0,\"#f0f921\"]],\"sequentialminus\":[[0.0,\"#0d0887\"],[0.1111111111111111,\"#46039f\"],[0.2222222222222222,\"#7201a8\"],[0.3333333333333333,\"#9c179e\"],[0.4444444444444444,\"#bd3786\"],[0.5555555555555556,\"#d8576b\"],[0.6666666666666666,\"#ed7953\"],[0.7777777777777778,\"#fb9f3a\"],[0.8888888888888888,\"#fdca26\"],[1.0,\"#f0f921\"]],\"diverging\":[[0,\"#8e0152\"],[0.1,\"#c51b7d\"],[0.2,\"#de77ae\"],[0.3,\"#f1b6da\"],[0.4,\"#fde0ef\"],[0.5,\"#f7f7f7\"],[0.6,\"#e6f5d0\"],[0.7,\"#b8e186\"],[0.8,\"#7fbc41\"],[0.9,\"#4d9221\"],[1,\"#276419\"]]},\"xaxis\":{\"gridcolor\":\"white\",\"linecolor\":\"white\",\"ticks\":\"\",\"title\":{\"standoff\":15},\"zerolinecolor\":\"white\",\"automargin\":true,\"zerolinewidth\":2},\"yaxis\":{\"gridcolor\":\"white\",\"linecolor\":\"white\",\"ticks\":\"\",\"title\":{\"standoff\":15},\"zerolinecolor\":\"white\",\"automargin\":true,\"zerolinewidth\":2},\"scene\":{\"xaxis\":{\"backgroundcolor\":\"#E5ECF6\",\"gridcolor\":\"white\",\"linecolor\":\"white\",\"showbackground\":true,\"ticks\":\"\",\"zerolinecolor\":\"white\",\"gridwidth\":2},\"yaxis\":{\"backgroundcolor\":\"#E5ECF6\",\"gridcolor\":\"white\",\"linecolor\":\"white\",\"showbackground\":true,\"ticks\":\"\",\"zerolinecolor\":\"white\",\"gridwidth\":2},\"zaxis\":{\"backgroundcolor\":\"#E5ECF6\",\"gridcolor\":\"white\",\"linecolor\":\"white\",\"showbackground\":true,\"ticks\":\"\",\"zerolinecolor\":\"white\",\"gridwidth\":2}},\"shapedefaults\":{\"line\":{\"color\":\"#2a3f5f\"}},\"annotationdefaults\":{\"arrowcolor\":\"#2a3f5f\",\"arrowhead\":0,\"arrowwidth\":1},\"geo\":{\"bgcolor\":\"white\",\"landcolor\":\"#E5ECF6\",\"subunitcolor\":\"white\",\"showland\":true,\"showlakes\":true,\"lakecolor\":\"white\"},\"title\":{\"x\":0.05},\"mapbox\":{\"style\":\"light\"}}},\"title\":{\"text\":\"Shots On Target vs Off Target\"},\"annotations\":[{\"showarrow\":false,\"text\":\"England\",\"x\":0.5,\"y\":0.5,\"font\":{\"size\":20}}],\"showlegend\":true},                        {\"responsive\": true}                    ).then(function(){\n",
       "                            \n",
       "var gd = document.getElementById('178b7e7f-460f-42ac-8559-665680f6523b');\n",
       "var x = new MutationObserver(function (mutations, observer) {{\n",
       "        var display = window.getComputedStyle(gd).display;\n",
       "        if (!display || display === 'none') {{\n",
       "            console.log([gd, 'removed!']);\n",
       "            Plotly.purge(gd);\n",
       "            observer.disconnect();\n",
       "        }}\n",
       "}});\n",
       "\n",
       "// Listen for the removal of the full notebook cells\n",
       "var notebookContainer = gd.closest('#notebook-container');\n",
       "if (notebookContainer) {{\n",
       "    x.observe(notebookContainer, {childList: true});\n",
       "}}\n",
       "\n",
       "// Listen for the clearing of the current output cell\n",
       "var outputEl = gd.closest('.output');\n",
       "if (outputEl) {{\n",
       "    x.observe(outputEl, {childList: true});\n",
       "}}\n",
       "\n",
       "                        })                };                });            </script>        </div>"
      ]
     },
     "metadata": {},
     "output_type": "display_data"
    }
   ],
   "source": [
    "# donut chart for shots on and off target\n",
    "\n",
    "team_name = shots_away['team'].iloc[0]\n",
    "num_shots = len(shots_away)\n",
    "\n",
    "# Display the team name and the number of shots\n",
    "#st.write(f\"**{team_name} Shots: {num_shots}**\")\n",
    "\n",
    "# Calculate the number of shots on target and off target\n",
    "on_target = shots_away[shots_away['shot_outcome'].isin(['Goal', 'Saved'])].shape[0]\n",
    "off_target = shots_away[~shots_away['shot_outcome'].isin(['Goal', 'Saved'])].shape[0]\n",
    "\n",
    "# Pie chart for shots distribution (On Target vs Off Target)\n",
    "labels = ['On Target', 'Off Target']\n",
    "values = [on_target, off_target]\n",
    "colors = ['green', 'red']\n",
    "\n",
    "# Create a donut chart using Plotly\n",
    "fig = go.Figure(data=[go.Pie(labels=labels, values=values, hole=.6, marker=dict(colors=colors))])\n",
    "\n",
    "# Update layout for donut chart\n",
    "fig.update_layout(\n",
    "    title_text=\"Shots On Target vs Off Target\",\n",
    "    annotations=[dict(text=f'{team_name}', x=0.5, y=0.5, font_size=20, showarrow=False)],\n",
    "    showlegend=True\n",
    ")\n",
    "\n",
    "fig.show()"
   ]
  },
  {
   "cell_type": "code",
   "execution_count": null,
   "id": "6c5e2d7f-16a9-4cfa-bc66-829dd6ac4b10",
   "metadata": {},
   "outputs": [],
   "source": []
  }
 ],
 "metadata": {
  "kernelspec": {
   "display_name": "Python 3 (ipykernel)",
   "language": "python",
   "name": "python3"
  },
  "language_info": {
   "codemirror_mode": {
    "name": "ipython",
    "version": 3
   },
   "file_extension": ".py",
   "mimetype": "text/x-python",
   "name": "python",
   "nbconvert_exporter": "python",
   "pygments_lexer": "ipython3",
   "version": "3.10.14"
  }
 },
 "nbformat": 4,
 "nbformat_minor": 5
}
