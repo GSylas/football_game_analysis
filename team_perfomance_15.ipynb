{
 "cells": [
  {
   "cell_type": "markdown",
   "id": "94fac045-54af-4bf8-bd64-44b3f85e8f86",
   "metadata": {},
   "source": [
    "# ⚽ Team Performance Score Analysis\n",
    "\n",
    "This notebook introduces and visualizes a **custom Performance Score** that evaluates a football team’s overall impact during a match. The score is designed to provide a more comprehensive understanding of performance beyond just goals or possession stats.\n",
    "\n",
    "### 🧠 What is the Performance Score?\n",
    "\n",
    "The **Performance Score** is a composite metric that combines multiple key indicators:\n",
    "- 🥅 Goals Scored\n",
    "- 🎯 Shots & Shots on Target\n",
    "- 📊 Expected Goals (xG)\n",
    "- 🔁 Successful Passes\n",
    "\n",
    "Each component contributes to the overall score based on predefined weights that reflect their importance in evaluating match dominance. All values are **normalized**, allowing fair comparison across teams, matches, and time intervals.\n",
    "\n",
    "### 📈 Why Use a Custom Score?\n",
    "\n",
    "This approach offers:\n",
    "- A **balanced view** of performance, not skewed by a single stat.\n",
    "- The ability to compare **different matches or teams** consistently.\n",
    "- Insights into how **underlying metrics** (like xG or passing success) influence match outcomes.\n",
    "\n",
    "### 📊 Visualizations\n",
    "\n",
    "Interactive visualizations built with **Plotly** provide:\n",
    "- Team comparisons per match\n",
    "- Trends over time\n",
    "- Home vs Away breakdowns\n",
    "- Statistical contributions to the final score\n",
    "\n",
    "---\n",
    "\n",
    "This tool is useful for analysts, coaches, and enthusiasts aiming to understand the full picture of match performance through a data-driven lens.\n"
   ]
  },
  {
   "cell_type": "markdown",
   "id": "9d8c52ff-5a00-4127-99b7-45322566ad71",
   "metadata": {},
   "source": [
    "## Import Libraries"
   ]
  },
  {
   "cell_type": "code",
   "execution_count": 75,
   "id": "5e61ee67-1a4b-4399-99f6-0d4cc215ebaa",
   "metadata": {},
   "outputs": [],
   "source": [
    "from statsbombpy import sb\n",
    "import pandas as pd\n",
    "import numpy as np\n",
    "#from mplsoccer import Pitch\n",
    "from mplsoccer import VerticalPitch,Pitch\n",
    "from mplsoccer.pitch import Pitch\n",
    "from highlight_text import ax_text, fig_text\n",
    "from matplotlib.colors import LinearSegmentedColormap\n",
    "import matplotlib.pyplot as plt\n",
    "import matplotlib.patheffects as path_effects\n",
    "import seaborn as sns\n",
    "import math\n",
    "import matplotlib.patches as mpatches\n",
    "import plotly.graph_objects as go\n",
    "from functools import reduce\n",
    "from sklearn.preprocessing import MinMaxScaler\n",
    "import plotly.express as px\n",
    "pd.set_option(\"display.max_columns\", None)"
   ]
  },
  {
   "cell_type": "markdown",
   "id": "45d9afd0-d474-4e23-a3f0-605883f7fd1e",
   "metadata": {},
   "source": [
    "### Euro 2024 Competition"
   ]
  },
  {
   "cell_type": "code",
   "execution_count": 76,
   "id": "a965488a-dc1f-4072-9099-e2b83387531b",
   "metadata": {},
   "outputs": [
    {
     "data": {
      "text/html": [
       "<div>\n",
       "<style scoped>\n",
       "    .dataframe tbody tr th:only-of-type {\n",
       "        vertical-align: middle;\n",
       "    }\n",
       "\n",
       "    .dataframe tbody tr th {\n",
       "        vertical-align: top;\n",
       "    }\n",
       "\n",
       "    .dataframe thead th {\n",
       "        text-align: right;\n",
       "    }\n",
       "</style>\n",
       "<table border=\"1\" class=\"dataframe\">\n",
       "  <thead>\n",
       "    <tr style=\"text-align: right;\">\n",
       "      <th></th>\n",
       "      <th>match_id</th>\n",
       "      <th>match_date</th>\n",
       "      <th>kick_off</th>\n",
       "      <th>competition</th>\n",
       "      <th>season</th>\n",
       "      <th>home_team</th>\n",
       "      <th>away_team</th>\n",
       "      <th>home_score</th>\n",
       "      <th>away_score</th>\n",
       "      <th>match_status</th>\n",
       "      <th>match_status_360</th>\n",
       "      <th>last_updated</th>\n",
       "      <th>last_updated_360</th>\n",
       "      <th>match_week</th>\n",
       "      <th>competition_stage</th>\n",
       "      <th>stadium</th>\n",
       "      <th>referee</th>\n",
       "      <th>home_managers</th>\n",
       "      <th>away_managers</th>\n",
       "      <th>data_version</th>\n",
       "      <th>shot_fidelity_version</th>\n",
       "      <th>xy_fidelity_version</th>\n",
       "    </tr>\n",
       "  </thead>\n",
       "  <tbody>\n",
       "    <tr>\n",
       "      <th>0</th>\n",
       "      <td>3942819</td>\n",
       "      <td>2024-07-10</td>\n",
       "      <td>22:00:00.000</td>\n",
       "      <td>Europe - UEFA Euro</td>\n",
       "      <td>2024</td>\n",
       "      <td>Netherlands</td>\n",
       "      <td>England</td>\n",
       "      <td>1</td>\n",
       "      <td>2</td>\n",
       "      <td>available</td>\n",
       "      <td>available</td>\n",
       "      <td>2024-07-15T07:54:23.583297</td>\n",
       "      <td>2024-07-15T07:57:36.684453</td>\n",
       "      <td>6</td>\n",
       "      <td>Semi-finals</td>\n",
       "      <td>Signal-Iduna-Park</td>\n",
       "      <td>Felix Zwayer</td>\n",
       "      <td>Ronald Koeman</td>\n",
       "      <td>Gareth Southgate</td>\n",
       "      <td>1.1.0</td>\n",
       "      <td>2</td>\n",
       "      <td>2</td>\n",
       "    </tr>\n",
       "    <tr>\n",
       "      <th>1</th>\n",
       "      <td>3943043</td>\n",
       "      <td>2024-07-14</td>\n",
       "      <td>22:00:00.000</td>\n",
       "      <td>Europe - UEFA Euro</td>\n",
       "      <td>2024</td>\n",
       "      <td>Spain</td>\n",
       "      <td>England</td>\n",
       "      <td>2</td>\n",
       "      <td>1</td>\n",
       "      <td>available</td>\n",
       "      <td>available</td>\n",
       "      <td>2024-07-15T15:48:50.315500</td>\n",
       "      <td>2024-07-15T15:52:24.778809</td>\n",
       "      <td>7</td>\n",
       "      <td>Final</td>\n",
       "      <td>Olympiastadion Berlin</td>\n",
       "      <td>François Letexier</td>\n",
       "      <td>Luis de la Fuente Castillo</td>\n",
       "      <td>Gareth Southgate</td>\n",
       "      <td>1.1.0</td>\n",
       "      <td>2</td>\n",
       "      <td>2</td>\n",
       "    </tr>\n",
       "    <tr>\n",
       "      <th>2</th>\n",
       "      <td>3942752</td>\n",
       "      <td>2024-07-09</td>\n",
       "      <td>22:00:00.000</td>\n",
       "      <td>Europe - UEFA Euro</td>\n",
       "      <td>2024</td>\n",
       "      <td>Spain</td>\n",
       "      <td>France</td>\n",
       "      <td>2</td>\n",
       "      <td>1</td>\n",
       "      <td>available</td>\n",
       "      <td>available</td>\n",
       "      <td>2024-07-10T08:51:07.032303</td>\n",
       "      <td>2024-07-10T13:01:26.597509</td>\n",
       "      <td>6</td>\n",
       "      <td>Semi-finals</td>\n",
       "      <td>Allianz Arena</td>\n",
       "      <td>Slavko Vinčić</td>\n",
       "      <td>Luis de la Fuente Castillo</td>\n",
       "      <td>Didier Deschamps</td>\n",
       "      <td>1.1.0</td>\n",
       "      <td>2</td>\n",
       "      <td>2</td>\n",
       "    </tr>\n",
       "    <tr>\n",
       "      <th>3</th>\n",
       "      <td>3942382</td>\n",
       "      <td>2024-07-06</td>\n",
       "      <td>22:00:00.000</td>\n",
       "      <td>Europe - UEFA Euro</td>\n",
       "      <td>2024</td>\n",
       "      <td>Netherlands</td>\n",
       "      <td>Turkey</td>\n",
       "      <td>2</td>\n",
       "      <td>1</td>\n",
       "      <td>available</td>\n",
       "      <td>available</td>\n",
       "      <td>2024-07-10T06:50:04.068615</td>\n",
       "      <td>2024-07-10T06:56:35.146850</td>\n",
       "      <td>5</td>\n",
       "      <td>Quarter-finals</td>\n",
       "      <td>Olympiastadion Berlin</td>\n",
       "      <td>Clément Turpin</td>\n",
       "      <td>Ronald Koeman</td>\n",
       "      <td>Vincenzo Montella</td>\n",
       "      <td>1.1.0</td>\n",
       "      <td>2</td>\n",
       "      <td>2</td>\n",
       "    </tr>\n",
       "    <tr>\n",
       "      <th>4</th>\n",
       "      <td>3942349</td>\n",
       "      <td>2024-07-05</td>\n",
       "      <td>22:00:00.000</td>\n",
       "      <td>Europe - UEFA Euro</td>\n",
       "      <td>2024</td>\n",
       "      <td>Portugal</td>\n",
       "      <td>France</td>\n",
       "      <td>0</td>\n",
       "      <td>0</td>\n",
       "      <td>available</td>\n",
       "      <td>available</td>\n",
       "      <td>2024-07-12T01:57:15.210934</td>\n",
       "      <td>2024-07-12T02:00:16.871522</td>\n",
       "      <td>5</td>\n",
       "      <td>Quarter-finals</td>\n",
       "      <td>Volksparkstadion</td>\n",
       "      <td>Michael Oliver</td>\n",
       "      <td>Roberto Martínez Montoliú</td>\n",
       "      <td>Didier Deschamps</td>\n",
       "      <td>1.1.0</td>\n",
       "      <td>2</td>\n",
       "      <td>2</td>\n",
       "    </tr>\n",
       "  </tbody>\n",
       "</table>\n",
       "</div>"
      ],
      "text/plain": [
       "   match_id  match_date      kick_off         competition season    home_team  \\\n",
       "0   3942819  2024-07-10  22:00:00.000  Europe - UEFA Euro   2024  Netherlands   \n",
       "1   3943043  2024-07-14  22:00:00.000  Europe - UEFA Euro   2024        Spain   \n",
       "2   3942752  2024-07-09  22:00:00.000  Europe - UEFA Euro   2024        Spain   \n",
       "3   3942382  2024-07-06  22:00:00.000  Europe - UEFA Euro   2024  Netherlands   \n",
       "4   3942349  2024-07-05  22:00:00.000  Europe - UEFA Euro   2024     Portugal   \n",
       "\n",
       "  away_team  home_score  away_score match_status match_status_360  \\\n",
       "0   England           1           2    available        available   \n",
       "1   England           2           1    available        available   \n",
       "2    France           2           1    available        available   \n",
       "3    Turkey           2           1    available        available   \n",
       "4    France           0           0    available        available   \n",
       "\n",
       "                 last_updated            last_updated_360  match_week  \\\n",
       "0  2024-07-15T07:54:23.583297  2024-07-15T07:57:36.684453           6   \n",
       "1  2024-07-15T15:48:50.315500  2024-07-15T15:52:24.778809           7   \n",
       "2  2024-07-10T08:51:07.032303  2024-07-10T13:01:26.597509           6   \n",
       "3  2024-07-10T06:50:04.068615  2024-07-10T06:56:35.146850           5   \n",
       "4  2024-07-12T01:57:15.210934  2024-07-12T02:00:16.871522           5   \n",
       "\n",
       "  competition_stage                stadium            referee  \\\n",
       "0       Semi-finals      Signal-Iduna-Park       Felix Zwayer   \n",
       "1             Final  Olympiastadion Berlin  François Letexier   \n",
       "2       Semi-finals          Allianz Arena      Slavko Vinčić   \n",
       "3    Quarter-finals  Olympiastadion Berlin     Clément Turpin   \n",
       "4    Quarter-finals       Volksparkstadion     Michael Oliver   \n",
       "\n",
       "                home_managers      away_managers data_version  \\\n",
       "0               Ronald Koeman   Gareth Southgate        1.1.0   \n",
       "1  Luis de la Fuente Castillo   Gareth Southgate        1.1.0   \n",
       "2  Luis de la Fuente Castillo   Didier Deschamps        1.1.0   \n",
       "3               Ronald Koeman  Vincenzo Montella        1.1.0   \n",
       "4   Roberto Martínez Montoliú   Didier Deschamps        1.1.0   \n",
       "\n",
       "  shot_fidelity_version xy_fidelity_version  \n",
       "0                     2                   2  \n",
       "1                     2                   2  \n",
       "2                     2                   2  \n",
       "3                     2                   2  \n",
       "4                     2                   2  "
      ]
     },
     "execution_count": 76,
     "metadata": {},
     "output_type": "execute_result"
    }
   ],
   "source": [
    "#call the statsbombpy API to get a list of matches for a given competition\n",
    "euro_2024_matches = sb.matches(competition_id=55, season_id=282)\n",
    "\n",
    "#print the first 5 matches listed\n",
    "euro_2024_matches.head(5)"
   ]
  },
  {
   "cell_type": "markdown",
   "id": "71eef815-5811-40dd-9f36-26d76f1e0b9a",
   "metadata": {},
   "source": [
    "## ETL"
   ]
  },
  {
   "cell_type": "code",
   "execution_count": 77,
   "id": "eedac140-ab72-4fe3-8d13-a3f09f381032",
   "metadata": {},
   "outputs": [],
   "source": [
    "#concat home and away teams to keep the unique teams that participated to the tournament\n",
    "home_team = euro_2024_matches['home_team']\n",
    "away_team = euro_2024_matches['away_team']\n",
    "teams = pd.concat([home_team,away_team])\n",
    "teams = pd.DataFrame(teams.drop_duplicates()).reset_index(drop=True)\n",
    "teams.columns = ['Team']"
   ]
  },
  {
   "cell_type": "code",
   "execution_count": 78,
   "id": "ae58fd4b-a002-42fd-b17d-31716f220d88",
   "metadata": {},
   "outputs": [],
   "source": [
    "# give teams colors for the visuals\n",
    "team_colors = pd.read_excel('Team Colors.xlsx')\n",
    "teams = teams.merge(team_colors, how='inner', on='Team')"
   ]
  },
  {
   "cell_type": "code",
   "execution_count": 79,
   "id": "aa0857c3-480f-4fe2-95a7-6e35c926a81e",
   "metadata": {},
   "outputs": [
    {
     "data": {
      "text/html": [
       "<div>\n",
       "<style scoped>\n",
       "    .dataframe tbody tr th:only-of-type {\n",
       "        vertical-align: middle;\n",
       "    }\n",
       "\n",
       "    .dataframe tbody tr th {\n",
       "        vertical-align: top;\n",
       "    }\n",
       "\n",
       "    .dataframe thead th {\n",
       "        text-align: right;\n",
       "    }\n",
       "</style>\n",
       "<table border=\"1\" class=\"dataframe\">\n",
       "  <thead>\n",
       "    <tr style=\"text-align: right;\">\n",
       "      <th></th>\n",
       "      <th>Team</th>\n",
       "      <th>First_Color</th>\n",
       "      <th>Second_Color</th>\n",
       "    </tr>\n",
       "  </thead>\n",
       "  <tbody>\n",
       "    <tr>\n",
       "      <th>0</th>\n",
       "      <td>Netherlands</td>\n",
       "      <td>#F36C21</td>\n",
       "      <td>#FFFFFF</td>\n",
       "    </tr>\n",
       "    <tr>\n",
       "      <th>1</th>\n",
       "      <td>Spain</td>\n",
       "      <td>#8B0D11</td>\n",
       "      <td>#FCB507</td>\n",
       "    </tr>\n",
       "    <tr>\n",
       "      <th>2</th>\n",
       "      <td>Portugal</td>\n",
       "      <td>#E42518</td>\n",
       "      <td>#0D6938</td>\n",
       "    </tr>\n",
       "    <tr>\n",
       "      <th>3</th>\n",
       "      <td>Denmark</td>\n",
       "      <td>#FCB507</td>\n",
       "      <td>#FFFFFF</td>\n",
       "    </tr>\n",
       "    <tr>\n",
       "      <th>4</th>\n",
       "      <td>England</td>\n",
       "      <td>#012169</td>\n",
       "      <td>#FFFFFF</td>\n",
       "    </tr>\n",
       "  </tbody>\n",
       "</table>\n",
       "</div>"
      ],
      "text/plain": [
       "          Team First_Color Second_Color\n",
       "0  Netherlands     #F36C21      #FFFFFF\n",
       "1        Spain     #8B0D11      #FCB507\n",
       "2     Portugal     #E42518      #0D6938\n",
       "3      Denmark     #FCB507      #FFFFFF\n",
       "4      England     #012169      #FFFFFF"
      ]
     },
     "execution_count": 79,
     "metadata": {},
     "output_type": "execute_result"
    }
   ],
   "source": [
    "teams.head()"
   ]
  },
  {
   "cell_type": "code",
   "execution_count": 80,
   "id": "5934d7ae-95ad-478e-9bb6-c7376bc084ba",
   "metadata": {},
   "outputs": [],
   "source": [
    "# take all matches in one dataframe\n",
    "matches = euro_2024_matches.filter(['match_id','match_date','home_team','away_team','competition_stage','home_score','away_score','period'])\n",
    "matches['match'] = matches['competition_stage'] + ' ' + matches['home_team'] + ' - ' + matches['away_team'] "
   ]
  },
  {
   "cell_type": "code",
   "execution_count": 81,
   "id": "6b650d91-0bc8-4718-a4d3-945392fc7137",
   "metadata": {},
   "outputs": [
    {
     "data": {
      "text/html": [
       "<div>\n",
       "<style scoped>\n",
       "    .dataframe tbody tr th:only-of-type {\n",
       "        vertical-align: middle;\n",
       "    }\n",
       "\n",
       "    .dataframe tbody tr th {\n",
       "        vertical-align: top;\n",
       "    }\n",
       "\n",
       "    .dataframe thead th {\n",
       "        text-align: right;\n",
       "    }\n",
       "</style>\n",
       "<table border=\"1\" class=\"dataframe\">\n",
       "  <thead>\n",
       "    <tr style=\"text-align: right;\">\n",
       "      <th></th>\n",
       "      <th>match_id</th>\n",
       "      <th>match_date</th>\n",
       "      <th>home_team</th>\n",
       "      <th>away_team</th>\n",
       "      <th>competition_stage</th>\n",
       "      <th>home_score</th>\n",
       "      <th>away_score</th>\n",
       "      <th>match</th>\n",
       "    </tr>\n",
       "  </thead>\n",
       "  <tbody>\n",
       "    <tr>\n",
       "      <th>0</th>\n",
       "      <td>3942819</td>\n",
       "      <td>2024-07-10</td>\n",
       "      <td>Netherlands</td>\n",
       "      <td>England</td>\n",
       "      <td>Semi-finals</td>\n",
       "      <td>1</td>\n",
       "      <td>2</td>\n",
       "      <td>Semi-finals Netherlands - England</td>\n",
       "    </tr>\n",
       "    <tr>\n",
       "      <th>1</th>\n",
       "      <td>3943043</td>\n",
       "      <td>2024-07-14</td>\n",
       "      <td>Spain</td>\n",
       "      <td>England</td>\n",
       "      <td>Final</td>\n",
       "      <td>2</td>\n",
       "      <td>1</td>\n",
       "      <td>Final Spain - England</td>\n",
       "    </tr>\n",
       "    <tr>\n",
       "      <th>2</th>\n",
       "      <td>3942752</td>\n",
       "      <td>2024-07-09</td>\n",
       "      <td>Spain</td>\n",
       "      <td>France</td>\n",
       "      <td>Semi-finals</td>\n",
       "      <td>2</td>\n",
       "      <td>1</td>\n",
       "      <td>Semi-finals Spain - France</td>\n",
       "    </tr>\n",
       "    <tr>\n",
       "      <th>3</th>\n",
       "      <td>3942382</td>\n",
       "      <td>2024-07-06</td>\n",
       "      <td>Netherlands</td>\n",
       "      <td>Turkey</td>\n",
       "      <td>Quarter-finals</td>\n",
       "      <td>2</td>\n",
       "      <td>1</td>\n",
       "      <td>Quarter-finals Netherlands - Turkey</td>\n",
       "    </tr>\n",
       "    <tr>\n",
       "      <th>4</th>\n",
       "      <td>3942349</td>\n",
       "      <td>2024-07-05</td>\n",
       "      <td>Portugal</td>\n",
       "      <td>France</td>\n",
       "      <td>Quarter-finals</td>\n",
       "      <td>0</td>\n",
       "      <td>0</td>\n",
       "      <td>Quarter-finals Portugal - France</td>\n",
       "    </tr>\n",
       "    <tr>\n",
       "      <th>5</th>\n",
       "      <td>3930180</td>\n",
       "      <td>2024-06-25</td>\n",
       "      <td>Netherlands</td>\n",
       "      <td>Austria</td>\n",
       "      <td>Group Stage</td>\n",
       "      <td>2</td>\n",
       "      <td>3</td>\n",
       "      <td>Group Stage Netherlands - Austria</td>\n",
       "    </tr>\n",
       "    <tr>\n",
       "      <th>6</th>\n",
       "      <td>3930171</td>\n",
       "      <td>2024-06-20</td>\n",
       "      <td>Denmark</td>\n",
       "      <td>England</td>\n",
       "      <td>Group Stage</td>\n",
       "      <td>1</td>\n",
       "      <td>1</td>\n",
       "      <td>Group Stage Denmark - England</td>\n",
       "    </tr>\n",
       "    <tr>\n",
       "      <th>7</th>\n",
       "      <td>3942227</td>\n",
       "      <td>2024-07-06</td>\n",
       "      <td>England</td>\n",
       "      <td>Switzerland</td>\n",
       "      <td>Quarter-finals</td>\n",
       "      <td>1</td>\n",
       "      <td>1</td>\n",
       "      <td>Quarter-finals England - Switzerland</td>\n",
       "    </tr>\n",
       "    <tr>\n",
       "      <th>8</th>\n",
       "      <td>3942226</td>\n",
       "      <td>2024-07-05</td>\n",
       "      <td>Spain</td>\n",
       "      <td>Germany</td>\n",
       "      <td>Quarter-finals</td>\n",
       "      <td>2</td>\n",
       "      <td>1</td>\n",
       "      <td>Quarter-finals Spain - Germany</td>\n",
       "    </tr>\n",
       "    <tr>\n",
       "      <th>9</th>\n",
       "      <td>3938645</td>\n",
       "      <td>2024-06-26</td>\n",
       "      <td>Ukraine</td>\n",
       "      <td>Belgium</td>\n",
       "      <td>Group Stage</td>\n",
       "      <td>0</td>\n",
       "      <td>0</td>\n",
       "      <td>Group Stage Ukraine - Belgium</td>\n",
       "    </tr>\n",
       "    <tr>\n",
       "      <th>10</th>\n",
       "      <td>3930184</td>\n",
       "      <td>2024-06-26</td>\n",
       "      <td>Czech Republic</td>\n",
       "      <td>Turkey</td>\n",
       "      <td>Group Stage</td>\n",
       "      <td>1</td>\n",
       "      <td>2</td>\n",
       "      <td>Group Stage Czech Republic - Turkey</td>\n",
       "    </tr>\n",
       "    <tr>\n",
       "      <th>11</th>\n",
       "      <td>3941022</td>\n",
       "      <td>2024-07-02</td>\n",
       "      <td>Austria</td>\n",
       "      <td>Turkey</td>\n",
       "      <td>Round of 16</td>\n",
       "      <td>1</td>\n",
       "      <td>2</td>\n",
       "      <td>Round of 16 Austria - Turkey</td>\n",
       "    </tr>\n",
       "    <tr>\n",
       "      <th>12</th>\n",
       "      <td>3941021</td>\n",
       "      <td>2024-07-02</td>\n",
       "      <td>Romania</td>\n",
       "      <td>Netherlands</td>\n",
       "      <td>Round of 16</td>\n",
       "      <td>0</td>\n",
       "      <td>3</td>\n",
       "      <td>Round of 16 Romania - Netherlands</td>\n",
       "    </tr>\n",
       "    <tr>\n",
       "      <th>13</th>\n",
       "      <td>3941020</td>\n",
       "      <td>2024-07-01</td>\n",
       "      <td>Portugal</td>\n",
       "      <td>Slovenia</td>\n",
       "      <td>Round of 16</td>\n",
       "      <td>0</td>\n",
       "      <td>0</td>\n",
       "      <td>Round of 16 Portugal - Slovenia</td>\n",
       "    </tr>\n",
       "    <tr>\n",
       "      <th>14</th>\n",
       "      <td>3941019</td>\n",
       "      <td>2024-07-01</td>\n",
       "      <td>France</td>\n",
       "      <td>Belgium</td>\n",
       "      <td>Round of 16</td>\n",
       "      <td>1</td>\n",
       "      <td>0</td>\n",
       "      <td>Round of 16 France - Belgium</td>\n",
       "    </tr>\n",
       "    <tr>\n",
       "      <th>15</th>\n",
       "      <td>3941018</td>\n",
       "      <td>2024-06-30</td>\n",
       "      <td>Spain</td>\n",
       "      <td>Georgia</td>\n",
       "      <td>Round of 16</td>\n",
       "      <td>4</td>\n",
       "      <td>1</td>\n",
       "      <td>Round of 16 Spain - Georgia</td>\n",
       "    </tr>\n",
       "    <tr>\n",
       "      <th>16</th>\n",
       "      <td>3941017</td>\n",
       "      <td>2024-06-30</td>\n",
       "      <td>England</td>\n",
       "      <td>Slovakia</td>\n",
       "      <td>Round of 16</td>\n",
       "      <td>2</td>\n",
       "      <td>1</td>\n",
       "      <td>Round of 16 England - Slovakia</td>\n",
       "    </tr>\n",
       "    <tr>\n",
       "      <th>17</th>\n",
       "      <td>3930182</td>\n",
       "      <td>2024-06-25</td>\n",
       "      <td>Denmark</td>\n",
       "      <td>Serbia</td>\n",
       "      <td>Group Stage</td>\n",
       "      <td>0</td>\n",
       "      <td>0</td>\n",
       "      <td>Group Stage Denmark - Serbia</td>\n",
       "    </tr>\n",
       "    <tr>\n",
       "      <th>18</th>\n",
       "      <td>3930179</td>\n",
       "      <td>2024-06-24</td>\n",
       "      <td>Albania</td>\n",
       "      <td>Spain</td>\n",
       "      <td>Group Stage</td>\n",
       "      <td>0</td>\n",
       "      <td>1</td>\n",
       "      <td>Group Stage Albania - Spain</td>\n",
       "    </tr>\n",
       "    <tr>\n",
       "      <th>19</th>\n",
       "      <td>3940983</td>\n",
       "      <td>2024-06-29</td>\n",
       "      <td>Germany</td>\n",
       "      <td>Denmark</td>\n",
       "      <td>Round of 16</td>\n",
       "      <td>2</td>\n",
       "      <td>0</td>\n",
       "      <td>Round of 16 Germany - Denmark</td>\n",
       "    </tr>\n",
       "    <tr>\n",
       "      <th>20</th>\n",
       "      <td>3940878</td>\n",
       "      <td>2024-06-29</td>\n",
       "      <td>Switzerland</td>\n",
       "      <td>Italy</td>\n",
       "      <td>Round of 16</td>\n",
       "      <td>2</td>\n",
       "      <td>0</td>\n",
       "      <td>Round of 16 Switzerland - Italy</td>\n",
       "    </tr>\n",
       "    <tr>\n",
       "      <th>21</th>\n",
       "      <td>3930177</td>\n",
       "      <td>2024-06-23</td>\n",
       "      <td>Scotland</td>\n",
       "      <td>Hungary</td>\n",
       "      <td>Group Stage</td>\n",
       "      <td>0</td>\n",
       "      <td>1</td>\n",
       "      <td>Group Stage Scotland - Hungary</td>\n",
       "    </tr>\n",
       "    <tr>\n",
       "      <th>22</th>\n",
       "      <td>3930173</td>\n",
       "      <td>2024-06-21</td>\n",
       "      <td>Netherlands</td>\n",
       "      <td>France</td>\n",
       "      <td>Group Stage</td>\n",
       "      <td>0</td>\n",
       "      <td>0</td>\n",
       "      <td>Group Stage Netherlands - France</td>\n",
       "    </tr>\n",
       "    <tr>\n",
       "      <th>23</th>\n",
       "      <td>3930172</td>\n",
       "      <td>2024-06-20</td>\n",
       "      <td>Spain</td>\n",
       "      <td>Italy</td>\n",
       "      <td>Group Stage</td>\n",
       "      <td>1</td>\n",
       "      <td>0</td>\n",
       "      <td>Group Stage Spain - Italy</td>\n",
       "    </tr>\n",
       "    <tr>\n",
       "      <th>24</th>\n",
       "      <td>3930167</td>\n",
       "      <td>2024-06-19</td>\n",
       "      <td>Croatia</td>\n",
       "      <td>Albania</td>\n",
       "      <td>Group Stage</td>\n",
       "      <td>2</td>\n",
       "      <td>2</td>\n",
       "      <td>Group Stage Croatia - Albania</td>\n",
       "    </tr>\n",
       "    <tr>\n",
       "      <th>25</th>\n",
       "      <td>3930168</td>\n",
       "      <td>2024-06-19</td>\n",
       "      <td>Germany</td>\n",
       "      <td>Hungary</td>\n",
       "      <td>Group Stage</td>\n",
       "      <td>2</td>\n",
       "      <td>0</td>\n",
       "      <td>Group Stage Germany - Hungary</td>\n",
       "    </tr>\n",
       "    <tr>\n",
       "      <th>26</th>\n",
       "      <td>3930165</td>\n",
       "      <td>2024-06-17</td>\n",
       "      <td>Austria</td>\n",
       "      <td>France</td>\n",
       "      <td>Group Stage</td>\n",
       "      <td>0</td>\n",
       "      <td>1</td>\n",
       "      <td>Group Stage Austria - France</td>\n",
       "    </tr>\n",
       "    <tr>\n",
       "      <th>27</th>\n",
       "      <td>3930164</td>\n",
       "      <td>2024-06-17</td>\n",
       "      <td>Belgium</td>\n",
       "      <td>Slovakia</td>\n",
       "      <td>Group Stage</td>\n",
       "      <td>0</td>\n",
       "      <td>1</td>\n",
       "      <td>Group Stage Belgium - Slovakia</td>\n",
       "    </tr>\n",
       "    <tr>\n",
       "      <th>28</th>\n",
       "      <td>3930161</td>\n",
       "      <td>2024-06-15</td>\n",
       "      <td>Italy</td>\n",
       "      <td>Albania</td>\n",
       "      <td>Group Stage</td>\n",
       "      <td>2</td>\n",
       "      <td>1</td>\n",
       "      <td>Group Stage Italy - Albania</td>\n",
       "    </tr>\n",
       "    <tr>\n",
       "      <th>29</th>\n",
       "      <td>3938637</td>\n",
       "      <td>2024-06-16</td>\n",
       "      <td>Poland</td>\n",
       "      <td>Netherlands</td>\n",
       "      <td>Group Stage</td>\n",
       "      <td>1</td>\n",
       "      <td>2</td>\n",
       "      <td>Group Stage Poland - Netherlands</td>\n",
       "    </tr>\n",
       "    <tr>\n",
       "      <th>30</th>\n",
       "      <td>3938640</td>\n",
       "      <td>2024-06-21</td>\n",
       "      <td>Slovakia</td>\n",
       "      <td>Ukraine</td>\n",
       "      <td>Group Stage</td>\n",
       "      <td>1</td>\n",
       "      <td>2</td>\n",
       "      <td>Group Stage Slovakia - Ukraine</td>\n",
       "    </tr>\n",
       "    <tr>\n",
       "      <th>31</th>\n",
       "      <td>3938642</td>\n",
       "      <td>2024-06-22</td>\n",
       "      <td>Georgia</td>\n",
       "      <td>Czech Republic</td>\n",
       "      <td>Group Stage</td>\n",
       "      <td>1</td>\n",
       "      <td>1</td>\n",
       "      <td>Group Stage Georgia - Czech Republic</td>\n",
       "    </tr>\n",
       "    <tr>\n",
       "      <th>32</th>\n",
       "      <td>3938639</td>\n",
       "      <td>2024-06-18</td>\n",
       "      <td>Turkey</td>\n",
       "      <td>Georgia</td>\n",
       "      <td>Group Stage</td>\n",
       "      <td>3</td>\n",
       "      <td>1</td>\n",
       "      <td>Group Stage Turkey - Georgia</td>\n",
       "    </tr>\n",
       "    <tr>\n",
       "      <th>33</th>\n",
       "      <td>3938641</td>\n",
       "      <td>2024-06-21</td>\n",
       "      <td>Poland</td>\n",
       "      <td>Austria</td>\n",
       "      <td>Group Stage</td>\n",
       "      <td>1</td>\n",
       "      <td>3</td>\n",
       "      <td>Group Stage Poland - Austria</td>\n",
       "    </tr>\n",
       "    <tr>\n",
       "      <th>34</th>\n",
       "      <td>3938644</td>\n",
       "      <td>2024-06-26</td>\n",
       "      <td>Georgia</td>\n",
       "      <td>Portugal</td>\n",
       "      <td>Group Stage</td>\n",
       "      <td>2</td>\n",
       "      <td>0</td>\n",
       "      <td>Group Stage Georgia - Portugal</td>\n",
       "    </tr>\n",
       "    <tr>\n",
       "      <th>35</th>\n",
       "      <td>3938643</td>\n",
       "      <td>2024-06-25</td>\n",
       "      <td>France</td>\n",
       "      <td>Poland</td>\n",
       "      <td>Group Stage</td>\n",
       "      <td>1</td>\n",
       "      <td>1</td>\n",
       "      <td>Group Stage France - Poland</td>\n",
       "    </tr>\n",
       "    <tr>\n",
       "      <th>36</th>\n",
       "      <td>3938638</td>\n",
       "      <td>2024-06-17</td>\n",
       "      <td>Romania</td>\n",
       "      <td>Ukraine</td>\n",
       "      <td>Group Stage</td>\n",
       "      <td>3</td>\n",
       "      <td>0</td>\n",
       "      <td>Group Stage Romania - Ukraine</td>\n",
       "    </tr>\n",
       "    <tr>\n",
       "      <th>37</th>\n",
       "      <td>3930183</td>\n",
       "      <td>2024-06-26</td>\n",
       "      <td>Slovakia</td>\n",
       "      <td>Romania</td>\n",
       "      <td>Group Stage</td>\n",
       "      <td>1</td>\n",
       "      <td>1</td>\n",
       "      <td>Group Stage Slovakia - Romania</td>\n",
       "    </tr>\n",
       "    <tr>\n",
       "      <th>38</th>\n",
       "      <td>3930181</td>\n",
       "      <td>2024-06-25</td>\n",
       "      <td>England</td>\n",
       "      <td>Slovenia</td>\n",
       "      <td>Group Stage</td>\n",
       "      <td>0</td>\n",
       "      <td>0</td>\n",
       "      <td>Group Stage England - Slovenia</td>\n",
       "    </tr>\n",
       "    <tr>\n",
       "      <th>39</th>\n",
       "      <td>3930178</td>\n",
       "      <td>2024-06-24</td>\n",
       "      <td>Croatia</td>\n",
       "      <td>Italy</td>\n",
       "      <td>Group Stage</td>\n",
       "      <td>1</td>\n",
       "      <td>1</td>\n",
       "      <td>Group Stage Croatia - Italy</td>\n",
       "    </tr>\n",
       "    <tr>\n",
       "      <th>40</th>\n",
       "      <td>3930176</td>\n",
       "      <td>2024-06-23</td>\n",
       "      <td>Switzerland</td>\n",
       "      <td>Germany</td>\n",
       "      <td>Group Stage</td>\n",
       "      <td>1</td>\n",
       "      <td>1</td>\n",
       "      <td>Group Stage Switzerland - Germany</td>\n",
       "    </tr>\n",
       "    <tr>\n",
       "      <th>41</th>\n",
       "      <td>3930175</td>\n",
       "      <td>2024-06-22</td>\n",
       "      <td>Belgium</td>\n",
       "      <td>Romania</td>\n",
       "      <td>Group Stage</td>\n",
       "      <td>2</td>\n",
       "      <td>0</td>\n",
       "      <td>Group Stage Belgium - Romania</td>\n",
       "    </tr>\n",
       "    <tr>\n",
       "      <th>42</th>\n",
       "      <td>3930174</td>\n",
       "      <td>2024-06-22</td>\n",
       "      <td>Turkey</td>\n",
       "      <td>Portugal</td>\n",
       "      <td>Group Stage</td>\n",
       "      <td>0</td>\n",
       "      <td>3</td>\n",
       "      <td>Group Stage Turkey - Portugal</td>\n",
       "    </tr>\n",
       "    <tr>\n",
       "      <th>43</th>\n",
       "      <td>3930170</td>\n",
       "      <td>2024-06-20</td>\n",
       "      <td>Slovenia</td>\n",
       "      <td>Serbia</td>\n",
       "      <td>Group Stage</td>\n",
       "      <td>1</td>\n",
       "      <td>1</td>\n",
       "      <td>Group Stage Slovenia - Serbia</td>\n",
       "    </tr>\n",
       "    <tr>\n",
       "      <th>44</th>\n",
       "      <td>3930169</td>\n",
       "      <td>2024-06-19</td>\n",
       "      <td>Scotland</td>\n",
       "      <td>Switzerland</td>\n",
       "      <td>Group Stage</td>\n",
       "      <td>1</td>\n",
       "      <td>1</td>\n",
       "      <td>Group Stage Scotland - Switzerland</td>\n",
       "    </tr>\n",
       "    <tr>\n",
       "      <th>45</th>\n",
       "      <td>3930166</td>\n",
       "      <td>2024-06-18</td>\n",
       "      <td>Portugal</td>\n",
       "      <td>Czech Republic</td>\n",
       "      <td>Group Stage</td>\n",
       "      <td>2</td>\n",
       "      <td>1</td>\n",
       "      <td>Group Stage Portugal - Czech Republic</td>\n",
       "    </tr>\n",
       "    <tr>\n",
       "      <th>46</th>\n",
       "      <td>3930163</td>\n",
       "      <td>2024-06-16</td>\n",
       "      <td>Serbia</td>\n",
       "      <td>England</td>\n",
       "      <td>Group Stage</td>\n",
       "      <td>0</td>\n",
       "      <td>1</td>\n",
       "      <td>Group Stage Serbia - England</td>\n",
       "    </tr>\n",
       "    <tr>\n",
       "      <th>47</th>\n",
       "      <td>3930162</td>\n",
       "      <td>2024-06-16</td>\n",
       "      <td>Slovenia</td>\n",
       "      <td>Denmark</td>\n",
       "      <td>Group Stage</td>\n",
       "      <td>1</td>\n",
       "      <td>1</td>\n",
       "      <td>Group Stage Slovenia - Denmark</td>\n",
       "    </tr>\n",
       "    <tr>\n",
       "      <th>48</th>\n",
       "      <td>3930160</td>\n",
       "      <td>2024-06-15</td>\n",
       "      <td>Spain</td>\n",
       "      <td>Croatia</td>\n",
       "      <td>Group Stage</td>\n",
       "      <td>3</td>\n",
       "      <td>0</td>\n",
       "      <td>Group Stage Spain - Croatia</td>\n",
       "    </tr>\n",
       "    <tr>\n",
       "      <th>49</th>\n",
       "      <td>3930159</td>\n",
       "      <td>2024-06-15</td>\n",
       "      <td>Hungary</td>\n",
       "      <td>Switzerland</td>\n",
       "      <td>Group Stage</td>\n",
       "      <td>1</td>\n",
       "      <td>3</td>\n",
       "      <td>Group Stage Hungary - Switzerland</td>\n",
       "    </tr>\n",
       "    <tr>\n",
       "      <th>50</th>\n",
       "      <td>3930158</td>\n",
       "      <td>2024-06-14</td>\n",
       "      <td>Germany</td>\n",
       "      <td>Scotland</td>\n",
       "      <td>Group Stage</td>\n",
       "      <td>5</td>\n",
       "      <td>1</td>\n",
       "      <td>Group Stage Germany - Scotland</td>\n",
       "    </tr>\n",
       "  </tbody>\n",
       "</table>\n",
       "</div>"
      ],
      "text/plain": [
       "    match_id  match_date       home_team       away_team competition_stage  \\\n",
       "0    3942819  2024-07-10     Netherlands         England       Semi-finals   \n",
       "1    3943043  2024-07-14           Spain         England             Final   \n",
       "2    3942752  2024-07-09           Spain          France       Semi-finals   \n",
       "3    3942382  2024-07-06     Netherlands          Turkey    Quarter-finals   \n",
       "4    3942349  2024-07-05        Portugal          France    Quarter-finals   \n",
       "5    3930180  2024-06-25     Netherlands         Austria       Group Stage   \n",
       "6    3930171  2024-06-20         Denmark         England       Group Stage   \n",
       "7    3942227  2024-07-06         England     Switzerland    Quarter-finals   \n",
       "8    3942226  2024-07-05           Spain         Germany    Quarter-finals   \n",
       "9    3938645  2024-06-26         Ukraine         Belgium       Group Stage   \n",
       "10   3930184  2024-06-26  Czech Republic          Turkey       Group Stage   \n",
       "11   3941022  2024-07-02         Austria          Turkey       Round of 16   \n",
       "12   3941021  2024-07-02         Romania     Netherlands       Round of 16   \n",
       "13   3941020  2024-07-01        Portugal        Slovenia       Round of 16   \n",
       "14   3941019  2024-07-01          France         Belgium       Round of 16   \n",
       "15   3941018  2024-06-30           Spain         Georgia       Round of 16   \n",
       "16   3941017  2024-06-30         England        Slovakia       Round of 16   \n",
       "17   3930182  2024-06-25         Denmark          Serbia       Group Stage   \n",
       "18   3930179  2024-06-24         Albania           Spain       Group Stage   \n",
       "19   3940983  2024-06-29         Germany         Denmark       Round of 16   \n",
       "20   3940878  2024-06-29     Switzerland           Italy       Round of 16   \n",
       "21   3930177  2024-06-23        Scotland         Hungary       Group Stage   \n",
       "22   3930173  2024-06-21     Netherlands          France       Group Stage   \n",
       "23   3930172  2024-06-20           Spain           Italy       Group Stage   \n",
       "24   3930167  2024-06-19         Croatia         Albania       Group Stage   \n",
       "25   3930168  2024-06-19         Germany         Hungary       Group Stage   \n",
       "26   3930165  2024-06-17         Austria          France       Group Stage   \n",
       "27   3930164  2024-06-17         Belgium        Slovakia       Group Stage   \n",
       "28   3930161  2024-06-15           Italy         Albania       Group Stage   \n",
       "29   3938637  2024-06-16          Poland     Netherlands       Group Stage   \n",
       "30   3938640  2024-06-21        Slovakia         Ukraine       Group Stage   \n",
       "31   3938642  2024-06-22         Georgia  Czech Republic       Group Stage   \n",
       "32   3938639  2024-06-18          Turkey         Georgia       Group Stage   \n",
       "33   3938641  2024-06-21          Poland         Austria       Group Stage   \n",
       "34   3938644  2024-06-26         Georgia        Portugal       Group Stage   \n",
       "35   3938643  2024-06-25          France          Poland       Group Stage   \n",
       "36   3938638  2024-06-17         Romania         Ukraine       Group Stage   \n",
       "37   3930183  2024-06-26        Slovakia         Romania       Group Stage   \n",
       "38   3930181  2024-06-25         England        Slovenia       Group Stage   \n",
       "39   3930178  2024-06-24         Croatia           Italy       Group Stage   \n",
       "40   3930176  2024-06-23     Switzerland         Germany       Group Stage   \n",
       "41   3930175  2024-06-22         Belgium         Romania       Group Stage   \n",
       "42   3930174  2024-06-22          Turkey        Portugal       Group Stage   \n",
       "43   3930170  2024-06-20        Slovenia          Serbia       Group Stage   \n",
       "44   3930169  2024-06-19        Scotland     Switzerland       Group Stage   \n",
       "45   3930166  2024-06-18        Portugal  Czech Republic       Group Stage   \n",
       "46   3930163  2024-06-16          Serbia         England       Group Stage   \n",
       "47   3930162  2024-06-16        Slovenia         Denmark       Group Stage   \n",
       "48   3930160  2024-06-15           Spain         Croatia       Group Stage   \n",
       "49   3930159  2024-06-15         Hungary     Switzerland       Group Stage   \n",
       "50   3930158  2024-06-14         Germany        Scotland       Group Stage   \n",
       "\n",
       "    home_score  away_score                                  match  \n",
       "0            1           2      Semi-finals Netherlands - England  \n",
       "1            2           1                  Final Spain - England  \n",
       "2            2           1             Semi-finals Spain - France  \n",
       "3            2           1    Quarter-finals Netherlands - Turkey  \n",
       "4            0           0       Quarter-finals Portugal - France  \n",
       "5            2           3      Group Stage Netherlands - Austria  \n",
       "6            1           1          Group Stage Denmark - England  \n",
       "7            1           1   Quarter-finals England - Switzerland  \n",
       "8            2           1         Quarter-finals Spain - Germany  \n",
       "9            0           0          Group Stage Ukraine - Belgium  \n",
       "10           1           2    Group Stage Czech Republic - Turkey  \n",
       "11           1           2           Round of 16 Austria - Turkey  \n",
       "12           0           3      Round of 16 Romania - Netherlands  \n",
       "13           0           0        Round of 16 Portugal - Slovenia  \n",
       "14           1           0           Round of 16 France - Belgium  \n",
       "15           4           1            Round of 16 Spain - Georgia  \n",
       "16           2           1         Round of 16 England - Slovakia  \n",
       "17           0           0           Group Stage Denmark - Serbia  \n",
       "18           0           1            Group Stage Albania - Spain  \n",
       "19           2           0          Round of 16 Germany - Denmark  \n",
       "20           2           0        Round of 16 Switzerland - Italy  \n",
       "21           0           1         Group Stage Scotland - Hungary  \n",
       "22           0           0       Group Stage Netherlands - France  \n",
       "23           1           0              Group Stage Spain - Italy  \n",
       "24           2           2          Group Stage Croatia - Albania  \n",
       "25           2           0          Group Stage Germany - Hungary  \n",
       "26           0           1           Group Stage Austria - France  \n",
       "27           0           1         Group Stage Belgium - Slovakia  \n",
       "28           2           1            Group Stage Italy - Albania  \n",
       "29           1           2       Group Stage Poland - Netherlands  \n",
       "30           1           2         Group Stage Slovakia - Ukraine  \n",
       "31           1           1   Group Stage Georgia - Czech Republic  \n",
       "32           3           1           Group Stage Turkey - Georgia  \n",
       "33           1           3           Group Stage Poland - Austria  \n",
       "34           2           0         Group Stage Georgia - Portugal  \n",
       "35           1           1            Group Stage France - Poland  \n",
       "36           3           0          Group Stage Romania - Ukraine  \n",
       "37           1           1         Group Stage Slovakia - Romania  \n",
       "38           0           0         Group Stage England - Slovenia  \n",
       "39           1           1            Group Stage Croatia - Italy  \n",
       "40           1           1      Group Stage Switzerland - Germany  \n",
       "41           2           0          Group Stage Belgium - Romania  \n",
       "42           0           3          Group Stage Turkey - Portugal  \n",
       "43           1           1          Group Stage Slovenia - Serbia  \n",
       "44           1           1     Group Stage Scotland - Switzerland  \n",
       "45           2           1  Group Stage Portugal - Czech Republic  \n",
       "46           0           1           Group Stage Serbia - England  \n",
       "47           1           1         Group Stage Slovenia - Denmark  \n",
       "48           3           0            Group Stage Spain - Croatia  \n",
       "49           1           3      Group Stage Hungary - Switzerland  \n",
       "50           5           1         Group Stage Germany - Scotland  "
      ]
     },
     "execution_count": 81,
     "metadata": {},
     "output_type": "execute_result"
    }
   ],
   "source": [
    "matches"
   ]
  },
  {
   "cell_type": "code",
   "execution_count": 82,
   "id": "a3f1fc63-8584-4a36-a2ed-a85d7aa1a516",
   "metadata": {},
   "outputs": [],
   "source": [
    "# retrieve the prefered Match ID\n",
    "def take_matchid(df, value):\n",
    "    match = df[df['match'] == value]\n",
    "    if not match.empty:\n",
    "        return match['match_id'].iloc[0]\n",
    "    else:\n",
    "        return None  # or handle it as you need\n",
    "\n",
    "# select the match that you want \n",
    "def teams_selected(df,value):\n",
    "    df_details = df[df.match == value]\n",
    "    return df_details"
   ]
  },
  {
   "cell_type": "code",
   "execution_count": 112,
   "id": "d007f1b4-b7f5-4afc-b738-b4cc80b0856c",
   "metadata": {},
   "outputs": [],
   "source": [
    "# choose a match from table (matches) and column (match)\n",
    "match_selector = 'Final Spain - England'#'Quarter-finals England - Switzerland'#'Final Spain - England'"
   ]
  },
  {
   "cell_type": "code",
   "execution_count": 113,
   "id": "fe3ce8d2-2d1a-4cfa-87f0-e3b95eced138",
   "metadata": {},
   "outputs": [],
   "source": [
    "# call the statsbombpy events API to bring in the event data for the match using the function and the string match_selector\n",
    "match = sb.events(match_id=take_matchid(matches,match_selector))"
   ]
  },
  {
   "cell_type": "code",
   "execution_count": 114,
   "id": "da787bd5-3f06-4358-a88b-8860f9ea0d7e",
   "metadata": {},
   "outputs": [
    {
     "data": {
      "text/html": [
       "<div>\n",
       "<style scoped>\n",
       "    .dataframe tbody tr th:only-of-type {\n",
       "        vertical-align: middle;\n",
       "    }\n",
       "\n",
       "    .dataframe tbody tr th {\n",
       "        vertical-align: top;\n",
       "    }\n",
       "\n",
       "    .dataframe thead th {\n",
       "        text-align: right;\n",
       "    }\n",
       "</style>\n",
       "<table border=\"1\" class=\"dataframe\">\n",
       "  <thead>\n",
       "    <tr style=\"text-align: right;\">\n",
       "      <th></th>\n",
       "      <th>50_50</th>\n",
       "      <th>ball_receipt_outcome</th>\n",
       "      <th>ball_recovery_recovery_failure</th>\n",
       "      <th>block_deflection</th>\n",
       "      <th>block_offensive</th>\n",
       "      <th>block_save_block</th>\n",
       "      <th>carry_end_location</th>\n",
       "      <th>clearance_aerial_won</th>\n",
       "      <th>clearance_body_part</th>\n",
       "      <th>clearance_head</th>\n",
       "      <th>clearance_left_foot</th>\n",
       "      <th>clearance_right_foot</th>\n",
       "      <th>counterpress</th>\n",
       "      <th>dribble_nutmeg</th>\n",
       "      <th>dribble_outcome</th>\n",
       "      <th>dribble_overrun</th>\n",
       "      <th>duel_outcome</th>\n",
       "      <th>duel_type</th>\n",
       "      <th>duration</th>\n",
       "      <th>foul_committed_advantage</th>\n",
       "      <th>foul_committed_card</th>\n",
       "      <th>foul_committed_offensive</th>\n",
       "      <th>foul_won_advantage</th>\n",
       "      <th>foul_won_defensive</th>\n",
       "      <th>goalkeeper_body_part</th>\n",
       "      <th>goalkeeper_end_location</th>\n",
       "      <th>goalkeeper_outcome</th>\n",
       "      <th>goalkeeper_position</th>\n",
       "      <th>goalkeeper_technique</th>\n",
       "      <th>goalkeeper_type</th>\n",
       "      <th>id</th>\n",
       "      <th>index</th>\n",
       "      <th>injury_stoppage_in_chain</th>\n",
       "      <th>interception_outcome</th>\n",
       "      <th>location</th>\n",
       "      <th>match_id</th>\n",
       "      <th>minute</th>\n",
       "      <th>off_camera</th>\n",
       "      <th>out</th>\n",
       "      <th>pass_aerial_won</th>\n",
       "      <th>pass_angle</th>\n",
       "      <th>pass_assisted_shot_id</th>\n",
       "      <th>pass_body_part</th>\n",
       "      <th>pass_cross</th>\n",
       "      <th>pass_cut_back</th>\n",
       "      <th>pass_end_location</th>\n",
       "      <th>pass_goal_assist</th>\n",
       "      <th>pass_height</th>\n",
       "      <th>pass_inswinging</th>\n",
       "      <th>pass_length</th>\n",
       "      <th>pass_no_touch</th>\n",
       "      <th>pass_outcome</th>\n",
       "      <th>pass_outswinging</th>\n",
       "      <th>pass_recipient</th>\n",
       "      <th>pass_recipient_id</th>\n",
       "      <th>pass_shot_assist</th>\n",
       "      <th>pass_switch</th>\n",
       "      <th>pass_technique</th>\n",
       "      <th>pass_through_ball</th>\n",
       "      <th>pass_type</th>\n",
       "      <th>period</th>\n",
       "      <th>play_pattern</th>\n",
       "      <th>player</th>\n",
       "      <th>player_id</th>\n",
       "      <th>position</th>\n",
       "      <th>possession</th>\n",
       "      <th>possession_team</th>\n",
       "      <th>possession_team_id</th>\n",
       "      <th>related_events</th>\n",
       "      <th>second</th>\n",
       "      <th>shot_aerial_won</th>\n",
       "      <th>shot_body_part</th>\n",
       "      <th>shot_deflected</th>\n",
       "      <th>shot_end_location</th>\n",
       "      <th>shot_first_time</th>\n",
       "      <th>shot_freeze_frame</th>\n",
       "      <th>shot_key_pass_id</th>\n",
       "      <th>shot_one_on_one</th>\n",
       "      <th>shot_outcome</th>\n",
       "      <th>shot_statsbomb_xg</th>\n",
       "      <th>shot_technique</th>\n",
       "      <th>shot_type</th>\n",
       "      <th>substitution_outcome</th>\n",
       "      <th>substitution_outcome_id</th>\n",
       "      <th>substitution_replacement</th>\n",
       "      <th>substitution_replacement_id</th>\n",
       "      <th>tactics</th>\n",
       "      <th>team</th>\n",
       "      <th>team_id</th>\n",
       "      <th>timestamp</th>\n",
       "      <th>type</th>\n",
       "      <th>under_pressure</th>\n",
       "    </tr>\n",
       "  </thead>\n",
       "  <tbody>\n",
       "    <tr>\n",
       "      <th>0</th>\n",
       "      <td>NaN</td>\n",
       "      <td>NaN</td>\n",
       "      <td>NaN</td>\n",
       "      <td>NaN</td>\n",
       "      <td>NaN</td>\n",
       "      <td>NaN</td>\n",
       "      <td>NaN</td>\n",
       "      <td>NaN</td>\n",
       "      <td>NaN</td>\n",
       "      <td>NaN</td>\n",
       "      <td>NaN</td>\n",
       "      <td>NaN</td>\n",
       "      <td>NaN</td>\n",
       "      <td>NaN</td>\n",
       "      <td>NaN</td>\n",
       "      <td>NaN</td>\n",
       "      <td>NaN</td>\n",
       "      <td>NaN</td>\n",
       "      <td>0.0</td>\n",
       "      <td>NaN</td>\n",
       "      <td>NaN</td>\n",
       "      <td>NaN</td>\n",
       "      <td>NaN</td>\n",
       "      <td>NaN</td>\n",
       "      <td>NaN</td>\n",
       "      <td>NaN</td>\n",
       "      <td>NaN</td>\n",
       "      <td>NaN</td>\n",
       "      <td>NaN</td>\n",
       "      <td>NaN</td>\n",
       "      <td>50aa204f-5d65-4145-8597-5d5628fb7898</td>\n",
       "      <td>1</td>\n",
       "      <td>NaN</td>\n",
       "      <td>NaN</td>\n",
       "      <td>NaN</td>\n",
       "      <td>3943043</td>\n",
       "      <td>0</td>\n",
       "      <td>NaN</td>\n",
       "      <td>NaN</td>\n",
       "      <td>NaN</td>\n",
       "      <td>NaN</td>\n",
       "      <td>NaN</td>\n",
       "      <td>NaN</td>\n",
       "      <td>NaN</td>\n",
       "      <td>NaN</td>\n",
       "      <td>NaN</td>\n",
       "      <td>NaN</td>\n",
       "      <td>NaN</td>\n",
       "      <td>NaN</td>\n",
       "      <td>NaN</td>\n",
       "      <td>NaN</td>\n",
       "      <td>NaN</td>\n",
       "      <td>NaN</td>\n",
       "      <td>NaN</td>\n",
       "      <td>NaN</td>\n",
       "      <td>NaN</td>\n",
       "      <td>NaN</td>\n",
       "      <td>NaN</td>\n",
       "      <td>NaN</td>\n",
       "      <td>NaN</td>\n",
       "      <td>1</td>\n",
       "      <td>Regular Play</td>\n",
       "      <td>NaN</td>\n",
       "      <td>NaN</td>\n",
       "      <td>NaN</td>\n",
       "      <td>1</td>\n",
       "      <td>Spain</td>\n",
       "      <td>772</td>\n",
       "      <td>NaN</td>\n",
       "      <td>0</td>\n",
       "      <td>NaN</td>\n",
       "      <td>NaN</td>\n",
       "      <td>NaN</td>\n",
       "      <td>NaN</td>\n",
       "      <td>NaN</td>\n",
       "      <td>NaN</td>\n",
       "      <td>NaN</td>\n",
       "      <td>NaN</td>\n",
       "      <td>NaN</td>\n",
       "      <td>NaN</td>\n",
       "      <td>NaN</td>\n",
       "      <td>NaN</td>\n",
       "      <td>NaN</td>\n",
       "      <td>NaN</td>\n",
       "      <td>NaN</td>\n",
       "      <td>NaN</td>\n",
       "      <td>{'formation': 4231, 'lineup': [{'player': {'id...</td>\n",
       "      <td>Spain</td>\n",
       "      <td>772</td>\n",
       "      <td>00:00:00.000</td>\n",
       "      <td>Starting XI</td>\n",
       "      <td>NaN</td>\n",
       "    </tr>\n",
       "    <tr>\n",
       "      <th>1</th>\n",
       "      <td>NaN</td>\n",
       "      <td>NaN</td>\n",
       "      <td>NaN</td>\n",
       "      <td>NaN</td>\n",
       "      <td>NaN</td>\n",
       "      <td>NaN</td>\n",
       "      <td>NaN</td>\n",
       "      <td>NaN</td>\n",
       "      <td>NaN</td>\n",
       "      <td>NaN</td>\n",
       "      <td>NaN</td>\n",
       "      <td>NaN</td>\n",
       "      <td>NaN</td>\n",
       "      <td>NaN</td>\n",
       "      <td>NaN</td>\n",
       "      <td>NaN</td>\n",
       "      <td>NaN</td>\n",
       "      <td>NaN</td>\n",
       "      <td>0.0</td>\n",
       "      <td>NaN</td>\n",
       "      <td>NaN</td>\n",
       "      <td>NaN</td>\n",
       "      <td>NaN</td>\n",
       "      <td>NaN</td>\n",
       "      <td>NaN</td>\n",
       "      <td>NaN</td>\n",
       "      <td>NaN</td>\n",
       "      <td>NaN</td>\n",
       "      <td>NaN</td>\n",
       "      <td>NaN</td>\n",
       "      <td>a279cbee-9ab3-4cfb-9c51-27cacc1bf2a2</td>\n",
       "      <td>2</td>\n",
       "      <td>NaN</td>\n",
       "      <td>NaN</td>\n",
       "      <td>NaN</td>\n",
       "      <td>3943043</td>\n",
       "      <td>0</td>\n",
       "      <td>NaN</td>\n",
       "      <td>NaN</td>\n",
       "      <td>NaN</td>\n",
       "      <td>NaN</td>\n",
       "      <td>NaN</td>\n",
       "      <td>NaN</td>\n",
       "      <td>NaN</td>\n",
       "      <td>NaN</td>\n",
       "      <td>NaN</td>\n",
       "      <td>NaN</td>\n",
       "      <td>NaN</td>\n",
       "      <td>NaN</td>\n",
       "      <td>NaN</td>\n",
       "      <td>NaN</td>\n",
       "      <td>NaN</td>\n",
       "      <td>NaN</td>\n",
       "      <td>NaN</td>\n",
       "      <td>NaN</td>\n",
       "      <td>NaN</td>\n",
       "      <td>NaN</td>\n",
       "      <td>NaN</td>\n",
       "      <td>NaN</td>\n",
       "      <td>NaN</td>\n",
       "      <td>1</td>\n",
       "      <td>Regular Play</td>\n",
       "      <td>NaN</td>\n",
       "      <td>NaN</td>\n",
       "      <td>NaN</td>\n",
       "      <td>1</td>\n",
       "      <td>Spain</td>\n",
       "      <td>772</td>\n",
       "      <td>NaN</td>\n",
       "      <td>0</td>\n",
       "      <td>NaN</td>\n",
       "      <td>NaN</td>\n",
       "      <td>NaN</td>\n",
       "      <td>NaN</td>\n",
       "      <td>NaN</td>\n",
       "      <td>NaN</td>\n",
       "      <td>NaN</td>\n",
       "      <td>NaN</td>\n",
       "      <td>NaN</td>\n",
       "      <td>NaN</td>\n",
       "      <td>NaN</td>\n",
       "      <td>NaN</td>\n",
       "      <td>NaN</td>\n",
       "      <td>NaN</td>\n",
       "      <td>NaN</td>\n",
       "      <td>NaN</td>\n",
       "      <td>{'formation': 4231, 'lineup': [{'player': {'id...</td>\n",
       "      <td>England</td>\n",
       "      <td>768</td>\n",
       "      <td>00:00:00.000</td>\n",
       "      <td>Starting XI</td>\n",
       "      <td>NaN</td>\n",
       "    </tr>\n",
       "    <tr>\n",
       "      <th>2</th>\n",
       "      <td>NaN</td>\n",
       "      <td>NaN</td>\n",
       "      <td>NaN</td>\n",
       "      <td>NaN</td>\n",
       "      <td>NaN</td>\n",
       "      <td>NaN</td>\n",
       "      <td>NaN</td>\n",
       "      <td>NaN</td>\n",
       "      <td>NaN</td>\n",
       "      <td>NaN</td>\n",
       "      <td>NaN</td>\n",
       "      <td>NaN</td>\n",
       "      <td>NaN</td>\n",
       "      <td>NaN</td>\n",
       "      <td>NaN</td>\n",
       "      <td>NaN</td>\n",
       "      <td>NaN</td>\n",
       "      <td>NaN</td>\n",
       "      <td>0.0</td>\n",
       "      <td>NaN</td>\n",
       "      <td>NaN</td>\n",
       "      <td>NaN</td>\n",
       "      <td>NaN</td>\n",
       "      <td>NaN</td>\n",
       "      <td>NaN</td>\n",
       "      <td>NaN</td>\n",
       "      <td>NaN</td>\n",
       "      <td>NaN</td>\n",
       "      <td>NaN</td>\n",
       "      <td>NaN</td>\n",
       "      <td>d2126e70-9f04-4bb7-ba2b-9377836d1757</td>\n",
       "      <td>3</td>\n",
       "      <td>NaN</td>\n",
       "      <td>NaN</td>\n",
       "      <td>NaN</td>\n",
       "      <td>3943043</td>\n",
       "      <td>0</td>\n",
       "      <td>NaN</td>\n",
       "      <td>NaN</td>\n",
       "      <td>NaN</td>\n",
       "      <td>NaN</td>\n",
       "      <td>NaN</td>\n",
       "      <td>NaN</td>\n",
       "      <td>NaN</td>\n",
       "      <td>NaN</td>\n",
       "      <td>NaN</td>\n",
       "      <td>NaN</td>\n",
       "      <td>NaN</td>\n",
       "      <td>NaN</td>\n",
       "      <td>NaN</td>\n",
       "      <td>NaN</td>\n",
       "      <td>NaN</td>\n",
       "      <td>NaN</td>\n",
       "      <td>NaN</td>\n",
       "      <td>NaN</td>\n",
       "      <td>NaN</td>\n",
       "      <td>NaN</td>\n",
       "      <td>NaN</td>\n",
       "      <td>NaN</td>\n",
       "      <td>NaN</td>\n",
       "      <td>1</td>\n",
       "      <td>Regular Play</td>\n",
       "      <td>NaN</td>\n",
       "      <td>NaN</td>\n",
       "      <td>NaN</td>\n",
       "      <td>1</td>\n",
       "      <td>Spain</td>\n",
       "      <td>772</td>\n",
       "      <td>[54d78bfa-4146-42bd-acdc-97bcd393dd81]</td>\n",
       "      <td>0</td>\n",
       "      <td>NaN</td>\n",
       "      <td>NaN</td>\n",
       "      <td>NaN</td>\n",
       "      <td>NaN</td>\n",
       "      <td>NaN</td>\n",
       "      <td>NaN</td>\n",
       "      <td>NaN</td>\n",
       "      <td>NaN</td>\n",
       "      <td>NaN</td>\n",
       "      <td>NaN</td>\n",
       "      <td>NaN</td>\n",
       "      <td>NaN</td>\n",
       "      <td>NaN</td>\n",
       "      <td>NaN</td>\n",
       "      <td>NaN</td>\n",
       "      <td>NaN</td>\n",
       "      <td>NaN</td>\n",
       "      <td>England</td>\n",
       "      <td>768</td>\n",
       "      <td>00:00:00.000</td>\n",
       "      <td>Half Start</td>\n",
       "      <td>NaN</td>\n",
       "    </tr>\n",
       "    <tr>\n",
       "      <th>3</th>\n",
       "      <td>NaN</td>\n",
       "      <td>NaN</td>\n",
       "      <td>NaN</td>\n",
       "      <td>NaN</td>\n",
       "      <td>NaN</td>\n",
       "      <td>NaN</td>\n",
       "      <td>NaN</td>\n",
       "      <td>NaN</td>\n",
       "      <td>NaN</td>\n",
       "      <td>NaN</td>\n",
       "      <td>NaN</td>\n",
       "      <td>NaN</td>\n",
       "      <td>NaN</td>\n",
       "      <td>NaN</td>\n",
       "      <td>NaN</td>\n",
       "      <td>NaN</td>\n",
       "      <td>NaN</td>\n",
       "      <td>NaN</td>\n",
       "      <td>0.0</td>\n",
       "      <td>NaN</td>\n",
       "      <td>NaN</td>\n",
       "      <td>NaN</td>\n",
       "      <td>NaN</td>\n",
       "      <td>NaN</td>\n",
       "      <td>NaN</td>\n",
       "      <td>NaN</td>\n",
       "      <td>NaN</td>\n",
       "      <td>NaN</td>\n",
       "      <td>NaN</td>\n",
       "      <td>NaN</td>\n",
       "      <td>54d78bfa-4146-42bd-acdc-97bcd393dd81</td>\n",
       "      <td>4</td>\n",
       "      <td>NaN</td>\n",
       "      <td>NaN</td>\n",
       "      <td>NaN</td>\n",
       "      <td>3943043</td>\n",
       "      <td>0</td>\n",
       "      <td>NaN</td>\n",
       "      <td>NaN</td>\n",
       "      <td>NaN</td>\n",
       "      <td>NaN</td>\n",
       "      <td>NaN</td>\n",
       "      <td>NaN</td>\n",
       "      <td>NaN</td>\n",
       "      <td>NaN</td>\n",
       "      <td>NaN</td>\n",
       "      <td>NaN</td>\n",
       "      <td>NaN</td>\n",
       "      <td>NaN</td>\n",
       "      <td>NaN</td>\n",
       "      <td>NaN</td>\n",
       "      <td>NaN</td>\n",
       "      <td>NaN</td>\n",
       "      <td>NaN</td>\n",
       "      <td>NaN</td>\n",
       "      <td>NaN</td>\n",
       "      <td>NaN</td>\n",
       "      <td>NaN</td>\n",
       "      <td>NaN</td>\n",
       "      <td>NaN</td>\n",
       "      <td>1</td>\n",
       "      <td>Regular Play</td>\n",
       "      <td>NaN</td>\n",
       "      <td>NaN</td>\n",
       "      <td>NaN</td>\n",
       "      <td>1</td>\n",
       "      <td>Spain</td>\n",
       "      <td>772</td>\n",
       "      <td>[d2126e70-9f04-4bb7-ba2b-9377836d1757]</td>\n",
       "      <td>0</td>\n",
       "      <td>NaN</td>\n",
       "      <td>NaN</td>\n",
       "      <td>NaN</td>\n",
       "      <td>NaN</td>\n",
       "      <td>NaN</td>\n",
       "      <td>NaN</td>\n",
       "      <td>NaN</td>\n",
       "      <td>NaN</td>\n",
       "      <td>NaN</td>\n",
       "      <td>NaN</td>\n",
       "      <td>NaN</td>\n",
       "      <td>NaN</td>\n",
       "      <td>NaN</td>\n",
       "      <td>NaN</td>\n",
       "      <td>NaN</td>\n",
       "      <td>NaN</td>\n",
       "      <td>NaN</td>\n",
       "      <td>Spain</td>\n",
       "      <td>772</td>\n",
       "      <td>00:00:00.000</td>\n",
       "      <td>Half Start</td>\n",
       "      <td>NaN</td>\n",
       "    </tr>\n",
       "    <tr>\n",
       "      <th>4</th>\n",
       "      <td>NaN</td>\n",
       "      <td>NaN</td>\n",
       "      <td>NaN</td>\n",
       "      <td>NaN</td>\n",
       "      <td>NaN</td>\n",
       "      <td>NaN</td>\n",
       "      <td>NaN</td>\n",
       "      <td>NaN</td>\n",
       "      <td>NaN</td>\n",
       "      <td>NaN</td>\n",
       "      <td>NaN</td>\n",
       "      <td>NaN</td>\n",
       "      <td>NaN</td>\n",
       "      <td>NaN</td>\n",
       "      <td>NaN</td>\n",
       "      <td>NaN</td>\n",
       "      <td>NaN</td>\n",
       "      <td>NaN</td>\n",
       "      <td>0.0</td>\n",
       "      <td>NaN</td>\n",
       "      <td>NaN</td>\n",
       "      <td>NaN</td>\n",
       "      <td>NaN</td>\n",
       "      <td>NaN</td>\n",
       "      <td>NaN</td>\n",
       "      <td>NaN</td>\n",
       "      <td>NaN</td>\n",
       "      <td>NaN</td>\n",
       "      <td>NaN</td>\n",
       "      <td>NaN</td>\n",
       "      <td>7230470a-8ceb-4eb8-a66f-d72a2afb12d6</td>\n",
       "      <td>1706</td>\n",
       "      <td>NaN</td>\n",
       "      <td>NaN</td>\n",
       "      <td>NaN</td>\n",
       "      <td>3943043</td>\n",
       "      <td>45</td>\n",
       "      <td>NaN</td>\n",
       "      <td>NaN</td>\n",
       "      <td>NaN</td>\n",
       "      <td>NaN</td>\n",
       "      <td>NaN</td>\n",
       "      <td>NaN</td>\n",
       "      <td>NaN</td>\n",
       "      <td>NaN</td>\n",
       "      <td>NaN</td>\n",
       "      <td>NaN</td>\n",
       "      <td>NaN</td>\n",
       "      <td>NaN</td>\n",
       "      <td>NaN</td>\n",
       "      <td>NaN</td>\n",
       "      <td>NaN</td>\n",
       "      <td>NaN</td>\n",
       "      <td>NaN</td>\n",
       "      <td>NaN</td>\n",
       "      <td>NaN</td>\n",
       "      <td>NaN</td>\n",
       "      <td>NaN</td>\n",
       "      <td>NaN</td>\n",
       "      <td>NaN</td>\n",
       "      <td>2</td>\n",
       "      <td>Regular Play</td>\n",
       "      <td>NaN</td>\n",
       "      <td>NaN</td>\n",
       "      <td>NaN</td>\n",
       "      <td>79</td>\n",
       "      <td>Spain</td>\n",
       "      <td>772</td>\n",
       "      <td>[cb9ba06c-a673-448d-ab21-755d330fcadc]</td>\n",
       "      <td>0</td>\n",
       "      <td>NaN</td>\n",
       "      <td>NaN</td>\n",
       "      <td>NaN</td>\n",
       "      <td>NaN</td>\n",
       "      <td>NaN</td>\n",
       "      <td>NaN</td>\n",
       "      <td>NaN</td>\n",
       "      <td>NaN</td>\n",
       "      <td>NaN</td>\n",
       "      <td>NaN</td>\n",
       "      <td>NaN</td>\n",
       "      <td>NaN</td>\n",
       "      <td>NaN</td>\n",
       "      <td>NaN</td>\n",
       "      <td>NaN</td>\n",
       "      <td>NaN</td>\n",
       "      <td>NaN</td>\n",
       "      <td>England</td>\n",
       "      <td>768</td>\n",
       "      <td>00:00:00.000</td>\n",
       "      <td>Half Start</td>\n",
       "      <td>NaN</td>\n",
       "    </tr>\n",
       "  </tbody>\n",
       "</table>\n",
       "</div>"
      ],
      "text/plain": [
       "  50_50 ball_receipt_outcome ball_recovery_recovery_failure block_deflection  \\\n",
       "0   NaN                  NaN                            NaN              NaN   \n",
       "1   NaN                  NaN                            NaN              NaN   \n",
       "2   NaN                  NaN                            NaN              NaN   \n",
       "3   NaN                  NaN                            NaN              NaN   \n",
       "4   NaN                  NaN                            NaN              NaN   \n",
       "\n",
       "  block_offensive block_save_block carry_end_location clearance_aerial_won  \\\n",
       "0             NaN              NaN                NaN                  NaN   \n",
       "1             NaN              NaN                NaN                  NaN   \n",
       "2             NaN              NaN                NaN                  NaN   \n",
       "3             NaN              NaN                NaN                  NaN   \n",
       "4             NaN              NaN                NaN                  NaN   \n",
       "\n",
       "  clearance_body_part clearance_head clearance_left_foot clearance_right_foot  \\\n",
       "0                 NaN            NaN                 NaN                  NaN   \n",
       "1                 NaN            NaN                 NaN                  NaN   \n",
       "2                 NaN            NaN                 NaN                  NaN   \n",
       "3                 NaN            NaN                 NaN                  NaN   \n",
       "4                 NaN            NaN                 NaN                  NaN   \n",
       "\n",
       "  counterpress dribble_nutmeg dribble_outcome dribble_overrun duel_outcome  \\\n",
       "0          NaN            NaN             NaN             NaN          NaN   \n",
       "1          NaN            NaN             NaN             NaN          NaN   \n",
       "2          NaN            NaN             NaN             NaN          NaN   \n",
       "3          NaN            NaN             NaN             NaN          NaN   \n",
       "4          NaN            NaN             NaN             NaN          NaN   \n",
       "\n",
       "  duel_type  duration foul_committed_advantage foul_committed_card  \\\n",
       "0       NaN       0.0                      NaN                 NaN   \n",
       "1       NaN       0.0                      NaN                 NaN   \n",
       "2       NaN       0.0                      NaN                 NaN   \n",
       "3       NaN       0.0                      NaN                 NaN   \n",
       "4       NaN       0.0                      NaN                 NaN   \n",
       "\n",
       "  foul_committed_offensive foul_won_advantage foul_won_defensive  \\\n",
       "0                      NaN                NaN                NaN   \n",
       "1                      NaN                NaN                NaN   \n",
       "2                      NaN                NaN                NaN   \n",
       "3                      NaN                NaN                NaN   \n",
       "4                      NaN                NaN                NaN   \n",
       "\n",
       "  goalkeeper_body_part goalkeeper_end_location goalkeeper_outcome  \\\n",
       "0                  NaN                     NaN                NaN   \n",
       "1                  NaN                     NaN                NaN   \n",
       "2                  NaN                     NaN                NaN   \n",
       "3                  NaN                     NaN                NaN   \n",
       "4                  NaN                     NaN                NaN   \n",
       "\n",
       "  goalkeeper_position goalkeeper_technique goalkeeper_type  \\\n",
       "0                 NaN                  NaN             NaN   \n",
       "1                 NaN                  NaN             NaN   \n",
       "2                 NaN                  NaN             NaN   \n",
       "3                 NaN                  NaN             NaN   \n",
       "4                 NaN                  NaN             NaN   \n",
       "\n",
       "                                     id  index injury_stoppage_in_chain  \\\n",
       "0  50aa204f-5d65-4145-8597-5d5628fb7898      1                      NaN   \n",
       "1  a279cbee-9ab3-4cfb-9c51-27cacc1bf2a2      2                      NaN   \n",
       "2  d2126e70-9f04-4bb7-ba2b-9377836d1757      3                      NaN   \n",
       "3  54d78bfa-4146-42bd-acdc-97bcd393dd81      4                      NaN   \n",
       "4  7230470a-8ceb-4eb8-a66f-d72a2afb12d6   1706                      NaN   \n",
       "\n",
       "  interception_outcome location  match_id  minute off_camera  out  \\\n",
       "0                  NaN      NaN   3943043       0        NaN  NaN   \n",
       "1                  NaN      NaN   3943043       0        NaN  NaN   \n",
       "2                  NaN      NaN   3943043       0        NaN  NaN   \n",
       "3                  NaN      NaN   3943043       0        NaN  NaN   \n",
       "4                  NaN      NaN   3943043      45        NaN  NaN   \n",
       "\n",
       "  pass_aerial_won  pass_angle pass_assisted_shot_id pass_body_part pass_cross  \\\n",
       "0             NaN         NaN                   NaN            NaN        NaN   \n",
       "1             NaN         NaN                   NaN            NaN        NaN   \n",
       "2             NaN         NaN                   NaN            NaN        NaN   \n",
       "3             NaN         NaN                   NaN            NaN        NaN   \n",
       "4             NaN         NaN                   NaN            NaN        NaN   \n",
       "\n",
       "  pass_cut_back pass_end_location pass_goal_assist pass_height  \\\n",
       "0           NaN               NaN              NaN         NaN   \n",
       "1           NaN               NaN              NaN         NaN   \n",
       "2           NaN               NaN              NaN         NaN   \n",
       "3           NaN               NaN              NaN         NaN   \n",
       "4           NaN               NaN              NaN         NaN   \n",
       "\n",
       "  pass_inswinging  pass_length pass_no_touch pass_outcome pass_outswinging  \\\n",
       "0             NaN          NaN           NaN          NaN              NaN   \n",
       "1             NaN          NaN           NaN          NaN              NaN   \n",
       "2             NaN          NaN           NaN          NaN              NaN   \n",
       "3             NaN          NaN           NaN          NaN              NaN   \n",
       "4             NaN          NaN           NaN          NaN              NaN   \n",
       "\n",
       "  pass_recipient  pass_recipient_id pass_shot_assist pass_switch  \\\n",
       "0            NaN                NaN              NaN         NaN   \n",
       "1            NaN                NaN              NaN         NaN   \n",
       "2            NaN                NaN              NaN         NaN   \n",
       "3            NaN                NaN              NaN         NaN   \n",
       "4            NaN                NaN              NaN         NaN   \n",
       "\n",
       "  pass_technique pass_through_ball pass_type  period  play_pattern player  \\\n",
       "0            NaN               NaN       NaN       1  Regular Play    NaN   \n",
       "1            NaN               NaN       NaN       1  Regular Play    NaN   \n",
       "2            NaN               NaN       NaN       1  Regular Play    NaN   \n",
       "3            NaN               NaN       NaN       1  Regular Play    NaN   \n",
       "4            NaN               NaN       NaN       2  Regular Play    NaN   \n",
       "\n",
       "   player_id position  possession possession_team  possession_team_id  \\\n",
       "0        NaN      NaN           1           Spain                 772   \n",
       "1        NaN      NaN           1           Spain                 772   \n",
       "2        NaN      NaN           1           Spain                 772   \n",
       "3        NaN      NaN           1           Spain                 772   \n",
       "4        NaN      NaN          79           Spain                 772   \n",
       "\n",
       "                           related_events  second shot_aerial_won  \\\n",
       "0                                     NaN       0             NaN   \n",
       "1                                     NaN       0             NaN   \n",
       "2  [54d78bfa-4146-42bd-acdc-97bcd393dd81]       0             NaN   \n",
       "3  [d2126e70-9f04-4bb7-ba2b-9377836d1757]       0             NaN   \n",
       "4  [cb9ba06c-a673-448d-ab21-755d330fcadc]       0             NaN   \n",
       "\n",
       "  shot_body_part shot_deflected shot_end_location shot_first_time  \\\n",
       "0            NaN            NaN               NaN             NaN   \n",
       "1            NaN            NaN               NaN             NaN   \n",
       "2            NaN            NaN               NaN             NaN   \n",
       "3            NaN            NaN               NaN             NaN   \n",
       "4            NaN            NaN               NaN             NaN   \n",
       "\n",
       "  shot_freeze_frame shot_key_pass_id shot_one_on_one shot_outcome  \\\n",
       "0               NaN              NaN             NaN          NaN   \n",
       "1               NaN              NaN             NaN          NaN   \n",
       "2               NaN              NaN             NaN          NaN   \n",
       "3               NaN              NaN             NaN          NaN   \n",
       "4               NaN              NaN             NaN          NaN   \n",
       "\n",
       "   shot_statsbomb_xg shot_technique shot_type substitution_outcome  \\\n",
       "0                NaN            NaN       NaN                  NaN   \n",
       "1                NaN            NaN       NaN                  NaN   \n",
       "2                NaN            NaN       NaN                  NaN   \n",
       "3                NaN            NaN       NaN                  NaN   \n",
       "4                NaN            NaN       NaN                  NaN   \n",
       "\n",
       "   substitution_outcome_id substitution_replacement  \\\n",
       "0                      NaN                      NaN   \n",
       "1                      NaN                      NaN   \n",
       "2                      NaN                      NaN   \n",
       "3                      NaN                      NaN   \n",
       "4                      NaN                      NaN   \n",
       "\n",
       "   substitution_replacement_id  \\\n",
       "0                          NaN   \n",
       "1                          NaN   \n",
       "2                          NaN   \n",
       "3                          NaN   \n",
       "4                          NaN   \n",
       "\n",
       "                                             tactics     team  team_id  \\\n",
       "0  {'formation': 4231, 'lineup': [{'player': {'id...    Spain      772   \n",
       "1  {'formation': 4231, 'lineup': [{'player': {'id...  England      768   \n",
       "2                                                NaN  England      768   \n",
       "3                                                NaN    Spain      772   \n",
       "4                                                NaN  England      768   \n",
       "\n",
       "      timestamp         type under_pressure  \n",
       "0  00:00:00.000  Starting XI            NaN  \n",
       "1  00:00:00.000  Starting XI            NaN  \n",
       "2  00:00:00.000   Half Start            NaN  \n",
       "3  00:00:00.000   Half Start            NaN  \n",
       "4  00:00:00.000   Half Start            NaN  "
      ]
     },
     "execution_count": 114,
     "metadata": {},
     "output_type": "execute_result"
    }
   ],
   "source": [
    "match.head()"
   ]
  },
  {
   "cell_type": "code",
   "execution_count": 115,
   "id": "6b91d0a6-a5c2-4bca-a895-e703cde3060a",
   "metadata": {},
   "outputs": [],
   "source": [
    "# retieve the general info of the match using again the other function and the match selector\n",
    "match_details = teams_selected(matches,match_selector)"
   ]
  },
  {
   "cell_type": "code",
   "execution_count": 116,
   "id": "04c24fed-60aa-4f77-aad2-3bf70fa2df25",
   "metadata": {},
   "outputs": [
    {
     "data": {
      "text/html": [
       "<div>\n",
       "<style scoped>\n",
       "    .dataframe tbody tr th:only-of-type {\n",
       "        vertical-align: middle;\n",
       "    }\n",
       "\n",
       "    .dataframe tbody tr th {\n",
       "        vertical-align: top;\n",
       "    }\n",
       "\n",
       "    .dataframe thead th {\n",
       "        text-align: right;\n",
       "    }\n",
       "</style>\n",
       "<table border=\"1\" class=\"dataframe\">\n",
       "  <thead>\n",
       "    <tr style=\"text-align: right;\">\n",
       "      <th></th>\n",
       "      <th>match_id</th>\n",
       "      <th>match_date</th>\n",
       "      <th>home_team</th>\n",
       "      <th>away_team</th>\n",
       "      <th>competition_stage</th>\n",
       "      <th>home_score</th>\n",
       "      <th>away_score</th>\n",
       "      <th>match</th>\n",
       "    </tr>\n",
       "  </thead>\n",
       "  <tbody>\n",
       "    <tr>\n",
       "      <th>1</th>\n",
       "      <td>3943043</td>\n",
       "      <td>2024-07-14</td>\n",
       "      <td>Spain</td>\n",
       "      <td>England</td>\n",
       "      <td>Final</td>\n",
       "      <td>2</td>\n",
       "      <td>1</td>\n",
       "      <td>Final Spain - England</td>\n",
       "    </tr>\n",
       "  </tbody>\n",
       "</table>\n",
       "</div>"
      ],
      "text/plain": [
       "   match_id  match_date home_team away_team competition_stage  home_score  \\\n",
       "1   3943043  2024-07-14     Spain   England             Final           2   \n",
       "\n",
       "   away_score                  match  \n",
       "1           1  Final Spain - England  "
      ]
     },
     "execution_count": 116,
     "metadata": {},
     "output_type": "execute_result"
    }
   ],
   "source": [
    "match_details"
   ]
  },
  {
   "cell_type": "code",
   "execution_count": 117,
   "id": "37a057be-e225-4861-8e6f-dd60f36fee73",
   "metadata": {},
   "outputs": [],
   "source": [
    "# make a new column minute_per_15 to capture in which interval the match is\n",
    "def interval_minute(row):\n",
    "    if row['period'] == 1 and row['minute'] > 45:\n",
    "        return 45\n",
    "    elif row['period'] == 2 and row['minute'] > 90:\n",
    "        return 90\n",
    "    elif row['period'] == 3 and row['minute'] > 105:\n",
    "        return 105\n",
    "    elif row['period'] == 4 and row['minute'] > 120:\n",
    "        return 120\n",
    "    else:\n",
    "        return row['minute']\n",
    "\n",
    "match['interval_minute'] = match.apply(interval_minute, axis=1)\n",
    "\n",
    "# Step 2: Make sure 0 becomes 15\n",
    "match['minute_per_15'] = np.ceil(match['interval_minute'].clip(lower=1) / 15) * 15\n",
    "match['minute_per_15'] = match['minute_per_15'].astype(int)"
   ]
  },
  {
   "cell_type": "markdown",
   "id": "a756c23b-1388-4712-9c90-ac764183ab8c",
   "metadata": {},
   "source": [
    "## Team Colors"
   ]
  },
  {
   "cell_type": "code",
   "execution_count": 118,
   "id": "0be2a846-70d4-49ad-857e-fffafe68d8e4",
   "metadata": {},
   "outputs": [],
   "source": [
    "#concat home and away teams to keep the unique teams that participated to the tournament\n",
    "home_team = euro_2024_matches['home_team']\n",
    "away_team = euro_2024_matches['away_team']\n",
    "teams = pd.concat([home_team,away_team])\n",
    "teams = pd.DataFrame(teams.drop_duplicates()).reset_index(drop=True)\n",
    "teams.columns = ['Team']"
   ]
  },
  {
   "cell_type": "code",
   "execution_count": 119,
   "id": "046254a7-2a12-4526-802f-584ce67d4b37",
   "metadata": {},
   "outputs": [],
   "source": [
    "# give teams colors for the visuals\n",
    "team_colors = pd.read_excel('Team Colors.xlsx')\n",
    "teams = teams.merge(team_colors, how='inner', on='Team')"
   ]
  },
  {
   "cell_type": "code",
   "execution_count": 120,
   "id": "39967cc4-0af4-490f-852e-204adad82de7",
   "metadata": {},
   "outputs": [
    {
     "data": {
      "text/html": [
       "<div>\n",
       "<style scoped>\n",
       "    .dataframe tbody tr th:only-of-type {\n",
       "        vertical-align: middle;\n",
       "    }\n",
       "\n",
       "    .dataframe tbody tr th {\n",
       "        vertical-align: top;\n",
       "    }\n",
       "\n",
       "    .dataframe thead th {\n",
       "        text-align: right;\n",
       "    }\n",
       "</style>\n",
       "<table border=\"1\" class=\"dataframe\">\n",
       "  <thead>\n",
       "    <tr style=\"text-align: right;\">\n",
       "      <th></th>\n",
       "      <th>Team</th>\n",
       "      <th>First_Color</th>\n",
       "      <th>Second_Color</th>\n",
       "    </tr>\n",
       "  </thead>\n",
       "  <tbody>\n",
       "    <tr>\n",
       "      <th>0</th>\n",
       "      <td>Netherlands</td>\n",
       "      <td>#F36C21</td>\n",
       "      <td>#FFFFFF</td>\n",
       "    </tr>\n",
       "    <tr>\n",
       "      <th>1</th>\n",
       "      <td>Spain</td>\n",
       "      <td>#8B0D11</td>\n",
       "      <td>#FCB507</td>\n",
       "    </tr>\n",
       "    <tr>\n",
       "      <th>2</th>\n",
       "      <td>Portugal</td>\n",
       "      <td>#E42518</td>\n",
       "      <td>#0D6938</td>\n",
       "    </tr>\n",
       "    <tr>\n",
       "      <th>3</th>\n",
       "      <td>Denmark</td>\n",
       "      <td>#FCB507</td>\n",
       "      <td>#FFFFFF</td>\n",
       "    </tr>\n",
       "    <tr>\n",
       "      <th>4</th>\n",
       "      <td>England</td>\n",
       "      <td>#012169</td>\n",
       "      <td>#FFFFFF</td>\n",
       "    </tr>\n",
       "  </tbody>\n",
       "</table>\n",
       "</div>"
      ],
      "text/plain": [
       "          Team First_Color Second_Color\n",
       "0  Netherlands     #F36C21      #FFFFFF\n",
       "1        Spain     #8B0D11      #FCB507\n",
       "2     Portugal     #E42518      #0D6938\n",
       "3      Denmark     #FCB507      #FFFFFF\n",
       "4      England     #012169      #FFFFFF"
      ]
     },
     "execution_count": 120,
     "metadata": {},
     "output_type": "execute_result"
    }
   ],
   "source": [
    "teams.head()"
   ]
  },
  {
   "cell_type": "code",
   "execution_count": 121,
   "id": "4b5582d1-6ba8-43d8-8990-bca5c9f6e23f",
   "metadata": {},
   "outputs": [],
   "source": [
    "home_team = str(match_details['home_team'].iloc[0])\n",
    "home_color = teams[teams['Team'] == home_team]['First_Color'].values[0]\n",
    "away_team = str(match_details['away_team'].iloc[0])\n",
    "away_color = teams[teams['Team'] == away_team]['Second_Color'].values[0]"
   ]
  },
  {
   "cell_type": "code",
   "execution_count": 122,
   "id": "ade9d483-e192-406c-b8c7-49c958cbec1d",
   "metadata": {},
   "outputs": [
    {
     "name": "stdout",
     "output_type": "stream",
     "text": [
      "Home Team Color code : #8B0D11  Away Team Color code : #FFFFFF\n"
     ]
    }
   ],
   "source": [
    "print(f'Home Team Color code : {home_color}  Away Team Color code : {away_color}')"
   ]
  },
  {
   "cell_type": "markdown",
   "id": "d8b5ed1d-1f52-4587-9fc0-bbe59ebe0a9a",
   "metadata": {},
   "source": [
    "# Analysis"
   ]
  },
  {
   "cell_type": "code",
   "execution_count": 123,
   "id": "e38008e1-4735-40d1-adeb-a77c83d79187",
   "metadata": {},
   "outputs": [],
   "source": [
    "# exclude penalties\n",
    "match = match[match['period'] != 5]"
   ]
  },
  {
   "cell_type": "code",
   "execution_count": 124,
   "id": "660c096f-6ef4-44e3-8a3d-d0ea386d57ea",
   "metadata": {},
   "outputs": [],
   "source": [
    "teams_in_match = match['team'].unique()\n",
    "\n",
    "# Create a function to get the opposing team\n",
    "def get_opposing_team(team):\n",
    "    return [t for t in teams_in_match if t != team][0]\n",
    "\n",
    "# Create goal tracking with proper own goal handling\n",
    "match['goal'] = 0  # Initialize all as 0\n",
    "\n",
    "# Handle regular goals\n",
    "regular_goals = (match['shot_outcome'] == 'Goal')\n",
    "match.loc[regular_goals, 'goal'] = 1\n",
    "\n",
    "# Handle own goals - create separate records for the benefiting team\n",
    "own_goals = match[match['type'] == 'Own Goal Against'].copy()\n",
    "\n",
    "if not own_goals.empty:\n",
    "    # For each own goal, create a new record crediting the opposing team\n",
    "    own_goal_records = []\n",
    "    \n",
    "    for idx, row in own_goals.iterrows():\n",
    "        # Create a new record for the opposing team\n",
    "        new_record = row.copy()\n",
    "        new_record['team'] = get_opposing_team(row['team'])\n",
    "        new_record['goal'] = 1\n",
    "        own_goal_records.append(new_record)\n",
    "    \n",
    "    # Convert to DataFrame and append to match data\n",
    "    own_goal_df = pd.DataFrame(own_goal_records)\n",
    "    match_with_own_goals = pd.concat([match, own_goal_df], ignore_index=True)\n",
    "else:\n",
    "    match_with_own_goals = match.copy()\n",
    "\n",
    "# Now group by team and minute_per_15 to get goals\n",
    "goals_by_team_minute = match_with_own_goals.groupby(['team', 'minute_per_15'])['goal'].sum().reset_index()\n",
    "goals_by_team_minute.rename(columns={'goal': 'goals'}, inplace=True)"
   ]
  },
  {
   "cell_type": "code",
   "execution_count": 125,
   "id": "a4385946-44e9-4ecb-8712-5f7545f16f6b",
   "metadata": {},
   "outputs": [
    {
     "data": {
      "text/html": [
       "<div>\n",
       "<style scoped>\n",
       "    .dataframe tbody tr th:only-of-type {\n",
       "        vertical-align: middle;\n",
       "    }\n",
       "\n",
       "    .dataframe tbody tr th {\n",
       "        vertical-align: top;\n",
       "    }\n",
       "\n",
       "    .dataframe thead th {\n",
       "        text-align: right;\n",
       "    }\n",
       "</style>\n",
       "<table border=\"1\" class=\"dataframe\">\n",
       "  <thead>\n",
       "    <tr style=\"text-align: right;\">\n",
       "      <th></th>\n",
       "      <th>team</th>\n",
       "      <th>minute_per_15</th>\n",
       "      <th>goals</th>\n",
       "    </tr>\n",
       "  </thead>\n",
       "  <tbody>\n",
       "    <tr>\n",
       "      <th>0</th>\n",
       "      <td>England</td>\n",
       "      <td>15</td>\n",
       "      <td>0</td>\n",
       "    </tr>\n",
       "    <tr>\n",
       "      <th>1</th>\n",
       "      <td>England</td>\n",
       "      <td>30</td>\n",
       "      <td>0</td>\n",
       "    </tr>\n",
       "    <tr>\n",
       "      <th>2</th>\n",
       "      <td>England</td>\n",
       "      <td>45</td>\n",
       "      <td>0</td>\n",
       "    </tr>\n",
       "    <tr>\n",
       "      <th>3</th>\n",
       "      <td>England</td>\n",
       "      <td>60</td>\n",
       "      <td>0</td>\n",
       "    </tr>\n",
       "    <tr>\n",
       "      <th>4</th>\n",
       "      <td>England</td>\n",
       "      <td>75</td>\n",
       "      <td>1</td>\n",
       "    </tr>\n",
       "    <tr>\n",
       "      <th>5</th>\n",
       "      <td>England</td>\n",
       "      <td>90</td>\n",
       "      <td>0</td>\n",
       "    </tr>\n",
       "    <tr>\n",
       "      <th>6</th>\n",
       "      <td>Spain</td>\n",
       "      <td>15</td>\n",
       "      <td>0</td>\n",
       "    </tr>\n",
       "    <tr>\n",
       "      <th>7</th>\n",
       "      <td>Spain</td>\n",
       "      <td>30</td>\n",
       "      <td>0</td>\n",
       "    </tr>\n",
       "    <tr>\n",
       "      <th>8</th>\n",
       "      <td>Spain</td>\n",
       "      <td>45</td>\n",
       "      <td>0</td>\n",
       "    </tr>\n",
       "    <tr>\n",
       "      <th>9</th>\n",
       "      <td>Spain</td>\n",
       "      <td>60</td>\n",
       "      <td>1</td>\n",
       "    </tr>\n",
       "    <tr>\n",
       "      <th>10</th>\n",
       "      <td>Spain</td>\n",
       "      <td>75</td>\n",
       "      <td>0</td>\n",
       "    </tr>\n",
       "    <tr>\n",
       "      <th>11</th>\n",
       "      <td>Spain</td>\n",
       "      <td>90</td>\n",
       "      <td>1</td>\n",
       "    </tr>\n",
       "  </tbody>\n",
       "</table>\n",
       "</div>"
      ],
      "text/plain": [
       "       team  minute_per_15  goals\n",
       "0   England             15      0\n",
       "1   England             30      0\n",
       "2   England             45      0\n",
       "3   England             60      0\n",
       "4   England             75      1\n",
       "5   England             90      0\n",
       "6     Spain             15      0\n",
       "7     Spain             30      0\n",
       "8     Spain             45      0\n",
       "9     Spain             60      1\n",
       "10    Spain             75      0\n",
       "11    Spain             90      1"
      ]
     },
     "execution_count": 125,
     "metadata": {},
     "output_type": "execute_result"
    }
   ],
   "source": [
    "goals_by_team_minute"
   ]
  },
  {
   "cell_type": "code",
   "execution_count": 126,
   "id": "bfbf82b6-bb07-4b72-8c60-914d51e376c3",
   "metadata": {},
   "outputs": [],
   "source": [
    "# sucessful passes per 15 minutes\n",
    "passes_complete = match[match['type'] == 'Pass']\n",
    "passes_complete = passes_complete[passes_complete['pass_outcome'].isnull()]\n",
    "passes_complete = passes_complete.groupby(['team', 'minute_per_15'])['type'].count().reset_index()\n",
    "passes_complete.rename(columns={'type': 'successful_passes'}, inplace=True)"
   ]
  },
  {
   "cell_type": "code",
   "execution_count": 127,
   "id": "10ff9902-5ffa-4dde-8d9d-701db151493d",
   "metadata": {},
   "outputs": [
    {
     "data": {
      "text/html": [
       "<div>\n",
       "<style scoped>\n",
       "    .dataframe tbody tr th:only-of-type {\n",
       "        vertical-align: middle;\n",
       "    }\n",
       "\n",
       "    .dataframe tbody tr th {\n",
       "        vertical-align: top;\n",
       "    }\n",
       "\n",
       "    .dataframe thead th {\n",
       "        text-align: right;\n",
       "    }\n",
       "</style>\n",
       "<table border=\"1\" class=\"dataframe\">\n",
       "  <thead>\n",
       "    <tr style=\"text-align: right;\">\n",
       "      <th></th>\n",
       "      <th>team</th>\n",
       "      <th>minute_per_15</th>\n",
       "      <th>successful_passes</th>\n",
       "    </tr>\n",
       "  </thead>\n",
       "  <tbody>\n",
       "    <tr>\n",
       "      <th>0</th>\n",
       "      <td>England</td>\n",
       "      <td>15</td>\n",
       "      <td>36</td>\n",
       "    </tr>\n",
       "    <tr>\n",
       "      <th>1</th>\n",
       "      <td>England</td>\n",
       "      <td>30</td>\n",
       "      <td>39</td>\n",
       "    </tr>\n",
       "    <tr>\n",
       "      <th>2</th>\n",
       "      <td>England</td>\n",
       "      <td>45</td>\n",
       "      <td>37</td>\n",
       "    </tr>\n",
       "    <tr>\n",
       "      <th>3</th>\n",
       "      <td>England</td>\n",
       "      <td>60</td>\n",
       "      <td>76</td>\n",
       "    </tr>\n",
       "    <tr>\n",
       "      <th>4</th>\n",
       "      <td>England</td>\n",
       "      <td>75</td>\n",
       "      <td>45</td>\n",
       "    </tr>\n",
       "    <tr>\n",
       "      <th>5</th>\n",
       "      <td>England</td>\n",
       "      <td>90</td>\n",
       "      <td>21</td>\n",
       "    </tr>\n",
       "    <tr>\n",
       "      <th>6</th>\n",
       "      <td>Spain</td>\n",
       "      <td>15</td>\n",
       "      <td>110</td>\n",
       "    </tr>\n",
       "    <tr>\n",
       "      <th>7</th>\n",
       "      <td>Spain</td>\n",
       "      <td>30</td>\n",
       "      <td>87</td>\n",
       "    </tr>\n",
       "    <tr>\n",
       "      <th>8</th>\n",
       "      <td>Spain</td>\n",
       "      <td>45</td>\n",
       "      <td>101</td>\n",
       "    </tr>\n",
       "    <tr>\n",
       "      <th>9</th>\n",
       "      <td>Spain</td>\n",
       "      <td>60</td>\n",
       "      <td>87</td>\n",
       "    </tr>\n",
       "    <tr>\n",
       "      <th>10</th>\n",
       "      <td>Spain</td>\n",
       "      <td>75</td>\n",
       "      <td>37</td>\n",
       "    </tr>\n",
       "    <tr>\n",
       "      <th>11</th>\n",
       "      <td>Spain</td>\n",
       "      <td>90</td>\n",
       "      <td>96</td>\n",
       "    </tr>\n",
       "  </tbody>\n",
       "</table>\n",
       "</div>"
      ],
      "text/plain": [
       "       team  minute_per_15  successful_passes\n",
       "0   England             15                 36\n",
       "1   England             30                 39\n",
       "2   England             45                 37\n",
       "3   England             60                 76\n",
       "4   England             75                 45\n",
       "5   England             90                 21\n",
       "6     Spain             15                110\n",
       "7     Spain             30                 87\n",
       "8     Spain             45                101\n",
       "9     Spain             60                 87\n",
       "10    Spain             75                 37\n",
       "11    Spain             90                 96"
      ]
     },
     "execution_count": 127,
     "metadata": {},
     "output_type": "execute_result"
    }
   ],
   "source": [
    "passes_complete"
   ]
  },
  {
   "cell_type": "code",
   "execution_count": 128,
   "id": "921a9cb6-87ca-4c7b-84f9-3f8b21a2f1b2",
   "metadata": {},
   "outputs": [
    {
     "data": {
      "text/html": [
       "<div>\n",
       "<style scoped>\n",
       "    .dataframe tbody tr th:only-of-type {\n",
       "        vertical-align: middle;\n",
       "    }\n",
       "\n",
       "    .dataframe tbody tr th {\n",
       "        vertical-align: top;\n",
       "    }\n",
       "\n",
       "    .dataframe thead th {\n",
       "        text-align: right;\n",
       "    }\n",
       "</style>\n",
       "<table border=\"1\" class=\"dataframe\">\n",
       "  <thead>\n",
       "    <tr style=\"text-align: right;\">\n",
       "      <th></th>\n",
       "      <th>team</th>\n",
       "      <th>minute_per_15</th>\n",
       "      <th>xgoals</th>\n",
       "    </tr>\n",
       "  </thead>\n",
       "  <tbody>\n",
       "    <tr>\n",
       "      <th>0</th>\n",
       "      <td>England</td>\n",
       "      <td>15</td>\n",
       "      <td>0.000000</td>\n",
       "    </tr>\n",
       "    <tr>\n",
       "      <th>1</th>\n",
       "      <td>England</td>\n",
       "      <td>30</td>\n",
       "      <td>0.048995</td>\n",
       "    </tr>\n",
       "    <tr>\n",
       "      <th>2</th>\n",
       "      <td>England</td>\n",
       "      <td>45</td>\n",
       "      <td>0.228066</td>\n",
       "    </tr>\n",
       "    <tr>\n",
       "      <th>3</th>\n",
       "      <td>England</td>\n",
       "      <td>60</td>\n",
       "      <td>0.000000</td>\n",
       "    </tr>\n",
       "    <tr>\n",
       "      <th>4</th>\n",
       "      <td>England</td>\n",
       "      <td>75</td>\n",
       "      <td>0.168938</td>\n",
       "    </tr>\n",
       "    <tr>\n",
       "      <th>5</th>\n",
       "      <td>England</td>\n",
       "      <td>90</td>\n",
       "      <td>0.280378</td>\n",
       "    </tr>\n",
       "    <tr>\n",
       "      <th>6</th>\n",
       "      <td>Spain</td>\n",
       "      <td>15</td>\n",
       "      <td>0.185495</td>\n",
       "    </tr>\n",
       "    <tr>\n",
       "      <th>7</th>\n",
       "      <td>Spain</td>\n",
       "      <td>30</td>\n",
       "      <td>0.048117</td>\n",
       "    </tr>\n",
       "    <tr>\n",
       "      <th>8</th>\n",
       "      <td>Spain</td>\n",
       "      <td>45</td>\n",
       "      <td>0.104909</td>\n",
       "    </tr>\n",
       "    <tr>\n",
       "      <th>9</th>\n",
       "      <td>Spain</td>\n",
       "      <td>60</td>\n",
       "      <td>0.675589</td>\n",
       "    </tr>\n",
       "    <tr>\n",
       "      <th>10</th>\n",
       "      <td>Spain</td>\n",
       "      <td>75</td>\n",
       "      <td>0.330346</td>\n",
       "    </tr>\n",
       "    <tr>\n",
       "      <th>11</th>\n",
       "      <td>Spain</td>\n",
       "      <td>90</td>\n",
       "      <td>0.447258</td>\n",
       "    </tr>\n",
       "  </tbody>\n",
       "</table>\n",
       "</div>"
      ],
      "text/plain": [
       "       team  minute_per_15    xgoals\n",
       "0   England             15  0.000000\n",
       "1   England             30  0.048995\n",
       "2   England             45  0.228066\n",
       "3   England             60  0.000000\n",
       "4   England             75  0.168938\n",
       "5   England             90  0.280378\n",
       "6     Spain             15  0.185495\n",
       "7     Spain             30  0.048117\n",
       "8     Spain             45  0.104909\n",
       "9     Spain             60  0.675589\n",
       "10    Spain             75  0.330346\n",
       "11    Spain             90  0.447258"
      ]
     },
     "execution_count": 128,
     "metadata": {},
     "output_type": "execute_result"
    }
   ],
   "source": [
    "# xgoals per 15 minutes\n",
    "xgoals_by_team_minute = match.groupby(['team', 'minute_per_15'])['shot_statsbomb_xg'].sum().reset_index()\n",
    "xgoals_by_team_minute.rename(columns={'shot_statsbomb_xg': 'xgoals'}, inplace=True)\n",
    "xgoals_by_team_minute"
   ]
  },
  {
   "cell_type": "code",
   "execution_count": 129,
   "id": "2d2a724a-e7ca-403b-921c-a878454cb3d5",
   "metadata": {},
   "outputs": [
    {
     "data": {
      "text/html": [
       "<div>\n",
       "<style scoped>\n",
       "    .dataframe tbody tr th:only-of-type {\n",
       "        vertical-align: middle;\n",
       "    }\n",
       "\n",
       "    .dataframe tbody tr th {\n",
       "        vertical-align: top;\n",
       "    }\n",
       "\n",
       "    .dataframe thead th {\n",
       "        text-align: right;\n",
       "    }\n",
       "</style>\n",
       "<table border=\"1\" class=\"dataframe\">\n",
       "  <thead>\n",
       "    <tr style=\"text-align: right;\">\n",
       "      <th></th>\n",
       "      <th>team</th>\n",
       "      <th>minute_per_15</th>\n",
       "      <th>shots</th>\n",
       "    </tr>\n",
       "  </thead>\n",
       "  <tbody>\n",
       "    <tr>\n",
       "      <th>0</th>\n",
       "      <td>Spain</td>\n",
       "      <td>15</td>\n",
       "      <td>2</td>\n",
       "    </tr>\n",
       "    <tr>\n",
       "      <th>1</th>\n",
       "      <td>Spain</td>\n",
       "      <td>45</td>\n",
       "      <td>2</td>\n",
       "    </tr>\n",
       "    <tr>\n",
       "      <th>2</th>\n",
       "      <td>Spain</td>\n",
       "      <td>30</td>\n",
       "      <td>1</td>\n",
       "    </tr>\n",
       "    <tr>\n",
       "      <th>3</th>\n",
       "      <td>Spain</td>\n",
       "      <td>60</td>\n",
       "      <td>5</td>\n",
       "    </tr>\n",
       "    <tr>\n",
       "      <th>4</th>\n",
       "      <td>Spain</td>\n",
       "      <td>75</td>\n",
       "      <td>4</td>\n",
       "    </tr>\n",
       "    <tr>\n",
       "      <th>5</th>\n",
       "      <td>Spain</td>\n",
       "      <td>90</td>\n",
       "      <td>2</td>\n",
       "    </tr>\n",
       "    <tr>\n",
       "      <th>6</th>\n",
       "      <td>England</td>\n",
       "      <td>15</td>\n",
       "      <td>0</td>\n",
       "    </tr>\n",
       "    <tr>\n",
       "      <th>7</th>\n",
       "      <td>England</td>\n",
       "      <td>45</td>\n",
       "      <td>2</td>\n",
       "    </tr>\n",
       "    <tr>\n",
       "      <th>8</th>\n",
       "      <td>England</td>\n",
       "      <td>30</td>\n",
       "      <td>1</td>\n",
       "    </tr>\n",
       "    <tr>\n",
       "      <th>9</th>\n",
       "      <td>England</td>\n",
       "      <td>60</td>\n",
       "      <td>0</td>\n",
       "    </tr>\n",
       "    <tr>\n",
       "      <th>10</th>\n",
       "      <td>England</td>\n",
       "      <td>75</td>\n",
       "      <td>3</td>\n",
       "    </tr>\n",
       "    <tr>\n",
       "      <th>11</th>\n",
       "      <td>England</td>\n",
       "      <td>90</td>\n",
       "      <td>3</td>\n",
       "    </tr>\n",
       "  </tbody>\n",
       "</table>\n",
       "</div>"
      ],
      "text/plain": [
       "       team  minute_per_15  shots\n",
       "0     Spain             15      2\n",
       "1     Spain             45      2\n",
       "2     Spain             30      1\n",
       "3     Spain             60      5\n",
       "4     Spain             75      4\n",
       "5     Spain             90      2\n",
       "6   England             15      0\n",
       "7   England             45      2\n",
       "8   England             30      1\n",
       "9   England             60      0\n",
       "10  England             75      3\n",
       "11  England             90      3"
      ]
     },
     "execution_count": 129,
     "metadata": {},
     "output_type": "execute_result"
    }
   ],
   "source": [
    "# shots per 15 minutes\n",
    "shots = (\n",
    "    match[match['shot_outcome'].notnull()]\n",
    "    .groupby(['team', 'minute_per_15'])['shot_outcome']\n",
    "    .count()\n",
    "    .reset_index(name='shots')\n",
    ")\n",
    "\n",
    "teams = match['team'].unique()\n",
    "minutes = match['minute_per_15'].unique()\n",
    "\n",
    "full_index = pd.MultiIndex.from_product([teams, minutes], names=['team', 'minute_per_15'])\n",
    "shots = shots.set_index(['team', 'minute_per_15']).reindex(full_index, fill_value=0).reset_index()\n",
    "shots"
   ]
  },
  {
   "cell_type": "code",
   "execution_count": 130,
   "id": "0df1071b-f71b-4d33-a69e-dffb5badc2e6",
   "metadata": {},
   "outputs": [
    {
     "data": {
      "text/html": [
       "<div>\n",
       "<style scoped>\n",
       "    .dataframe tbody tr th:only-of-type {\n",
       "        vertical-align: middle;\n",
       "    }\n",
       "\n",
       "    .dataframe tbody tr th {\n",
       "        vertical-align: top;\n",
       "    }\n",
       "\n",
       "    .dataframe thead th {\n",
       "        text-align: right;\n",
       "    }\n",
       "</style>\n",
       "<table border=\"1\" class=\"dataframe\">\n",
       "  <thead>\n",
       "    <tr style=\"text-align: right;\">\n",
       "      <th></th>\n",
       "      <th>team</th>\n",
       "      <th>minute_per_15</th>\n",
       "      <th>shots_on_tar</th>\n",
       "    </tr>\n",
       "  </thead>\n",
       "  <tbody>\n",
       "    <tr>\n",
       "      <th>0</th>\n",
       "      <td>Spain</td>\n",
       "      <td>15</td>\n",
       "      <td>0</td>\n",
       "    </tr>\n",
       "    <tr>\n",
       "      <th>1</th>\n",
       "      <td>Spain</td>\n",
       "      <td>45</td>\n",
       "      <td>0</td>\n",
       "    </tr>\n",
       "    <tr>\n",
       "      <th>2</th>\n",
       "      <td>Spain</td>\n",
       "      <td>30</td>\n",
       "      <td>1</td>\n",
       "    </tr>\n",
       "    <tr>\n",
       "      <th>3</th>\n",
       "      <td>Spain</td>\n",
       "      <td>60</td>\n",
       "      <td>1</td>\n",
       "    </tr>\n",
       "    <tr>\n",
       "      <th>4</th>\n",
       "      <td>Spain</td>\n",
       "      <td>75</td>\n",
       "      <td>2</td>\n",
       "    </tr>\n",
       "    <tr>\n",
       "      <th>5</th>\n",
       "      <td>Spain</td>\n",
       "      <td>90</td>\n",
       "      <td>2</td>\n",
       "    </tr>\n",
       "    <tr>\n",
       "      <th>6</th>\n",
       "      <td>England</td>\n",
       "      <td>15</td>\n",
       "      <td>0</td>\n",
       "    </tr>\n",
       "    <tr>\n",
       "      <th>7</th>\n",
       "      <td>England</td>\n",
       "      <td>45</td>\n",
       "      <td>1</td>\n",
       "    </tr>\n",
       "    <tr>\n",
       "      <th>8</th>\n",
       "      <td>England</td>\n",
       "      <td>30</td>\n",
       "      <td>0</td>\n",
       "    </tr>\n",
       "    <tr>\n",
       "      <th>9</th>\n",
       "      <td>England</td>\n",
       "      <td>60</td>\n",
       "      <td>0</td>\n",
       "    </tr>\n",
       "    <tr>\n",
       "      <th>10</th>\n",
       "      <td>England</td>\n",
       "      <td>75</td>\n",
       "      <td>1</td>\n",
       "    </tr>\n",
       "    <tr>\n",
       "      <th>11</th>\n",
       "      <td>England</td>\n",
       "      <td>90</td>\n",
       "      <td>1</td>\n",
       "    </tr>\n",
       "  </tbody>\n",
       "</table>\n",
       "</div>"
      ],
      "text/plain": [
       "       team  minute_per_15  shots_on_tar\n",
       "0     Spain             15             0\n",
       "1     Spain             45             0\n",
       "2     Spain             30             1\n",
       "3     Spain             60             1\n",
       "4     Spain             75             2\n",
       "5     Spain             90             2\n",
       "6   England             15             0\n",
       "7   England             45             1\n",
       "8   England             30             0\n",
       "9   England             60             0\n",
       "10  England             75             1\n",
       "11  England             90             1"
      ]
     },
     "execution_count": 130,
     "metadata": {},
     "output_type": "execute_result"
    }
   ],
   "source": [
    "# shots on target per 15 minutes\n",
    "filtered = match[match['shot_outcome'].isin(['Saved', 'Goal'])]\n",
    "\n",
    "# Step 2: Group and count\n",
    "shots_on_tar = (\n",
    "    filtered.groupby(['team', 'minute_per_15'])['shot_outcome']\n",
    "    .count()\n",
    "    .reset_index(name='shots_on_tar')\n",
    ")\n",
    "\n",
    "# Step 3: Create all combinations of team × minute_per_15\n",
    "teams = match['team'].unique()\n",
    "minutes = match['minute_per_15'].unique()\n",
    "full_index = pd.MultiIndex.from_product([teams, minutes], names=['team', 'minute_per_15'])\n",
    "\n",
    "# Step 4: Reindex to include 0s where no 'Saved' or 'Goal' shots occurred\n",
    "shots_on_tar = shots_on_tar.set_index(['team', 'minute_per_15']).reindex(full_index, fill_value=0).reset_index()\n",
    "shots_on_tar"
   ]
  },
  {
   "cell_type": "code",
   "execution_count": 131,
   "id": "b3039320-afb9-4792-8416-15e25fe63b85",
   "metadata": {},
   "outputs": [],
   "source": [
    "# combine all data in one table\n",
    "# List of all DataFrames to merge\n",
    "dfs = [goals_by_team_minute, xgoals_by_team_minute, passes_complete, shots, shots_on_tar]\n",
    "\n",
    "# Merge them on 'team' and 'minute_per_15'\n",
    "stats_per_15 = reduce(lambda left, right: pd.merge(left, right, on=['team', 'minute_per_15'], how='outer'), dfs)\n",
    "\n",
    "# Fill NaNs with 0 for any missing values (optional, if all columns are numeric)\n",
    "stats_per_15 = stats_per_15.fillna(0)"
   ]
  },
  {
   "cell_type": "code",
   "execution_count": 132,
   "id": "18ea59b5-3885-4fde-8013-6baeee35b2f8",
   "metadata": {},
   "outputs": [
    {
     "data": {
      "text/html": [
       "<div>\n",
       "<style scoped>\n",
       "    .dataframe tbody tr th:only-of-type {\n",
       "        vertical-align: middle;\n",
       "    }\n",
       "\n",
       "    .dataframe tbody tr th {\n",
       "        vertical-align: top;\n",
       "    }\n",
       "\n",
       "    .dataframe thead th {\n",
       "        text-align: right;\n",
       "    }\n",
       "</style>\n",
       "<table border=\"1\" class=\"dataframe\">\n",
       "  <thead>\n",
       "    <tr style=\"text-align: right;\">\n",
       "      <th></th>\n",
       "      <th>team</th>\n",
       "      <th>minute_per_15</th>\n",
       "      <th>goals</th>\n",
       "      <th>xgoals</th>\n",
       "      <th>successful_passes</th>\n",
       "      <th>shots</th>\n",
       "      <th>shots_on_tar</th>\n",
       "    </tr>\n",
       "  </thead>\n",
       "  <tbody>\n",
       "    <tr>\n",
       "      <th>0</th>\n",
       "      <td>England</td>\n",
       "      <td>15</td>\n",
       "      <td>0</td>\n",
       "      <td>0.000000</td>\n",
       "      <td>36</td>\n",
       "      <td>0</td>\n",
       "      <td>0</td>\n",
       "    </tr>\n",
       "    <tr>\n",
       "      <th>1</th>\n",
       "      <td>England</td>\n",
       "      <td>30</td>\n",
       "      <td>0</td>\n",
       "      <td>0.048995</td>\n",
       "      <td>39</td>\n",
       "      <td>1</td>\n",
       "      <td>0</td>\n",
       "    </tr>\n",
       "    <tr>\n",
       "      <th>2</th>\n",
       "      <td>England</td>\n",
       "      <td>45</td>\n",
       "      <td>0</td>\n",
       "      <td>0.228066</td>\n",
       "      <td>37</td>\n",
       "      <td>2</td>\n",
       "      <td>1</td>\n",
       "    </tr>\n",
       "    <tr>\n",
       "      <th>3</th>\n",
       "      <td>England</td>\n",
       "      <td>60</td>\n",
       "      <td>0</td>\n",
       "      <td>0.000000</td>\n",
       "      <td>76</td>\n",
       "      <td>0</td>\n",
       "      <td>0</td>\n",
       "    </tr>\n",
       "    <tr>\n",
       "      <th>4</th>\n",
       "      <td>England</td>\n",
       "      <td>75</td>\n",
       "      <td>1</td>\n",
       "      <td>0.168938</td>\n",
       "      <td>45</td>\n",
       "      <td>3</td>\n",
       "      <td>1</td>\n",
       "    </tr>\n",
       "    <tr>\n",
       "      <th>5</th>\n",
       "      <td>England</td>\n",
       "      <td>90</td>\n",
       "      <td>0</td>\n",
       "      <td>0.280378</td>\n",
       "      <td>21</td>\n",
       "      <td>3</td>\n",
       "      <td>1</td>\n",
       "    </tr>\n",
       "    <tr>\n",
       "      <th>6</th>\n",
       "      <td>Spain</td>\n",
       "      <td>15</td>\n",
       "      <td>0</td>\n",
       "      <td>0.185495</td>\n",
       "      <td>110</td>\n",
       "      <td>2</td>\n",
       "      <td>0</td>\n",
       "    </tr>\n",
       "    <tr>\n",
       "      <th>7</th>\n",
       "      <td>Spain</td>\n",
       "      <td>30</td>\n",
       "      <td>0</td>\n",
       "      <td>0.048117</td>\n",
       "      <td>87</td>\n",
       "      <td>1</td>\n",
       "      <td>1</td>\n",
       "    </tr>\n",
       "    <tr>\n",
       "      <th>8</th>\n",
       "      <td>Spain</td>\n",
       "      <td>45</td>\n",
       "      <td>0</td>\n",
       "      <td>0.104909</td>\n",
       "      <td>101</td>\n",
       "      <td>2</td>\n",
       "      <td>0</td>\n",
       "    </tr>\n",
       "    <tr>\n",
       "      <th>9</th>\n",
       "      <td>Spain</td>\n",
       "      <td>60</td>\n",
       "      <td>1</td>\n",
       "      <td>0.675589</td>\n",
       "      <td>87</td>\n",
       "      <td>5</td>\n",
       "      <td>1</td>\n",
       "    </tr>\n",
       "    <tr>\n",
       "      <th>10</th>\n",
       "      <td>Spain</td>\n",
       "      <td>75</td>\n",
       "      <td>0</td>\n",
       "      <td>0.330346</td>\n",
       "      <td>37</td>\n",
       "      <td>4</td>\n",
       "      <td>2</td>\n",
       "    </tr>\n",
       "    <tr>\n",
       "      <th>11</th>\n",
       "      <td>Spain</td>\n",
       "      <td>90</td>\n",
       "      <td>1</td>\n",
       "      <td>0.447258</td>\n",
       "      <td>96</td>\n",
       "      <td>2</td>\n",
       "      <td>2</td>\n",
       "    </tr>\n",
       "  </tbody>\n",
       "</table>\n",
       "</div>"
      ],
      "text/plain": [
       "       team  minute_per_15  goals    xgoals  successful_passes  shots  \\\n",
       "0   England             15      0  0.000000                 36      0   \n",
       "1   England             30      0  0.048995                 39      1   \n",
       "2   England             45      0  0.228066                 37      2   \n",
       "3   England             60      0  0.000000                 76      0   \n",
       "4   England             75      1  0.168938                 45      3   \n",
       "5   England             90      0  0.280378                 21      3   \n",
       "6     Spain             15      0  0.185495                110      2   \n",
       "7     Spain             30      0  0.048117                 87      1   \n",
       "8     Spain             45      0  0.104909                101      2   \n",
       "9     Spain             60      1  0.675589                 87      5   \n",
       "10    Spain             75      0  0.330346                 37      4   \n",
       "11    Spain             90      1  0.447258                 96      2   \n",
       "\n",
       "    shots_on_tar  \n",
       "0              0  \n",
       "1              0  \n",
       "2              1  \n",
       "3              0  \n",
       "4              1  \n",
       "5              1  \n",
       "6              0  \n",
       "7              1  \n",
       "8              0  \n",
       "9              1  \n",
       "10             2  \n",
       "11             2  "
      ]
     },
     "execution_count": 132,
     "metadata": {},
     "output_type": "execute_result"
    }
   ],
   "source": [
    "stats_per_15"
   ]
  },
  {
   "cell_type": "code",
   "execution_count": 133,
   "id": "f790f812-ef12-49fd-86b5-a370d1e5599f",
   "metadata": {},
   "outputs": [],
   "source": [
    "# put weights per category to check the teams performance\n",
    "weights = {\n",
    "    'goals': 0.35,\n",
    "    'xgoals': 0.25,\n",
    "    'shots_on_tar': 0.20,\n",
    "    'shots': 0.15,\n",
    "    'successful_passes': 0.10\n",
    "}"
   ]
  },
  {
   "cell_type": "code",
   "execution_count": 134,
   "id": "e09f72e1-1295-4368-87f3-942d9724b018",
   "metadata": {},
   "outputs": [],
   "source": [
    "# Columns to normalize and weight\n",
    "metrics = ['goals', 'xgoals', 'shots_on_tar', 'shots', 'successful_passes']\n",
    "\n",
    "# Normalize each metric\n",
    "scaler = MinMaxScaler()\n",
    "stats_per_15_scaled = pd.DataFrame(scaler.fit_transform(stats_per_15[metrics]), columns=[f\"{col}_norm\" for col in metrics])\n",
    "\n",
    "# Apply weights and compute performance score\n",
    "for metric in metrics:\n",
    "    stats_per_15[f\"{metric}_norm\"] = stats_per_15_scaled[f\"{metric}_norm\"] * weights[metric]\n",
    "\n",
    "# Sum all normalized weighted metrics into a final score\n",
    "stats_per_15['performance_score'] = stats_per_15[[f\"{m}_norm\" for m in metrics]].sum(axis=1)"
   ]
  },
  {
   "cell_type": "code",
   "execution_count": 135,
   "id": "39bb4e31-6c41-480b-a57a-3b3844e49f12",
   "metadata": {},
   "outputs": [
    {
     "data": {
      "text/html": [
       "<div>\n",
       "<style scoped>\n",
       "    .dataframe tbody tr th:only-of-type {\n",
       "        vertical-align: middle;\n",
       "    }\n",
       "\n",
       "    .dataframe tbody tr th {\n",
       "        vertical-align: top;\n",
       "    }\n",
       "\n",
       "    .dataframe thead th {\n",
       "        text-align: right;\n",
       "    }\n",
       "</style>\n",
       "<table border=\"1\" class=\"dataframe\">\n",
       "  <thead>\n",
       "    <tr style=\"text-align: right;\">\n",
       "      <th></th>\n",
       "      <th>team</th>\n",
       "      <th>minute_per_15</th>\n",
       "      <th>goals</th>\n",
       "      <th>xgoals</th>\n",
       "      <th>successful_passes</th>\n",
       "      <th>shots</th>\n",
       "      <th>shots_on_tar</th>\n",
       "      <th>goals_norm</th>\n",
       "      <th>xgoals_norm</th>\n",
       "      <th>shots_on_tar_norm</th>\n",
       "      <th>shots_norm</th>\n",
       "      <th>successful_passes_norm</th>\n",
       "      <th>performance_score</th>\n",
       "    </tr>\n",
       "  </thead>\n",
       "  <tbody>\n",
       "    <tr>\n",
       "      <th>0</th>\n",
       "      <td>England</td>\n",
       "      <td>15</td>\n",
       "      <td>0</td>\n",
       "      <td>0.000000</td>\n",
       "      <td>36</td>\n",
       "      <td>0</td>\n",
       "      <td>0</td>\n",
       "      <td>0.00</td>\n",
       "      <td>0.000000</td>\n",
       "      <td>0.0</td>\n",
       "      <td>0.00</td>\n",
       "      <td>0.016854</td>\n",
       "      <td>0.016854</td>\n",
       "    </tr>\n",
       "    <tr>\n",
       "      <th>1</th>\n",
       "      <td>England</td>\n",
       "      <td>30</td>\n",
       "      <td>0</td>\n",
       "      <td>0.048995</td>\n",
       "      <td>39</td>\n",
       "      <td>1</td>\n",
       "      <td>0</td>\n",
       "      <td>0.00</td>\n",
       "      <td>0.018131</td>\n",
       "      <td>0.0</td>\n",
       "      <td>0.03</td>\n",
       "      <td>0.020225</td>\n",
       "      <td>0.068355</td>\n",
       "    </tr>\n",
       "    <tr>\n",
       "      <th>2</th>\n",
       "      <td>England</td>\n",
       "      <td>45</td>\n",
       "      <td>0</td>\n",
       "      <td>0.228066</td>\n",
       "      <td>37</td>\n",
       "      <td>2</td>\n",
       "      <td>1</td>\n",
       "      <td>0.00</td>\n",
       "      <td>0.084395</td>\n",
       "      <td>0.1</td>\n",
       "      <td>0.06</td>\n",
       "      <td>0.017978</td>\n",
       "      <td>0.262373</td>\n",
       "    </tr>\n",
       "    <tr>\n",
       "      <th>3</th>\n",
       "      <td>England</td>\n",
       "      <td>60</td>\n",
       "      <td>0</td>\n",
       "      <td>0.000000</td>\n",
       "      <td>76</td>\n",
       "      <td>0</td>\n",
       "      <td>0</td>\n",
       "      <td>0.00</td>\n",
       "      <td>0.000000</td>\n",
       "      <td>0.0</td>\n",
       "      <td>0.00</td>\n",
       "      <td>0.061798</td>\n",
       "      <td>0.061798</td>\n",
       "    </tr>\n",
       "    <tr>\n",
       "      <th>4</th>\n",
       "      <td>England</td>\n",
       "      <td>75</td>\n",
       "      <td>1</td>\n",
       "      <td>0.168938</td>\n",
       "      <td>45</td>\n",
       "      <td>3</td>\n",
       "      <td>1</td>\n",
       "      <td>0.35</td>\n",
       "      <td>0.062515</td>\n",
       "      <td>0.1</td>\n",
       "      <td>0.09</td>\n",
       "      <td>0.026966</td>\n",
       "      <td>0.629481</td>\n",
       "    </tr>\n",
       "    <tr>\n",
       "      <th>5</th>\n",
       "      <td>England</td>\n",
       "      <td>90</td>\n",
       "      <td>0</td>\n",
       "      <td>0.280378</td>\n",
       "      <td>21</td>\n",
       "      <td>3</td>\n",
       "      <td>1</td>\n",
       "      <td>0.00</td>\n",
       "      <td>0.103753</td>\n",
       "      <td>0.1</td>\n",
       "      <td>0.09</td>\n",
       "      <td>0.000000</td>\n",
       "      <td>0.293753</td>\n",
       "    </tr>\n",
       "    <tr>\n",
       "      <th>6</th>\n",
       "      <td>Spain</td>\n",
       "      <td>15</td>\n",
       "      <td>0</td>\n",
       "      <td>0.185495</td>\n",
       "      <td>110</td>\n",
       "      <td>2</td>\n",
       "      <td>0</td>\n",
       "      <td>0.00</td>\n",
       "      <td>0.068642</td>\n",
       "      <td>0.0</td>\n",
       "      <td>0.06</td>\n",
       "      <td>0.100000</td>\n",
       "      <td>0.228642</td>\n",
       "    </tr>\n",
       "    <tr>\n",
       "      <th>7</th>\n",
       "      <td>Spain</td>\n",
       "      <td>30</td>\n",
       "      <td>0</td>\n",
       "      <td>0.048117</td>\n",
       "      <td>87</td>\n",
       "      <td>1</td>\n",
       "      <td>1</td>\n",
       "      <td>0.00</td>\n",
       "      <td>0.017806</td>\n",
       "      <td>0.1</td>\n",
       "      <td>0.03</td>\n",
       "      <td>0.074157</td>\n",
       "      <td>0.221963</td>\n",
       "    </tr>\n",
       "    <tr>\n",
       "      <th>8</th>\n",
       "      <td>Spain</td>\n",
       "      <td>45</td>\n",
       "      <td>0</td>\n",
       "      <td>0.104909</td>\n",
       "      <td>101</td>\n",
       "      <td>2</td>\n",
       "      <td>0</td>\n",
       "      <td>0.00</td>\n",
       "      <td>0.038821</td>\n",
       "      <td>0.0</td>\n",
       "      <td>0.06</td>\n",
       "      <td>0.089888</td>\n",
       "      <td>0.188709</td>\n",
       "    </tr>\n",
       "    <tr>\n",
       "      <th>9</th>\n",
       "      <td>Spain</td>\n",
       "      <td>60</td>\n",
       "      <td>1</td>\n",
       "      <td>0.675589</td>\n",
       "      <td>87</td>\n",
       "      <td>5</td>\n",
       "      <td>1</td>\n",
       "      <td>0.35</td>\n",
       "      <td>0.250000</td>\n",
       "      <td>0.1</td>\n",
       "      <td>0.15</td>\n",
       "      <td>0.074157</td>\n",
       "      <td>0.924157</td>\n",
       "    </tr>\n",
       "    <tr>\n",
       "      <th>10</th>\n",
       "      <td>Spain</td>\n",
       "      <td>75</td>\n",
       "      <td>0</td>\n",
       "      <td>0.330346</td>\n",
       "      <td>37</td>\n",
       "      <td>4</td>\n",
       "      <td>2</td>\n",
       "      <td>0.00</td>\n",
       "      <td>0.122244</td>\n",
       "      <td>0.2</td>\n",
       "      <td>0.12</td>\n",
       "      <td>0.017978</td>\n",
       "      <td>0.460221</td>\n",
       "    </tr>\n",
       "    <tr>\n",
       "      <th>11</th>\n",
       "      <td>Spain</td>\n",
       "      <td>90</td>\n",
       "      <td>1</td>\n",
       "      <td>0.447258</td>\n",
       "      <td>96</td>\n",
       "      <td>2</td>\n",
       "      <td>2</td>\n",
       "      <td>0.35</td>\n",
       "      <td>0.165507</td>\n",
       "      <td>0.2</td>\n",
       "      <td>0.06</td>\n",
       "      <td>0.084270</td>\n",
       "      <td>0.859776</td>\n",
       "    </tr>\n",
       "  </tbody>\n",
       "</table>\n",
       "</div>"
      ],
      "text/plain": [
       "       team  minute_per_15  goals    xgoals  successful_passes  shots  \\\n",
       "0   England             15      0  0.000000                 36      0   \n",
       "1   England             30      0  0.048995                 39      1   \n",
       "2   England             45      0  0.228066                 37      2   \n",
       "3   England             60      0  0.000000                 76      0   \n",
       "4   England             75      1  0.168938                 45      3   \n",
       "5   England             90      0  0.280378                 21      3   \n",
       "6     Spain             15      0  0.185495                110      2   \n",
       "7     Spain             30      0  0.048117                 87      1   \n",
       "8     Spain             45      0  0.104909                101      2   \n",
       "9     Spain             60      1  0.675589                 87      5   \n",
       "10    Spain             75      0  0.330346                 37      4   \n",
       "11    Spain             90      1  0.447258                 96      2   \n",
       "\n",
       "    shots_on_tar  goals_norm  xgoals_norm  shots_on_tar_norm  shots_norm  \\\n",
       "0              0        0.00     0.000000                0.0        0.00   \n",
       "1              0        0.00     0.018131                0.0        0.03   \n",
       "2              1        0.00     0.084395                0.1        0.06   \n",
       "3              0        0.00     0.000000                0.0        0.00   \n",
       "4              1        0.35     0.062515                0.1        0.09   \n",
       "5              1        0.00     0.103753                0.1        0.09   \n",
       "6              0        0.00     0.068642                0.0        0.06   \n",
       "7              1        0.00     0.017806                0.1        0.03   \n",
       "8              0        0.00     0.038821                0.0        0.06   \n",
       "9              1        0.35     0.250000                0.1        0.15   \n",
       "10             2        0.00     0.122244                0.2        0.12   \n",
       "11             2        0.35     0.165507                0.2        0.06   \n",
       "\n",
       "    successful_passes_norm  performance_score  \n",
       "0                 0.016854           0.016854  \n",
       "1                 0.020225           0.068355  \n",
       "2                 0.017978           0.262373  \n",
       "3                 0.061798           0.061798  \n",
       "4                 0.026966           0.629481  \n",
       "5                 0.000000           0.293753  \n",
       "6                 0.100000           0.228642  \n",
       "7                 0.074157           0.221963  \n",
       "8                 0.089888           0.188709  \n",
       "9                 0.074157           0.924157  \n",
       "10                0.017978           0.460221  \n",
       "11                0.084270           0.859776  "
      ]
     },
     "execution_count": 135,
     "metadata": {},
     "output_type": "execute_result"
    }
   ],
   "source": [
    "stats_per_15"
   ]
  },
  {
   "cell_type": "code",
   "execution_count": 136,
   "id": "f9c89b6d-161d-4da0-8b05-73513c2bacc4",
   "metadata": {},
   "outputs": [
    {
     "data": {
      "text/html": [
       "<div>\n",
       "<style scoped>\n",
       "    .dataframe tbody tr th:only-of-type {\n",
       "        vertical-align: middle;\n",
       "    }\n",
       "\n",
       "    .dataframe tbody tr th {\n",
       "        vertical-align: top;\n",
       "    }\n",
       "\n",
       "    .dataframe thead th {\n",
       "        text-align: right;\n",
       "    }\n",
       "</style>\n",
       "<table border=\"1\" class=\"dataframe\">\n",
       "  <thead>\n",
       "    <tr style=\"text-align: right;\">\n",
       "      <th></th>\n",
       "      <th>team</th>\n",
       "      <th>minute_per_15</th>\n",
       "      <th>goals</th>\n",
       "      <th>xgoals</th>\n",
       "      <th>successful_passes</th>\n",
       "      <th>shots</th>\n",
       "      <th>shots_on_tar</th>\n",
       "      <th>goals_norm</th>\n",
       "      <th>xgoals_norm</th>\n",
       "      <th>shots_on_tar_norm</th>\n",
       "      <th>shots_norm</th>\n",
       "      <th>successful_passes_norm</th>\n",
       "      <th>performance_score</th>\n",
       "      <th>normalized_score</th>\n",
       "    </tr>\n",
       "  </thead>\n",
       "  <tbody>\n",
       "    <tr>\n",
       "      <th>0</th>\n",
       "      <td>England</td>\n",
       "      <td>15</td>\n",
       "      <td>0</td>\n",
       "      <td>0.000000</td>\n",
       "      <td>36</td>\n",
       "      <td>0</td>\n",
       "      <td>0</td>\n",
       "      <td>0.00</td>\n",
       "      <td>0.000000</td>\n",
       "      <td>0.0</td>\n",
       "      <td>0.00</td>\n",
       "      <td>0.016854</td>\n",
       "      <td>0.016854</td>\n",
       "      <td>0.068653</td>\n",
       "    </tr>\n",
       "    <tr>\n",
       "      <th>1</th>\n",
       "      <td>England</td>\n",
       "      <td>30</td>\n",
       "      <td>0</td>\n",
       "      <td>0.048995</td>\n",
       "      <td>39</td>\n",
       "      <td>1</td>\n",
       "      <td>0</td>\n",
       "      <td>0.00</td>\n",
       "      <td>0.018131</td>\n",
       "      <td>0.0</td>\n",
       "      <td>0.03</td>\n",
       "      <td>0.020225</td>\n",
       "      <td>0.068355</td>\n",
       "      <td>0.235449</td>\n",
       "    </tr>\n",
       "    <tr>\n",
       "      <th>2</th>\n",
       "      <td>England</td>\n",
       "      <td>45</td>\n",
       "      <td>0</td>\n",
       "      <td>0.228066</td>\n",
       "      <td>37</td>\n",
       "      <td>2</td>\n",
       "      <td>1</td>\n",
       "      <td>0.00</td>\n",
       "      <td>0.084395</td>\n",
       "      <td>0.1</td>\n",
       "      <td>0.06</td>\n",
       "      <td>0.017978</td>\n",
       "      <td>0.262373</td>\n",
       "      <td>0.581653</td>\n",
       "    </tr>\n",
       "    <tr>\n",
       "      <th>3</th>\n",
       "      <td>England</td>\n",
       "      <td>60</td>\n",
       "      <td>0</td>\n",
       "      <td>0.000000</td>\n",
       "      <td>76</td>\n",
       "      <td>0</td>\n",
       "      <td>0</td>\n",
       "      <td>0.00</td>\n",
       "      <td>0.000000</td>\n",
       "      <td>0.0</td>\n",
       "      <td>0.00</td>\n",
       "      <td>0.061798</td>\n",
       "      <td>0.061798</td>\n",
       "      <td>0.062678</td>\n",
       "    </tr>\n",
       "    <tr>\n",
       "      <th>4</th>\n",
       "      <td>England</td>\n",
       "      <td>75</td>\n",
       "      <td>1</td>\n",
       "      <td>0.168938</td>\n",
       "      <td>45</td>\n",
       "      <td>3</td>\n",
       "      <td>1</td>\n",
       "      <td>0.35</td>\n",
       "      <td>0.062515</td>\n",
       "      <td>0.1</td>\n",
       "      <td>0.09</td>\n",
       "      <td>0.026966</td>\n",
       "      <td>0.629481</td>\n",
       "      <td>0.577664</td>\n",
       "    </tr>\n",
       "    <tr>\n",
       "      <th>5</th>\n",
       "      <td>England</td>\n",
       "      <td>90</td>\n",
       "      <td>0</td>\n",
       "      <td>0.280378</td>\n",
       "      <td>21</td>\n",
       "      <td>3</td>\n",
       "      <td>1</td>\n",
       "      <td>0.00</td>\n",
       "      <td>0.103753</td>\n",
       "      <td>0.1</td>\n",
       "      <td>0.09</td>\n",
       "      <td>0.000000</td>\n",
       "      <td>0.293753</td>\n",
       "      <td>0.254656</td>\n",
       "    </tr>\n",
       "    <tr>\n",
       "      <th>6</th>\n",
       "      <td>Spain</td>\n",
       "      <td>15</td>\n",
       "      <td>0</td>\n",
       "      <td>0.185495</td>\n",
       "      <td>110</td>\n",
       "      <td>2</td>\n",
       "      <td>0</td>\n",
       "      <td>0.00</td>\n",
       "      <td>0.068642</td>\n",
       "      <td>0.0</td>\n",
       "      <td>0.06</td>\n",
       "      <td>0.100000</td>\n",
       "      <td>0.228642</td>\n",
       "      <td>0.931347</td>\n",
       "    </tr>\n",
       "    <tr>\n",
       "      <th>7</th>\n",
       "      <td>Spain</td>\n",
       "      <td>30</td>\n",
       "      <td>0</td>\n",
       "      <td>0.048117</td>\n",
       "      <td>87</td>\n",
       "      <td>1</td>\n",
       "      <td>1</td>\n",
       "      <td>0.00</td>\n",
       "      <td>0.017806</td>\n",
       "      <td>0.1</td>\n",
       "      <td>0.03</td>\n",
       "      <td>0.074157</td>\n",
       "      <td>0.221963</td>\n",
       "      <td>0.764551</td>\n",
       "    </tr>\n",
       "    <tr>\n",
       "      <th>8</th>\n",
       "      <td>Spain</td>\n",
       "      <td>45</td>\n",
       "      <td>0</td>\n",
       "      <td>0.104909</td>\n",
       "      <td>101</td>\n",
       "      <td>2</td>\n",
       "      <td>0</td>\n",
       "      <td>0.00</td>\n",
       "      <td>0.038821</td>\n",
       "      <td>0.0</td>\n",
       "      <td>0.06</td>\n",
       "      <td>0.089888</td>\n",
       "      <td>0.188709</td>\n",
       "      <td>0.418347</td>\n",
       "    </tr>\n",
       "    <tr>\n",
       "      <th>9</th>\n",
       "      <td>Spain</td>\n",
       "      <td>60</td>\n",
       "      <td>1</td>\n",
       "      <td>0.675589</td>\n",
       "      <td>87</td>\n",
       "      <td>5</td>\n",
       "      <td>1</td>\n",
       "      <td>0.35</td>\n",
       "      <td>0.250000</td>\n",
       "      <td>0.1</td>\n",
       "      <td>0.15</td>\n",
       "      <td>0.074157</td>\n",
       "      <td>0.924157</td>\n",
       "      <td>0.937322</td>\n",
       "    </tr>\n",
       "    <tr>\n",
       "      <th>10</th>\n",
       "      <td>Spain</td>\n",
       "      <td>75</td>\n",
       "      <td>0</td>\n",
       "      <td>0.330346</td>\n",
       "      <td>37</td>\n",
       "      <td>4</td>\n",
       "      <td>2</td>\n",
       "      <td>0.00</td>\n",
       "      <td>0.122244</td>\n",
       "      <td>0.2</td>\n",
       "      <td>0.12</td>\n",
       "      <td>0.017978</td>\n",
       "      <td>0.460221</td>\n",
       "      <td>0.422336</td>\n",
       "    </tr>\n",
       "    <tr>\n",
       "      <th>11</th>\n",
       "      <td>Spain</td>\n",
       "      <td>90</td>\n",
       "      <td>1</td>\n",
       "      <td>0.447258</td>\n",
       "      <td>96</td>\n",
       "      <td>2</td>\n",
       "      <td>2</td>\n",
       "      <td>0.35</td>\n",
       "      <td>0.165507</td>\n",
       "      <td>0.2</td>\n",
       "      <td>0.06</td>\n",
       "      <td>0.084270</td>\n",
       "      <td>0.859776</td>\n",
       "      <td>0.745344</td>\n",
       "    </tr>\n",
       "  </tbody>\n",
       "</table>\n",
       "</div>"
      ],
      "text/plain": [
       "       team  minute_per_15  goals    xgoals  successful_passes  shots  \\\n",
       "0   England             15      0  0.000000                 36      0   \n",
       "1   England             30      0  0.048995                 39      1   \n",
       "2   England             45      0  0.228066                 37      2   \n",
       "3   England             60      0  0.000000                 76      0   \n",
       "4   England             75      1  0.168938                 45      3   \n",
       "5   England             90      0  0.280378                 21      3   \n",
       "6     Spain             15      0  0.185495                110      2   \n",
       "7     Spain             30      0  0.048117                 87      1   \n",
       "8     Spain             45      0  0.104909                101      2   \n",
       "9     Spain             60      1  0.675589                 87      5   \n",
       "10    Spain             75      0  0.330346                 37      4   \n",
       "11    Spain             90      1  0.447258                 96      2   \n",
       "\n",
       "    shots_on_tar  goals_norm  xgoals_norm  shots_on_tar_norm  shots_norm  \\\n",
       "0              0        0.00     0.000000                0.0        0.00   \n",
       "1              0        0.00     0.018131                0.0        0.03   \n",
       "2              1        0.00     0.084395                0.1        0.06   \n",
       "3              0        0.00     0.000000                0.0        0.00   \n",
       "4              1        0.35     0.062515                0.1        0.09   \n",
       "5              1        0.00     0.103753                0.1        0.09   \n",
       "6              0        0.00     0.068642                0.0        0.06   \n",
       "7              1        0.00     0.017806                0.1        0.03   \n",
       "8              0        0.00     0.038821                0.0        0.06   \n",
       "9              1        0.35     0.250000                0.1        0.15   \n",
       "10             2        0.00     0.122244                0.2        0.12   \n",
       "11             2        0.35     0.165507                0.2        0.06   \n",
       "\n",
       "    successful_passes_norm  performance_score  normalized_score  \n",
       "0                 0.016854           0.016854          0.068653  \n",
       "1                 0.020225           0.068355          0.235449  \n",
       "2                 0.017978           0.262373          0.581653  \n",
       "3                 0.061798           0.061798          0.062678  \n",
       "4                 0.026966           0.629481          0.577664  \n",
       "5                 0.000000           0.293753          0.254656  \n",
       "6                 0.100000           0.228642          0.931347  \n",
       "7                 0.074157           0.221963          0.764551  \n",
       "8                 0.089888           0.188709          0.418347  \n",
       "9                 0.074157           0.924157          0.937322  \n",
       "10                0.017978           0.460221          0.422336  \n",
       "11                0.084270           0.859776          0.745344  "
      ]
     },
     "execution_count": 136,
     "metadata": {},
     "output_type": "execute_result"
    }
   ],
   "source": [
    "# Normalize performance score within each minute interval\n",
    "stats_per_15['normalized_score'] = stats_per_15.groupby('minute_per_15')['performance_score'].transform(\n",
    "    lambda x: x / x.sum() if x.sum() != 0 else 0\n",
    ")\n",
    "stats_per_15"
   ]
  },
  {
   "cell_type": "code",
   "execution_count": 137,
   "id": "03251955-ec57-4ba7-a007-7f540abb686c",
   "metadata": {},
   "outputs": [],
   "source": [
    "# Compute cumulative goals per team\n",
    "goals_cum = goals_by_team_minute.copy()\n",
    "goals_cum['cumulative_goals'] = goals_cum.groupby('team')['goals'].cumsum()"
   ]
  },
  {
   "cell_type": "code",
   "execution_count": 138,
   "id": "57093a2c-a65f-4e93-9e1d-b972db8a1753",
   "metadata": {},
   "outputs": [
    {
     "data": {
      "application/vnd.plotly.v1+json": {
       "config": {
        "plotlyServerURL": "https://plot.ly"
       },
       "data": [
        {
         "alignmentgroup": "True",
         "hovertemplate": "team=England<br>Minute Interval=%{x}<br>Goals=%{y}<extra></extra>",
         "insidetextfont": {
          "color": "#0E1117"
         },
         "legendgroup": "England",
         "marker": {
          "color": "#FFFFFF",
          "pattern": {
           "shape": ""
          }
         },
         "name": "England",
         "offsetgroup": "England",
         "orientation": "v",
         "showlegend": true,
         "textposition": "inside",
         "texttemplate": "%{y}",
         "type": "bar",
         "x": [
          15,
          30,
          45,
          60,
          75,
          90
         ],
         "xaxis": "x",
         "y": [
          0,
          0,
          0,
          0,
          1,
          1
         ],
         "yaxis": "y"
        },
        {
         "alignmentgroup": "True",
         "hovertemplate": "team=Spain<br>Minute Interval=%{x}<br>Goals=%{y}<extra></extra>",
         "insidetextfont": {
          "color": "#0E1117"
         },
         "legendgroup": "Spain",
         "marker": {
          "color": "#8B0D11",
          "pattern": {
           "shape": ""
          }
         },
         "name": "Spain",
         "offsetgroup": "Spain",
         "orientation": "v",
         "showlegend": true,
         "textposition": "inside",
         "texttemplate": "%{y}",
         "type": "bar",
         "x": [
          15,
          30,
          45,
          60,
          75,
          90
         ],
         "xaxis": "x",
         "y": [
          0,
          0,
          0,
          1,
          1,
          2
         ],
         "yaxis": "y"
        }
       ],
       "layout": {
        "autosize": true,
        "barmode": "group",
        "font": {
         "color": "#c7d5cc"
        },
        "legend": {
         "font": {
          "color": "#c7d5cc"
         },
         "title": {
          "text": "team"
         },
         "tracegroupgap": 0
        },
        "paper_bgcolor": "#0E1117",
        "plot_bgcolor": "#0E1117",
        "template": {
         "data": {
          "bar": [
           {
            "error_x": {
             "color": "#2a3f5f"
            },
            "error_y": {
             "color": "#2a3f5f"
            },
            "marker": {
             "line": {
              "color": "#E5ECF6",
              "width": 0.5
             },
             "pattern": {
              "fillmode": "overlay",
              "size": 10,
              "solidity": 0.2
             }
            },
            "type": "bar"
           }
          ],
          "barpolar": [
           {
            "marker": {
             "line": {
              "color": "#E5ECF6",
              "width": 0.5
             },
             "pattern": {
              "fillmode": "overlay",
              "size": 10,
              "solidity": 0.2
             }
            },
            "type": "barpolar"
           }
          ],
          "carpet": [
           {
            "aaxis": {
             "endlinecolor": "#2a3f5f",
             "gridcolor": "white",
             "linecolor": "white",
             "minorgridcolor": "white",
             "startlinecolor": "#2a3f5f"
            },
            "baxis": {
             "endlinecolor": "#2a3f5f",
             "gridcolor": "white",
             "linecolor": "white",
             "minorgridcolor": "white",
             "startlinecolor": "#2a3f5f"
            },
            "type": "carpet"
           }
          ],
          "choropleth": [
           {
            "colorbar": {
             "outlinewidth": 0,
             "ticks": ""
            },
            "type": "choropleth"
           }
          ],
          "contour": [
           {
            "colorbar": {
             "outlinewidth": 0,
             "ticks": ""
            },
            "colorscale": [
             [
              0,
              "#0d0887"
             ],
             [
              0.1111111111111111,
              "#46039f"
             ],
             [
              0.2222222222222222,
              "#7201a8"
             ],
             [
              0.3333333333333333,
              "#9c179e"
             ],
             [
              0.4444444444444444,
              "#bd3786"
             ],
             [
              0.5555555555555556,
              "#d8576b"
             ],
             [
              0.6666666666666666,
              "#ed7953"
             ],
             [
              0.7777777777777778,
              "#fb9f3a"
             ],
             [
              0.8888888888888888,
              "#fdca26"
             ],
             [
              1,
              "#f0f921"
             ]
            ],
            "type": "contour"
           }
          ],
          "contourcarpet": [
           {
            "colorbar": {
             "outlinewidth": 0,
             "ticks": ""
            },
            "type": "contourcarpet"
           }
          ],
          "heatmap": [
           {
            "colorbar": {
             "outlinewidth": 0,
             "ticks": ""
            },
            "colorscale": [
             [
              0,
              "#0d0887"
             ],
             [
              0.1111111111111111,
              "#46039f"
             ],
             [
              0.2222222222222222,
              "#7201a8"
             ],
             [
              0.3333333333333333,
              "#9c179e"
             ],
             [
              0.4444444444444444,
              "#bd3786"
             ],
             [
              0.5555555555555556,
              "#d8576b"
             ],
             [
              0.6666666666666666,
              "#ed7953"
             ],
             [
              0.7777777777777778,
              "#fb9f3a"
             ],
             [
              0.8888888888888888,
              "#fdca26"
             ],
             [
              1,
              "#f0f921"
             ]
            ],
            "type": "heatmap"
           }
          ],
          "heatmapgl": [
           {
            "colorbar": {
             "outlinewidth": 0,
             "ticks": ""
            },
            "colorscale": [
             [
              0,
              "#0d0887"
             ],
             [
              0.1111111111111111,
              "#46039f"
             ],
             [
              0.2222222222222222,
              "#7201a8"
             ],
             [
              0.3333333333333333,
              "#9c179e"
             ],
             [
              0.4444444444444444,
              "#bd3786"
             ],
             [
              0.5555555555555556,
              "#d8576b"
             ],
             [
              0.6666666666666666,
              "#ed7953"
             ],
             [
              0.7777777777777778,
              "#fb9f3a"
             ],
             [
              0.8888888888888888,
              "#fdca26"
             ],
             [
              1,
              "#f0f921"
             ]
            ],
            "type": "heatmapgl"
           }
          ],
          "histogram": [
           {
            "marker": {
             "pattern": {
              "fillmode": "overlay",
              "size": 10,
              "solidity": 0.2
             }
            },
            "type": "histogram"
           }
          ],
          "histogram2d": [
           {
            "colorbar": {
             "outlinewidth": 0,
             "ticks": ""
            },
            "colorscale": [
             [
              0,
              "#0d0887"
             ],
             [
              0.1111111111111111,
              "#46039f"
             ],
             [
              0.2222222222222222,
              "#7201a8"
             ],
             [
              0.3333333333333333,
              "#9c179e"
             ],
             [
              0.4444444444444444,
              "#bd3786"
             ],
             [
              0.5555555555555556,
              "#d8576b"
             ],
             [
              0.6666666666666666,
              "#ed7953"
             ],
             [
              0.7777777777777778,
              "#fb9f3a"
             ],
             [
              0.8888888888888888,
              "#fdca26"
             ],
             [
              1,
              "#f0f921"
             ]
            ],
            "type": "histogram2d"
           }
          ],
          "histogram2dcontour": [
           {
            "colorbar": {
             "outlinewidth": 0,
             "ticks": ""
            },
            "colorscale": [
             [
              0,
              "#0d0887"
             ],
             [
              0.1111111111111111,
              "#46039f"
             ],
             [
              0.2222222222222222,
              "#7201a8"
             ],
             [
              0.3333333333333333,
              "#9c179e"
             ],
             [
              0.4444444444444444,
              "#bd3786"
             ],
             [
              0.5555555555555556,
              "#d8576b"
             ],
             [
              0.6666666666666666,
              "#ed7953"
             ],
             [
              0.7777777777777778,
              "#fb9f3a"
             ],
             [
              0.8888888888888888,
              "#fdca26"
             ],
             [
              1,
              "#f0f921"
             ]
            ],
            "type": "histogram2dcontour"
           }
          ],
          "mesh3d": [
           {
            "colorbar": {
             "outlinewidth": 0,
             "ticks": ""
            },
            "type": "mesh3d"
           }
          ],
          "parcoords": [
           {
            "line": {
             "colorbar": {
              "outlinewidth": 0,
              "ticks": ""
             }
            },
            "type": "parcoords"
           }
          ],
          "pie": [
           {
            "automargin": true,
            "type": "pie"
           }
          ],
          "scatter": [
           {
            "fillpattern": {
             "fillmode": "overlay",
             "size": 10,
             "solidity": 0.2
            },
            "type": "scatter"
           }
          ],
          "scatter3d": [
           {
            "line": {
             "colorbar": {
              "outlinewidth": 0,
              "ticks": ""
             }
            },
            "marker": {
             "colorbar": {
              "outlinewidth": 0,
              "ticks": ""
             }
            },
            "type": "scatter3d"
           }
          ],
          "scattercarpet": [
           {
            "marker": {
             "colorbar": {
              "outlinewidth": 0,
              "ticks": ""
             }
            },
            "type": "scattercarpet"
           }
          ],
          "scattergeo": [
           {
            "marker": {
             "colorbar": {
              "outlinewidth": 0,
              "ticks": ""
             }
            },
            "type": "scattergeo"
           }
          ],
          "scattergl": [
           {
            "marker": {
             "colorbar": {
              "outlinewidth": 0,
              "ticks": ""
             }
            },
            "type": "scattergl"
           }
          ],
          "scattermapbox": [
           {
            "marker": {
             "colorbar": {
              "outlinewidth": 0,
              "ticks": ""
             }
            },
            "type": "scattermapbox"
           }
          ],
          "scatterpolar": [
           {
            "marker": {
             "colorbar": {
              "outlinewidth": 0,
              "ticks": ""
             }
            },
            "type": "scatterpolar"
           }
          ],
          "scatterpolargl": [
           {
            "marker": {
             "colorbar": {
              "outlinewidth": 0,
              "ticks": ""
             }
            },
            "type": "scatterpolargl"
           }
          ],
          "scatterternary": [
           {
            "marker": {
             "colorbar": {
              "outlinewidth": 0,
              "ticks": ""
             }
            },
            "type": "scatterternary"
           }
          ],
          "surface": [
           {
            "colorbar": {
             "outlinewidth": 0,
             "ticks": ""
            },
            "colorscale": [
             [
              0,
              "#0d0887"
             ],
             [
              0.1111111111111111,
              "#46039f"
             ],
             [
              0.2222222222222222,
              "#7201a8"
             ],
             [
              0.3333333333333333,
              "#9c179e"
             ],
             [
              0.4444444444444444,
              "#bd3786"
             ],
             [
              0.5555555555555556,
              "#d8576b"
             ],
             [
              0.6666666666666666,
              "#ed7953"
             ],
             [
              0.7777777777777778,
              "#fb9f3a"
             ],
             [
              0.8888888888888888,
              "#fdca26"
             ],
             [
              1,
              "#f0f921"
             ]
            ],
            "type": "surface"
           }
          ],
          "table": [
           {
            "cells": {
             "fill": {
              "color": "#EBF0F8"
             },
             "line": {
              "color": "white"
             }
            },
            "header": {
             "fill": {
              "color": "#C8D4E3"
             },
             "line": {
              "color": "white"
             }
            },
            "type": "table"
           }
          ]
         },
         "layout": {
          "annotationdefaults": {
           "arrowcolor": "#2a3f5f",
           "arrowhead": 0,
           "arrowwidth": 1
          },
          "autotypenumbers": "strict",
          "coloraxis": {
           "colorbar": {
            "outlinewidth": 0,
            "ticks": ""
           }
          },
          "colorscale": {
           "diverging": [
            [
             0,
             "#8e0152"
            ],
            [
             0.1,
             "#c51b7d"
            ],
            [
             0.2,
             "#de77ae"
            ],
            [
             0.3,
             "#f1b6da"
            ],
            [
             0.4,
             "#fde0ef"
            ],
            [
             0.5,
             "#f7f7f7"
            ],
            [
             0.6,
             "#e6f5d0"
            ],
            [
             0.7,
             "#b8e186"
            ],
            [
             0.8,
             "#7fbc41"
            ],
            [
             0.9,
             "#4d9221"
            ],
            [
             1,
             "#276419"
            ]
           ],
           "sequential": [
            [
             0,
             "#0d0887"
            ],
            [
             0.1111111111111111,
             "#46039f"
            ],
            [
             0.2222222222222222,
             "#7201a8"
            ],
            [
             0.3333333333333333,
             "#9c179e"
            ],
            [
             0.4444444444444444,
             "#bd3786"
            ],
            [
             0.5555555555555556,
             "#d8576b"
            ],
            [
             0.6666666666666666,
             "#ed7953"
            ],
            [
             0.7777777777777778,
             "#fb9f3a"
            ],
            [
             0.8888888888888888,
             "#fdca26"
            ],
            [
             1,
             "#f0f921"
            ]
           ],
           "sequentialminus": [
            [
             0,
             "#0d0887"
            ],
            [
             0.1111111111111111,
             "#46039f"
            ],
            [
             0.2222222222222222,
             "#7201a8"
            ],
            [
             0.3333333333333333,
             "#9c179e"
            ],
            [
             0.4444444444444444,
             "#bd3786"
            ],
            [
             0.5555555555555556,
             "#d8576b"
            ],
            [
             0.6666666666666666,
             "#ed7953"
            ],
            [
             0.7777777777777778,
             "#fb9f3a"
            ],
            [
             0.8888888888888888,
             "#fdca26"
            ],
            [
             1,
             "#f0f921"
            ]
           ]
          },
          "colorway": [
           "#636efa",
           "#EF553B",
           "#00cc96",
           "#ab63fa",
           "#FFA15A",
           "#19d3f3",
           "#FF6692",
           "#B6E880",
           "#FF97FF",
           "#FECB52"
          ],
          "font": {
           "color": "#2a3f5f"
          },
          "geo": {
           "bgcolor": "white",
           "lakecolor": "white",
           "landcolor": "#E5ECF6",
           "showlakes": true,
           "showland": true,
           "subunitcolor": "white"
          },
          "hoverlabel": {
           "align": "left"
          },
          "hovermode": "closest",
          "mapbox": {
           "style": "light"
          },
          "paper_bgcolor": "white",
          "plot_bgcolor": "#E5ECF6",
          "polar": {
           "angularaxis": {
            "gridcolor": "white",
            "linecolor": "white",
            "ticks": ""
           },
           "bgcolor": "#E5ECF6",
           "radialaxis": {
            "gridcolor": "white",
            "linecolor": "white",
            "ticks": ""
           }
          },
          "scene": {
           "xaxis": {
            "backgroundcolor": "#E5ECF6",
            "gridcolor": "white",
            "gridwidth": 2,
            "linecolor": "white",
            "showbackground": true,
            "ticks": "",
            "zerolinecolor": "white"
           },
           "yaxis": {
            "backgroundcolor": "#E5ECF6",
            "gridcolor": "white",
            "gridwidth": 2,
            "linecolor": "white",
            "showbackground": true,
            "ticks": "",
            "zerolinecolor": "white"
           },
           "zaxis": {
            "backgroundcolor": "#E5ECF6",
            "gridcolor": "white",
            "gridwidth": 2,
            "linecolor": "white",
            "showbackground": true,
            "ticks": "",
            "zerolinecolor": "white"
           }
          },
          "shapedefaults": {
           "line": {
            "color": "#2a3f5f"
           }
          },
          "ternary": {
           "aaxis": {
            "gridcolor": "white",
            "linecolor": "white",
            "ticks": ""
           },
           "baxis": {
            "gridcolor": "white",
            "linecolor": "white",
            "ticks": ""
           },
           "bgcolor": "#E5ECF6",
           "caxis": {
            "gridcolor": "white",
            "linecolor": "white",
            "ticks": ""
           }
          },
          "title": {
           "x": 0.05
          },
          "xaxis": {
           "automargin": true,
           "gridcolor": "white",
           "linecolor": "white",
           "ticks": "",
           "title": {
            "standoff": 15
           },
           "zerolinecolor": "white",
           "zerolinewidth": 2
          },
          "yaxis": {
           "automargin": true,
           "gridcolor": "white",
           "linecolor": "white",
           "ticks": "",
           "title": {
            "standoff": 15
           },
           "zerolinecolor": "white",
           "zerolinewidth": 2
          }
         }
        },
        "title": {
         "font": {
          "color": "#c7d5cc"
         },
         "text": "Score per 15-Minute Interval by Team"
        },
        "xaxis": {
         "anchor": "y",
         "autorange": true,
         "color": "#c7d5cc",
         "domain": [
          0,
          1
         ],
         "range": [
          -0.5,
          5.5
         ],
         "showgrid": false,
         "title": {
          "text": "Minute Interval"
         },
         "type": "category"
        },
        "yaxis": {
         "anchor": "x",
         "autorange": true,
         "color": "#c7d5cc",
         "domain": [
          0,
          1
         ],
         "gridcolor": "#333",
         "range": [
          0,
          2.1052631578947367
         ],
         "title": {
          "text": "Goals"
         },
         "type": "linear"
        }
       }
      },
      "image/png": "[encoded data removed]",
      "text/html": [
       "<div>                            <div id=\"17613933-efdd-45e1-9d1c-1300d96658aa\" class=\"plotly-graph-div\" style=\"height:525px; width:100%;\"></div>            <script type=\"text/javascript\">                require([\"plotly\"], function(Plotly) {                    window.PLOTLYENV=window.PLOTLYENV || {};                                    if (document.getElementById(\"17613933-efdd-45e1-9d1c-1300d96658aa\")) {                    Plotly.newPlot(                        \"17613933-efdd-45e1-9d1c-1300d96658aa\",                        [{\"alignmentgroup\":\"True\",\"hovertemplate\":\"team=England\\u003cbr\\u003eMinute Interval=%{x}\\u003cbr\\u003eGoals=%{y}\\u003cextra\\u003e\\u003c\\u002fextra\\u003e\",\"legendgroup\":\"England\",\"marker\":{\"color\":\"#FFFFFF\",\"pattern\":{\"shape\":\"\"}},\"name\":\"England\",\"offsetgroup\":\"England\",\"orientation\":\"v\",\"showlegend\":true,\"textposition\":\"inside\",\"x\":[15,30,45,60,75,90],\"xaxis\":\"x\",\"y\":[0,0,0,0,1,1],\"yaxis\":\"y\",\"type\":\"bar\",\"insidetextfont\":{\"color\":\"#0E1117\"},\"texttemplate\":\"%{y}\"},{\"alignmentgroup\":\"True\",\"hovertemplate\":\"team=Spain\\u003cbr\\u003eMinute Interval=%{x}\\u003cbr\\u003eGoals=%{y}\\u003cextra\\u003e\\u003c\\u002fextra\\u003e\",\"legendgroup\":\"Spain\",\"marker\":{\"color\":\"#8B0D11\",\"pattern\":{\"shape\":\"\"}},\"name\":\"Spain\",\"offsetgroup\":\"Spain\",\"orientation\":\"v\",\"showlegend\":true,\"textposition\":\"inside\",\"x\":[15,30,45,60,75,90],\"xaxis\":\"x\",\"y\":[0,0,0,1,1,2],\"yaxis\":\"y\",\"type\":\"bar\",\"insidetextfont\":{\"color\":\"#0E1117\"},\"texttemplate\":\"%{y}\"}],                        {\"template\":{\"data\":{\"histogram2dcontour\":[{\"type\":\"histogram2dcontour\",\"colorbar\":{\"outlinewidth\":0,\"ticks\":\"\"},\"colorscale\":[[0.0,\"#0d0887\"],[0.1111111111111111,\"#46039f\"],[0.2222222222222222,\"#7201a8\"],[0.3333333333333333,\"#9c179e\"],[0.4444444444444444,\"#bd3786\"],[0.5555555555555556,\"#d8576b\"],[0.6666666666666666,\"#ed7953\"],[0.7777777777777778,\"#fb9f3a\"],[0.8888888888888888,\"#fdca26\"],[1.0,\"#f0f921\"]]}],\"choropleth\":[{\"type\":\"choropleth\",\"colorbar\":{\"outlinewidth\":0,\"ticks\":\"\"}}],\"histogram2d\":[{\"type\":\"histogram2d\",\"colorbar\":{\"outlinewidth\":0,\"ticks\":\"\"},\"colorscale\":[[0.0,\"#0d0887\"],[0.1111111111111111,\"#46039f\"],[0.2222222222222222,\"#7201a8\"],[0.3333333333333333,\"#9c179e\"],[0.4444444444444444,\"#bd3786\"],[0.5555555555555556,\"#d8576b\"],[0.6666666666666666,\"#ed7953\"],[0.7777777777777778,\"#fb9f3a\"],[0.8888888888888888,\"#fdca26\"],[1.0,\"#f0f921\"]]}],\"heatmap\":[{\"type\":\"heatmap\",\"colorbar\":{\"outlinewidth\":0,\"ticks\":\"\"},\"colorscale\":[[0.0,\"#0d0887\"],[0.1111111111111111,\"#46039f\"],[0.2222222222222222,\"#7201a8\"],[0.3333333333333333,\"#9c179e\"],[0.4444444444444444,\"#bd3786\"],[0.5555555555555556,\"#d8576b\"],[0.6666666666666666,\"#ed7953\"],[0.7777777777777778,\"#fb9f3a\"],[0.8888888888888888,\"#fdca26\"],[1.0,\"#f0f921\"]]}],\"heatmapgl\":[{\"type\":\"heatmapgl\",\"colorbar\":{\"outlinewidth\":0,\"ticks\":\"\"},\"colorscale\":[[0.0,\"#0d0887\"],[0.1111111111111111,\"#46039f\"],[0.2222222222222222,\"#7201a8\"],[0.3333333333333333,\"#9c179e\"],[0.4444444444444444,\"#bd3786\"],[0.5555555555555556,\"#d8576b\"],[0.6666666666666666,\"#ed7953\"],[0.7777777777777778,\"#fb9f3a\"],[0.8888888888888888,\"#fdca26\"],[1.0,\"#f0f921\"]]}],\"contourcarpet\":[{\"type\":\"contourcarpet\",\"colorbar\":{\"outlinewidth\":0,\"ticks\":\"\"}}],\"contour\":[{\"type\":\"contour\",\"colorbar\":{\"outlinewidth\":0,\"ticks\":\"\"},\"colorscale\":[[0.0,\"#0d0887\"],[0.1111111111111111,\"#46039f\"],[0.2222222222222222,\"#7201a8\"],[0.3333333333333333,\"#9c179e\"],[0.4444444444444444,\"#bd3786\"],[0.5555555555555556,\"#d8576b\"],[0.6666666666666666,\"#ed7953\"],[0.7777777777777778,\"#fb9f3a\"],[0.8888888888888888,\"#fdca26\"],[1.0,\"#f0f921\"]]}],\"surface\":[{\"type\":\"surface\",\"colorbar\":{\"outlinewidth\":0,\"ticks\":\"\"},\"colorscale\":[[0.0,\"#0d0887\"],[0.1111111111111111,\"#46039f\"],[0.2222222222222222,\"#7201a8\"],[0.3333333333333333,\"#9c179e\"],[0.4444444444444444,\"#bd3786\"],[0.5555555555555556,\"#d8576b\"],[0.6666666666666666,\"#ed7953\"],[0.7777777777777778,\"#fb9f3a\"],[0.8888888888888888,\"#fdca26\"],[1.0,\"#f0f921\"]]}],\"mesh3d\":[{\"type\":\"mesh3d\",\"colorbar\":{\"outlinewidth\":0,\"ticks\":\"\"}}],\"scatter\":[{\"fillpattern\":{\"fillmode\":\"overlay\",\"size\":10,\"solidity\":0.2},\"type\":\"scatter\"}],\"parcoords\":[{\"type\":\"parcoords\",\"line\":{\"colorbar\":{\"outlinewidth\":0,\"ticks\":\"\"}}}],\"scatterpolargl\":[{\"type\":\"scatterpolargl\",\"marker\":{\"colorbar\":{\"outlinewidth\":0,\"ticks\":\"\"}}}],\"bar\":[{\"error_x\":{\"color\":\"#2a3f5f\"},\"error_y\":{\"color\":\"#2a3f5f\"},\"marker\":{\"line\":{\"color\":\"#E5ECF6\",\"width\":0.5},\"pattern\":{\"fillmode\":\"overlay\",\"size\":10,\"solidity\":0.2}},\"type\":\"bar\"}],\"scattergeo\":[{\"type\":\"scattergeo\",\"marker\":{\"colorbar\":{\"outlinewidth\":0,\"ticks\":\"\"}}}],\"scatterpolar\":[{\"type\":\"scatterpolar\",\"marker\":{\"colorbar\":{\"outlinewidth\":0,\"ticks\":\"\"}}}],\"histogram\":[{\"marker\":{\"pattern\":{\"fillmode\":\"overlay\",\"size\":10,\"solidity\":0.2}},\"type\":\"histogram\"}],\"scattergl\":[{\"type\":\"scattergl\",\"marker\":{\"colorbar\":{\"outlinewidth\":0,\"ticks\":\"\"}}}],\"scatter3d\":[{\"type\":\"scatter3d\",\"line\":{\"colorbar\":{\"outlinewidth\":0,\"ticks\":\"\"}},\"marker\":{\"colorbar\":{\"outlinewidth\":0,\"ticks\":\"\"}}}],\"scattermapbox\":[{\"type\":\"scattermapbox\",\"marker\":{\"colorbar\":{\"outlinewidth\":0,\"ticks\":\"\"}}}],\"scatterternary\":[{\"type\":\"scatterternary\",\"marker\":{\"colorbar\":{\"outlinewidth\":0,\"ticks\":\"\"}}}],\"scattercarpet\":[{\"type\":\"scattercarpet\",\"marker\":{\"colorbar\":{\"outlinewidth\":0,\"ticks\":\"\"}}}],\"carpet\":[{\"aaxis\":{\"endlinecolor\":\"#2a3f5f\",\"gridcolor\":\"white\",\"linecolor\":\"white\",\"minorgridcolor\":\"white\",\"startlinecolor\":\"#2a3f5f\"},\"baxis\":{\"endlinecolor\":\"#2a3f5f\",\"gridcolor\":\"white\",\"linecolor\":\"white\",\"minorgridcolor\":\"white\",\"startlinecolor\":\"#2a3f5f\"},\"type\":\"carpet\"}],\"table\":[{\"cells\":{\"fill\":{\"color\":\"#EBF0F8\"},\"line\":{\"color\":\"white\"}},\"header\":{\"fill\":{\"color\":\"#C8D4E3\"},\"line\":{\"color\":\"white\"}},\"type\":\"table\"}],\"barpolar\":[{\"marker\":{\"line\":{\"color\":\"#E5ECF6\",\"width\":0.5},\"pattern\":{\"fillmode\":\"overlay\",\"size\":10,\"solidity\":0.2}},\"type\":\"barpolar\"}],\"pie\":[{\"automargin\":true,\"type\":\"pie\"}]},\"layout\":{\"autotypenumbers\":\"strict\",\"colorway\":[\"#636efa\",\"#EF553B\",\"#00cc96\",\"#ab63fa\",\"#FFA15A\",\"#19d3f3\",\"#FF6692\",\"#B6E880\",\"#FF97FF\",\"#FECB52\"],\"font\":{\"color\":\"#2a3f5f\"},\"hovermode\":\"closest\",\"hoverlabel\":{\"align\":\"left\"},\"paper_bgcolor\":\"white\",\"plot_bgcolor\":\"#E5ECF6\",\"polar\":{\"bgcolor\":\"#E5ECF6\",\"angularaxis\":{\"gridcolor\":\"white\",\"linecolor\":\"white\",\"ticks\":\"\"},\"radialaxis\":{\"gridcolor\":\"white\",\"linecolor\":\"white\",\"ticks\":\"\"}},\"ternary\":{\"bgcolor\":\"#E5ECF6\",\"aaxis\":{\"gridcolor\":\"white\",\"linecolor\":\"white\",\"ticks\":\"\"},\"baxis\":{\"gridcolor\":\"white\",\"linecolor\":\"white\",\"ticks\":\"\"},\"caxis\":{\"gridcolor\":\"white\",\"linecolor\":\"white\",\"ticks\":\"\"}},\"coloraxis\":{\"colorbar\":{\"outlinewidth\":0,\"ticks\":\"\"}},\"colorscale\":{\"sequential\":[[0.0,\"#0d0887\"],[0.1111111111111111,\"#46039f\"],[0.2222222222222222,\"#7201a8\"],[0.3333333333333333,\"#9c179e\"],[0.4444444444444444,\"#bd3786\"],[0.5555555555555556,\"#d8576b\"],[0.6666666666666666,\"#ed7953\"],[0.7777777777777778,\"#fb9f3a\"],[0.8888888888888888,\"#fdca26\"],[1.0,\"#f0f921\"]],\"sequentialminus\":[[0.0,\"#0d0887\"],[0.1111111111111111,\"#46039f\"],[0.2222222222222222,\"#7201a8\"],[0.3333333333333333,\"#9c179e\"],[0.4444444444444444,\"#bd3786\"],[0.5555555555555556,\"#d8576b\"],[0.6666666666666666,\"#ed7953\"],[0.7777777777777778,\"#fb9f3a\"],[0.8888888888888888,\"#fdca26\"],[1.0,\"#f0f921\"]],\"diverging\":[[0,\"#8e0152\"],[0.1,\"#c51b7d\"],[0.2,\"#de77ae\"],[0.3,\"#f1b6da\"],[0.4,\"#fde0ef\"],[0.5,\"#f7f7f7\"],[0.6,\"#e6f5d0\"],[0.7,\"#b8e186\"],[0.8,\"#7fbc41\"],[0.9,\"#4d9221\"],[1,\"#276419\"]]},\"xaxis\":{\"gridcolor\":\"white\",\"linecolor\":\"white\",\"ticks\":\"\",\"title\":{\"standoff\":15},\"zerolinecolor\":\"white\",\"automargin\":true,\"zerolinewidth\":2},\"yaxis\":{\"gridcolor\":\"white\",\"linecolor\":\"white\",\"ticks\":\"\",\"title\":{\"standoff\":15},\"zerolinecolor\":\"white\",\"automargin\":true,\"zerolinewidth\":2},\"scene\":{\"xaxis\":{\"backgroundcolor\":\"#E5ECF6\",\"gridcolor\":\"white\",\"linecolor\":\"white\",\"showbackground\":true,\"ticks\":\"\",\"zerolinecolor\":\"white\",\"gridwidth\":2},\"yaxis\":{\"backgroundcolor\":\"#E5ECF6\",\"gridcolor\":\"white\",\"linecolor\":\"white\",\"showbackground\":true,\"ticks\":\"\",\"zerolinecolor\":\"white\",\"gridwidth\":2},\"zaxis\":{\"backgroundcolor\":\"#E5ECF6\",\"gridcolor\":\"white\",\"linecolor\":\"white\",\"showbackground\":true,\"ticks\":\"\",\"zerolinecolor\":\"white\",\"gridwidth\":2}},\"shapedefaults\":{\"line\":{\"color\":\"#2a3f5f\"}},\"annotationdefaults\":{\"arrowcolor\":\"#2a3f5f\",\"arrowhead\":0,\"arrowwidth\":1},\"geo\":{\"bgcolor\":\"white\",\"landcolor\":\"#E5ECF6\",\"subunitcolor\":\"white\",\"showland\":true,\"showlakes\":true,\"lakecolor\":\"white\"},\"title\":{\"x\":0.05},\"mapbox\":{\"style\":\"light\"}}},\"xaxis\":{\"anchor\":\"y\",\"domain\":[0.0,1.0],\"title\":{\"text\":\"Minute Interval\"},\"type\":\"category\",\"showgrid\":false,\"color\":\"#c7d5cc\"},\"yaxis\":{\"anchor\":\"x\",\"domain\":[0.0,1.0],\"title\":{\"text\":\"Goals\"},\"gridcolor\":\"#333\",\"color\":\"#c7d5cc\"},\"legend\":{\"title\":{\"text\":\"team\"},\"tracegroupgap\":0,\"font\":{\"color\":\"#c7d5cc\"}},\"title\":{\"text\":\"Score per 15-Minute Interval by Team\",\"font\":{\"color\":\"#c7d5cc\"}},\"barmode\":\"group\",\"font\":{\"color\":\"#c7d5cc\"},\"plot_bgcolor\":\"#0E1117\",\"paper_bgcolor\":\"#0E1117\"},                        {\"responsive\": true}                    ).then(function(){\n",
       "                            \n",
       "var gd = document.getElementById('17613933-efdd-45e1-9d1c-1300d96658aa');\n",
       "var x = new MutationObserver(function (mutations, observer) {{\n",
       "        var display = window.getComputedStyle(gd).display;\n",
       "        if (!display || display === 'none') {{\n",
       "            console.log([gd, 'removed!']);\n",
       "            Plotly.purge(gd);\n",
       "            observer.disconnect();\n",
       "        }}\n",
       "}});\n",
       "\n",
       "// Listen for the removal of the full notebook cells\n",
       "var notebookContainer = gd.closest('#notebook-container');\n",
       "if (notebookContainer) {{\n",
       "    x.observe(notebookContainer, {childList: true});\n",
       "}}\n",
       "\n",
       "// Listen for the clearing of the current output cell\n",
       "var outputEl = gd.closest('.output');\n",
       "if (outputEl) {{\n",
       "    x.observe(outputEl, {childList: true});\n",
       "}}\n",
       "\n",
       "                        })                };                });            </script>        </div>"
      ]
     },
     "metadata": {},
     "output_type": "display_data"
    }
   ],
   "source": [
    "fig = px.bar(\n",
    "    goals_cum,\n",
    "    x='minute_per_15',\n",
    "    y='cumulative_goals',\n",
    "    color='team',\n",
    "    barmode='group',\n",
    "    title='Score per 15-Minute Interval by Team',\n",
    "    labels={'minute_per_15': 'Minute Interval', 'cumulative_goals': 'Goals'},\n",
    "    color_discrete_map={\n",
    "        home_team : home_color,  \n",
    "        away_team : away_color     \n",
    "    }\n",
    ")\n",
    "\n",
    "# Apply dark theme\n",
    "fig.update_layout(\n",
    "    plot_bgcolor='#0E1117',\n",
    "    paper_bgcolor='#0E1117',\n",
    "    font=dict(color='#c7d5cc'),\n",
    "    xaxis=dict(type='category', showgrid=False, color='#c7d5cc'),\n",
    "    yaxis=dict(gridcolor='#333', color='#c7d5cc'),\n",
    "    legend=dict(font=dict(color='#c7d5cc')),\n",
    "    title_font=dict(color='#c7d5cc')\n",
    ")\n",
    "\n",
    "fig.update_traces(\n",
    "    texttemplate='%{y}',                 \n",
    "    textposition='inside',\n",
    "    insidetextfont=dict(color='#0E1117')     \n",
    ")\n",
    "\n",
    "\n",
    "fig.show()\n"
   ]
  },
  {
   "cell_type": "code",
   "execution_count": 142,
   "id": "d426c1f8-e318-4185-acc2-1560fa6a38b0",
   "metadata": {},
   "outputs": [
    {
     "data": {
      "application/vnd.plotly.v1+json": {
       "config": {
        "plotlyServerURL": "https://plot.ly"
       },
       "data": [
        {
         "alignmentgroup": "True",
         "hovertemplate": "team=England<br>Minute Interval=%{x}<br>Performance Score=%{y}<extra></extra>",
         "insidetextfont": {
          "color": "#0E1117"
         },
         "legendgroup": "England",
         "marker": {
          "color": "#FFFFFF",
          "pattern": {
           "shape": ""
          }
         },
         "name": "England",
         "offsetgroup": "England",
         "orientation": "v",
         "showlegend": true,
         "textposition": "inside",
         "texttemplate": "%{y:.2f}",
         "type": "bar",
         "x": [
          15,
          30,
          45,
          60,
          75,
          90
         ],
         "xaxis": "x",
         "y": [
          0.06865261818554848,
          0.23544948811024893,
          0.5816525336017603,
          0.06267806267806267,
          0.5776635263797736,
          0.2546560755312521
         ],
         "yaxis": "y"
        },
        {
         "alignmentgroup": "True",
         "hovertemplate": "team=Spain<br>Minute Interval=%{x}<br>Performance Score=%{y}<extra></extra>",
         "insidetextfont": {
          "color": "#0E1117"
         },
         "legendgroup": "Spain",
         "marker": {
          "color": "#8B0D11",
          "pattern": {
           "shape": ""
          }
         },
         "name": "Spain",
         "offsetgroup": "Spain",
         "orientation": "v",
         "showlegend": true,
         "textposition": "inside",
         "texttemplate": "%{y:.2f}",
         "type": "bar",
         "x": [
          15,
          30,
          45,
          60,
          75,
          90
         ],
         "xaxis": "x",
         "y": [
          0.9313473818144515,
          0.7645505118897511,
          0.41834746639823966,
          0.9373219373219372,
          0.4223364736202265,
          0.7453439244687479
         ],
         "yaxis": "y"
        }
       ],
       "layout": {
        "autosize": true,
        "barmode": "stack",
        "font": {
         "color": "#c7d5cc"
        },
        "legend": {
         "font": {
          "color": "#c7d5cc"
         },
         "title": {
          "text": "team"
         },
         "tracegroupgap": 0
        },
        "paper_bgcolor": "#0E1117",
        "plot_bgcolor": "#0E1117",
        "template": {
         "data": {
          "bar": [
           {
            "error_x": {
             "color": "#2a3f5f"
            },
            "error_y": {
             "color": "#2a3f5f"
            },
            "marker": {
             "line": {
              "color": "#E5ECF6",
              "width": 0.5
             },
             "pattern": {
              "fillmode": "overlay",
              "size": 10,
              "solidity": 0.2
             }
            },
            "type": "bar"
           }
          ],
          "barpolar": [
           {
            "marker": {
             "line": {
              "color": "#E5ECF6",
              "width": 0.5
             },
             "pattern": {
              "fillmode": "overlay",
              "size": 10,
              "solidity": 0.2
             }
            },
            "type": "barpolar"
           }
          ],
          "carpet": [
           {
            "aaxis": {
             "endlinecolor": "#2a3f5f",
             "gridcolor": "white",
             "linecolor": "white",
             "minorgridcolor": "white",
             "startlinecolor": "#2a3f5f"
            },
            "baxis": {
             "endlinecolor": "#2a3f5f",
             "gridcolor": "white",
             "linecolor": "white",
             "minorgridcolor": "white",
             "startlinecolor": "#2a3f5f"
            },
            "type": "carpet"
           }
          ],
          "choropleth": [
           {
            "colorbar": {
             "outlinewidth": 0,
             "ticks": ""
            },
            "type": "choropleth"
           }
          ],
          "contour": [
           {
            "colorbar": {
             "outlinewidth": 0,
             "ticks": ""
            },
            "colorscale": [
             [
              0,
              "#0d0887"
             ],
             [
              0.1111111111111111,
              "#46039f"
             ],
             [
              0.2222222222222222,
              "#7201a8"
             ],
             [
              0.3333333333333333,
              "#9c179e"
             ],
             [
              0.4444444444444444,
              "#bd3786"
             ],
             [
              0.5555555555555556,
              "#d8576b"
             ],
             [
              0.6666666666666666,
              "#ed7953"
             ],
             [
              0.7777777777777778,
              "#fb9f3a"
             ],
             [
              0.8888888888888888,
              "#fdca26"
             ],
             [
              1,
              "#f0f921"
             ]
            ],
            "type": "contour"
           }
          ],
          "contourcarpet": [
           {
            "colorbar": {
             "outlinewidth": 0,
             "ticks": ""
            },
            "type": "contourcarpet"
           }
          ],
          "heatmap": [
           {
            "colorbar": {
             "outlinewidth": 0,
             "ticks": ""
            },
            "colorscale": [
             [
              0,
              "#0d0887"
             ],
             [
              0.1111111111111111,
              "#46039f"
             ],
             [
              0.2222222222222222,
              "#7201a8"
             ],
             [
              0.3333333333333333,
              "#9c179e"
             ],
             [
              0.4444444444444444,
              "#bd3786"
             ],
             [
              0.5555555555555556,
              "#d8576b"
             ],
             [
              0.6666666666666666,
              "#ed7953"
             ],
             [
              0.7777777777777778,
              "#fb9f3a"
             ],
             [
              0.8888888888888888,
              "#fdca26"
             ],
             [
              1,
              "#f0f921"
             ]
            ],
            "type": "heatmap"
           }
          ],
          "heatmapgl": [
           {
            "colorbar": {
             "outlinewidth": 0,
             "ticks": ""
            },
            "colorscale": [
             [
              0,
              "#0d0887"
             ],
             [
              0.1111111111111111,
              "#46039f"
             ],
             [
              0.2222222222222222,
              "#7201a8"
             ],
             [
              0.3333333333333333,
              "#9c179e"
             ],
             [
              0.4444444444444444,
              "#bd3786"
             ],
             [
              0.5555555555555556,
              "#d8576b"
             ],
             [
              0.6666666666666666,
              "#ed7953"
             ],
             [
              0.7777777777777778,
              "#fb9f3a"
             ],
             [
              0.8888888888888888,
              "#fdca26"
             ],
             [
              1,
              "#f0f921"
             ]
            ],
            "type": "heatmapgl"
           }
          ],
          "histogram": [
           {
            "marker": {
             "pattern": {
              "fillmode": "overlay",
              "size": 10,
              "solidity": 0.2
             }
            },
            "type": "histogram"
           }
          ],
          "histogram2d": [
           {
            "colorbar": {
             "outlinewidth": 0,
             "ticks": ""
            },
            "colorscale": [
             [
              0,
              "#0d0887"
             ],
             [
              0.1111111111111111,
              "#46039f"
             ],
             [
              0.2222222222222222,
              "#7201a8"
             ],
             [
              0.3333333333333333,
              "#9c179e"
             ],
             [
              0.4444444444444444,
              "#bd3786"
             ],
             [
              0.5555555555555556,
              "#d8576b"
             ],
             [
              0.6666666666666666,
              "#ed7953"
             ],
             [
              0.7777777777777778,
              "#fb9f3a"
             ],
             [
              0.8888888888888888,
              "#fdca26"
             ],
             [
              1,
              "#f0f921"
             ]
            ],
            "type": "histogram2d"
           }
          ],
          "histogram2dcontour": [
           {
            "colorbar": {
             "outlinewidth": 0,
             "ticks": ""
            },
            "colorscale": [
             [
              0,
              "#0d0887"
             ],
             [
              0.1111111111111111,
              "#46039f"
             ],
             [
              0.2222222222222222,
              "#7201a8"
             ],
             [
              0.3333333333333333,
              "#9c179e"
             ],
             [
              0.4444444444444444,
              "#bd3786"
             ],
             [
              0.5555555555555556,
              "#d8576b"
             ],
             [
              0.6666666666666666,
              "#ed7953"
             ],
             [
              0.7777777777777778,
              "#fb9f3a"
             ],
             [
              0.8888888888888888,
              "#fdca26"
             ],
             [
              1,
              "#f0f921"
             ]
            ],
            "type": "histogram2dcontour"
           }
          ],
          "mesh3d": [
           {
            "colorbar": {
             "outlinewidth": 0,
             "ticks": ""
            },
            "type": "mesh3d"
           }
          ],
          "parcoords": [
           {
            "line": {
             "colorbar": {
              "outlinewidth": 0,
              "ticks": ""
             }
            },
            "type": "parcoords"
           }
          ],
          "pie": [
           {
            "automargin": true,
            "type": "pie"
           }
          ],
          "scatter": [
           {
            "fillpattern": {
             "fillmode": "overlay",
             "size": 10,
             "solidity": 0.2
            },
            "type": "scatter"
           }
          ],
          "scatter3d": [
           {
            "line": {
             "colorbar": {
              "outlinewidth": 0,
              "ticks": ""
             }
            },
            "marker": {
             "colorbar": {
              "outlinewidth": 0,
              "ticks": ""
             }
            },
            "type": "scatter3d"
           }
          ],
          "scattercarpet": [
           {
            "marker": {
             "colorbar": {
              "outlinewidth": 0,
              "ticks": ""
             }
            },
            "type": "scattercarpet"
           }
          ],
          "scattergeo": [
           {
            "marker": {
             "colorbar": {
              "outlinewidth": 0,
              "ticks": ""
             }
            },
            "type": "scattergeo"
           }
          ],
          "scattergl": [
           {
            "marker": {
             "colorbar": {
              "outlinewidth": 0,
              "ticks": ""
             }
            },
            "type": "scattergl"
           }
          ],
          "scattermapbox": [
           {
            "marker": {
             "colorbar": {
              "outlinewidth": 0,
              "ticks": ""
             }
            },
            "type": "scattermapbox"
           }
          ],
          "scatterpolar": [
           {
            "marker": {
             "colorbar": {
              "outlinewidth": 0,
              "ticks": ""
             }
            },
            "type": "scatterpolar"
           }
          ],
          "scatterpolargl": [
           {
            "marker": {
             "colorbar": {
              "outlinewidth": 0,
              "ticks": ""
             }
            },
            "type": "scatterpolargl"
           }
          ],
          "scatterternary": [
           {
            "marker": {
             "colorbar": {
              "outlinewidth": 0,
              "ticks": ""
             }
            },
            "type": "scatterternary"
           }
          ],
          "surface": [
           {
            "colorbar": {
             "outlinewidth": 0,
             "ticks": ""
            },
            "colorscale": [
             [
              0,
              "#0d0887"
             ],
             [
              0.1111111111111111,
              "#46039f"
             ],
             [
              0.2222222222222222,
              "#7201a8"
             ],
             [
              0.3333333333333333,
              "#9c179e"
             ],
             [
              0.4444444444444444,
              "#bd3786"
             ],
             [
              0.5555555555555556,
              "#d8576b"
             ],
             [
              0.6666666666666666,
              "#ed7953"
             ],
             [
              0.7777777777777778,
              "#fb9f3a"
             ],
             [
              0.8888888888888888,
              "#fdca26"
             ],
             [
              1,
              "#f0f921"
             ]
            ],
            "type": "surface"
           }
          ],
          "table": [
           {
            "cells": {
             "fill": {
              "color": "#EBF0F8"
             },
             "line": {
              "color": "white"
             }
            },
            "header": {
             "fill": {
              "color": "#C8D4E3"
             },
             "line": {
              "color": "white"
             }
            },
            "type": "table"
           }
          ]
         },
         "layout": {
          "annotationdefaults": {
           "arrowcolor": "#2a3f5f",
           "arrowhead": 0,
           "arrowwidth": 1
          },
          "autotypenumbers": "strict",
          "coloraxis": {
           "colorbar": {
            "outlinewidth": 0,
            "ticks": ""
           }
          },
          "colorscale": {
           "diverging": [
            [
             0,
             "#8e0152"
            ],
            [
             0.1,
             "#c51b7d"
            ],
            [
             0.2,
             "#de77ae"
            ],
            [
             0.3,
             "#f1b6da"
            ],
            [
             0.4,
             "#fde0ef"
            ],
            [
             0.5,
             "#f7f7f7"
            ],
            [
             0.6,
             "#e6f5d0"
            ],
            [
             0.7,
             "#b8e186"
            ],
            [
             0.8,
             "#7fbc41"
            ],
            [
             0.9,
             "#4d9221"
            ],
            [
             1,
             "#276419"
            ]
           ],
           "sequential": [
            [
             0,
             "#0d0887"
            ],
            [
             0.1111111111111111,
             "#46039f"
            ],
            [
             0.2222222222222222,
             "#7201a8"
            ],
            [
             0.3333333333333333,
             "#9c179e"
            ],
            [
             0.4444444444444444,
             "#bd3786"
            ],
            [
             0.5555555555555556,
             "#d8576b"
            ],
            [
             0.6666666666666666,
             "#ed7953"
            ],
            [
             0.7777777777777778,
             "#fb9f3a"
            ],
            [
             0.8888888888888888,
             "#fdca26"
            ],
            [
             1,
             "#f0f921"
            ]
           ],
           "sequentialminus": [
            [
             0,
             "#0d0887"
            ],
            [
             0.1111111111111111,
             "#46039f"
            ],
            [
             0.2222222222222222,
             "#7201a8"
            ],
            [
             0.3333333333333333,
             "#9c179e"
            ],
            [
             0.4444444444444444,
             "#bd3786"
            ],
            [
             0.5555555555555556,
             "#d8576b"
            ],
            [
             0.6666666666666666,
             "#ed7953"
            ],
            [
             0.7777777777777778,
             "#fb9f3a"
            ],
            [
             0.8888888888888888,
             "#fdca26"
            ],
            [
             1,
             "#f0f921"
            ]
           ]
          },
          "colorway": [
           "#636efa",
           "#EF553B",
           "#00cc96",
           "#ab63fa",
           "#FFA15A",
           "#19d3f3",
           "#FF6692",
           "#B6E880",
           "#FF97FF",
           "#FECB52"
          ],
          "font": {
           "color": "#2a3f5f"
          },
          "geo": {
           "bgcolor": "white",
           "lakecolor": "white",
           "landcolor": "#E5ECF6",
           "showlakes": true,
           "showland": true,
           "subunitcolor": "white"
          },
          "hoverlabel": {
           "align": "left"
          },
          "hovermode": "closest",
          "mapbox": {
           "style": "light"
          },
          "paper_bgcolor": "white",
          "plot_bgcolor": "#E5ECF6",
          "polar": {
           "angularaxis": {
            "gridcolor": "white",
            "linecolor": "white",
            "ticks": ""
           },
           "bgcolor": "#E5ECF6",
           "radialaxis": {
            "gridcolor": "white",
            "linecolor": "white",
            "ticks": ""
           }
          },
          "scene": {
           "xaxis": {
            "backgroundcolor": "#E5ECF6",
            "gridcolor": "white",
            "gridwidth": 2,
            "linecolor": "white",
            "showbackground": true,
            "ticks": "",
            "zerolinecolor": "white"
           },
           "yaxis": {
            "backgroundcolor": "#E5ECF6",
            "gridcolor": "white",
            "gridwidth": 2,
            "linecolor": "white",
            "showbackground": true,
            "ticks": "",
            "zerolinecolor": "white"
           },
           "zaxis": {
            "backgroundcolor": "#E5ECF6",
            "gridcolor": "white",
            "gridwidth": 2,
            "linecolor": "white",
            "showbackground": true,
            "ticks": "",
            "zerolinecolor": "white"
           }
          },
          "shapedefaults": {
           "line": {
            "color": "#2a3f5f"
           }
          },
          "ternary": {
           "aaxis": {
            "gridcolor": "white",
            "linecolor": "white",
            "ticks": ""
           },
           "baxis": {
            "gridcolor": "white",
            "linecolor": "white",
            "ticks": ""
           },
           "bgcolor": "#E5ECF6",
           "caxis": {
            "gridcolor": "white",
            "linecolor": "white",
            "ticks": ""
           }
          },
          "title": {
           "x": 0.05
          },
          "xaxis": {
           "automargin": true,
           "gridcolor": "white",
           "linecolor": "white",
           "ticks": "",
           "title": {
            "standoff": 15
           },
           "zerolinecolor": "white",
           "zerolinewidth": 2
          },
          "yaxis": {
           "automargin": true,
           "gridcolor": "white",
           "linecolor": "white",
           "ticks": "",
           "title": {
            "standoff": 15
           },
           "zerolinecolor": "white",
           "zerolinewidth": 2
          }
         }
        },
        "title": {
         "font": {
          "color": "#c7d5cc"
         },
         "text": "Team Performance Trend Over Time"
        },
        "xaxis": {
         "anchor": "y",
         "autorange": true,
         "color": "#c7d5cc",
         "domain": [
          0,
          1
         ],
         "range": [
          -0.5,
          5.5
         ],
         "showgrid": false,
         "title": {
          "text": "Minute Interval"
         },
         "type": "category"
        },
        "yaxis": {
         "anchor": "x",
         "autorange": true,
         "color": "#c7d5cc",
         "domain": [
          0,
          1
         ],
         "gridcolor": "#333",
         "range": [
          0,
          1.0526315789473684
         ],
         "showgrid": true,
         "title": {
          "text": "Performance Score"
         },
         "type": "linear"
        }
       }
      },
      "image/png": "[encoded data removed]",
      "text/html": [
       "<div>                            <div id=\"094973d4-fd09-465f-a413-f0299b7fec43\" class=\"plotly-graph-div\" style=\"height:500px; width:100%;\"></div>            <script type=\"text/javascript\">                require([\"plotly\"], function(Plotly) {                    window.PLOTLYENV=window.PLOTLYENV || {};                                    if (document.getElementById(\"094973d4-fd09-465f-a413-f0299b7fec43\")) {                    Plotly.newPlot(                        \"094973d4-fd09-465f-a413-f0299b7fec43\",                        [{\"alignmentgroup\":\"True\",\"hovertemplate\":\"team=England\\u003cbr\\u003eMinute Interval=%{x}\\u003cbr\\u003ePerformance Score=%{y}\\u003cextra\\u003e\\u003c\\u002fextra\\u003e\",\"legendgroup\":\"England\",\"marker\":{\"color\":\"#FFFFFF\",\"pattern\":{\"shape\":\"\"}},\"name\":\"England\",\"offsetgroup\":\"England\",\"orientation\":\"v\",\"showlegend\":true,\"textposition\":\"inside\",\"x\":[15,30,45,60,75,90],\"xaxis\":\"x\",\"y\":[0.06865261818554848,0.23544948811024893,0.5816525336017603,0.06267806267806267,0.5776635263797736,0.2546560755312521],\"yaxis\":\"y\",\"type\":\"bar\",\"insidetextfont\":{\"color\":\"#0E1117\"},\"texttemplate\":\"%{y:.2f}\"},{\"alignmentgroup\":\"True\",\"hovertemplate\":\"team=Spain\\u003cbr\\u003eMinute Interval=%{x}\\u003cbr\\u003ePerformance Score=%{y}\\u003cextra\\u003e\\u003c\\u002fextra\\u003e\",\"legendgroup\":\"Spain\",\"marker\":{\"color\":\"#8B0D11\",\"pattern\":{\"shape\":\"\"}},\"name\":\"Spain\",\"offsetgroup\":\"Spain\",\"orientation\":\"v\",\"showlegend\":true,\"textposition\":\"inside\",\"x\":[15,30,45,60,75,90],\"xaxis\":\"x\",\"y\":[0.9313473818144515,0.7645505118897511,0.41834746639823966,0.9373219373219372,0.4223364736202265,0.7453439244687479],\"yaxis\":\"y\",\"type\":\"bar\",\"insidetextfont\":{\"color\":\"#0E1117\"},\"texttemplate\":\"%{y:.2f}\"}],                        {\"template\":{\"data\":{\"histogram2dcontour\":[{\"type\":\"histogram2dcontour\",\"colorbar\":{\"outlinewidth\":0,\"ticks\":\"\"},\"colorscale\":[[0.0,\"#0d0887\"],[0.1111111111111111,\"#46039f\"],[0.2222222222222222,\"#7201a8\"],[0.3333333333333333,\"#9c179e\"],[0.4444444444444444,\"#bd3786\"],[0.5555555555555556,\"#d8576b\"],[0.6666666666666666,\"#ed7953\"],[0.7777777777777778,\"#fb9f3a\"],[0.8888888888888888,\"#fdca26\"],[1.0,\"#f0f921\"]]}],\"choropleth\":[{\"type\":\"choropleth\",\"colorbar\":{\"outlinewidth\":0,\"ticks\":\"\"}}],\"histogram2d\":[{\"type\":\"histogram2d\",\"colorbar\":{\"outlinewidth\":0,\"ticks\":\"\"},\"colorscale\":[[0.0,\"#0d0887\"],[0.1111111111111111,\"#46039f\"],[0.2222222222222222,\"#7201a8\"],[0.3333333333333333,\"#9c179e\"],[0.4444444444444444,\"#bd3786\"],[0.5555555555555556,\"#d8576b\"],[0.6666666666666666,\"#ed7953\"],[0.7777777777777778,\"#fb9f3a\"],[0.8888888888888888,\"#fdca26\"],[1.0,\"#f0f921\"]]}],\"heatmap\":[{\"type\":\"heatmap\",\"colorbar\":{\"outlinewidth\":0,\"ticks\":\"\"},\"colorscale\":[[0.0,\"#0d0887\"],[0.1111111111111111,\"#46039f\"],[0.2222222222222222,\"#7201a8\"],[0.3333333333333333,\"#9c179e\"],[0.4444444444444444,\"#bd3786\"],[0.5555555555555556,\"#d8576b\"],[0.6666666666666666,\"#ed7953\"],[0.7777777777777778,\"#fb9f3a\"],[0.8888888888888888,\"#fdca26\"],[1.0,\"#f0f921\"]]}],\"heatmapgl\":[{\"type\":\"heatmapgl\",\"colorbar\":{\"outlinewidth\":0,\"ticks\":\"\"},\"colorscale\":[[0.0,\"#0d0887\"],[0.1111111111111111,\"#46039f\"],[0.2222222222222222,\"#7201a8\"],[0.3333333333333333,\"#9c179e\"],[0.4444444444444444,\"#bd3786\"],[0.5555555555555556,\"#d8576b\"],[0.6666666666666666,\"#ed7953\"],[0.7777777777777778,\"#fb9f3a\"],[0.8888888888888888,\"#fdca26\"],[1.0,\"#f0f921\"]]}],\"contourcarpet\":[{\"type\":\"contourcarpet\",\"colorbar\":{\"outlinewidth\":0,\"ticks\":\"\"}}],\"contour\":[{\"type\":\"contour\",\"colorbar\":{\"outlinewidth\":0,\"ticks\":\"\"},\"colorscale\":[[0.0,\"#0d0887\"],[0.1111111111111111,\"#46039f\"],[0.2222222222222222,\"#7201a8\"],[0.3333333333333333,\"#9c179e\"],[0.4444444444444444,\"#bd3786\"],[0.5555555555555556,\"#d8576b\"],[0.6666666666666666,\"#ed7953\"],[0.7777777777777778,\"#fb9f3a\"],[0.8888888888888888,\"#fdca26\"],[1.0,\"#f0f921\"]]}],\"surface\":[{\"type\":\"surface\",\"colorbar\":{\"outlinewidth\":0,\"ticks\":\"\"},\"colorscale\":[[0.0,\"#0d0887\"],[0.1111111111111111,\"#46039f\"],[0.2222222222222222,\"#7201a8\"],[0.3333333333333333,\"#9c179e\"],[0.4444444444444444,\"#bd3786\"],[0.5555555555555556,\"#d8576b\"],[0.6666666666666666,\"#ed7953\"],[0.7777777777777778,\"#fb9f3a\"],[0.8888888888888888,\"#fdca26\"],[1.0,\"#f0f921\"]]}],\"mesh3d\":[{\"type\":\"mesh3d\",\"colorbar\":{\"outlinewidth\":0,\"ticks\":\"\"}}],\"scatter\":[{\"fillpattern\":{\"fillmode\":\"overlay\",\"size\":10,\"solidity\":0.2},\"type\":\"scatter\"}],\"parcoords\":[{\"type\":\"parcoords\",\"line\":{\"colorbar\":{\"outlinewidth\":0,\"ticks\":\"\"}}}],\"scatterpolargl\":[{\"type\":\"scatterpolargl\",\"marker\":{\"colorbar\":{\"outlinewidth\":0,\"ticks\":\"\"}}}],\"bar\":[{\"error_x\":{\"color\":\"#2a3f5f\"},\"error_y\":{\"color\":\"#2a3f5f\"},\"marker\":{\"line\":{\"color\":\"#E5ECF6\",\"width\":0.5},\"pattern\":{\"fillmode\":\"overlay\",\"size\":10,\"solidity\":0.2}},\"type\":\"bar\"}],\"scattergeo\":[{\"type\":\"scattergeo\",\"marker\":{\"colorbar\":{\"outlinewidth\":0,\"ticks\":\"\"}}}],\"scatterpolar\":[{\"type\":\"scatterpolar\",\"marker\":{\"colorbar\":{\"outlinewidth\":0,\"ticks\":\"\"}}}],\"histogram\":[{\"marker\":{\"pattern\":{\"fillmode\":\"overlay\",\"size\":10,\"solidity\":0.2}},\"type\":\"histogram\"}],\"scattergl\":[{\"type\":\"scattergl\",\"marker\":{\"colorbar\":{\"outlinewidth\":0,\"ticks\":\"\"}}}],\"scatter3d\":[{\"type\":\"scatter3d\",\"line\":{\"colorbar\":{\"outlinewidth\":0,\"ticks\":\"\"}},\"marker\":{\"colorbar\":{\"outlinewidth\":0,\"ticks\":\"\"}}}],\"scattermapbox\":[{\"type\":\"scattermapbox\",\"marker\":{\"colorbar\":{\"outlinewidth\":0,\"ticks\":\"\"}}}],\"scatterternary\":[{\"type\":\"scatterternary\",\"marker\":{\"colorbar\":{\"outlinewidth\":0,\"ticks\":\"\"}}}],\"scattercarpet\":[{\"type\":\"scattercarpet\",\"marker\":{\"colorbar\":{\"outlinewidth\":0,\"ticks\":\"\"}}}],\"carpet\":[{\"aaxis\":{\"endlinecolor\":\"#2a3f5f\",\"gridcolor\":\"white\",\"linecolor\":\"white\",\"minorgridcolor\":\"white\",\"startlinecolor\":\"#2a3f5f\"},\"baxis\":{\"endlinecolor\":\"#2a3f5f\",\"gridcolor\":\"white\",\"linecolor\":\"white\",\"minorgridcolor\":\"white\",\"startlinecolor\":\"#2a3f5f\"},\"type\":\"carpet\"}],\"table\":[{\"cells\":{\"fill\":{\"color\":\"#EBF0F8\"},\"line\":{\"color\":\"white\"}},\"header\":{\"fill\":{\"color\":\"#C8D4E3\"},\"line\":{\"color\":\"white\"}},\"type\":\"table\"}],\"barpolar\":[{\"marker\":{\"line\":{\"color\":\"#E5ECF6\",\"width\":0.5},\"pattern\":{\"fillmode\":\"overlay\",\"size\":10,\"solidity\":0.2}},\"type\":\"barpolar\"}],\"pie\":[{\"automargin\":true,\"type\":\"pie\"}]},\"layout\":{\"autotypenumbers\":\"strict\",\"colorway\":[\"#636efa\",\"#EF553B\",\"#00cc96\",\"#ab63fa\",\"#FFA15A\",\"#19d3f3\",\"#FF6692\",\"#B6E880\",\"#FF97FF\",\"#FECB52\"],\"font\":{\"color\":\"#2a3f5f\"},\"hovermode\":\"closest\",\"hoverlabel\":{\"align\":\"left\"},\"paper_bgcolor\":\"white\",\"plot_bgcolor\":\"#E5ECF6\",\"polar\":{\"bgcolor\":\"#E5ECF6\",\"angularaxis\":{\"gridcolor\":\"white\",\"linecolor\":\"white\",\"ticks\":\"\"},\"radialaxis\":{\"gridcolor\":\"white\",\"linecolor\":\"white\",\"ticks\":\"\"}},\"ternary\":{\"bgcolor\":\"#E5ECF6\",\"aaxis\":{\"gridcolor\":\"white\",\"linecolor\":\"white\",\"ticks\":\"\"},\"baxis\":{\"gridcolor\":\"white\",\"linecolor\":\"white\",\"ticks\":\"\"},\"caxis\":{\"gridcolor\":\"white\",\"linecolor\":\"white\",\"ticks\":\"\"}},\"coloraxis\":{\"colorbar\":{\"outlinewidth\":0,\"ticks\":\"\"}},\"colorscale\":{\"sequential\":[[0.0,\"#0d0887\"],[0.1111111111111111,\"#46039f\"],[0.2222222222222222,\"#7201a8\"],[0.3333333333333333,\"#9c179e\"],[0.4444444444444444,\"#bd3786\"],[0.5555555555555556,\"#d8576b\"],[0.6666666666666666,\"#ed7953\"],[0.7777777777777778,\"#fb9f3a\"],[0.8888888888888888,\"#fdca26\"],[1.0,\"#f0f921\"]],\"sequentialminus\":[[0.0,\"#0d0887\"],[0.1111111111111111,\"#46039f\"],[0.2222222222222222,\"#7201a8\"],[0.3333333333333333,\"#9c179e\"],[0.4444444444444444,\"#bd3786\"],[0.5555555555555556,\"#d8576b\"],[0.6666666666666666,\"#ed7953\"],[0.7777777777777778,\"#fb9f3a\"],[0.8888888888888888,\"#fdca26\"],[1.0,\"#f0f921\"]],\"diverging\":[[0,\"#8e0152\"],[0.1,\"#c51b7d\"],[0.2,\"#de77ae\"],[0.3,\"#f1b6da\"],[0.4,\"#fde0ef\"],[0.5,\"#f7f7f7\"],[0.6,\"#e6f5d0\"],[0.7,\"#b8e186\"],[0.8,\"#7fbc41\"],[0.9,\"#4d9221\"],[1,\"#276419\"]]},\"xaxis\":{\"gridcolor\":\"white\",\"linecolor\":\"white\",\"ticks\":\"\",\"title\":{\"standoff\":15},\"zerolinecolor\":\"white\",\"automargin\":true,\"zerolinewidth\":2},\"yaxis\":{\"gridcolor\":\"white\",\"linecolor\":\"white\",\"ticks\":\"\",\"title\":{\"standoff\":15},\"zerolinecolor\":\"white\",\"automargin\":true,\"zerolinewidth\":2},\"scene\":{\"xaxis\":{\"backgroundcolor\":\"#E5ECF6\",\"gridcolor\":\"white\",\"linecolor\":\"white\",\"showbackground\":true,\"ticks\":\"\",\"zerolinecolor\":\"white\",\"gridwidth\":2},\"yaxis\":{\"backgroundcolor\":\"#E5ECF6\",\"gridcolor\":\"white\",\"linecolor\":\"white\",\"showbackground\":true,\"ticks\":\"\",\"zerolinecolor\":\"white\",\"gridwidth\":2},\"zaxis\":{\"backgroundcolor\":\"#E5ECF6\",\"gridcolor\":\"white\",\"linecolor\":\"white\",\"showbackground\":true,\"ticks\":\"\",\"zerolinecolor\":\"white\",\"gridwidth\":2}},\"shapedefaults\":{\"line\":{\"color\":\"#2a3f5f\"}},\"annotationdefaults\":{\"arrowcolor\":\"#2a3f5f\",\"arrowhead\":0,\"arrowwidth\":1},\"geo\":{\"bgcolor\":\"white\",\"landcolor\":\"#E5ECF6\",\"subunitcolor\":\"white\",\"showland\":true,\"showlakes\":true,\"lakecolor\":\"white\"},\"title\":{\"x\":0.05},\"mapbox\":{\"style\":\"light\"}}},\"xaxis\":{\"anchor\":\"y\",\"domain\":[0.0,1.0],\"title\":{\"text\":\"Minute Interval\"},\"type\":\"category\",\"showgrid\":false,\"color\":\"#c7d5cc\"},\"yaxis\":{\"anchor\":\"x\",\"domain\":[0.0,1.0],\"title\":{\"text\":\"Performance Score\"},\"showgrid\":true,\"gridcolor\":\"#333\",\"color\":\"#c7d5cc\"},\"legend\":{\"title\":{\"text\":\"team\"},\"tracegroupgap\":0,\"font\":{\"color\":\"#c7d5cc\"}},\"title\":{\"text\":\"Team Performance Trend Over Time\",\"font\":{\"color\":\"#c7d5cc\"}},\"barmode\":\"stack\",\"height\":500,\"font\":{\"color\":\"#c7d5cc\"},\"plot_bgcolor\":\"#0E1117\",\"paper_bgcolor\":\"#0E1117\"},                        {\"responsive\": true}                    ).then(function(){\n",
       "                            \n",
       "var gd = document.getElementById('094973d4-fd09-465f-a413-f0299b7fec43');\n",
       "var x = new MutationObserver(function (mutations, observer) {{\n",
       "        var display = window.getComputedStyle(gd).display;\n",
       "        if (!display || display === 'none') {{\n",
       "            console.log([gd, 'removed!']);\n",
       "            Plotly.purge(gd);\n",
       "            observer.disconnect();\n",
       "        }}\n",
       "}});\n",
       "\n",
       "// Listen for the removal of the full notebook cells\n",
       "var notebookContainer = gd.closest('#notebook-container');\n",
       "if (notebookContainer) {{\n",
       "    x.observe(notebookContainer, {childList: true});\n",
       "}}\n",
       "\n",
       "// Listen for the clearing of the current output cell\n",
       "var outputEl = gd.closest('.output');\n",
       "if (outputEl) {{\n",
       "    x.observe(outputEl, {childList: true});\n",
       "}}\n",
       "\n",
       "                        })                };                });            </script>        </div>"
      ]
     },
     "metadata": {},
     "output_type": "display_data"
    }
   ],
   "source": [
    "# Plot the stacked percentage chart\n",
    "fig = px.bar(\n",
    "    stats_per_15,\n",
    "    x='minute_per_15',\n",
    "    y='normalized_score',\n",
    "    color='team',\n",
    "    barmode='stack',\n",
    "    title='Team Performance Trend Over Time',\n",
    "    labels={'minute_per_15': 'Minute Interval', 'normalized_score': 'Performance Score'},\n",
    "    height=500,\n",
    "    color_discrete_map={\n",
    "        home_team : home_color,  \n",
    "        away_team : away_color     \n",
    "    }\n",
    ")\n",
    "\n",
    "# Apply dark theme\n",
    "fig.update_layout(\n",
    "    plot_bgcolor='#0E1117',\n",
    "    paper_bgcolor='#0E1117',\n",
    "    font=dict(color='#c7d5cc'),\n",
    "    xaxis=dict(type='category', showgrid=False, color='#c7d5cc'),\n",
    "    yaxis=dict(showgrid=True, gridcolor='#333', color='#c7d5cc'),\n",
    "    legend=dict(font=dict(color='#c7d5cc')),\n",
    "    title_font=dict(color='#c7d5cc')\n",
    ")\n",
    "\n",
    "\n",
    "fig.update_traces(\n",
    "    texttemplate='%{y:.2f}',                  \n",
    "    textposition='inside',\n",
    "    insidetextfont=dict(color='#0E1117')     \n",
    ")\n",
    "\n",
    "fig.show()"
   ]
  },
  {
   "cell_type": "code",
   "execution_count": 140,
   "id": "8703ab5b-92f4-49db-b6b6-d7519e7f4ac6",
   "metadata": {},
   "outputs": [
    {
     "data": {
      "application/vnd.plotly.v1+json": {
       "config": {
        "plotlyServerURL": "https://plot.ly"
       },
       "data": [
        {
         "hovertemplate": "team=England<br>Minute Interval=%{x}<br>Proportional Performance=%{y}<extra></extra>",
         "legendgroup": "England",
         "line": {
          "color": "#FFFFFF",
          "dash": "solid"
         },
         "marker": {
          "symbol": "circle"
         },
         "mode": "lines+markers",
         "name": "England",
         "orientation": "v",
         "showlegend": true,
         "type": "scatter",
         "x": [
          15,
          30,
          45,
          60,
          75,
          90
         ],
         "xaxis": "x",
         "y": [
          0.06865261818554848,
          0.23544948811024893,
          0.5816525336017603,
          0.06267806267806267,
          0.5776635263797736,
          0.2546560755312521
         ],
         "yaxis": "y"
        },
        {
         "hovertemplate": "team=Spain<br>Minute Interval=%{x}<br>Proportional Performance=%{y}<extra></extra>",
         "legendgroup": "Spain",
         "line": {
          "color": "#8B0D11",
          "dash": "solid"
         },
         "marker": {
          "symbol": "circle"
         },
         "mode": "lines+markers",
         "name": "Spain",
         "orientation": "v",
         "showlegend": true,
         "type": "scatter",
         "x": [
          15,
          30,
          45,
          60,
          75,
          90
         ],
         "xaxis": "x",
         "y": [
          0.9313473818144515,
          0.7645505118897511,
          0.41834746639823966,
          0.9373219373219372,
          0.4223364736202265,
          0.7453439244687479
         ],
         "yaxis": "y"
        }
       ],
       "layout": {
        "autosize": true,
        "font": {
         "color": "#c7d5cc"
        },
        "legend": {
         "font": {
          "color": "#c7d5cc"
         },
         "title": {
          "text": "team"
         },
         "tracegroupgap": 0
        },
        "paper_bgcolor": "#0E1117",
        "plot_bgcolor": "#0E1117",
        "template": {
         "data": {
          "bar": [
           {
            "error_x": {
             "color": "#2a3f5f"
            },
            "error_y": {
             "color": "#2a3f5f"
            },
            "marker": {
             "line": {
              "color": "#E5ECF6",
              "width": 0.5
             },
             "pattern": {
              "fillmode": "overlay",
              "size": 10,
              "solidity": 0.2
             }
            },
            "type": "bar"
           }
          ],
          "barpolar": [
           {
            "marker": {
             "line": {
              "color": "#E5ECF6",
              "width": 0.5
             },
             "pattern": {
              "fillmode": "overlay",
              "size": 10,
              "solidity": 0.2
             }
            },
            "type": "barpolar"
           }
          ],
          "carpet": [
           {
            "aaxis": {
             "endlinecolor": "#2a3f5f",
             "gridcolor": "white",
             "linecolor": "white",
             "minorgridcolor": "white",
             "startlinecolor": "#2a3f5f"
            },
            "baxis": {
             "endlinecolor": "#2a3f5f",
             "gridcolor": "white",
             "linecolor": "white",
             "minorgridcolor": "white",
             "startlinecolor": "#2a3f5f"
            },
            "type": "carpet"
           }
          ],
          "choropleth": [
           {
            "colorbar": {
             "outlinewidth": 0,
             "ticks": ""
            },
            "type": "choropleth"
           }
          ],
          "contour": [
           {
            "colorbar": {
             "outlinewidth": 0,
             "ticks": ""
            },
            "colorscale": [
             [
              0,
              "#0d0887"
             ],
             [
              0.1111111111111111,
              "#46039f"
             ],
             [
              0.2222222222222222,
              "#7201a8"
             ],
             [
              0.3333333333333333,
              "#9c179e"
             ],
             [
              0.4444444444444444,
              "#bd3786"
             ],
             [
              0.5555555555555556,
              "#d8576b"
             ],
             [
              0.6666666666666666,
              "#ed7953"
             ],
             [
              0.7777777777777778,
              "#fb9f3a"
             ],
             [
              0.8888888888888888,
              "#fdca26"
             ],
             [
              1,
              "#f0f921"
             ]
            ],
            "type": "contour"
           }
          ],
          "contourcarpet": [
           {
            "colorbar": {
             "outlinewidth": 0,
             "ticks": ""
            },
            "type": "contourcarpet"
           }
          ],
          "heatmap": [
           {
            "colorbar": {
             "outlinewidth": 0,
             "ticks": ""
            },
            "colorscale": [
             [
              0,
              "#0d0887"
             ],
             [
              0.1111111111111111,
              "#46039f"
             ],
             [
              0.2222222222222222,
              "#7201a8"
             ],
             [
              0.3333333333333333,
              "#9c179e"
             ],
             [
              0.4444444444444444,
              "#bd3786"
             ],
             [
              0.5555555555555556,
              "#d8576b"
             ],
             [
              0.6666666666666666,
              "#ed7953"
             ],
             [
              0.7777777777777778,
              "#fb9f3a"
             ],
             [
              0.8888888888888888,
              "#fdca26"
             ],
             [
              1,
              "#f0f921"
             ]
            ],
            "type": "heatmap"
           }
          ],
          "heatmapgl": [
           {
            "colorbar": {
             "outlinewidth": 0,
             "ticks": ""
            },
            "colorscale": [
             [
              0,
              "#0d0887"
             ],
             [
              0.1111111111111111,
              "#46039f"
             ],
             [
              0.2222222222222222,
              "#7201a8"
             ],
             [
              0.3333333333333333,
              "#9c179e"
             ],
             [
              0.4444444444444444,
              "#bd3786"
             ],
             [
              0.5555555555555556,
              "#d8576b"
             ],
             [
              0.6666666666666666,
              "#ed7953"
             ],
             [
              0.7777777777777778,
              "#fb9f3a"
             ],
             [
              0.8888888888888888,
              "#fdca26"
             ],
             [
              1,
              "#f0f921"
             ]
            ],
            "type": "heatmapgl"
           }
          ],
          "histogram": [
           {
            "marker": {
             "pattern": {
              "fillmode": "overlay",
              "size": 10,
              "solidity": 0.2
             }
            },
            "type": "histogram"
           }
          ],
          "histogram2d": [
           {
            "colorbar": {
             "outlinewidth": 0,
             "ticks": ""
            },
            "colorscale": [
             [
              0,
              "#0d0887"
             ],
             [
              0.1111111111111111,
              "#46039f"
             ],
             [
              0.2222222222222222,
              "#7201a8"
             ],
             [
              0.3333333333333333,
              "#9c179e"
             ],
             [
              0.4444444444444444,
              "#bd3786"
             ],
             [
              0.5555555555555556,
              "#d8576b"
             ],
             [
              0.6666666666666666,
              "#ed7953"
             ],
             [
              0.7777777777777778,
              "#fb9f3a"
             ],
             [
              0.8888888888888888,
              "#fdca26"
             ],
             [
              1,
              "#f0f921"
             ]
            ],
            "type": "histogram2d"
           }
          ],
          "histogram2dcontour": [
           {
            "colorbar": {
             "outlinewidth": 0,
             "ticks": ""
            },
            "colorscale": [
             [
              0,
              "#0d0887"
             ],
             [
              0.1111111111111111,
              "#46039f"
             ],
             [
              0.2222222222222222,
              "#7201a8"
             ],
             [
              0.3333333333333333,
              "#9c179e"
             ],
             [
              0.4444444444444444,
              "#bd3786"
             ],
             [
              0.5555555555555556,
              "#d8576b"
             ],
             [
              0.6666666666666666,
              "#ed7953"
             ],
             [
              0.7777777777777778,
              "#fb9f3a"
             ],
             [
              0.8888888888888888,
              "#fdca26"
             ],
             [
              1,
              "#f0f921"
             ]
            ],
            "type": "histogram2dcontour"
           }
          ],
          "mesh3d": [
           {
            "colorbar": {
             "outlinewidth": 0,
             "ticks": ""
            },
            "type": "mesh3d"
           }
          ],
          "parcoords": [
           {
            "line": {
             "colorbar": {
              "outlinewidth": 0,
              "ticks": ""
             }
            },
            "type": "parcoords"
           }
          ],
          "pie": [
           {
            "automargin": true,
            "type": "pie"
           }
          ],
          "scatter": [
           {
            "fillpattern": {
             "fillmode": "overlay",
             "size": 10,
             "solidity": 0.2
            },
            "type": "scatter"
           }
          ],
          "scatter3d": [
           {
            "line": {
             "colorbar": {
              "outlinewidth": 0,
              "ticks": ""
             }
            },
            "marker": {
             "colorbar": {
              "outlinewidth": 0,
              "ticks": ""
             }
            },
            "type": "scatter3d"
           }
          ],
          "scattercarpet": [
           {
            "marker": {
             "colorbar": {
              "outlinewidth": 0,
              "ticks": ""
             }
            },
            "type": "scattercarpet"
           }
          ],
          "scattergeo": [
           {
            "marker": {
             "colorbar": {
              "outlinewidth": 0,
              "ticks": ""
             }
            },
            "type": "scattergeo"
           }
          ],
          "scattergl": [
           {
            "marker": {
             "colorbar": {
              "outlinewidth": 0,
              "ticks": ""
             }
            },
            "type": "scattergl"
           }
          ],
          "scattermapbox": [
           {
            "marker": {
             "colorbar": {
              "outlinewidth": 0,
              "ticks": ""
             }
            },
            "type": "scattermapbox"
           }
          ],
          "scatterpolar": [
           {
            "marker": {
             "colorbar": {
              "outlinewidth": 0,
              "ticks": ""
             }
            },
            "type": "scatterpolar"
           }
          ],
          "scatterpolargl": [
           {
            "marker": {
             "colorbar": {
              "outlinewidth": 0,
              "ticks": ""
             }
            },
            "type": "scatterpolargl"
           }
          ],
          "scatterternary": [
           {
            "marker": {
             "colorbar": {
              "outlinewidth": 0,
              "ticks": ""
             }
            },
            "type": "scatterternary"
           }
          ],
          "surface": [
           {
            "colorbar": {
             "outlinewidth": 0,
             "ticks": ""
            },
            "colorscale": [
             [
              0,
              "#0d0887"
             ],
             [
              0.1111111111111111,
              "#46039f"
             ],
             [
              0.2222222222222222,
              "#7201a8"
             ],
             [
              0.3333333333333333,
              "#9c179e"
             ],
             [
              0.4444444444444444,
              "#bd3786"
             ],
             [
              0.5555555555555556,
              "#d8576b"
             ],
             [
              0.6666666666666666,
              "#ed7953"
             ],
             [
              0.7777777777777778,
              "#fb9f3a"
             ],
             [
              0.8888888888888888,
              "#fdca26"
             ],
             [
              1,
              "#f0f921"
             ]
            ],
            "type": "surface"
           }
          ],
          "table": [
           {
            "cells": {
             "fill": {
              "color": "#EBF0F8"
             },
             "line": {
              "color": "white"
             }
            },
            "header": {
             "fill": {
              "color": "#C8D4E3"
             },
             "line": {
              "color": "white"
             }
            },
            "type": "table"
           }
          ]
         },
         "layout": {
          "annotationdefaults": {
           "arrowcolor": "#2a3f5f",
           "arrowhead": 0,
           "arrowwidth": 1
          },
          "autotypenumbers": "strict",
          "coloraxis": {
           "colorbar": {
            "outlinewidth": 0,
            "ticks": ""
           }
          },
          "colorscale": {
           "diverging": [
            [
             0,
             "#8e0152"
            ],
            [
             0.1,
             "#c51b7d"
            ],
            [
             0.2,
             "#de77ae"
            ],
            [
             0.3,
             "#f1b6da"
            ],
            [
             0.4,
             "#fde0ef"
            ],
            [
             0.5,
             "#f7f7f7"
            ],
            [
             0.6,
             "#e6f5d0"
            ],
            [
             0.7,
             "#b8e186"
            ],
            [
             0.8,
             "#7fbc41"
            ],
            [
             0.9,
             "#4d9221"
            ],
            [
             1,
             "#276419"
            ]
           ],
           "sequential": [
            [
             0,
             "#0d0887"
            ],
            [
             0.1111111111111111,
             "#46039f"
            ],
            [
             0.2222222222222222,
             "#7201a8"
            ],
            [
             0.3333333333333333,
             "#9c179e"
            ],
            [
             0.4444444444444444,
             "#bd3786"
            ],
            [
             0.5555555555555556,
             "#d8576b"
            ],
            [
             0.6666666666666666,
             "#ed7953"
            ],
            [
             0.7777777777777778,
             "#fb9f3a"
            ],
            [
             0.8888888888888888,
             "#fdca26"
            ],
            [
             1,
             "#f0f921"
            ]
           ],
           "sequentialminus": [
            [
             0,
             "#0d0887"
            ],
            [
             0.1111111111111111,
             "#46039f"
            ],
            [
             0.2222222222222222,
             "#7201a8"
            ],
            [
             0.3333333333333333,
             "#9c179e"
            ],
            [
             0.4444444444444444,
             "#bd3786"
            ],
            [
             0.5555555555555556,
             "#d8576b"
            ],
            [
             0.6666666666666666,
             "#ed7953"
            ],
            [
             0.7777777777777778,
             "#fb9f3a"
            ],
            [
             0.8888888888888888,
             "#fdca26"
            ],
            [
             1,
             "#f0f921"
            ]
           ]
          },
          "colorway": [
           "#636efa",
           "#EF553B",
           "#00cc96",
           "#ab63fa",
           "#FFA15A",
           "#19d3f3",
           "#FF6692",
           "#B6E880",
           "#FF97FF",
           "#FECB52"
          ],
          "font": {
           "color": "#2a3f5f"
          },
          "geo": {
           "bgcolor": "white",
           "lakecolor": "white",
           "landcolor": "#E5ECF6",
           "showlakes": true,
           "showland": true,
           "subunitcolor": "white"
          },
          "hoverlabel": {
           "align": "left"
          },
          "hovermode": "closest",
          "mapbox": {
           "style": "light"
          },
          "paper_bgcolor": "white",
          "plot_bgcolor": "#E5ECF6",
          "polar": {
           "angularaxis": {
            "gridcolor": "white",
            "linecolor": "white",
            "ticks": ""
           },
           "bgcolor": "#E5ECF6",
           "radialaxis": {
            "gridcolor": "white",
            "linecolor": "white",
            "ticks": ""
           }
          },
          "scene": {
           "xaxis": {
            "backgroundcolor": "#E5ECF6",
            "gridcolor": "white",
            "gridwidth": 2,
            "linecolor": "white",
            "showbackground": true,
            "ticks": "",
            "zerolinecolor": "white"
           },
           "yaxis": {
            "backgroundcolor": "#E5ECF6",
            "gridcolor": "white",
            "gridwidth": 2,
            "linecolor": "white",
            "showbackground": true,
            "ticks": "",
            "zerolinecolor": "white"
           },
           "zaxis": {
            "backgroundcolor": "#E5ECF6",
            "gridcolor": "white",
            "gridwidth": 2,
            "linecolor": "white",
            "showbackground": true,
            "ticks": "",
            "zerolinecolor": "white"
           }
          },
          "shapedefaults": {
           "line": {
            "color": "#2a3f5f"
           }
          },
          "ternary": {
           "aaxis": {
            "gridcolor": "white",
            "linecolor": "white",
            "ticks": ""
           },
           "baxis": {
            "gridcolor": "white",
            "linecolor": "white",
            "ticks": ""
           },
           "bgcolor": "#E5ECF6",
           "caxis": {
            "gridcolor": "white",
            "linecolor": "white",
            "ticks": ""
           }
          },
          "title": {
           "x": 0.05
          },
          "xaxis": {
           "automargin": true,
           "gridcolor": "white",
           "linecolor": "white",
           "ticks": "",
           "title": {
            "standoff": 15
           },
           "zerolinecolor": "white",
           "zerolinewidth": 2
          },
          "yaxis": {
           "automargin": true,
           "gridcolor": "white",
           "linecolor": "white",
           "ticks": "",
           "title": {
            "standoff": 15
           },
           "zerolinecolor": "white",
           "zerolinewidth": 2
          }
         }
        },
        "title": {
         "font": {
          "color": "#c7d5cc"
         },
         "text": "Team Performance Trend Over Time"
        },
        "xaxis": {
         "anchor": "y",
         "autorange": true,
         "color": "#c7d5cc",
         "domain": [
          0,
          1
         ],
         "range": [
          -0.324478816408877,
          5.324478816408877
         ],
         "showgrid": false,
         "title": {
          "text": "Minute Interval"
         },
         "type": "category"
        },
        "yaxis": {
         "anchor": "x",
         "autorange": true,
         "color": "#c7d5cc",
         "domain": [
          0,
          1
         ],
         "gridcolor": "#333",
         "range": [
          -0.009501286200315331,
          1.0095012862003152
         ],
         "title": {
          "text": "Proportional Performance"
         },
         "type": "linear"
        }
       }
      },
      "text/html": [
       "<div>                            <div id=\"e84f4393-f320-447a-a54a-644180cefd86\" class=\"plotly-graph-div\" style=\"height:525px; width:100%;\"></div>            <script type=\"text/javascript\">                require([\"plotly\"], function(Plotly) {                    window.PLOTLYENV=window.PLOTLYENV || {};                                    if (document.getElementById(\"e84f4393-f320-447a-a54a-644180cefd86\")) {                    Plotly.newPlot(                        \"e84f4393-f320-447a-a54a-644180cefd86\",                        [{\"hovertemplate\":\"team=England\\u003cbr\\u003eMinute Interval=%{x}\\u003cbr\\u003eProportional Performance=%{y}\\u003cextra\\u003e\\u003c\\u002fextra\\u003e\",\"legendgroup\":\"England\",\"line\":{\"color\":\"#FFFFFF\",\"dash\":\"solid\"},\"marker\":{\"symbol\":\"circle\"},\"mode\":\"lines+markers\",\"name\":\"England\",\"orientation\":\"v\",\"showlegend\":true,\"x\":[15,30,45,60,75,90],\"xaxis\":\"x\",\"y\":[0.06865261818554848,0.23544948811024893,0.5816525336017603,0.06267806267806267,0.5776635263797736,0.2546560755312521],\"yaxis\":\"y\",\"type\":\"scatter\"},{\"hovertemplate\":\"team=Spain\\u003cbr\\u003eMinute Interval=%{x}\\u003cbr\\u003eProportional Performance=%{y}\\u003cextra\\u003e\\u003c\\u002fextra\\u003e\",\"legendgroup\":\"Spain\",\"line\":{\"color\":\"#8B0D11\",\"dash\":\"solid\"},\"marker\":{\"symbol\":\"circle\"},\"mode\":\"lines+markers\",\"name\":\"Spain\",\"orientation\":\"v\",\"showlegend\":true,\"x\":[15,30,45,60,75,90],\"xaxis\":\"x\",\"y\":[0.9313473818144515,0.7645505118897511,0.41834746639823966,0.9373219373219372,0.4223364736202265,0.7453439244687479],\"yaxis\":\"y\",\"type\":\"scatter\"}],                        {\"template\":{\"data\":{\"histogram2dcontour\":[{\"type\":\"histogram2dcontour\",\"colorbar\":{\"outlinewidth\":0,\"ticks\":\"\"},\"colorscale\":[[0.0,\"#0d0887\"],[0.1111111111111111,\"#46039f\"],[0.2222222222222222,\"#7201a8\"],[0.3333333333333333,\"#9c179e\"],[0.4444444444444444,\"#bd3786\"],[0.5555555555555556,\"#d8576b\"],[0.6666666666666666,\"#ed7953\"],[0.7777777777777778,\"#fb9f3a\"],[0.8888888888888888,\"#fdca26\"],[1.0,\"#f0f921\"]]}],\"choropleth\":[{\"type\":\"choropleth\",\"colorbar\":{\"outlinewidth\":0,\"ticks\":\"\"}}],\"histogram2d\":[{\"type\":\"histogram2d\",\"colorbar\":{\"outlinewidth\":0,\"ticks\":\"\"},\"colorscale\":[[0.0,\"#0d0887\"],[0.1111111111111111,\"#46039f\"],[0.2222222222222222,\"#7201a8\"],[0.3333333333333333,\"#9c179e\"],[0.4444444444444444,\"#bd3786\"],[0.5555555555555556,\"#d8576b\"],[0.6666666666666666,\"#ed7953\"],[0.7777777777777778,\"#fb9f3a\"],[0.8888888888888888,\"#fdca26\"],[1.0,\"#f0f921\"]]}],\"heatmap\":[{\"type\":\"heatmap\",\"colorbar\":{\"outlinewidth\":0,\"ticks\":\"\"},\"colorscale\":[[0.0,\"#0d0887\"],[0.1111111111111111,\"#46039f\"],[0.2222222222222222,\"#7201a8\"],[0.3333333333333333,\"#9c179e\"],[0.4444444444444444,\"#bd3786\"],[0.5555555555555556,\"#d8576b\"],[0.6666666666666666,\"#ed7953\"],[0.7777777777777778,\"#fb9f3a\"],[0.8888888888888888,\"#fdca26\"],[1.0,\"#f0f921\"]]}],\"heatmapgl\":[{\"type\":\"heatmapgl\",\"colorbar\":{\"outlinewidth\":0,\"ticks\":\"\"},\"colorscale\":[[0.0,\"#0d0887\"],[0.1111111111111111,\"#46039f\"],[0.2222222222222222,\"#7201a8\"],[0.3333333333333333,\"#9c179e\"],[0.4444444444444444,\"#bd3786\"],[0.5555555555555556,\"#d8576b\"],[0.6666666666666666,\"#ed7953\"],[0.7777777777777778,\"#fb9f3a\"],[0.8888888888888888,\"#fdca26\"],[1.0,\"#f0f921\"]]}],\"contourcarpet\":[{\"type\":\"contourcarpet\",\"colorbar\":{\"outlinewidth\":0,\"ticks\":\"\"}}],\"contour\":[{\"type\":\"contour\",\"colorbar\":{\"outlinewidth\":0,\"ticks\":\"\"},\"colorscale\":[[0.0,\"#0d0887\"],[0.1111111111111111,\"#46039f\"],[0.2222222222222222,\"#7201a8\"],[0.3333333333333333,\"#9c179e\"],[0.4444444444444444,\"#bd3786\"],[0.5555555555555556,\"#d8576b\"],[0.6666666666666666,\"#ed7953\"],[0.7777777777777778,\"#fb9f3a\"],[0.8888888888888888,\"#fdca26\"],[1.0,\"#f0f921\"]]}],\"surface\":[{\"type\":\"surface\",\"colorbar\":{\"outlinewidth\":0,\"ticks\":\"\"},\"colorscale\":[[0.0,\"#0d0887\"],[0.1111111111111111,\"#46039f\"],[0.2222222222222222,\"#7201a8\"],[0.3333333333333333,\"#9c179e\"],[0.4444444444444444,\"#bd3786\"],[0.5555555555555556,\"#d8576b\"],[0.6666666666666666,\"#ed7953\"],[0.7777777777777778,\"#fb9f3a\"],[0.8888888888888888,\"#fdca26\"],[1.0,\"#f0f921\"]]}],\"mesh3d\":[{\"type\":\"mesh3d\",\"colorbar\":{\"outlinewidth\":0,\"ticks\":\"\"}}],\"scatter\":[{\"fillpattern\":{\"fillmode\":\"overlay\",\"size\":10,\"solidity\":0.2},\"type\":\"scatter\"}],\"parcoords\":[{\"type\":\"parcoords\",\"line\":{\"colorbar\":{\"outlinewidth\":0,\"ticks\":\"\"}}}],\"scatterpolargl\":[{\"type\":\"scatterpolargl\",\"marker\":{\"colorbar\":{\"outlinewidth\":0,\"ticks\":\"\"}}}],\"bar\":[{\"error_x\":{\"color\":\"#2a3f5f\"},\"error_y\":{\"color\":\"#2a3f5f\"},\"marker\":{\"line\":{\"color\":\"#E5ECF6\",\"width\":0.5},\"pattern\":{\"fillmode\":\"overlay\",\"size\":10,\"solidity\":0.2}},\"type\":\"bar\"}],\"scattergeo\":[{\"type\":\"scattergeo\",\"marker\":{\"colorbar\":{\"outlinewidth\":0,\"ticks\":\"\"}}}],\"scatterpolar\":[{\"type\":\"scatterpolar\",\"marker\":{\"colorbar\":{\"outlinewidth\":0,\"ticks\":\"\"}}}],\"histogram\":[{\"marker\":{\"pattern\":{\"fillmode\":\"overlay\",\"size\":10,\"solidity\":0.2}},\"type\":\"histogram\"}],\"scattergl\":[{\"type\":\"scattergl\",\"marker\":{\"colorbar\":{\"outlinewidth\":0,\"ticks\":\"\"}}}],\"scatter3d\":[{\"type\":\"scatter3d\",\"line\":{\"colorbar\":{\"outlinewidth\":0,\"ticks\":\"\"}},\"marker\":{\"colorbar\":{\"outlinewidth\":0,\"ticks\":\"\"}}}],\"scattermapbox\":[{\"type\":\"scattermapbox\",\"marker\":{\"colorbar\":{\"outlinewidth\":0,\"ticks\":\"\"}}}],\"scatterternary\":[{\"type\":\"scatterternary\",\"marker\":{\"colorbar\":{\"outlinewidth\":0,\"ticks\":\"\"}}}],\"scattercarpet\":[{\"type\":\"scattercarpet\",\"marker\":{\"colorbar\":{\"outlinewidth\":0,\"ticks\":\"\"}}}],\"carpet\":[{\"aaxis\":{\"endlinecolor\":\"#2a3f5f\",\"gridcolor\":\"white\",\"linecolor\":\"white\",\"minorgridcolor\":\"white\",\"startlinecolor\":\"#2a3f5f\"},\"baxis\":{\"endlinecolor\":\"#2a3f5f\",\"gridcolor\":\"white\",\"linecolor\":\"white\",\"minorgridcolor\":\"white\",\"startlinecolor\":\"#2a3f5f\"},\"type\":\"carpet\"}],\"table\":[{\"cells\":{\"fill\":{\"color\":\"#EBF0F8\"},\"line\":{\"color\":\"white\"}},\"header\":{\"fill\":{\"color\":\"#C8D4E3\"},\"line\":{\"color\":\"white\"}},\"type\":\"table\"}],\"barpolar\":[{\"marker\":{\"line\":{\"color\":\"#E5ECF6\",\"width\":0.5},\"pattern\":{\"fillmode\":\"overlay\",\"size\":10,\"solidity\":0.2}},\"type\":\"barpolar\"}],\"pie\":[{\"automargin\":true,\"type\":\"pie\"}]},\"layout\":{\"autotypenumbers\":\"strict\",\"colorway\":[\"#636efa\",\"#EF553B\",\"#00cc96\",\"#ab63fa\",\"#FFA15A\",\"#19d3f3\",\"#FF6692\",\"#B6E880\",\"#FF97FF\",\"#FECB52\"],\"font\":{\"color\":\"#2a3f5f\"},\"hovermode\":\"closest\",\"hoverlabel\":{\"align\":\"left\"},\"paper_bgcolor\":\"white\",\"plot_bgcolor\":\"#E5ECF6\",\"polar\":{\"bgcolor\":\"#E5ECF6\",\"angularaxis\":{\"gridcolor\":\"white\",\"linecolor\":\"white\",\"ticks\":\"\"},\"radialaxis\":{\"gridcolor\":\"white\",\"linecolor\":\"white\",\"ticks\":\"\"}},\"ternary\":{\"bgcolor\":\"#E5ECF6\",\"aaxis\":{\"gridcolor\":\"white\",\"linecolor\":\"white\",\"ticks\":\"\"},\"baxis\":{\"gridcolor\":\"white\",\"linecolor\":\"white\",\"ticks\":\"\"},\"caxis\":{\"gridcolor\":\"white\",\"linecolor\":\"white\",\"ticks\":\"\"}},\"coloraxis\":{\"colorbar\":{\"outlinewidth\":0,\"ticks\":\"\"}},\"colorscale\":{\"sequential\":[[0.0,\"#0d0887\"],[0.1111111111111111,\"#46039f\"],[0.2222222222222222,\"#7201a8\"],[0.3333333333333333,\"#9c179e\"],[0.4444444444444444,\"#bd3786\"],[0.5555555555555556,\"#d8576b\"],[0.6666666666666666,\"#ed7953\"],[0.7777777777777778,\"#fb9f3a\"],[0.8888888888888888,\"#fdca26\"],[1.0,\"#f0f921\"]],\"sequentialminus\":[[0.0,\"#0d0887\"],[0.1111111111111111,\"#46039f\"],[0.2222222222222222,\"#7201a8\"],[0.3333333333333333,\"#9c179e\"],[0.4444444444444444,\"#bd3786\"],[0.5555555555555556,\"#d8576b\"],[0.6666666666666666,\"#ed7953\"],[0.7777777777777778,\"#fb9f3a\"],[0.8888888888888888,\"#fdca26\"],[1.0,\"#f0f921\"]],\"diverging\":[[0,\"#8e0152\"],[0.1,\"#c51b7d\"],[0.2,\"#de77ae\"],[0.3,\"#f1b6da\"],[0.4,\"#fde0ef\"],[0.5,\"#f7f7f7\"],[0.6,\"#e6f5d0\"],[0.7,\"#b8e186\"],[0.8,\"#7fbc41\"],[0.9,\"#4d9221\"],[1,\"#276419\"]]},\"xaxis\":{\"gridcolor\":\"white\",\"linecolor\":\"white\",\"ticks\":\"\",\"title\":{\"standoff\":15},\"zerolinecolor\":\"white\",\"automargin\":true,\"zerolinewidth\":2},\"yaxis\":{\"gridcolor\":\"white\",\"linecolor\":\"white\",\"ticks\":\"\",\"title\":{\"standoff\":15},\"zerolinecolor\":\"white\",\"automargin\":true,\"zerolinewidth\":2},\"scene\":{\"xaxis\":{\"backgroundcolor\":\"#E5ECF6\",\"gridcolor\":\"white\",\"linecolor\":\"white\",\"showbackground\":true,\"ticks\":\"\",\"zerolinecolor\":\"white\",\"gridwidth\":2},\"yaxis\":{\"backgroundcolor\":\"#E5ECF6\",\"gridcolor\":\"white\",\"linecolor\":\"white\",\"showbackground\":true,\"ticks\":\"\",\"zerolinecolor\":\"white\",\"gridwidth\":2},\"zaxis\":{\"backgroundcolor\":\"#E5ECF6\",\"gridcolor\":\"white\",\"linecolor\":\"white\",\"showbackground\":true,\"ticks\":\"\",\"zerolinecolor\":\"white\",\"gridwidth\":2}},\"shapedefaults\":{\"line\":{\"color\":\"#2a3f5f\"}},\"annotationdefaults\":{\"arrowcolor\":\"#2a3f5f\",\"arrowhead\":0,\"arrowwidth\":1},\"geo\":{\"bgcolor\":\"white\",\"landcolor\":\"#E5ECF6\",\"subunitcolor\":\"white\",\"showland\":true,\"showlakes\":true,\"lakecolor\":\"white\"},\"title\":{\"x\":0.05},\"mapbox\":{\"style\":\"light\"}}},\"xaxis\":{\"anchor\":\"y\",\"domain\":[0.0,1.0],\"title\":{\"text\":\"Minute Interval\"},\"type\":\"category\",\"showgrid\":false,\"color\":\"#c7d5cc\"},\"yaxis\":{\"anchor\":\"x\",\"domain\":[0.0,1.0],\"title\":{\"text\":\"Proportional Performance\"},\"gridcolor\":\"#333\",\"color\":\"#c7d5cc\"},\"legend\":{\"title\":{\"text\":\"team\"},\"tracegroupgap\":0,\"font\":{\"color\":\"#c7d5cc\"}},\"title\":{\"text\":\"Team Performance Trend Over Time\",\"font\":{\"color\":\"#c7d5cc\"}},\"font\":{\"color\":\"#c7d5cc\"},\"plot_bgcolor\":\"#0E1117\",\"paper_bgcolor\":\"#0E1117\"},                        {\"responsive\": true}                    ).then(function(){\n",
       "                            \n",
       "var gd = document.getElementById('e84f4393-f320-447a-a54a-644180cefd86');\n",
       "var x = new MutationObserver(function (mutations, observer) {{\n",
       "        var display = window.getComputedStyle(gd).display;\n",
       "        if (!display || display === 'none') {{\n",
       "            console.log([gd, 'removed!']);\n",
       "            Plotly.purge(gd);\n",
       "            observer.disconnect();\n",
       "        }}\n",
       "}});\n",
       "\n",
       "// Listen for the removal of the full notebook cells\n",
       "var notebookContainer = gd.closest('#notebook-container');\n",
       "if (notebookContainer) {{\n",
       "    x.observe(notebookContainer, {childList: true});\n",
       "}}\n",
       "\n",
       "// Listen for the clearing of the current output cell\n",
       "var outputEl = gd.closest('.output');\n",
       "if (outputEl) {{\n",
       "    x.observe(outputEl, {childList: true});\n",
       "}}\n",
       "\n",
       "                        })                };                });            </script>        </div>"
      ]
     },
     "metadata": {},
     "output_type": "display_data"
    }
   ],
   "source": [
    "# Line chart showing trends\n",
    "fig = px.line(\n",
    "    stats_per_15,\n",
    "    x='minute_per_15',\n",
    "    y='normalized_score',\n",
    "    color='team',\n",
    "    markers=True,\n",
    "    title='Team Performance Trend Over Time',\n",
    "    labels={'minute_per_15': 'Minute Interval', 'normalized_score': 'Proportional Performance'},\n",
    "    color_discrete_map={\n",
    "        home_team : home_color,  \n",
    "        away_team : away_color     \n",
    "    }\n",
    ")\n",
    "\n",
    "# Dark theme\n",
    "fig.update_layout(\n",
    "    plot_bgcolor='#0E1117',\n",
    "    paper_bgcolor='#0E1117',\n",
    "    font=dict(color='#c7d5cc'),\n",
    "    xaxis=dict(type='category', showgrid=False, color='#c7d5cc'),\n",
    "    yaxis=dict(gridcolor='#333', color='#c7d5cc'),\n",
    "    legend=dict(font=dict(color='#c7d5cc')),\n",
    "    title_font=dict(color='#c7d5cc')\n",
    ")\n",
    "\n",
    "\n",
    "fig.show()"
   ]
  },
  {
   "cell_type": "code",
   "execution_count": null,
   "id": "da8b6131-bd27-409f-a169-7830f2bbb4d1",
   "metadata": {},
   "outputs": [],
   "source": []
  }
 ],
 "metadata": {
  "kernelspec": {
   "display_name": "Python 3 (ipykernel)",
   "language": "python",
   "name": "python3"
  },
  "language_info": {
   "codemirror_mode": {
    "name": "ipython",
    "version": 3
   },
   "file_extension": ".py",
   "mimetype": "text/x-python",
   "name": "python",
   "nbconvert_exporter": "python",
   "pygments_lexer": "ipython3",
   "version": "3.10.14"
  }
 },
 "nbformat": 4,
 "nbformat_minor": 5
}
